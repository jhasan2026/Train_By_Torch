{
 "cells": [
  {
   "metadata": {
    "ExecuteTime": {
     "end_time": "2025-04-28T15:33:47.398570Z",
     "start_time": "2025-04-28T15:33:42.702086Z"
    }
   },
   "cell_type": "code",
   "source": "! pip install -q kaggle",
   "id": "985471c211ec4fab",
   "outputs": [],
   "execution_count": 1
  },
  {
   "metadata": {
    "ExecuteTime": {
     "end_time": "2025-04-28T15:33:50.633913Z",
     "start_time": "2025-04-28T15:33:50.615909Z"
    }
   },
   "cell_type": "code",
   "source": [
    "import os\n",
    "import shutil\n",
    "\n",
    "# Define paths\n",
    "kaggle_json_path = 'kaggle.json'  # adjust this if your file is elsewhere\n",
    "kaggle_folder = os.path.join(os.path.expanduser('~'), '.kaggle')\n",
    "\n",
    "# Make sure ~/.kaggle exists\n",
    "os.makedirs(kaggle_folder, exist_ok=True)\n",
    "\n",
    "# Copy kaggle.json to ~/.kaggle\n",
    "shutil.copy(kaggle_json_path, kaggle_folder)\n",
    "\n",
    "# Optional: Set permissions (Unix systems need it, Windows usually doesn't complain)\n",
    "kaggle_json_full_path = os.path.join(kaggle_folder, 'kaggle.json')\n",
    "os.chmod(kaggle_json_full_path, 0o600)\n",
    "\n",
    "print(\"kaggle.json copied and permissions set!\")\n"
   ],
   "id": "dc441654b0c786ee",
   "outputs": [
    {
     "name": "stdout",
     "output_type": "stream",
     "text": [
      "kaggle.json copied and permissions set!\n"
     ]
    }
   ],
   "execution_count": 2
  },
  {
   "metadata": {
    "jupyter": {
     "is_executing": true
    },
    "ExecuteTime": {
     "start_time": "2025-04-28T15:34:38.391508Z"
    }
   },
   "cell_type": "code",
   "source": "!kaggle datasets download -d salader/dogs-vs-cats",
   "id": "966bb81e4af2caf6",
   "outputs": [],
   "execution_count": null
  },
  {
   "metadata": {},
   "cell_type": "code",
   "outputs": [],
   "execution_count": null,
   "source": "",
   "id": "1153a87b05af04e7"
  }
 ],
 "metadata": {
  "kernelspec": {
   "display_name": "Python 3",
   "language": "python",
   "name": "python3"
  },
  "language_info": {
   "codemirror_mode": {
    "name": "ipython",
    "version": 2
   },
   "file_extension": ".py",
   "mimetype": "text/x-python",
   "name": "python",
   "nbconvert_exporter": "python",
   "pygments_lexer": "ipython2",
   "version": "2.7.6"
  }
 },
 "nbformat": 4,
 "nbformat_minor": 5
}
