{
 "cells": [
  {
   "cell_type": "code",
   "id": "3711c68696242c7b",
   "metadata": {
    "collapsed": true,
    "ExecuteTime": {
     "end_time": "2025-04-24T02:50:18.796436Z",
     "start_time": "2025-04-24T02:50:16.932743Z"
    }
   },
   "source": [
    "import torch\n",
    "import torch.nn as nn\n",
    "import pandas as pd\n",
    "import numpy as np\n",
    "import torch.optim as optim"
   ],
   "outputs": [],
   "execution_count": 1
  },
  {
   "metadata": {
    "ExecuteTime": {
     "end_time": "2025-04-24T02:50:18.816490Z",
     "start_time": "2025-04-24T02:50:18.796436Z"
    }
   },
   "cell_type": "code",
   "source": [
    "device = torch.device('cuda' if torch.cuda.is_available() else 'cpu')\n",
    "device"
   ],
   "id": "16aa2575d8e546e3",
   "outputs": [
    {
     "data": {
      "text/plain": [
       "device(type='cuda')"
      ]
     },
     "execution_count": 2,
     "metadata": {},
     "output_type": "execute_result"
    }
   ],
   "execution_count": 2
  },
  {
   "metadata": {
    "ExecuteTime": {
     "end_time": "2025-04-24T02:50:20.560351Z",
     "start_time": "2025-04-24T02:50:18.816490Z"
    }
   },
   "cell_type": "code",
   "source": [
    "df = pd.read_csv(\"../../Data/fashion-mnist_train.csv\")\n",
    "df"
   ],
   "id": "d08bb229ae1dbda1",
   "outputs": [
    {
     "data": {
      "text/plain": [
       "       label  pixel1  pixel2  pixel3  pixel4  pixel5  pixel6  pixel7  pixel8  \\\n",
       "0          2       0       0       0       0       0       0       0       0   \n",
       "1          9       0       0       0       0       0       0       0       0   \n",
       "2          6       0       0       0       0       0       0       0       5   \n",
       "3          0       0       0       0       1       2       0       0       0   \n",
       "4          3       0       0       0       0       0       0       0       0   \n",
       "...      ...     ...     ...     ...     ...     ...     ...     ...     ...   \n",
       "59995      9       0       0       0       0       0       0       0       0   \n",
       "59996      1       0       0       0       0       0       0       0       0   \n",
       "59997      8       0       0       0       0       0       0       0       0   \n",
       "59998      8       0       0       0       0       0       0       0       0   \n",
       "59999      7       0       0       0       0       0       0       0       0   \n",
       "\n",
       "       pixel9  ...  pixel775  pixel776  pixel777  pixel778  pixel779  \\\n",
       "0           0  ...         0         0         0         0         0   \n",
       "1           0  ...         0         0         0         0         0   \n",
       "2           0  ...         0         0         0        30        43   \n",
       "3           0  ...         3         0         0         0         0   \n",
       "4           0  ...         0         0         0         0         0   \n",
       "...       ...  ...       ...       ...       ...       ...       ...   \n",
       "59995       0  ...         0         0         0         0         0   \n",
       "59996       0  ...        73         0         0         0         0   \n",
       "59997       0  ...       160       162       163       135        94   \n",
       "59998       0  ...         0         0         0         0         0   \n",
       "59999       0  ...         0         0         0         0         0   \n",
       "\n",
       "       pixel780  pixel781  pixel782  pixel783  pixel784  \n",
       "0             0         0         0         0         0  \n",
       "1             0         0         0         0         0  \n",
       "2             0         0         0         0         0  \n",
       "3             1         0         0         0         0  \n",
       "4             0         0         0         0         0  \n",
       "...         ...       ...       ...       ...       ...  \n",
       "59995         0         0         0         0         0  \n",
       "59996         0         0         0         0         0  \n",
       "59997         0         0         0         0         0  \n",
       "59998         0         0         0         0         0  \n",
       "59999         0         0         0         0         0  \n",
       "\n",
       "[60000 rows x 785 columns]"
      ],
      "text/html": [
       "<div>\n",
       "<style scoped>\n",
       "    .dataframe tbody tr th:only-of-type {\n",
       "        vertical-align: middle;\n",
       "    }\n",
       "\n",
       "    .dataframe tbody tr th {\n",
       "        vertical-align: top;\n",
       "    }\n",
       "\n",
       "    .dataframe thead th {\n",
       "        text-align: right;\n",
       "    }\n",
       "</style>\n",
       "<table border=\"1\" class=\"dataframe\">\n",
       "  <thead>\n",
       "    <tr style=\"text-align: right;\">\n",
       "      <th></th>\n",
       "      <th>label</th>\n",
       "      <th>pixel1</th>\n",
       "      <th>pixel2</th>\n",
       "      <th>pixel3</th>\n",
       "      <th>pixel4</th>\n",
       "      <th>pixel5</th>\n",
       "      <th>pixel6</th>\n",
       "      <th>pixel7</th>\n",
       "      <th>pixel8</th>\n",
       "      <th>pixel9</th>\n",
       "      <th>...</th>\n",
       "      <th>pixel775</th>\n",
       "      <th>pixel776</th>\n",
       "      <th>pixel777</th>\n",
       "      <th>pixel778</th>\n",
       "      <th>pixel779</th>\n",
       "      <th>pixel780</th>\n",
       "      <th>pixel781</th>\n",
       "      <th>pixel782</th>\n",
       "      <th>pixel783</th>\n",
       "      <th>pixel784</th>\n",
       "    </tr>\n",
       "  </thead>\n",
       "  <tbody>\n",
       "    <tr>\n",
       "      <th>0</th>\n",
       "      <td>2</td>\n",
       "      <td>0</td>\n",
       "      <td>0</td>\n",
       "      <td>0</td>\n",
       "      <td>0</td>\n",
       "      <td>0</td>\n",
       "      <td>0</td>\n",
       "      <td>0</td>\n",
       "      <td>0</td>\n",
       "      <td>0</td>\n",
       "      <td>...</td>\n",
       "      <td>0</td>\n",
       "      <td>0</td>\n",
       "      <td>0</td>\n",
       "      <td>0</td>\n",
       "      <td>0</td>\n",
       "      <td>0</td>\n",
       "      <td>0</td>\n",
       "      <td>0</td>\n",
       "      <td>0</td>\n",
       "      <td>0</td>\n",
       "    </tr>\n",
       "    <tr>\n",
       "      <th>1</th>\n",
       "      <td>9</td>\n",
       "      <td>0</td>\n",
       "      <td>0</td>\n",
       "      <td>0</td>\n",
       "      <td>0</td>\n",
       "      <td>0</td>\n",
       "      <td>0</td>\n",
       "      <td>0</td>\n",
       "      <td>0</td>\n",
       "      <td>0</td>\n",
       "      <td>...</td>\n",
       "      <td>0</td>\n",
       "      <td>0</td>\n",
       "      <td>0</td>\n",
       "      <td>0</td>\n",
       "      <td>0</td>\n",
       "      <td>0</td>\n",
       "      <td>0</td>\n",
       "      <td>0</td>\n",
       "      <td>0</td>\n",
       "      <td>0</td>\n",
       "    </tr>\n",
       "    <tr>\n",
       "      <th>2</th>\n",
       "      <td>6</td>\n",
       "      <td>0</td>\n",
       "      <td>0</td>\n",
       "      <td>0</td>\n",
       "      <td>0</td>\n",
       "      <td>0</td>\n",
       "      <td>0</td>\n",
       "      <td>0</td>\n",
       "      <td>5</td>\n",
       "      <td>0</td>\n",
       "      <td>...</td>\n",
       "      <td>0</td>\n",
       "      <td>0</td>\n",
       "      <td>0</td>\n",
       "      <td>30</td>\n",
       "      <td>43</td>\n",
       "      <td>0</td>\n",
       "      <td>0</td>\n",
       "      <td>0</td>\n",
       "      <td>0</td>\n",
       "      <td>0</td>\n",
       "    </tr>\n",
       "    <tr>\n",
       "      <th>3</th>\n",
       "      <td>0</td>\n",
       "      <td>0</td>\n",
       "      <td>0</td>\n",
       "      <td>0</td>\n",
       "      <td>1</td>\n",
       "      <td>2</td>\n",
       "      <td>0</td>\n",
       "      <td>0</td>\n",
       "      <td>0</td>\n",
       "      <td>0</td>\n",
       "      <td>...</td>\n",
       "      <td>3</td>\n",
       "      <td>0</td>\n",
       "      <td>0</td>\n",
       "      <td>0</td>\n",
       "      <td>0</td>\n",
       "      <td>1</td>\n",
       "      <td>0</td>\n",
       "      <td>0</td>\n",
       "      <td>0</td>\n",
       "      <td>0</td>\n",
       "    </tr>\n",
       "    <tr>\n",
       "      <th>4</th>\n",
       "      <td>3</td>\n",
       "      <td>0</td>\n",
       "      <td>0</td>\n",
       "      <td>0</td>\n",
       "      <td>0</td>\n",
       "      <td>0</td>\n",
       "      <td>0</td>\n",
       "      <td>0</td>\n",
       "      <td>0</td>\n",
       "      <td>0</td>\n",
       "      <td>...</td>\n",
       "      <td>0</td>\n",
       "      <td>0</td>\n",
       "      <td>0</td>\n",
       "      <td>0</td>\n",
       "      <td>0</td>\n",
       "      <td>0</td>\n",
       "      <td>0</td>\n",
       "      <td>0</td>\n",
       "      <td>0</td>\n",
       "      <td>0</td>\n",
       "    </tr>\n",
       "    <tr>\n",
       "      <th>...</th>\n",
       "      <td>...</td>\n",
       "      <td>...</td>\n",
       "      <td>...</td>\n",
       "      <td>...</td>\n",
       "      <td>...</td>\n",
       "      <td>...</td>\n",
       "      <td>...</td>\n",
       "      <td>...</td>\n",
       "      <td>...</td>\n",
       "      <td>...</td>\n",
       "      <td>...</td>\n",
       "      <td>...</td>\n",
       "      <td>...</td>\n",
       "      <td>...</td>\n",
       "      <td>...</td>\n",
       "      <td>...</td>\n",
       "      <td>...</td>\n",
       "      <td>...</td>\n",
       "      <td>...</td>\n",
       "      <td>...</td>\n",
       "      <td>...</td>\n",
       "    </tr>\n",
       "    <tr>\n",
       "      <th>59995</th>\n",
       "      <td>9</td>\n",
       "      <td>0</td>\n",
       "      <td>0</td>\n",
       "      <td>0</td>\n",
       "      <td>0</td>\n",
       "      <td>0</td>\n",
       "      <td>0</td>\n",
       "      <td>0</td>\n",
       "      <td>0</td>\n",
       "      <td>0</td>\n",
       "      <td>...</td>\n",
       "      <td>0</td>\n",
       "      <td>0</td>\n",
       "      <td>0</td>\n",
       "      <td>0</td>\n",
       "      <td>0</td>\n",
       "      <td>0</td>\n",
       "      <td>0</td>\n",
       "      <td>0</td>\n",
       "      <td>0</td>\n",
       "      <td>0</td>\n",
       "    </tr>\n",
       "    <tr>\n",
       "      <th>59996</th>\n",
       "      <td>1</td>\n",
       "      <td>0</td>\n",
       "      <td>0</td>\n",
       "      <td>0</td>\n",
       "      <td>0</td>\n",
       "      <td>0</td>\n",
       "      <td>0</td>\n",
       "      <td>0</td>\n",
       "      <td>0</td>\n",
       "      <td>0</td>\n",
       "      <td>...</td>\n",
       "      <td>73</td>\n",
       "      <td>0</td>\n",
       "      <td>0</td>\n",
       "      <td>0</td>\n",
       "      <td>0</td>\n",
       "      <td>0</td>\n",
       "      <td>0</td>\n",
       "      <td>0</td>\n",
       "      <td>0</td>\n",
       "      <td>0</td>\n",
       "    </tr>\n",
       "    <tr>\n",
       "      <th>59997</th>\n",
       "      <td>8</td>\n",
       "      <td>0</td>\n",
       "      <td>0</td>\n",
       "      <td>0</td>\n",
       "      <td>0</td>\n",
       "      <td>0</td>\n",
       "      <td>0</td>\n",
       "      <td>0</td>\n",
       "      <td>0</td>\n",
       "      <td>0</td>\n",
       "      <td>...</td>\n",
       "      <td>160</td>\n",
       "      <td>162</td>\n",
       "      <td>163</td>\n",
       "      <td>135</td>\n",
       "      <td>94</td>\n",
       "      <td>0</td>\n",
       "      <td>0</td>\n",
       "      <td>0</td>\n",
       "      <td>0</td>\n",
       "      <td>0</td>\n",
       "    </tr>\n",
       "    <tr>\n",
       "      <th>59998</th>\n",
       "      <td>8</td>\n",
       "      <td>0</td>\n",
       "      <td>0</td>\n",
       "      <td>0</td>\n",
       "      <td>0</td>\n",
       "      <td>0</td>\n",
       "      <td>0</td>\n",
       "      <td>0</td>\n",
       "      <td>0</td>\n",
       "      <td>0</td>\n",
       "      <td>...</td>\n",
       "      <td>0</td>\n",
       "      <td>0</td>\n",
       "      <td>0</td>\n",
       "      <td>0</td>\n",
       "      <td>0</td>\n",
       "      <td>0</td>\n",
       "      <td>0</td>\n",
       "      <td>0</td>\n",
       "      <td>0</td>\n",
       "      <td>0</td>\n",
       "    </tr>\n",
       "    <tr>\n",
       "      <th>59999</th>\n",
       "      <td>7</td>\n",
       "      <td>0</td>\n",
       "      <td>0</td>\n",
       "      <td>0</td>\n",
       "      <td>0</td>\n",
       "      <td>0</td>\n",
       "      <td>0</td>\n",
       "      <td>0</td>\n",
       "      <td>0</td>\n",
       "      <td>0</td>\n",
       "      <td>...</td>\n",
       "      <td>0</td>\n",
       "      <td>0</td>\n",
       "      <td>0</td>\n",
       "      <td>0</td>\n",
       "      <td>0</td>\n",
       "      <td>0</td>\n",
       "      <td>0</td>\n",
       "      <td>0</td>\n",
       "      <td>0</td>\n",
       "      <td>0</td>\n",
       "    </tr>\n",
       "  </tbody>\n",
       "</table>\n",
       "<p>60000 rows × 785 columns</p>\n",
       "</div>"
      ]
     },
     "execution_count": 3,
     "metadata": {},
     "output_type": "execute_result"
    }
   ],
   "execution_count": 3
  },
  {
   "metadata": {
    "ExecuteTime": {
     "end_time": "2025-04-24T02:50:20.564311Z",
     "start_time": "2025-04-24T02:50:20.560351Z"
    }
   },
   "cell_type": "code",
   "source": [
    "X = df.iloc[:, 1:]\n",
    "y = df.iloc[:, 0]"
   ],
   "id": "45ec6dad984f5755",
   "outputs": [],
   "execution_count": 4
  },
  {
   "metadata": {
    "ExecuteTime": {
     "end_time": "2025-04-24T02:50:21.512450Z",
     "start_time": "2025-04-24T02:50:20.565851Z"
    }
   },
   "cell_type": "code",
   "source": [
    "from sklearn.model_selection import train_test_split\n",
    "\n",
    "X_train, X_test, y_train, y_test = train_test_split(X, y, test_size=0.2, random_state=42)"
   ],
   "id": "ed1cb239d8999849",
   "outputs": [],
   "execution_count": 5
  },
  {
   "metadata": {
    "ExecuteTime": {
     "end_time": "2025-04-24T02:50:21.570064Z",
     "start_time": "2025-04-24T02:50:21.512450Z"
    }
   },
   "cell_type": "code",
   "source": [
    "X_train = X_train / 255.0\n",
    "X_test = X_test / 255.0"
   ],
   "id": "6fafbd953bdf1b51",
   "outputs": [],
   "execution_count": 6
  },
  {
   "metadata": {
    "ExecuteTime": {
     "end_time": "2025-04-24T02:50:21.633645Z",
     "start_time": "2025-04-24T02:50:21.570064Z"
    }
   },
   "cell_type": "code",
   "source": [
    "X_train = np.asarray(X_train).astype(np.float32)\n",
    "X_test = np.asarray(X_test).astype(np.float32)\n",
    "y_train = np.asarray(y_train).astype(np.float32)\n",
    "y_test = np.asarray(y_test).astype(np.float32)"
   ],
   "id": "e214760c2cfa199e",
   "outputs": [],
   "execution_count": 7
  },
  {
   "metadata": {},
   "cell_type": "markdown",
   "source": "# 1. Dataload",
   "id": "56c22c9a0d072489"
  },
  {
   "metadata": {
    "ExecuteTime": {
     "end_time": "2025-04-24T02:50:21.638124Z",
     "start_time": "2025-04-24T02:50:21.633645Z"
    }
   },
   "cell_type": "code",
   "source": [
    "from torch.utils.data import Dataset, DataLoader\n",
    "\n",
    "\n",
    "class CustomDataset(Dataset):\n",
    "    def __init__(self, features, labels):\n",
    "        self.features = torch.tensor(features, dtype=torch.float32).reshape(-1,1,28,28)\n",
    "        self.labels = torch.tensor(labels, dtype=torch.long)\n",
    "\n",
    "    def __len__(self):\n",
    "        return self.features.shape[0]\n",
    "\n",
    "    def __getitem__(self, index):\n",
    "        return self.features[index], self.labels[index]"
   ],
   "id": "73ce04ad972de978",
   "outputs": [],
   "execution_count": 8
  },
  {
   "metadata": {
    "ExecuteTime": {
     "end_time": "2025-04-24T02:50:21.672716Z",
     "start_time": "2025-04-24T02:50:21.638124Z"
    }
   },
   "cell_type": "code",
   "source": [
    "train_dataset = CustomDataset(X_train, y_train)\n",
    "test_dataset = CustomDataset(X_test, y_test)"
   ],
   "id": "4774877a6f0a4b1c",
   "outputs": [],
   "execution_count": 9
  },
  {
   "metadata": {
    "ExecuteTime": {
     "end_time": "2025-04-24T02:50:21.677761Z",
     "start_time": "2025-04-24T02:50:21.672716Z"
    }
   },
   "cell_type": "code",
   "source": [
    "train_dataloader = DataLoader(train_dataset, batch_size=32, shuffle=True, pin_memory=True)\n",
    "test_dataloader = DataLoader(test_dataset, batch_size=32, shuffle=True, pin_memory=True)"
   ],
   "id": "initial_id",
   "outputs": [],
   "execution_count": 10
  },
  {
   "metadata": {},
   "cell_type": "markdown",
   "source": "# 2. Model Build",
   "id": "7fc080496e37e2ea"
  },
  {
   "metadata": {
    "ExecuteTime": {
     "end_time": "2025-04-24T02:50:21.684447Z",
     "start_time": "2025-04-24T02:50:21.677761Z"
    }
   },
   "cell_type": "code",
   "source": [
    "class MyCNN(nn.Module):\n",
    "    def __init__(self, input_features):\n",
    "        super().__init__()\n",
    "        \n",
    "        # feature extraction\n",
    "        self.features = nn.Sequential(\n",
    "            # 1st Layer\n",
    "            nn.Conv2d(input_features, 32, kernel_size=3, padding='same'),\n",
    "            nn.BatchNorm2d(32),\n",
    "            nn.ReLU(),\n",
    "            nn.MaxPool2d(kernel_size=2, stride=2),\n",
    "            \n",
    "            # 2nd Layer\n",
    "            nn.Conv2d(32, 64, kernel_size=3, padding='same'),\n",
    "            nn.BatchNorm2d(64),\n",
    "            nn.ReLU(),\n",
    "            nn.MaxPool2d(kernel_size=2, stride=2)     \n",
    "        )\n",
    "        \n",
    "        # classification\n",
    "        self.classifier = nn.Sequential(\n",
    "            nn.Flatten(),\n",
    "            \n",
    "            # 1st Layer\n",
    "            nn.Linear(64*7*7, 128),\n",
    "            nn.BatchNorm1d(128),\n",
    "            nn.ReLU(),\n",
    "            nn.Dropout(0.4),\n",
    "            \n",
    "            #2nd Layer\n",
    "            nn.Linear(128, 64),\n",
    "            nn.BatchNorm1d(64),\n",
    "            nn.ReLU(),\n",
    "            nn.Dropout(0.4),\n",
    "            \n",
    "            # output\n",
    "            nn.Linear(64,10)\n",
    "    \n",
    "        ) \n",
    "        \n",
    "    def forward(self,x):\n",
    "        return self.classifier(self.features(x))"
   ],
   "id": "b4e757c11b2e555c",
   "outputs": [],
   "execution_count": 11
  },
  {
   "metadata": {},
   "cell_type": "markdown",
   "source": "# 3. Training Model",
   "id": "32ff02a3b26a6c06"
  },
  {
   "metadata": {
    "ExecuteTime": {
     "end_time": "2025-04-24T02:50:21.692313Z",
     "start_time": "2025-04-24T02:50:21.684447Z"
    }
   },
   "cell_type": "code",
   "source": [
    "# hyperparameter\n",
    "\n",
    "epochs = 100\n",
    "learning_rate = 0.1"
   ],
   "id": "9447ef13af507174",
   "outputs": [],
   "execution_count": 12
  },
  {
   "metadata": {
    "ExecuteTime": {
     "end_time": "2025-04-24T02:50:22.782758Z",
     "start_time": "2025-04-24T02:50:21.692313Z"
    }
   },
   "cell_type": "code",
   "source": [
    "# initialize model \n",
    "model = MyCNN(1)\n",
    "model.to(device)\n",
    "\n",
    "# loss function\n",
    "criterion = nn.CrossEntropyLoss()\n",
    "\n",
    "# optimizer\n",
    "optimizer = optim.SGD(model.parameters(), lr=learning_rate, weight_decay=1e-4)"
   ],
   "id": "24b33b7eaf4787e3",
   "outputs": [],
   "execution_count": 13
  },
  {
   "metadata": {
    "ExecuteTime": {
     "end_time": "2025-04-24T02:59:53.160087Z",
     "start_time": "2025-04-24T02:50:22.782758Z"
    }
   },
   "cell_type": "code",
   "source": [
    "\n",
    "for epoch in range(epochs):\n",
    "    total_epoch_loss = 0\n",
    "    for batch_features, batch_labels in train_dataloader:\n",
    "        \n",
    "        # move data to gpu\n",
    "        batch_features, batch_labels = batch_features.to(device), batch_labels.to(device)\n",
    "        \n",
    "        # forward propagation\n",
    "        y_pred = model(batch_features)\n",
    "        \n",
    "        # loss calculate\n",
    "        loss = criterion(y_pred, batch_labels)\n",
    "        \n",
    "        # reinitialize gradient\n",
    "        optimizer.zero_grad()\n",
    "        \n",
    "        # backpropagation\n",
    "        loss.backward()\n",
    "        \n",
    "        # update weight and bias\n",
    "        optimizer.step()\n",
    "        \n",
    "        total_epoch_loss += loss.item()\n",
    "    avg_loss = total_epoch_loss/len(train_dataloader)\n",
    "    print(f\"Epoch: {epoch+1} : Loss {avg_loss}\")"
   ],
   "id": "69ee0c11792481a6",
   "outputs": [
    {
     "name": "stdout",
     "output_type": "stream",
     "text": [
      "Epoch: 1 : Loss 0.5324869014173746\n",
      "Epoch: 2 : Loss 0.36563057149946687\n",
      "Epoch: 3 : Loss 0.31719733282426993\n",
      "Epoch: 4 : Loss 0.28853838541855414\n",
      "Epoch: 5 : Loss 0.2668565167387327\n",
      "Epoch: 6 : Loss 0.24793364566688736\n",
      "Epoch: 7 : Loss 0.23485948459059\n",
      "Epoch: 8 : Loss 0.22320604631553093\n",
      "Epoch: 9 : Loss 0.21094917598863444\n",
      "Epoch: 10 : Loss 0.20288409852981568\n",
      "Epoch: 11 : Loss 0.19014295223603647\n",
      "Epoch: 12 : Loss 0.18341617381572722\n",
      "Epoch: 13 : Loss 0.17660745947249235\n",
      "Epoch: 14 : Loss 0.1720113220165173\n",
      "Epoch: 15 : Loss 0.16717878184405466\n",
      "Epoch: 16 : Loss 0.159174125155434\n",
      "Epoch: 17 : Loss 0.1583299109072735\n",
      "Epoch: 18 : Loss 0.14798139578166108\n",
      "Epoch: 19 : Loss 0.1458799462467432\n",
      "Epoch: 20 : Loss 0.14180204453505577\n",
      "Epoch: 21 : Loss 0.1350604522898793\n",
      "Epoch: 22 : Loss 0.13721462263042727\n",
      "Epoch: 23 : Loss 0.13038012066980204\n",
      "Epoch: 24 : Loss 0.12818725681304932\n",
      "Epoch: 25 : Loss 0.12496065479827424\n",
      "Epoch: 26 : Loss 0.12158836723072454\n",
      "Epoch: 27 : Loss 0.1179376660361886\n",
      "Epoch: 28 : Loss 0.11778702907481542\n",
      "Epoch: 29 : Loss 0.11481036473531275\n",
      "Epoch: 30 : Loss 0.1115703370925039\n",
      "Epoch: 31 : Loss 0.11042277431953698\n",
      "Epoch: 32 : Loss 0.10339208412201455\n",
      "Epoch: 33 : Loss 0.10677040265143538\n",
      "Epoch: 34 : Loss 0.10168401754476751\n",
      "Epoch: 35 : Loss 0.10148949913758164\n",
      "Epoch: 36 : Loss 0.10319101469373951\n",
      "Epoch: 37 : Loss 0.10167230641407271\n",
      "Epoch: 38 : Loss 0.09852648195112124\n",
      "Epoch: 39 : Loss 0.09657055491162464\n",
      "Epoch: 40 : Loss 0.09453882853795464\n",
      "Epoch: 41 : Loss 0.09427487120606626\n",
      "Epoch: 42 : Loss 0.09235879856937876\n",
      "Epoch: 43 : Loss 0.08909834579929399\n",
      "Epoch: 44 : Loss 0.09072848386798675\n",
      "Epoch: 45 : Loss 0.08779285213056331\n",
      "Epoch: 46 : Loss 0.08630673202561835\n",
      "Epoch: 47 : Loss 0.08574247135478072\n",
      "Epoch: 48 : Loss 0.08336930203127364\n",
      "Epoch: 49 : Loss 0.08442583892967863\n",
      "Epoch: 50 : Loss 0.08291164726112038\n",
      "Epoch: 51 : Loss 0.08037444651642969\n",
      "Epoch: 52 : Loss 0.08333317913091741\n",
      "Epoch: 53 : Loss 0.0785047322132159\n",
      "Epoch: 54 : Loss 0.08131404165970162\n",
      "Epoch: 55 : Loss 0.07777890713186934\n",
      "Epoch: 56 : Loss 0.08232901873098065\n",
      "Epoch: 57 : Loss 0.07722358999362526\n",
      "Epoch: 58 : Loss 0.07640680624591187\n",
      "Epoch: 59 : Loss 0.07195288293482736\n",
      "Epoch: 60 : Loss 0.07134408111513282\n",
      "Epoch: 61 : Loss 0.07850270518482041\n",
      "Epoch: 62 : Loss 0.07305596057721414\n",
      "Epoch: 63 : Loss 0.07470885147608351\n",
      "Epoch: 64 : Loss 0.07015063081860232\n",
      "Epoch: 65 : Loss 0.06798861274068865\n",
      "Epoch: 66 : Loss 0.0757626855817313\n",
      "Epoch: 67 : Loss 0.07434935404950133\n",
      "Epoch: 68 : Loss 0.07069954785658046\n",
      "Epoch: 69 : Loss 0.06813103762470807\n",
      "Epoch: 70 : Loss 0.07068558167095762\n",
      "Epoch: 71 : Loss 0.07103377203786901\n",
      "Epoch: 72 : Loss 0.0700281394700675\n",
      "Epoch: 73 : Loss 0.06798276638022313\n",
      "Epoch: 74 : Loss 0.06918909819812204\n",
      "Epoch: 75 : Loss 0.06835409148107283\n",
      "Epoch: 76 : Loss 0.06926119927778684\n",
      "Epoch: 77 : Loss 0.06919760292551169\n",
      "Epoch: 78 : Loss 0.07098733379637512\n",
      "Epoch: 79 : Loss 0.068110278954419\n",
      "Epoch: 80 : Loss 0.06512865042554525\n",
      "Epoch: 81 : Loss 0.06693551477704508\n",
      "Epoch: 82 : Loss 0.06998144102632069\n",
      "Epoch: 83 : Loss 0.06781959813049374\n",
      "Epoch: 84 : Loss 0.07023838696260161\n",
      "Epoch: 85 : Loss 0.06289229685650208\n",
      "Epoch: 86 : Loss 0.0665263104889697\n",
      "Epoch: 87 : Loss 0.061605001080548394\n",
      "Epoch: 88 : Loss 0.06558185074237796\n",
      "Epoch: 89 : Loss 0.06736266767714794\n",
      "Epoch: 90 : Loss 0.06427328670063677\n",
      "Epoch: 91 : Loss 0.06269241706836813\n",
      "Epoch: 92 : Loss 0.06670454278960825\n",
      "Epoch: 93 : Loss 0.06324811001044388\n",
      "Epoch: 94 : Loss 0.06497675460220004\n",
      "Epoch: 95 : Loss 0.06702099819830619\n",
      "Epoch: 96 : Loss 0.061459389215374055\n",
      "Epoch: 97 : Loss 0.05852892043767497\n",
      "Epoch: 98 : Loss 0.062041150941591086\n",
      "Epoch: 99 : Loss 0.06434441054868512\n",
      "Epoch: 100 : Loss 0.06212705603723104\n"
     ]
    }
   ],
   "execution_count": 14
  },
  {
   "metadata": {},
   "cell_type": "markdown",
   "source": "# 4.Evaluation",
   "id": "d3941cf74cdf283d"
  },
  {
   "metadata": {
    "ExecuteTime": {
     "end_time": "2025-04-24T02:59:53.165079Z",
     "start_time": "2025-04-24T02:59:53.160087Z"
    }
   },
   "cell_type": "code",
   "source": "model.eval()",
   "id": "4a0043d950ca784c",
   "outputs": [
    {
     "data": {
      "text/plain": [
       "MyCNN(\n",
       "  (features): Sequential(\n",
       "    (0): Conv2d(1, 32, kernel_size=(3, 3), stride=(1, 1), padding=same)\n",
       "    (1): BatchNorm2d(32, eps=1e-05, momentum=0.1, affine=True, track_running_stats=True)\n",
       "    (2): ReLU()\n",
       "    (3): MaxPool2d(kernel_size=2, stride=2, padding=0, dilation=1, ceil_mode=False)\n",
       "    (4): Conv2d(32, 64, kernel_size=(3, 3), stride=(1, 1), padding=same)\n",
       "    (5): BatchNorm2d(64, eps=1e-05, momentum=0.1, affine=True, track_running_stats=True)\n",
       "    (6): ReLU()\n",
       "    (7): MaxPool2d(kernel_size=2, stride=2, padding=0, dilation=1, ceil_mode=False)\n",
       "  )\n",
       "  (classifier): Sequential(\n",
       "    (0): Flatten(start_dim=1, end_dim=-1)\n",
       "    (1): Linear(in_features=3136, out_features=128, bias=True)\n",
       "    (2): BatchNorm1d(128, eps=1e-05, momentum=0.1, affine=True, track_running_stats=True)\n",
       "    (3): ReLU()\n",
       "    (4): Dropout(p=0.4, inplace=False)\n",
       "    (5): Linear(in_features=128, out_features=64, bias=True)\n",
       "    (6): BatchNorm1d(64, eps=1e-05, momentum=0.1, affine=True, track_running_stats=True)\n",
       "    (7): ReLU()\n",
       "    (8): Dropout(p=0.4, inplace=False)\n",
       "    (9): Linear(in_features=64, out_features=10, bias=True)\n",
       "  )\n",
       ")"
      ]
     },
     "execution_count": 15,
     "metadata": {},
     "output_type": "execute_result"
    }
   ],
   "execution_count": 15
  },
  {
   "metadata": {
    "ExecuteTime": {
     "end_time": "2025-04-24T02:59:53.763084Z",
     "start_time": "2025-04-24T02:59:53.165079Z"
    }
   },
   "cell_type": "code",
   "source": [
    "total = 0\n",
    "correct = 0\n",
    "with torch.no_grad():\n",
    "    for batch_features, batch_labels in test_dataloader:\n",
    "        \n",
    "        # move data to gpu\n",
    "        batch_features, batch_labels = batch_features.to(device), batch_labels.to(device)\n",
    "        \n",
    "        # forward propagation\n",
    "        y_pred = model(batch_features)\n",
    "        \n",
    "        _, predicted = torch.max(y_pred, 1)\n",
    "        total += batch_features.shape[0]\n",
    "        correct += (predicted == batch_labels).sum().item()\n",
    "        \n",
    "print(f\"Accuracy : {correct/ total}\")"
   ],
   "id": "154bffe732bc00f8",
   "outputs": [
    {
     "name": "stdout",
     "output_type": "stream",
     "text": [
      "Accuracy : 0.92475\n"
     ]
    }
   ],
   "execution_count": 16
  },
  {
   "metadata": {
    "ExecuteTime": {
     "end_time": "2025-04-24T02:59:55.964897Z",
     "start_time": "2025-04-24T02:59:53.763084Z"
    }
   },
   "cell_type": "code",
   "source": [
    "total = 0\n",
    "correct = 0\n",
    "with torch.no_grad():\n",
    "    for batch_features, batch_labels in train_dataloader:\n",
    "        \n",
    "        # move data to gpu\n",
    "        batch_features, batch_labels = batch_features.to(device), batch_labels.to(device)\n",
    "        \n",
    "        # forward propagation\n",
    "        y_pred = model(batch_features)\n",
    "        \n",
    "        _, predicted = torch.max(y_pred, 1)\n",
    "        total += batch_features.shape[0]\n",
    "        correct += (predicted == batch_labels).sum().item()\n",
    "        \n",
    "print(f\"Accuracy : {correct/ total}\")"
   ],
   "id": "9d058cd46bf74481",
   "outputs": [
    {
     "name": "stdout",
     "output_type": "stream",
     "text": [
      "Accuracy : 0.9972916666666667\n"
     ]
    }
   ],
   "execution_count": 17
  },
  {
   "metadata": {
    "ExecuteTime": {
     "end_time": "2025-04-24T02:59:55.967793Z",
     "start_time": "2025-04-24T02:59:55.964897Z"
    }
   },
   "cell_type": "code",
   "source": "",
   "id": "1907e6dd87b65532",
   "outputs": [],
   "execution_count": 17
  }
 ],
 "metadata": {
  "kernelspec": {
   "display_name": "Python 3",
   "language": "python",
   "name": "python3"
  },
  "language_info": {
   "codemirror_mode": {
    "name": "ipython",
    "version": 2
   },
   "file_extension": ".py",
   "mimetype": "text/x-python",
   "name": "python",
   "nbconvert_exporter": "python",
   "pygments_lexer": "ipython2",
   "version": "2.7.6"
  }
 },
 "nbformat": 4,
 "nbformat_minor": 5
}
