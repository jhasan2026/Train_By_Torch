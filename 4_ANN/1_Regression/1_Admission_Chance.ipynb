{
 "cells": [
  {
   "cell_type": "code",
   "id": "initial_id",
   "metadata": {
    "collapsed": true,
    "ExecuteTime": {
     "end_time": "2025-05-18T04:03:35.703837Z",
     "start_time": "2025-05-18T04:03:33.894907Z"
    }
   },
   "source": [
    "import torch\n",
    "import torch.nn as nn\n",
    "import pandas as pd\n",
    "import numpy as np"
   ],
   "outputs": [],
   "execution_count": 1
  },
  {
   "metadata": {
    "ExecuteTime": {
     "end_time": "2025-05-18T04:03:35.720607Z",
     "start_time": "2025-05-18T04:03:35.703837Z"
    }
   },
   "cell_type": "code",
   "source": [
    "df = pd.read_csv(\"../../Data/admission_data.csv\")\n",
    "df"
   ],
   "id": "f03379b253ade4df",
   "outputs": [
    {
     "data": {
      "text/plain": [
       "     GRE Score  TOEFL Score  University Rating  SOP  LOR   CGPA  Research  \\\n",
       "0          337          118                  4  4.5   4.5  9.65         1   \n",
       "1          324          107                  4  4.0   4.5  8.87         1   \n",
       "2          316          104                  3  3.0   3.5  8.00         1   \n",
       "3          322          110                  3  3.5   2.5  8.67         1   \n",
       "4          314          103                  2  2.0   3.0  8.21         0   \n",
       "..         ...          ...                ...  ...   ...   ...       ...   \n",
       "495        332          108                  5  4.5   4.0  9.02         1   \n",
       "496        337          117                  5  5.0   5.0  9.87         1   \n",
       "497        330          120                  5  4.5   5.0  9.56         1   \n",
       "498        312          103                  4  4.0   5.0  8.43         0   \n",
       "499        327          113                  4  4.5   4.5  9.04         0   \n",
       "\n",
       "     Chance of Admit   \n",
       "0                0.92  \n",
       "1                0.76  \n",
       "2                0.72  \n",
       "3                0.80  \n",
       "4                0.65  \n",
       "..                ...  \n",
       "495              0.87  \n",
       "496              0.96  \n",
       "497              0.93  \n",
       "498              0.73  \n",
       "499              0.84  \n",
       "\n",
       "[500 rows x 8 columns]"
      ],
      "text/html": [
       "<div>\n",
       "<style scoped>\n",
       "    .dataframe tbody tr th:only-of-type {\n",
       "        vertical-align: middle;\n",
       "    }\n",
       "\n",
       "    .dataframe tbody tr th {\n",
       "        vertical-align: top;\n",
       "    }\n",
       "\n",
       "    .dataframe thead th {\n",
       "        text-align: right;\n",
       "    }\n",
       "</style>\n",
       "<table border=\"1\" class=\"dataframe\">\n",
       "  <thead>\n",
       "    <tr style=\"text-align: right;\">\n",
       "      <th></th>\n",
       "      <th>GRE Score</th>\n",
       "      <th>TOEFL Score</th>\n",
       "      <th>University Rating</th>\n",
       "      <th>SOP</th>\n",
       "      <th>LOR</th>\n",
       "      <th>CGPA</th>\n",
       "      <th>Research</th>\n",
       "      <th>Chance of Admit</th>\n",
       "    </tr>\n",
       "  </thead>\n",
       "  <tbody>\n",
       "    <tr>\n",
       "      <th>0</th>\n",
       "      <td>337</td>\n",
       "      <td>118</td>\n",
       "      <td>4</td>\n",
       "      <td>4.5</td>\n",
       "      <td>4.5</td>\n",
       "      <td>9.65</td>\n",
       "      <td>1</td>\n",
       "      <td>0.92</td>\n",
       "    </tr>\n",
       "    <tr>\n",
       "      <th>1</th>\n",
       "      <td>324</td>\n",
       "      <td>107</td>\n",
       "      <td>4</td>\n",
       "      <td>4.0</td>\n",
       "      <td>4.5</td>\n",
       "      <td>8.87</td>\n",
       "      <td>1</td>\n",
       "      <td>0.76</td>\n",
       "    </tr>\n",
       "    <tr>\n",
       "      <th>2</th>\n",
       "      <td>316</td>\n",
       "      <td>104</td>\n",
       "      <td>3</td>\n",
       "      <td>3.0</td>\n",
       "      <td>3.5</td>\n",
       "      <td>8.00</td>\n",
       "      <td>1</td>\n",
       "      <td>0.72</td>\n",
       "    </tr>\n",
       "    <tr>\n",
       "      <th>3</th>\n",
       "      <td>322</td>\n",
       "      <td>110</td>\n",
       "      <td>3</td>\n",
       "      <td>3.5</td>\n",
       "      <td>2.5</td>\n",
       "      <td>8.67</td>\n",
       "      <td>1</td>\n",
       "      <td>0.80</td>\n",
       "    </tr>\n",
       "    <tr>\n",
       "      <th>4</th>\n",
       "      <td>314</td>\n",
       "      <td>103</td>\n",
       "      <td>2</td>\n",
       "      <td>2.0</td>\n",
       "      <td>3.0</td>\n",
       "      <td>8.21</td>\n",
       "      <td>0</td>\n",
       "      <td>0.65</td>\n",
       "    </tr>\n",
       "    <tr>\n",
       "      <th>...</th>\n",
       "      <td>...</td>\n",
       "      <td>...</td>\n",
       "      <td>...</td>\n",
       "      <td>...</td>\n",
       "      <td>...</td>\n",
       "      <td>...</td>\n",
       "      <td>...</td>\n",
       "      <td>...</td>\n",
       "    </tr>\n",
       "    <tr>\n",
       "      <th>495</th>\n",
       "      <td>332</td>\n",
       "      <td>108</td>\n",
       "      <td>5</td>\n",
       "      <td>4.5</td>\n",
       "      <td>4.0</td>\n",
       "      <td>9.02</td>\n",
       "      <td>1</td>\n",
       "      <td>0.87</td>\n",
       "    </tr>\n",
       "    <tr>\n",
       "      <th>496</th>\n",
       "      <td>337</td>\n",
       "      <td>117</td>\n",
       "      <td>5</td>\n",
       "      <td>5.0</td>\n",
       "      <td>5.0</td>\n",
       "      <td>9.87</td>\n",
       "      <td>1</td>\n",
       "      <td>0.96</td>\n",
       "    </tr>\n",
       "    <tr>\n",
       "      <th>497</th>\n",
       "      <td>330</td>\n",
       "      <td>120</td>\n",
       "      <td>5</td>\n",
       "      <td>4.5</td>\n",
       "      <td>5.0</td>\n",
       "      <td>9.56</td>\n",
       "      <td>1</td>\n",
       "      <td>0.93</td>\n",
       "    </tr>\n",
       "    <tr>\n",
       "      <th>498</th>\n",
       "      <td>312</td>\n",
       "      <td>103</td>\n",
       "      <td>4</td>\n",
       "      <td>4.0</td>\n",
       "      <td>5.0</td>\n",
       "      <td>8.43</td>\n",
       "      <td>0</td>\n",
       "      <td>0.73</td>\n",
       "    </tr>\n",
       "    <tr>\n",
       "      <th>499</th>\n",
       "      <td>327</td>\n",
       "      <td>113</td>\n",
       "      <td>4</td>\n",
       "      <td>4.5</td>\n",
       "      <td>4.5</td>\n",
       "      <td>9.04</td>\n",
       "      <td>0</td>\n",
       "      <td>0.84</td>\n",
       "    </tr>\n",
       "  </tbody>\n",
       "</table>\n",
       "<p>500 rows × 8 columns</p>\n",
       "</div>"
      ]
     },
     "execution_count": 2,
     "metadata": {},
     "output_type": "execute_result"
    }
   ],
   "execution_count": 2
  },
  {
   "metadata": {
    "ExecuteTime": {
     "end_time": "2025-05-18T04:03:35.727780Z",
     "start_time": "2025-05-18T04:03:35.720607Z"
    }
   },
   "cell_type": "code",
   "source": "df.isnull().mean()",
   "id": "21181d3f8413f032",
   "outputs": [
    {
     "data": {
      "text/plain": [
       "GRE Score            0.0\n",
       "TOEFL Score          0.0\n",
       "University Rating    0.0\n",
       "SOP                  0.0\n",
       "LOR                  0.0\n",
       "CGPA                 0.0\n",
       "Research             0.0\n",
       "Chance of Admit      0.0\n",
       "dtype: float64"
      ]
     },
     "execution_count": 3,
     "metadata": {},
     "output_type": "execute_result"
    }
   ],
   "execution_count": 3
  },
  {
   "metadata": {},
   "cell_type": "markdown",
   "source": "# 1. Data Preparation",
   "id": "4563bb3ef353d48d"
  },
  {
   "metadata": {
    "ExecuteTime": {
     "end_time": "2025-05-18T04:03:35.808064Z",
     "start_time": "2025-05-18T04:03:35.727780Z"
    }
   },
   "cell_type": "code",
   "source": [
    "from sklearn.preprocessing import StandardScaler\n",
    "ss = StandardScaler()\n",
    "X_trf = ss.fit_transform(df.iloc[:,:-1])"
   ],
   "id": "7d2ce39ad9da689b",
   "outputs": [],
   "execution_count": 4
  },
  {
   "metadata": {
    "ExecuteTime": {
     "end_time": "2025-05-18T04:03:35.812921Z",
     "start_time": "2025-05-18T04:03:35.808064Z"
    }
   },
   "cell_type": "code",
   "source": "X_trf",
   "id": "1f9a2a5062d8b41b",
   "outputs": [
    {
     "data": {
      "text/plain": [
       "array([[ 1.81923762,  1.77886545,  0.77558214, ...,  1.09894429,\n",
       "         1.77680627,  0.88640526],\n",
       "       [ 0.66714832, -0.03160087,  0.77558214, ...,  1.09894429,\n",
       "         0.48585943,  0.88640526],\n",
       "       [-0.0418297 , -0.52536441, -0.09979274, ...,  0.01730621,\n",
       "        -0.95404281,  0.88640526],\n",
       "       ...,\n",
       "       [ 1.19888185,  2.10804114,  1.65095702, ...,  1.63976333,\n",
       "         1.62785086,  0.88640526],\n",
       "       [-0.39631872, -0.68995225,  0.77558214, ...,  1.63976333,\n",
       "        -0.24236699, -1.12815215],\n",
       "       [ 0.93301508,  0.95592621,  0.77558214, ...,  1.09894429,\n",
       "         0.76721964, -1.12815215]], shape=(500, 7))"
      ]
     },
     "execution_count": 5,
     "metadata": {},
     "output_type": "execute_result"
    }
   ],
   "execution_count": 5
  },
  {
   "metadata": {
    "ExecuteTime": {
     "end_time": "2025-05-18T04:03:35.818990Z",
     "start_time": "2025-05-18T04:03:35.812921Z"
    }
   },
   "cell_type": "code",
   "source": [
    "y = df.iloc[:,-1]\n",
    "y"
   ],
   "id": "3e2539dbd7a226",
   "outputs": [
    {
     "data": {
      "text/plain": [
       "0      0.92\n",
       "1      0.76\n",
       "2      0.72\n",
       "3      0.80\n",
       "4      0.65\n",
       "       ... \n",
       "495    0.87\n",
       "496    0.96\n",
       "497    0.93\n",
       "498    0.73\n",
       "499    0.84\n",
       "Name: Chance of Admit , Length: 500, dtype: float64"
      ]
     },
     "execution_count": 6,
     "metadata": {},
     "output_type": "execute_result"
    }
   ],
   "execution_count": 6
  },
  {
   "metadata": {
    "ExecuteTime": {
     "end_time": "2025-05-18T04:03:35.862207Z",
     "start_time": "2025-05-18T04:03:35.818990Z"
    }
   },
   "cell_type": "code",
   "source": [
    "from sklearn.model_selection import train_test_split\n",
    "X_train, X_test, y_train, y_test = train_test_split(X_trf,y,test_size=0.2)"
   ],
   "id": "b9a92e4dcc6457bc",
   "outputs": [],
   "execution_count": 7
  },
  {
   "metadata": {
    "ExecuteTime": {
     "end_time": "2025-05-18T04:03:35.866553Z",
     "start_time": "2025-05-18T04:03:35.862207Z"
    }
   },
   "cell_type": "code",
   "source": [
    "X_train = np.asarray(X_train).astype(np.float32)\n",
    "X_test = np.asarray(X_test).astype(np.float32)\n",
    "y_train = np.asarray(y_train).astype(np.float32)\n",
    "y_test = np.asarray(y_test).astype(np.float32)"
   ],
   "id": "2effa1325c731571",
   "outputs": [],
   "execution_count": 8
  },
  {
   "metadata": {
    "ExecuteTime": {
     "end_time": "2025-05-18T04:03:35.872710Z",
     "start_time": "2025-05-18T04:03:35.866553Z"
    }
   },
   "cell_type": "code",
   "source": "X_train",
   "id": "2bf851baade3c3f6",
   "outputs": [
    {
     "data": {
      "text/plain": [
       "array([[-0.30769646, -0.8545401 , -0.09979273, ..., -1.0643319 ,\n",
       "         0.17139801, -1.1281521 ],\n",
       "       [-0.2190742 ,  0.46216267, -0.09979273, ...,  0.55812526,\n",
       "         0.37000522, -1.1281521 ],\n",
       "       [ 0.04679255, -0.19618872, -1.8505425 , ...,  0.01730621,\n",
       "        -1.5333139 ,  0.8864053 ],\n",
       "       ...,\n",
       "       [-0.6621855 , -1.3483037 , -0.09979273, ...,  0.55812526,\n",
       "        -0.02720919, -1.1281521 ],\n",
       "       [-0.5735632 , -0.36077657, -0.97516763, ...,  0.01730621,\n",
       "        -0.9374922 , -1.1281521 ],\n",
       "       [ 1.1102595 ,  1.120514  , -0.97516763, ...,  0.55812526,\n",
       "        -0.02720919,  0.8864053 ]], shape=(400, 7), dtype=float32)"
      ]
     },
     "execution_count": 9,
     "metadata": {},
     "output_type": "execute_result"
    }
   ],
   "execution_count": 9
  },
  {
   "metadata": {},
   "cell_type": "markdown",
   "source": "# 2. Dataset and Dataloader",
   "id": "3bd8cbbf19891da7"
  },
  {
   "metadata": {
    "ExecuteTime": {
     "end_time": "2025-05-18T04:03:35.877609Z",
     "start_time": "2025-05-18T04:03:35.872710Z"
    }
   },
   "cell_type": "code",
   "source": [
    "from torch.utils.data import Dataset, DataLoader\n",
    "\n",
    "class CustomDataset(Dataset):\n",
    "    def __init__(self,features,labels):\n",
    "        self.features = torch.tensor(features, dtype=torch.float32)\n",
    "        self.labels = torch.tensor(labels, dtype=torch.float32)\n",
    "        \n",
    "    def __len__(self):\n",
    "        return self.features.shape[0]\n",
    "    \n",
    "    def __getitem__(self, index):\n",
    "        return self.features[index], self.labels[index]"
   ],
   "id": "edc1d7fc7081b962",
   "outputs": [],
   "execution_count": 10
  },
  {
   "metadata": {
    "ExecuteTime": {
     "end_time": "2025-05-18T04:03:35.882933Z",
     "start_time": "2025-05-18T04:03:35.877609Z"
    }
   },
   "cell_type": "code",
   "source": [
    "train_dataset = CustomDataset(X_train,y_train)\n",
    "test_dataset = CustomDataset(X_test,y_test)"
   ],
   "id": "4ea9100925afc27a",
   "outputs": [],
   "execution_count": 11
  },
  {
   "metadata": {
    "ExecuteTime": {
     "end_time": "2025-05-18T04:03:35.888316Z",
     "start_time": "2025-05-18T04:03:35.882933Z"
    }
   },
   "cell_type": "code",
   "source": [
    "train_dataloader = DataLoader(train_dataset, batch_size=32, shuffle=True)\n",
    "test_dataloader = DataLoader(test_dataset, batch_size=32, shuffle=True)"
   ],
   "id": "e916b6a2f139ca38",
   "outputs": [],
   "execution_count": 12
  },
  {
   "metadata": {},
   "cell_type": "markdown",
   "source": "# 3. Model Build",
   "id": "53b5286d490fdbd3"
  },
  {
   "metadata": {
    "ExecuteTime": {
     "end_time": "2025-05-18T04:03:35.893513Z",
     "start_time": "2025-05-18T04:03:35.888316Z"
    }
   },
   "cell_type": "code",
   "source": [
    "class NeuralNetworkRegressor(nn.Module):\n",
    "    def __init__(self,X_train):\n",
    "        super().__init__()\n",
    "        \n",
    "        self.network = nn.Sequential(\n",
    "            nn.Linear(X_train.shape[1], 64),\n",
    "            nn.BatchNorm1d(64),\n",
    "            nn.ReLU(),\n",
    "            nn.Dropout(0.3),\n",
    "            \n",
    "            nn.Linear(64, 32),\n",
    "            nn.BatchNorm1d(32),\n",
    "            nn.ReLU(),\n",
    "            nn.Dropout(0.3),\n",
    "            \n",
    "            nn.Linear(32,1)\n",
    "        )\n",
    "    def forward(self,x):\n",
    "        return self.network(x)"
   ],
   "id": "84ba98a04070cee1",
   "outputs": [],
   "execution_count": 13
  },
  {
   "metadata": {
    "ExecuteTime": {
     "end_time": "2025-05-18T04:03:35.915298Z",
     "start_time": "2025-05-18T04:03:35.893513Z"
    }
   },
   "cell_type": "code",
   "source": [
    "device = torch.device(\"cuda\" if torch.cuda.is_available() else \"cpu\")\n",
    "device"
   ],
   "id": "751ce56c9a94b71a",
   "outputs": [
    {
     "data": {
      "text/plain": [
       "device(type='cuda')"
      ]
     },
     "execution_count": 14,
     "metadata": {},
     "output_type": "execute_result"
    }
   ],
   "execution_count": 14
  },
  {
   "metadata": {
    "ExecuteTime": {
     "end_time": "2025-05-18T04:03:37.087944Z",
     "start_time": "2025-05-18T04:03:35.915298Z"
    }
   },
   "cell_type": "code",
   "source": [
    "epochs = 50\n",
    "learning_rate = 0.01\n",
    "\n",
    "mseError = nn.MSELoss()\n",
    "\n",
    "model = NeuralNetworkRegressor(X_train)\n",
    "model.to(device)\n",
    "\n",
    "optimizer = torch.optim.Adam(model.parameters(),lr=learning_rate, weight_decay=1e-5)"
   ],
   "id": "5511963b722e4500",
   "outputs": [],
   "execution_count": 15
  },
  {
   "metadata": {
    "ExecuteTime": {
     "end_time": "2025-05-18T04:03:39.033261Z",
     "start_time": "2025-05-18T04:03:37.087944Z"
    }
   },
   "cell_type": "code",
   "source": [
    "for epoch in range(epochs):\n",
    "    epoch_loss = 0\n",
    "    \n",
    "    for batch_features, batch_labels in train_dataloader:\n",
    "        batch_features, batch_labels = batch_features.to(device), batch_labels.to(device)\n",
    "        \n",
    "        y_pred = model(batch_features)\n",
    "        \n",
    "        loss = mseError(y_pred, batch_labels)\n",
    "        \n",
    "        optimizer.zero_grad()\n",
    "        \n",
    "        loss.backward()\n",
    "        \n",
    "        optimizer.step()\n",
    "        \n",
    "        epoch_loss += loss.item()\n",
    "        \n",
    "    print(f\"Epoch {epoch+1}: Loss {epoch_loss/len(train_dataloader)}\")"
   ],
   "id": "6ddb476084286628",
   "outputs": [
    {
     "name": "stderr",
     "output_type": "stream",
     "text": [
      "D:\\anaconda3\\envs\\jh_env\\Lib\\site-packages\\torch\\nn\\modules\\loss.py:608: UserWarning: Using a target size (torch.Size([32])) that is different to the input size (torch.Size([32, 1])). This will likely lead to incorrect results due to broadcasting. Please ensure they have the same size.\n",
      "  return F.mse_loss(input, target, reduction=self.reduction)\n",
      "D:\\anaconda3\\envs\\jh_env\\Lib\\site-packages\\torch\\nn\\modules\\loss.py:608: UserWarning: Using a target size (torch.Size([16])) that is different to the input size (torch.Size([16, 1])). This will likely lead to incorrect results due to broadcasting. Please ensure they have the same size.\n",
      "  return F.mse_loss(input, target, reduction=self.reduction)\n"
     ]
    },
    {
     "name": "stdout",
     "output_type": "stream",
     "text": [
      "Epoch 1: Loss 0.30762629898694843\n",
      "Epoch 2: Loss 0.11588590133648652\n",
      "Epoch 3: Loss 0.06601832778407977\n",
      "Epoch 4: Loss 0.05329828279522749\n",
      "Epoch 5: Loss 0.04849837233240788\n",
      "Epoch 6: Loss 0.04150389708005465\n",
      "Epoch 7: Loss 0.036960181421958484\n",
      "Epoch 8: Loss 0.03528840524645952\n",
      "Epoch 9: Loss 0.03380165091500832\n",
      "Epoch 10: Loss 0.031661166021457084\n",
      "Epoch 11: Loss 0.03243465750263287\n",
      "Epoch 12: Loss 0.0296665970236063\n",
      "Epoch 13: Loss 0.029669697897938583\n",
      "Epoch 14: Loss 0.028704777359962463\n",
      "Epoch 15: Loss 0.02721404255582736\n",
      "Epoch 16: Loss 0.026096522664794557\n",
      "Epoch 17: Loss 0.02613172995356413\n",
      "Epoch 18: Loss 0.024709602244771443\n",
      "Epoch 19: Loss 0.024538518431094978\n",
      "Epoch 20: Loss 0.023541644645424988\n",
      "Epoch 21: Loss 0.023944703288949452\n",
      "Epoch 22: Loss 0.02267227780360442\n",
      "Epoch 23: Loss 0.02351436162224183\n",
      "Epoch 24: Loss 0.022617214216062657\n",
      "Epoch 25: Loss 0.022197502163740303\n",
      "Epoch 26: Loss 0.023941923219424028\n",
      "Epoch 27: Loss 0.022764051906191386\n",
      "Epoch 28: Loss 0.021309056104375765\n",
      "Epoch 29: Loss 0.020573154235115416\n",
      "Epoch 30: Loss 0.021018912442601644\n",
      "Epoch 31: Loss 0.02079765384013836\n",
      "Epoch 32: Loss 0.01998068471080982\n",
      "Epoch 33: Loss 0.021164799897143476\n",
      "Epoch 34: Loss 0.021517189076313607\n",
      "Epoch 35: Loss 0.02151174735851013\n",
      "Epoch 36: Loss 0.021126858746776216\n",
      "Epoch 37: Loss 0.020478348319347087\n",
      "Epoch 38: Loss 0.0203981282046208\n",
      "Epoch 39: Loss 0.019947063321104415\n",
      "Epoch 40: Loss 0.0196709124944531\n",
      "Epoch 41: Loss 0.01954683675788916\n",
      "Epoch 42: Loss 0.019880454844007127\n",
      "Epoch 43: Loss 0.020329526195732448\n",
      "Epoch 44: Loss 0.02045138653081197\n",
      "Epoch 45: Loss 0.020153110846877098\n",
      "Epoch 46: Loss 0.019744674746806804\n",
      "Epoch 47: Loss 0.021119670727505133\n",
      "Epoch 48: Loss 0.01955268395921359\n",
      "Epoch 49: Loss 0.020058853551745415\n",
      "Epoch 50: Loss 0.020219422948475067\n"
     ]
    }
   ],
   "execution_count": 16
  },
  {
   "metadata": {
    "ExecuteTime": {
     "end_time": "2025-05-18T04:05:40.754561Z",
     "start_time": "2025-05-18T04:05:40.677828Z"
    }
   },
   "cell_type": "code",
   "source": [
    "from sklearn.metrics import r2_score\n",
    "\n",
    "all_preds = []\n",
    "all_labels = []\n",
    "\n",
    "with torch.no_grad():\n",
    "    for batch_features, batch_labels in test_dataloader:\n",
    "        batch_features, batch_labels = batch_features.to(device), batch_labels.to(device)\n",
    "        \n",
    "        y_pred = model(batch_features)\n",
    "        all_preds.append(y_pred.cpu())\n",
    "        all_labels.append(batch_labels.cpu())\n",
    "\n",
    "all_preds = torch.cat(all_preds).numpy()\n",
    "all_labels = torch.cat(all_labels).numpy()\n",
    "r2 = r2_score(all_labels, all_preds)\n",
    "print(\"Testing R² Score:\", r2)\n"
   ],
   "id": "cf7fd2a7d4c3af12",
   "outputs": [
    {
     "name": "stdout",
     "output_type": "stream",
     "text": [
      "Testing R² Score: -0.030431628227233887\n"
     ]
    }
   ],
   "execution_count": 17
  },
  {
   "metadata": {},
   "cell_type": "code",
   "outputs": [],
   "execution_count": null,
   "source": "",
   "id": "a21fadbe27adc867"
  }
 ],
 "metadata": {
  "kernelspec": {
   "display_name": "Python 3",
   "language": "python",
   "name": "python3"
  },
  "language_info": {
   "codemirror_mode": {
    "name": "ipython",
    "version": 2
   },
   "file_extension": ".py",
   "mimetype": "text/x-python",
   "name": "python",
   "nbconvert_exporter": "python",
   "pygments_lexer": "ipython2",
   "version": "2.7.6"
  }
 },
 "nbformat": 4,
 "nbformat_minor": 5
}
