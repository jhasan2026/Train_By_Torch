{
 "cells": [
  {
   "cell_type": "code",
   "id": "initial_id",
   "metadata": {
    "collapsed": true,
    "ExecuteTime": {
     "end_time": "2025-04-23T18:47:59.933962Z",
     "start_time": "2025-04-23T18:47:58.023069Z"
    }
   },
   "source": [
    "import torch\n",
    "import torch.nn as nn\n",
    "import pandas as pd\n",
    "import numpy as np\n",
    "import torch.optim as optim"
   ],
   "outputs": [],
   "execution_count": 1
  },
  {
   "metadata": {
    "ExecuteTime": {
     "end_time": "2025-04-23T18:47:59.957226Z",
     "start_time": "2025-04-23T18:47:59.933962Z"
    }
   },
   "cell_type": "code",
   "source": [
    "device = torch.device('cuda' if torch.cuda.is_available() else 'cpu')\n",
    "device"
   ],
   "id": "3bbbf513ab6035f1",
   "outputs": [
    {
     "data": {
      "text/plain": [
       "device(type='cuda')"
      ]
     },
     "execution_count": 2,
     "metadata": {},
     "output_type": "execute_result"
    }
   ],
   "execution_count": 2
  },
  {
   "metadata": {
    "ExecuteTime": {
     "end_time": "2025-04-23T18:48:01.739491Z",
     "start_time": "2025-04-23T18:47:59.957226Z"
    }
   },
   "cell_type": "code",
   "source": [
    "df = pd.read_csv(\"../../Data/fashion-mnist_train.csv\")\n",
    "df"
   ],
   "id": "ee750713d0bb9f63",
   "outputs": [
    {
     "data": {
      "text/plain": [
       "       label  pixel1  pixel2  pixel3  pixel4  pixel5  pixel6  pixel7  pixel8  \\\n",
       "0          2       0       0       0       0       0       0       0       0   \n",
       "1          9       0       0       0       0       0       0       0       0   \n",
       "2          6       0       0       0       0       0       0       0       5   \n",
       "3          0       0       0       0       1       2       0       0       0   \n",
       "4          3       0       0       0       0       0       0       0       0   \n",
       "...      ...     ...     ...     ...     ...     ...     ...     ...     ...   \n",
       "59995      9       0       0       0       0       0       0       0       0   \n",
       "59996      1       0       0       0       0       0       0       0       0   \n",
       "59997      8       0       0       0       0       0       0       0       0   \n",
       "59998      8       0       0       0       0       0       0       0       0   \n",
       "59999      7       0       0       0       0       0       0       0       0   \n",
       "\n",
       "       pixel9  ...  pixel775  pixel776  pixel777  pixel778  pixel779  \\\n",
       "0           0  ...         0         0         0         0         0   \n",
       "1           0  ...         0         0         0         0         0   \n",
       "2           0  ...         0         0         0        30        43   \n",
       "3           0  ...         3         0         0         0         0   \n",
       "4           0  ...         0         0         0         0         0   \n",
       "...       ...  ...       ...       ...       ...       ...       ...   \n",
       "59995       0  ...         0         0         0         0         0   \n",
       "59996       0  ...        73         0         0         0         0   \n",
       "59997       0  ...       160       162       163       135        94   \n",
       "59998       0  ...         0         0         0         0         0   \n",
       "59999       0  ...         0         0         0         0         0   \n",
       "\n",
       "       pixel780  pixel781  pixel782  pixel783  pixel784  \n",
       "0             0         0         0         0         0  \n",
       "1             0         0         0         0         0  \n",
       "2             0         0         0         0         0  \n",
       "3             1         0         0         0         0  \n",
       "4             0         0         0         0         0  \n",
       "...         ...       ...       ...       ...       ...  \n",
       "59995         0         0         0         0         0  \n",
       "59996         0         0         0         0         0  \n",
       "59997         0         0         0         0         0  \n",
       "59998         0         0         0         0         0  \n",
       "59999         0         0         0         0         0  \n",
       "\n",
       "[60000 rows x 785 columns]"
      ],
      "text/html": [
       "<div>\n",
       "<style scoped>\n",
       "    .dataframe tbody tr th:only-of-type {\n",
       "        vertical-align: middle;\n",
       "    }\n",
       "\n",
       "    .dataframe tbody tr th {\n",
       "        vertical-align: top;\n",
       "    }\n",
       "\n",
       "    .dataframe thead th {\n",
       "        text-align: right;\n",
       "    }\n",
       "</style>\n",
       "<table border=\"1\" class=\"dataframe\">\n",
       "  <thead>\n",
       "    <tr style=\"text-align: right;\">\n",
       "      <th></th>\n",
       "      <th>label</th>\n",
       "      <th>pixel1</th>\n",
       "      <th>pixel2</th>\n",
       "      <th>pixel3</th>\n",
       "      <th>pixel4</th>\n",
       "      <th>pixel5</th>\n",
       "      <th>pixel6</th>\n",
       "      <th>pixel7</th>\n",
       "      <th>pixel8</th>\n",
       "      <th>pixel9</th>\n",
       "      <th>...</th>\n",
       "      <th>pixel775</th>\n",
       "      <th>pixel776</th>\n",
       "      <th>pixel777</th>\n",
       "      <th>pixel778</th>\n",
       "      <th>pixel779</th>\n",
       "      <th>pixel780</th>\n",
       "      <th>pixel781</th>\n",
       "      <th>pixel782</th>\n",
       "      <th>pixel783</th>\n",
       "      <th>pixel784</th>\n",
       "    </tr>\n",
       "  </thead>\n",
       "  <tbody>\n",
       "    <tr>\n",
       "      <th>0</th>\n",
       "      <td>2</td>\n",
       "      <td>0</td>\n",
       "      <td>0</td>\n",
       "      <td>0</td>\n",
       "      <td>0</td>\n",
       "      <td>0</td>\n",
       "      <td>0</td>\n",
       "      <td>0</td>\n",
       "      <td>0</td>\n",
       "      <td>0</td>\n",
       "      <td>...</td>\n",
       "      <td>0</td>\n",
       "      <td>0</td>\n",
       "      <td>0</td>\n",
       "      <td>0</td>\n",
       "      <td>0</td>\n",
       "      <td>0</td>\n",
       "      <td>0</td>\n",
       "      <td>0</td>\n",
       "      <td>0</td>\n",
       "      <td>0</td>\n",
       "    </tr>\n",
       "    <tr>\n",
       "      <th>1</th>\n",
       "      <td>9</td>\n",
       "      <td>0</td>\n",
       "      <td>0</td>\n",
       "      <td>0</td>\n",
       "      <td>0</td>\n",
       "      <td>0</td>\n",
       "      <td>0</td>\n",
       "      <td>0</td>\n",
       "      <td>0</td>\n",
       "      <td>0</td>\n",
       "      <td>...</td>\n",
       "      <td>0</td>\n",
       "      <td>0</td>\n",
       "      <td>0</td>\n",
       "      <td>0</td>\n",
       "      <td>0</td>\n",
       "      <td>0</td>\n",
       "      <td>0</td>\n",
       "      <td>0</td>\n",
       "      <td>0</td>\n",
       "      <td>0</td>\n",
       "    </tr>\n",
       "    <tr>\n",
       "      <th>2</th>\n",
       "      <td>6</td>\n",
       "      <td>0</td>\n",
       "      <td>0</td>\n",
       "      <td>0</td>\n",
       "      <td>0</td>\n",
       "      <td>0</td>\n",
       "      <td>0</td>\n",
       "      <td>0</td>\n",
       "      <td>5</td>\n",
       "      <td>0</td>\n",
       "      <td>...</td>\n",
       "      <td>0</td>\n",
       "      <td>0</td>\n",
       "      <td>0</td>\n",
       "      <td>30</td>\n",
       "      <td>43</td>\n",
       "      <td>0</td>\n",
       "      <td>0</td>\n",
       "      <td>0</td>\n",
       "      <td>0</td>\n",
       "      <td>0</td>\n",
       "    </tr>\n",
       "    <tr>\n",
       "      <th>3</th>\n",
       "      <td>0</td>\n",
       "      <td>0</td>\n",
       "      <td>0</td>\n",
       "      <td>0</td>\n",
       "      <td>1</td>\n",
       "      <td>2</td>\n",
       "      <td>0</td>\n",
       "      <td>0</td>\n",
       "      <td>0</td>\n",
       "      <td>0</td>\n",
       "      <td>...</td>\n",
       "      <td>3</td>\n",
       "      <td>0</td>\n",
       "      <td>0</td>\n",
       "      <td>0</td>\n",
       "      <td>0</td>\n",
       "      <td>1</td>\n",
       "      <td>0</td>\n",
       "      <td>0</td>\n",
       "      <td>0</td>\n",
       "      <td>0</td>\n",
       "    </tr>\n",
       "    <tr>\n",
       "      <th>4</th>\n",
       "      <td>3</td>\n",
       "      <td>0</td>\n",
       "      <td>0</td>\n",
       "      <td>0</td>\n",
       "      <td>0</td>\n",
       "      <td>0</td>\n",
       "      <td>0</td>\n",
       "      <td>0</td>\n",
       "      <td>0</td>\n",
       "      <td>0</td>\n",
       "      <td>...</td>\n",
       "      <td>0</td>\n",
       "      <td>0</td>\n",
       "      <td>0</td>\n",
       "      <td>0</td>\n",
       "      <td>0</td>\n",
       "      <td>0</td>\n",
       "      <td>0</td>\n",
       "      <td>0</td>\n",
       "      <td>0</td>\n",
       "      <td>0</td>\n",
       "    </tr>\n",
       "    <tr>\n",
       "      <th>...</th>\n",
       "      <td>...</td>\n",
       "      <td>...</td>\n",
       "      <td>...</td>\n",
       "      <td>...</td>\n",
       "      <td>...</td>\n",
       "      <td>...</td>\n",
       "      <td>...</td>\n",
       "      <td>...</td>\n",
       "      <td>...</td>\n",
       "      <td>...</td>\n",
       "      <td>...</td>\n",
       "      <td>...</td>\n",
       "      <td>...</td>\n",
       "      <td>...</td>\n",
       "      <td>...</td>\n",
       "      <td>...</td>\n",
       "      <td>...</td>\n",
       "      <td>...</td>\n",
       "      <td>...</td>\n",
       "      <td>...</td>\n",
       "      <td>...</td>\n",
       "    </tr>\n",
       "    <tr>\n",
       "      <th>59995</th>\n",
       "      <td>9</td>\n",
       "      <td>0</td>\n",
       "      <td>0</td>\n",
       "      <td>0</td>\n",
       "      <td>0</td>\n",
       "      <td>0</td>\n",
       "      <td>0</td>\n",
       "      <td>0</td>\n",
       "      <td>0</td>\n",
       "      <td>0</td>\n",
       "      <td>...</td>\n",
       "      <td>0</td>\n",
       "      <td>0</td>\n",
       "      <td>0</td>\n",
       "      <td>0</td>\n",
       "      <td>0</td>\n",
       "      <td>0</td>\n",
       "      <td>0</td>\n",
       "      <td>0</td>\n",
       "      <td>0</td>\n",
       "      <td>0</td>\n",
       "    </tr>\n",
       "    <tr>\n",
       "      <th>59996</th>\n",
       "      <td>1</td>\n",
       "      <td>0</td>\n",
       "      <td>0</td>\n",
       "      <td>0</td>\n",
       "      <td>0</td>\n",
       "      <td>0</td>\n",
       "      <td>0</td>\n",
       "      <td>0</td>\n",
       "      <td>0</td>\n",
       "      <td>0</td>\n",
       "      <td>...</td>\n",
       "      <td>73</td>\n",
       "      <td>0</td>\n",
       "      <td>0</td>\n",
       "      <td>0</td>\n",
       "      <td>0</td>\n",
       "      <td>0</td>\n",
       "      <td>0</td>\n",
       "      <td>0</td>\n",
       "      <td>0</td>\n",
       "      <td>0</td>\n",
       "    </tr>\n",
       "    <tr>\n",
       "      <th>59997</th>\n",
       "      <td>8</td>\n",
       "      <td>0</td>\n",
       "      <td>0</td>\n",
       "      <td>0</td>\n",
       "      <td>0</td>\n",
       "      <td>0</td>\n",
       "      <td>0</td>\n",
       "      <td>0</td>\n",
       "      <td>0</td>\n",
       "      <td>0</td>\n",
       "      <td>...</td>\n",
       "      <td>160</td>\n",
       "      <td>162</td>\n",
       "      <td>163</td>\n",
       "      <td>135</td>\n",
       "      <td>94</td>\n",
       "      <td>0</td>\n",
       "      <td>0</td>\n",
       "      <td>0</td>\n",
       "      <td>0</td>\n",
       "      <td>0</td>\n",
       "    </tr>\n",
       "    <tr>\n",
       "      <th>59998</th>\n",
       "      <td>8</td>\n",
       "      <td>0</td>\n",
       "      <td>0</td>\n",
       "      <td>0</td>\n",
       "      <td>0</td>\n",
       "      <td>0</td>\n",
       "      <td>0</td>\n",
       "      <td>0</td>\n",
       "      <td>0</td>\n",
       "      <td>0</td>\n",
       "      <td>...</td>\n",
       "      <td>0</td>\n",
       "      <td>0</td>\n",
       "      <td>0</td>\n",
       "      <td>0</td>\n",
       "      <td>0</td>\n",
       "      <td>0</td>\n",
       "      <td>0</td>\n",
       "      <td>0</td>\n",
       "      <td>0</td>\n",
       "      <td>0</td>\n",
       "    </tr>\n",
       "    <tr>\n",
       "      <th>59999</th>\n",
       "      <td>7</td>\n",
       "      <td>0</td>\n",
       "      <td>0</td>\n",
       "      <td>0</td>\n",
       "      <td>0</td>\n",
       "      <td>0</td>\n",
       "      <td>0</td>\n",
       "      <td>0</td>\n",
       "      <td>0</td>\n",
       "      <td>0</td>\n",
       "      <td>...</td>\n",
       "      <td>0</td>\n",
       "      <td>0</td>\n",
       "      <td>0</td>\n",
       "      <td>0</td>\n",
       "      <td>0</td>\n",
       "      <td>0</td>\n",
       "      <td>0</td>\n",
       "      <td>0</td>\n",
       "      <td>0</td>\n",
       "      <td>0</td>\n",
       "    </tr>\n",
       "  </tbody>\n",
       "</table>\n",
       "<p>60000 rows × 785 columns</p>\n",
       "</div>"
      ]
     },
     "execution_count": 3,
     "metadata": {},
     "output_type": "execute_result"
    }
   ],
   "execution_count": 3
  },
  {
   "metadata": {
    "ExecuteTime": {
     "end_time": "2025-04-23T18:48:01.743843Z",
     "start_time": "2025-04-23T18:48:01.739491Z"
    }
   },
   "cell_type": "code",
   "source": [
    "X = df.iloc[:,1:]\n",
    "y = df.iloc[:,0]"
   ],
   "id": "143aa97b7a6fc426",
   "outputs": [],
   "execution_count": 4
  },
  {
   "metadata": {
    "ExecuteTime": {
     "end_time": "2025-04-23T18:48:02.727358Z",
     "start_time": "2025-04-23T18:48:01.743843Z"
    }
   },
   "cell_type": "code",
   "source": [
    "from sklearn.model_selection import train_test_split\n",
    "X_train, X_test, y_train, y_test = train_test_split(X,y,test_size=0.2, random_state=42)"
   ],
   "id": "40e2f52448c31e77",
   "outputs": [],
   "execution_count": 5
  },
  {
   "metadata": {
    "ExecuteTime": {
     "end_time": "2025-04-23T18:48:02.783954Z",
     "start_time": "2025-04-23T18:48:02.727358Z"
    }
   },
   "cell_type": "code",
   "source": [
    "X_train = X_train/255.0\n",
    "X_test = X_test/255.0"
   ],
   "id": "2b1670a4e77b5593",
   "outputs": [],
   "execution_count": 6
  },
  {
   "metadata": {
    "ExecuteTime": {
     "end_time": "2025-04-23T18:48:02.850801Z",
     "start_time": "2025-04-23T18:48:02.783954Z"
    }
   },
   "cell_type": "code",
   "source": [
    "X_train = np.asarray(X_train).astype(np.float32)\n",
    "X_test = np.asarray(X_test).astype(np.float32)\n",
    "y_train = np.asarray(y_train).astype(np.float32)\n",
    "y_test = np.asarray(y_test).astype(np.float32)"
   ],
   "id": "2051725705ae6dde",
   "outputs": [],
   "execution_count": 7
  },
  {
   "metadata": {},
   "cell_type": "markdown",
   "source": "# 1. Dataload",
   "id": "695ddc7e3abd2ed6"
  },
  {
   "metadata": {
    "ExecuteTime": {
     "end_time": "2025-04-23T18:48:02.854168Z",
     "start_time": "2025-04-23T18:48:02.850801Z"
    }
   },
   "cell_type": "code",
   "source": "from torch.utils.data import Dataset, DataLoader",
   "id": "256fb9e3aa980cd",
   "outputs": [],
   "execution_count": 8
  },
  {
   "metadata": {
    "ExecuteTime": {
     "end_time": "2025-04-23T18:48:02.858837Z",
     "start_time": "2025-04-23T18:48:02.854168Z"
    }
   },
   "cell_type": "code",
   "source": [
    "class CustomDataset(Dataset):\n",
    "    def __init__(self, features, labels):\n",
    "        self.features = torch.tensor(features, dtype=torch.float32)\n",
    "        self.labels = torch.tensor(labels, dtype=torch.long)\n",
    "        \n",
    "    def __len__(self):\n",
    "        return self.features.shape[0]\n",
    "    \n",
    "    def __getitem__(self, index):\n",
    "        return self.features[index], self.labels[index]"
   ],
   "id": "5bde037cd207bd12",
   "outputs": [],
   "execution_count": 9
  },
  {
   "metadata": {
    "ExecuteTime": {
     "end_time": "2025-04-23T18:48:02.892110Z",
     "start_time": "2025-04-23T18:48:02.858837Z"
    }
   },
   "cell_type": "code",
   "source": [
    "train_dataset = CustomDataset(X_train, y_train)\n",
    "test_dataset = CustomDataset(X_test, y_test)"
   ],
   "id": "4c2d5d9f16a89ac2",
   "outputs": [],
   "execution_count": 10
  },
  {
   "metadata": {
    "ExecuteTime": {
     "end_time": "2025-04-23T18:48:02.896421Z",
     "start_time": "2025-04-23T18:48:02.892110Z"
    }
   },
   "cell_type": "code",
   "source": [
    "train_dataloader = DataLoader(train_dataset, batch_size=32, shuffle=True, pin_memory=True)\n",
    "test_dataloader = DataLoader(test_dataset, batch_size=32, shuffle=True, pin_memory=True)"
   ],
   "id": "a265d2e5cab6b29f",
   "outputs": [],
   "execution_count": 11
  },
  {
   "metadata": {},
   "cell_type": "markdown",
   "source": "# 2. Model Build",
   "id": "79465be10d53ebaf"
  },
  {
   "metadata": {
    "ExecuteTime": {
     "end_time": "2025-04-23T18:48:02.901306Z",
     "start_time": "2025-04-23T18:48:02.896421Z"
    }
   },
   "cell_type": "code",
   "source": [
    "class MyNeuralNetwork(nn.Module):\n",
    "    def __init__(self, X_train):\n",
    "        super().__init__()\n",
    "        \n",
    "        self.network = nn.Sequential(\n",
    "            #1st Layer\n",
    "            nn.Linear(X_train.shape[1], 128),\n",
    "            nn.BatchNorm1d(128),\n",
    "            nn.ReLU(),\n",
    "            nn.Dropout(0.3),\n",
    "            \n",
    "            \n",
    "            #2nd Layer\n",
    "            nn.Linear(128, 64),\n",
    "            nn.BatchNorm1d(64),\n",
    "            nn.ReLU(),\n",
    "            nn.Dropout(0.3),\n",
    "            \n",
    "            #Output Layer\n",
    "            nn.Linear(64, 10)\n",
    "        )\n",
    "        \n",
    "    def forward(self,x):\n",
    "        return self.network(x)"
   ],
   "id": "2850afa9ac4459b7",
   "outputs": [],
   "execution_count": 12
  },
  {
   "metadata": {},
   "cell_type": "markdown",
   "source": "# 3. Train Model",
   "id": "2d8c222d0e405be8"
  },
  {
   "metadata": {
    "ExecuteTime": {
     "end_time": "2025-04-23T18:48:02.905703Z",
     "start_time": "2025-04-23T18:48:02.901306Z"
    }
   },
   "cell_type": "code",
   "source": [
    "# hyperparameter\n",
    "epochs = 100\n",
    "learning_rate = 0.1"
   ],
   "id": "857d23c190ceb704",
   "outputs": [],
   "execution_count": 13
  },
  {
   "metadata": {
    "ExecuteTime": {
     "end_time": "2025-04-23T18:48:04.080826Z",
     "start_time": "2025-04-23T18:48:02.905703Z"
    }
   },
   "cell_type": "code",
   "source": [
    "# initialize the model\n",
    "model = MyNeuralNetwork(X_train)\n",
    "model.to(device)\n",
    "\n",
    "# loss function\n",
    "criterion = nn.CrossEntropyLoss()\n",
    "\n",
    "# optimizer\n",
    "optimizer = optim.SGD(model.parameters(), lr=learning_rate ,weight_decay=1e-4)"
   ],
   "id": "71882dcf607dd427",
   "outputs": [],
   "execution_count": 14
  },
  {
   "metadata": {
    "ExecuteTime": {
     "end_time": "2025-04-23T18:54:00.995564Z",
     "start_time": "2025-04-23T18:48:04.080826Z"
    }
   },
   "cell_type": "code",
   "source": [
    "for epoch in range(epochs):\n",
    "    total_epoch_loss = 0 \n",
    "    \n",
    "    for batch_features, batch_labels in train_dataloader:\n",
    "        \n",
    "        # store data into gpu\n",
    "        batch_features, batch_labels = batch_features.to(device), batch_labels.to(device)\n",
    "        \n",
    "        # forward propagation\n",
    "        y_pred = model(batch_features)\n",
    "        \n",
    "        #loss calculate\n",
    "        loss = criterion(y_pred, batch_labels)\n",
    "        \n",
    "        # reinitialize gradient\n",
    "        optimizer.zero_grad()\n",
    "        \n",
    "        # back propagation\n",
    "        loss.backward()\n",
    "        \n",
    "        # update weighs and bias\n",
    "        optimizer.step()\n",
    "        \n",
    "        total_epoch_loss += loss.item()\n",
    "    avg_loss =total_epoch_loss/len(train_dataloader)    \n",
    "        \n",
    "    print(f\"Epoch: {epoch + 1}, Loss: {avg_loss}\")"
   ],
   "id": "47b5cb44c944a1a1",
   "outputs": [
    {
     "name": "stdout",
     "output_type": "stream",
     "text": [
      "Epoch: 1, Loss: 0.6289750285744667\n",
      "Epoch: 2, Loss: 0.4989038236041864\n",
      "Epoch: 3, Loss: 0.4574990521272024\n",
      "Epoch: 4, Loss: 0.4384417041838169\n",
      "Epoch: 5, Loss: 0.4187159699052572\n",
      "Epoch: 6, Loss: 0.40066091609497867\n",
      "Epoch: 7, Loss: 0.3926460658709208\n",
      "Epoch: 8, Loss: 0.38332119755943617\n",
      "Epoch: 9, Loss: 0.3754229922195276\n",
      "Epoch: 10, Loss: 0.3659321990907192\n",
      "Epoch: 11, Loss: 0.3596150819758574\n",
      "Epoch: 12, Loss: 0.35968022320171195\n",
      "Epoch: 13, Loss: 0.35279357991615934\n",
      "Epoch: 14, Loss: 0.34692641198138396\n",
      "Epoch: 15, Loss: 0.34610045453161004\n",
      "Epoch: 16, Loss: 0.3431525350709756\n",
      "Epoch: 17, Loss: 0.3387202809974551\n",
      "Epoch: 18, Loss: 0.3355636657277743\n",
      "Epoch: 19, Loss: 0.3286130389273167\n",
      "Epoch: 20, Loss: 0.32482825439423324\n",
      "Epoch: 21, Loss: 0.32522247011462846\n",
      "Epoch: 22, Loss: 0.32464216123024625\n",
      "Epoch: 23, Loss: 0.31961094469825424\n",
      "Epoch: 24, Loss: 0.31605290339390435\n",
      "Epoch: 25, Loss: 0.31406042026976744\n",
      "Epoch: 26, Loss: 0.3144034164423744\n",
      "Epoch: 27, Loss: 0.3103413860201836\n",
      "Epoch: 28, Loss: 0.31146554835140705\n",
      "Epoch: 29, Loss: 0.3055233216509223\n",
      "Epoch: 30, Loss: 0.305847047748665\n",
      "Epoch: 31, Loss: 0.30730532099554936\n",
      "Epoch: 32, Loss: 0.3065891389300426\n",
      "Epoch: 33, Loss: 0.30402243446807065\n",
      "Epoch: 34, Loss: 0.3000612322812279\n",
      "Epoch: 35, Loss: 0.29959542308747766\n",
      "Epoch: 36, Loss: 0.2978888001864155\n",
      "Epoch: 37, Loss: 0.2954271620089809\n",
      "Epoch: 38, Loss: 0.2969646485447884\n",
      "Epoch: 39, Loss: 0.292221947538356\n",
      "Epoch: 40, Loss: 0.28927097166329624\n",
      "Epoch: 41, Loss: 0.29073016236474114\n",
      "Epoch: 42, Loss: 0.2880563896497091\n",
      "Epoch: 43, Loss: 0.2898483495314916\n",
      "Epoch: 44, Loss: 0.28562857401619357\n",
      "Epoch: 45, Loss: 0.2849323412800829\n",
      "Epoch: 46, Loss: 0.28818429713199534\n",
      "Epoch: 47, Loss: 0.29065408728271724\n",
      "Epoch: 48, Loss: 0.2846405700954298\n",
      "Epoch: 49, Loss: 0.2817948967752357\n",
      "Epoch: 50, Loss: 0.2863908945371707\n",
      "Epoch: 51, Loss: 0.2818179921458165\n",
      "Epoch: 52, Loss: 0.28420162151257194\n",
      "Epoch: 53, Loss: 0.2787737659364939\n",
      "Epoch: 54, Loss: 0.2795423747325937\n",
      "Epoch: 55, Loss: 0.27696437073747315\n",
      "Epoch: 56, Loss: 0.2780141482626398\n",
      "Epoch: 57, Loss: 0.27799767491966487\n",
      "Epoch: 58, Loss: 0.27600601538270714\n",
      "Epoch: 59, Loss: 0.27534498819460473\n",
      "Epoch: 60, Loss: 0.27811098856727284\n",
      "Epoch: 61, Loss: 0.2749087356304129\n",
      "Epoch: 62, Loss: 0.2759165246685346\n",
      "Epoch: 63, Loss: 0.2730744217100243\n",
      "Epoch: 64, Loss: 0.2751834514265259\n",
      "Epoch: 65, Loss: 0.27164171388745306\n",
      "Epoch: 66, Loss: 0.27219033711155255\n",
      "Epoch: 67, Loss: 0.2694270942409833\n",
      "Epoch: 68, Loss: 0.27017202150200803\n",
      "Epoch: 69, Loss: 0.2668867179453373\n",
      "Epoch: 70, Loss: 0.2683512275516987\n",
      "Epoch: 71, Loss: 0.2665217042217652\n",
      "Epoch: 72, Loss: 0.26818243237336475\n",
      "Epoch: 73, Loss: 0.2691070769901077\n",
      "Epoch: 74, Loss: 0.26839167143652837\n",
      "Epoch: 75, Loss: 0.265732710801065\n",
      "Epoch: 76, Loss: 0.2659242336141566\n",
      "Epoch: 77, Loss: 0.2650567694256703\n",
      "Epoch: 78, Loss: 0.26454504402106005\n",
      "Epoch: 79, Loss: 0.2665723820279042\n",
      "Epoch: 80, Loss: 0.26411501720547675\n",
      "Epoch: 81, Loss: 0.26161098007361094\n",
      "Epoch: 82, Loss: 0.2629048921391368\n",
      "Epoch: 83, Loss: 0.2601612101395925\n",
      "Epoch: 84, Loss: 0.2643712232286731\n",
      "Epoch: 85, Loss: 0.2598072264281412\n",
      "Epoch: 86, Loss: 0.2623289714232087\n",
      "Epoch: 87, Loss: 0.2641354501619935\n",
      "Epoch: 88, Loss: 0.26284803306808074\n",
      "Epoch: 89, Loss: 0.25796040540933607\n",
      "Epoch: 90, Loss: 0.26367945295075573\n",
      "Epoch: 91, Loss: 0.25877640540897845\n",
      "Epoch: 92, Loss: 0.26234343770394725\n",
      "Epoch: 93, Loss: 0.2566988656197985\n",
      "Epoch: 94, Loss: 0.2590968825444579\n",
      "Epoch: 95, Loss: 0.26038074702521163\n",
      "Epoch: 96, Loss: 0.2583691608260075\n",
      "Epoch: 97, Loss: 0.25774737901985645\n",
      "Epoch: 98, Loss: 0.260057752314955\n",
      "Epoch: 99, Loss: 0.25269185734788574\n",
      "Epoch: 100, Loss: 0.25858764651666083\n"
     ]
    }
   ],
   "execution_count": 15
  },
  {
   "metadata": {},
   "cell_type": "markdown",
   "source": "# 4. Evaluation",
   "id": "275885a8d11ff5dd"
  },
  {
   "metadata": {
    "ExecuteTime": {
     "end_time": "2025-04-23T18:54:01.000704Z",
     "start_time": "2025-04-23T18:54:00.995564Z"
    }
   },
   "cell_type": "code",
   "source": "model.eval()",
   "id": "9115270f124036f1",
   "outputs": [
    {
     "data": {
      "text/plain": [
       "MyNeuralNetwork(\n",
       "  (network): Sequential(\n",
       "    (0): Linear(in_features=784, out_features=128, bias=True)\n",
       "    (1): BatchNorm1d(128, eps=1e-05, momentum=0.1, affine=True, track_running_stats=True)\n",
       "    (2): ReLU()\n",
       "    (3): Dropout(p=0.3, inplace=False)\n",
       "    (4): Linear(in_features=128, out_features=64, bias=True)\n",
       "    (5): BatchNorm1d(64, eps=1e-05, momentum=0.1, affine=True, track_running_stats=True)\n",
       "    (6): ReLU()\n",
       "    (7): Dropout(p=0.3, inplace=False)\n",
       "    (8): Linear(in_features=64, out_features=10, bias=True)\n",
       "  )\n",
       ")"
      ]
     },
     "execution_count": 16,
     "metadata": {},
     "output_type": "execute_result"
    }
   ],
   "execution_count": 16
  },
  {
   "metadata": {
    "ExecuteTime": {
     "end_time": "2025-04-23T18:54:01.445029Z",
     "start_time": "2025-04-23T18:54:01.001722Z"
    }
   },
   "cell_type": "code",
   "source": [
    "total = 0\n",
    "corect = 0\n",
    "with torch.no_grad():\n",
    "    for batch_features, batch_labels in test_dataloader:\n",
    "        # store data into gpu\n",
    "        batch_features, batch_labels = batch_features.to(device), batch_labels.to(device)\n",
    "        \n",
    "        # forward propagation\n",
    "        y_pred = model(batch_features)\n",
    "        _,predicted = torch.max(y_pred, 1)\n",
    "        \n",
    "        total += batch_features.shape[0]\n",
    "        corect += (predicted == batch_labels).float().sum().item()\n",
    "    \n",
    "print(corect/total)"
   ],
   "id": "13ff21ff6bde2360",
   "outputs": [
    {
     "name": "stdout",
     "output_type": "stream",
     "text": [
      "0.89\n"
     ]
    }
   ],
   "execution_count": 17
  },
  {
   "metadata": {
    "ExecuteTime": {
     "end_time": "2025-04-23T18:54:03.100145Z",
     "start_time": "2025-04-23T18:54:01.445029Z"
    }
   },
   "cell_type": "code",
   "source": [
    "total = 0\n",
    "corect = 0\n",
    "with torch.no_grad():\n",
    "    for batch_features, batch_labels in train_dataloader:\n",
    "        # store data into gpu\n",
    "        batch_features, batch_labels = batch_features.to(device), batch_labels.to(device)\n",
    "        \n",
    "        # forward propagation\n",
    "        y_pred = model(batch_features)\n",
    "        _,predicted = torch.max(y_pred, 1)\n",
    "        \n",
    "        total += batch_features.shape[0]\n",
    "        corect += (predicted == batch_labels).float().sum().item()\n",
    "    \n",
    "print(corect/total)"
   ],
   "id": "109d55516a3ad603",
   "outputs": [
    {
     "name": "stdout",
     "output_type": "stream",
     "text": [
      "0.9449791666666667\n"
     ]
    }
   ],
   "execution_count": 18
  },
  {
   "metadata": {
    "ExecuteTime": {
     "end_time": "2025-04-23T18:54:03.103114Z",
     "start_time": "2025-04-23T18:54:03.100145Z"
    }
   },
   "cell_type": "code",
   "source": "",
   "id": "4b39d55c637c1825",
   "outputs": [],
   "execution_count": 18
  }
 ],
 "metadata": {
  "kernelspec": {
   "display_name": "Python 3",
   "language": "python",
   "name": "python3"
  },
  "language_info": {
   "codemirror_mode": {
    "name": "ipython",
    "version": 2
   },
   "file_extension": ".py",
   "mimetype": "text/x-python",
   "name": "python",
   "nbconvert_exporter": "python",
   "pygments_lexer": "ipython2",
   "version": "2.7.6"
  }
 },
 "nbformat": 4,
 "nbformat_minor": 5
}
