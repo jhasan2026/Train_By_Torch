{
 "cells": [
  {
   "metadata": {
    "ExecuteTime": {
     "end_time": "2025-04-23T15:18:04.311987Z",
     "start_time": "2025-04-23T15:18:03.292963Z"
    }
   },
   "cell_type": "code",
   "source": [
    "import pandas as pd\n",
    "import numpy as np\n",
    "from sklearn.preprocessing import StandardScaler,OrdinalEncoder, OneHotEncoder, OrdinalEncoder, LabelEncoder, MinMaxScaler\n",
    "from sklearn.model_selection import train_test_split\n",
    "from sklearn.impute import SimpleImputer\n",
    "from sklearn.pipeline import Pipeline\n",
    "from sklearn.compose import ColumnTransformer"
   ],
   "id": "5809f4e988c2e6d1",
   "outputs": [],
   "execution_count": 1
  },
  {
   "metadata": {},
   "cell_type": "markdown",
   "source": "# 1. Load Data",
   "id": "444932672ac9c757"
  },
  {
   "metadata": {
    "ExecuteTime": {
     "end_time": "2025-04-23T15:18:04.329553Z",
     "start_time": "2025-04-23T15:18:04.311987Z"
    }
   },
   "cell_type": "code",
   "source": [
    "df = pd.read_csv('../../titanic_Dataset_modi.csv')\n",
    "df.drop(columns=['PassengerId','Name','Ticket','Cabin'], inplace=True)\n",
    "df"
   ],
   "id": "3c0a8fc7d0c51d4",
   "outputs": [
    {
     "data": {
      "text/plain": [
       "     Survived  Pclass     Sex   Age  SibSp  Parch     Fare Embarked education\n",
       "0           0       3    male  22.0      1      0   7.2500        S    School\n",
       "1           1       1  female  38.0      1      0  71.2833        C        UG\n",
       "2           1       3  female  26.0      0      0   7.9250        S        PG\n",
       "3           1       1  female  35.0      1      0  53.1000        S        PG\n",
       "4           0       3    male  35.0      0      0   8.0500        S        UG\n",
       "..        ...     ...     ...   ...    ...    ...      ...      ...       ...\n",
       "395         0       3    male  22.0      0      0   7.7958        S        PG\n",
       "396         0       3  female  31.0      0      0   7.8542        S        PG\n",
       "397         0       2    male  46.0      0      0  26.0000        S        PG\n",
       "398         0       2    male  23.0      0      0  10.5000        S        UG\n",
       "399         1       2  female  28.0      0      0  12.6500        S        UG\n",
       "\n",
       "[400 rows x 9 columns]"
      ],
      "text/html": [
       "<div>\n",
       "<style scoped>\n",
       "    .dataframe tbody tr th:only-of-type {\n",
       "        vertical-align: middle;\n",
       "    }\n",
       "\n",
       "    .dataframe tbody tr th {\n",
       "        vertical-align: top;\n",
       "    }\n",
       "\n",
       "    .dataframe thead th {\n",
       "        text-align: right;\n",
       "    }\n",
       "</style>\n",
       "<table border=\"1\" class=\"dataframe\">\n",
       "  <thead>\n",
       "    <tr style=\"text-align: right;\">\n",
       "      <th></th>\n",
       "      <th>Survived</th>\n",
       "      <th>Pclass</th>\n",
       "      <th>Sex</th>\n",
       "      <th>Age</th>\n",
       "      <th>SibSp</th>\n",
       "      <th>Parch</th>\n",
       "      <th>Fare</th>\n",
       "      <th>Embarked</th>\n",
       "      <th>education</th>\n",
       "    </tr>\n",
       "  </thead>\n",
       "  <tbody>\n",
       "    <tr>\n",
       "      <th>0</th>\n",
       "      <td>0</td>\n",
       "      <td>3</td>\n",
       "      <td>male</td>\n",
       "      <td>22.0</td>\n",
       "      <td>1</td>\n",
       "      <td>0</td>\n",
       "      <td>7.2500</td>\n",
       "      <td>S</td>\n",
       "      <td>School</td>\n",
       "    </tr>\n",
       "    <tr>\n",
       "      <th>1</th>\n",
       "      <td>1</td>\n",
       "      <td>1</td>\n",
       "      <td>female</td>\n",
       "      <td>38.0</td>\n",
       "      <td>1</td>\n",
       "      <td>0</td>\n",
       "      <td>71.2833</td>\n",
       "      <td>C</td>\n",
       "      <td>UG</td>\n",
       "    </tr>\n",
       "    <tr>\n",
       "      <th>2</th>\n",
       "      <td>1</td>\n",
       "      <td>3</td>\n",
       "      <td>female</td>\n",
       "      <td>26.0</td>\n",
       "      <td>0</td>\n",
       "      <td>0</td>\n",
       "      <td>7.9250</td>\n",
       "      <td>S</td>\n",
       "      <td>PG</td>\n",
       "    </tr>\n",
       "    <tr>\n",
       "      <th>3</th>\n",
       "      <td>1</td>\n",
       "      <td>1</td>\n",
       "      <td>female</td>\n",
       "      <td>35.0</td>\n",
       "      <td>1</td>\n",
       "      <td>0</td>\n",
       "      <td>53.1000</td>\n",
       "      <td>S</td>\n",
       "      <td>PG</td>\n",
       "    </tr>\n",
       "    <tr>\n",
       "      <th>4</th>\n",
       "      <td>0</td>\n",
       "      <td>3</td>\n",
       "      <td>male</td>\n",
       "      <td>35.0</td>\n",
       "      <td>0</td>\n",
       "      <td>0</td>\n",
       "      <td>8.0500</td>\n",
       "      <td>S</td>\n",
       "      <td>UG</td>\n",
       "    </tr>\n",
       "    <tr>\n",
       "      <th>...</th>\n",
       "      <td>...</td>\n",
       "      <td>...</td>\n",
       "      <td>...</td>\n",
       "      <td>...</td>\n",
       "      <td>...</td>\n",
       "      <td>...</td>\n",
       "      <td>...</td>\n",
       "      <td>...</td>\n",
       "      <td>...</td>\n",
       "    </tr>\n",
       "    <tr>\n",
       "      <th>395</th>\n",
       "      <td>0</td>\n",
       "      <td>3</td>\n",
       "      <td>male</td>\n",
       "      <td>22.0</td>\n",
       "      <td>0</td>\n",
       "      <td>0</td>\n",
       "      <td>7.7958</td>\n",
       "      <td>S</td>\n",
       "      <td>PG</td>\n",
       "    </tr>\n",
       "    <tr>\n",
       "      <th>396</th>\n",
       "      <td>0</td>\n",
       "      <td>3</td>\n",
       "      <td>female</td>\n",
       "      <td>31.0</td>\n",
       "      <td>0</td>\n",
       "      <td>0</td>\n",
       "      <td>7.8542</td>\n",
       "      <td>S</td>\n",
       "      <td>PG</td>\n",
       "    </tr>\n",
       "    <tr>\n",
       "      <th>397</th>\n",
       "      <td>0</td>\n",
       "      <td>2</td>\n",
       "      <td>male</td>\n",
       "      <td>46.0</td>\n",
       "      <td>0</td>\n",
       "      <td>0</td>\n",
       "      <td>26.0000</td>\n",
       "      <td>S</td>\n",
       "      <td>PG</td>\n",
       "    </tr>\n",
       "    <tr>\n",
       "      <th>398</th>\n",
       "      <td>0</td>\n",
       "      <td>2</td>\n",
       "      <td>male</td>\n",
       "      <td>23.0</td>\n",
       "      <td>0</td>\n",
       "      <td>0</td>\n",
       "      <td>10.5000</td>\n",
       "      <td>S</td>\n",
       "      <td>UG</td>\n",
       "    </tr>\n",
       "    <tr>\n",
       "      <th>399</th>\n",
       "      <td>1</td>\n",
       "      <td>2</td>\n",
       "      <td>female</td>\n",
       "      <td>28.0</td>\n",
       "      <td>0</td>\n",
       "      <td>0</td>\n",
       "      <td>12.6500</td>\n",
       "      <td>S</td>\n",
       "      <td>UG</td>\n",
       "    </tr>\n",
       "  </tbody>\n",
       "</table>\n",
       "<p>400 rows × 9 columns</p>\n",
       "</div>"
      ]
     },
     "execution_count": 2,
     "metadata": {},
     "output_type": "execute_result"
    }
   ],
   "execution_count": 2
  },
  {
   "metadata": {},
   "cell_type": "markdown",
   "source": "# 2. Clean the data",
   "id": "e22f3f67899b5691"
  },
  {
   "metadata": {},
   "cell_type": "markdown",
   "source": [
    "##### 1. Age -> mean impute ; Embarked -> median impute\n",
    "##### 2. Fare -> Standard Scaler ;  Age -> MinMax Scaler\n",
    "##### 3. Sex, Embaked -> OHE\n",
    "##### 4. education -> Ordinal \n",
    "##### 5. Label Encoding\n",
    "##### 5. Feature Selection\n",
    "##### 6. Model train "
   ],
   "id": "4d5dd6a264170bd8"
  },
  {
   "metadata": {
    "ExecuteTime": {
     "end_time": "2025-04-23T15:18:04.335245Z",
     "start_time": "2025-04-23T15:18:04.329553Z"
    }
   },
   "cell_type": "code",
   "source": "df.isnull().mean() * 100",
   "id": "cbf8b60d9e3a1ff1",
   "outputs": [
    {
     "data": {
      "text/plain": [
       "Survived      0.00\n",
       "Pclass        0.00\n",
       "Sex           0.00\n",
       "Age          19.50\n",
       "SibSp         0.00\n",
       "Parch         0.00\n",
       "Fare          0.00\n",
       "Embarked      0.25\n",
       "education     0.00\n",
       "dtype: float64"
      ]
     },
     "execution_count": 3,
     "metadata": {},
     "output_type": "execute_result"
    }
   ],
   "execution_count": 3
  },
  {
   "metadata": {
    "ExecuteTime": {
     "end_time": "2025-04-23T15:18:04.340526Z",
     "start_time": "2025-04-23T15:18:04.335245Z"
    }
   },
   "cell_type": "code",
   "source": [
    "age_pipe = Pipeline([\n",
    "    ('imputer', SimpleImputer()),\n",
    "    ('scaling', MinMaxScaler())\n",
    "])\n",
    "# Fare (scale)\n",
    "fare_pipe = Pipeline([\n",
    "    ('scaling', StandardScaler())\n",
    "])\n",
    "# Embarked (impute,OHE)\n",
    "embk_pipe = Pipeline([\n",
    "    ('impute', SimpleImputer(strategy='most_frequent')),\n",
    "    ('ohe', OneHotEncoder(drop='first', sparse_output=False, dtype=np.int32))\n",
    "])\n",
    "# Sex (OHE)\n",
    "sex_pipe = Pipeline([\n",
    "    ('ohe', OneHotEncoder(drop='first', sparse_output=False, dtype=np.int32))\n",
    "])\n",
    "# Education (ordinal)\n",
    "edu_pipe = Pipeline([\n",
    "    (\"ordinal\", OrdinalEncoder(categories=[['School', 'UG', 'PG']]))\n",
    "])"
   ],
   "id": "39c0f41e999c26c3",
   "outputs": [],
   "execution_count": 4
  },
  {
   "metadata": {
    "ExecuteTime": {
     "end_time": "2025-04-23T15:18:04.345109Z",
     "start_time": "2025-04-23T15:18:04.340526Z"
    }
   },
   "cell_type": "code",
   "source": [
    "# Preprocessor\n",
    "preprocessor = ColumnTransformer(transformers=[\n",
    "    ('age_pipe', age_pipe, ['Age']),\n",
    "    ('fare_pipe', fare_pipe, ['Fare']),\n",
    "    ('embk_pipe', embk_pipe, ['Embarked']),\n",
    "    ('sex_pipe', sex_pipe, ['Sex']),\n",
    "    ('edu_pipe', edu_pipe, ['education']),\n",
    "], remainder='passthrough')\n"
   ],
   "id": "da69e455cf2c42af",
   "outputs": [],
   "execution_count": 5
  },
  {
   "metadata": {
    "ExecuteTime": {
     "end_time": "2025-04-23T15:18:04.362556Z",
     "start_time": "2025-04-23T15:18:04.345109Z"
    }
   },
   "cell_type": "code",
   "source": [
    "X = preprocessor.fit_transform(df.iloc[:,1:])\n",
    "X"
   ],
   "id": "fc9b5dd59507987b",
   "outputs": [
    {
     "data": {
      "text/plain": [
       "array([[ 0.30169588, -0.51903614,  0.        , ...,  3.        ,\n",
       "         1.        ,  0.        ],\n",
       "       [ 0.52971355,  0.75965824,  0.        , ...,  1.        ,\n",
       "         1.        ,  0.        ],\n",
       "       [ 0.3587003 , -0.50555692,  0.        , ...,  3.        ,\n",
       "         0.        ,  0.        ],\n",
       "       ...,\n",
       "       [ 0.64372239, -0.14461346,  0.        , ...,  2.        ,\n",
       "         0.        ,  0.        ],\n",
       "       [ 0.31594699, -0.45413621,  0.        , ...,  2.        ,\n",
       "         0.        ,  0.        ],\n",
       "       [ 0.38720251, -0.41120241,  0.        , ...,  2.        ,\n",
       "         0.        ,  0.        ]], shape=(400, 9))"
      ]
     },
     "execution_count": 6,
     "metadata": {},
     "output_type": "execute_result"
    }
   ],
   "execution_count": 6
  },
  {
   "metadata": {
    "ExecuteTime": {
     "end_time": "2025-04-23T15:18:04.367285Z",
     "start_time": "2025-04-23T15:18:04.362556Z"
    }
   },
   "cell_type": "code",
   "source": [
    "y = df.iloc[:,0]\n",
    "y"
   ],
   "id": "1aaf7ec91b786c7b",
   "outputs": [
    {
     "data": {
      "text/plain": [
       "0      0\n",
       "1      1\n",
       "2      1\n",
       "3      1\n",
       "4      0\n",
       "      ..\n",
       "395    0\n",
       "396    0\n",
       "397    0\n",
       "398    0\n",
       "399    1\n",
       "Name: Survived, Length: 400, dtype: int64"
      ]
     },
     "execution_count": 7,
     "metadata": {},
     "output_type": "execute_result"
    }
   ],
   "execution_count": 7
  },
  {
   "metadata": {
    "ExecuteTime": {
     "end_time": "2025-04-23T15:18:04.371975Z",
     "start_time": "2025-04-23T15:18:04.367285Z"
    }
   },
   "cell_type": "code",
   "source": "X_train, X_test, y_train, y_test = train_test_split(X,y, test_size=0.2,random_state=42)",
   "id": "b2b5bdcc6b9e0204",
   "outputs": [],
   "execution_count": 8
  },
  {
   "metadata": {
    "ExecuteTime": {
     "end_time": "2025-04-23T15:18:04.376882Z",
     "start_time": "2025-04-23T15:18:04.372979Z"
    }
   },
   "cell_type": "code",
   "source": "X_train.shape, X_test.shape, y_train.shape, y_test.shape",
   "id": "24481503350608a",
   "outputs": [
    {
     "data": {
      "text/plain": [
       "((320, 9), (80, 9), (320,), (80,))"
      ]
     },
     "execution_count": 9,
     "metadata": {},
     "output_type": "execute_result"
    }
   ],
   "execution_count": 9
  },
  {
   "metadata": {
    "ExecuteTime": {
     "end_time": "2025-04-23T15:18:06.105729Z",
     "start_time": "2025-04-23T15:18:04.376882Z"
    }
   },
   "cell_type": "code",
   "source": [
    "import torch\n",
    "\n",
    "X_train = torch.from_numpy(np.asarray(X_train).astype(np.float32))\n",
    "X_test = torch.from_numpy(np.asarray(X_test).astype(np.float32))\n",
    "y_train = torch.from_numpy(np.asarray(y_train).astype(np.float32))\n",
    "y_test = torch.from_numpy(np.asarray(y_test).astype(np.float32))"
   ],
   "id": "224de1493426bb55",
   "outputs": [],
   "execution_count": 10
  },
  {
   "metadata": {
    "ExecuteTime": {
     "end_time": "2025-04-23T15:18:06.113130Z",
     "start_time": "2025-04-23T15:18:06.105729Z"
    }
   },
   "cell_type": "code",
   "source": "X_train",
   "id": "8ded43e538efb2ee",
   "outputs": [
    {
     "data": {
      "text/plain": [
       "tensor([[ 0.4870,  0.3966,  0.0000,  ...,  1.0000,  1.0000,  0.0000],\n",
       "        [ 0.4300, -0.3044,  0.0000,  ...,  3.0000,  1.0000,  0.0000],\n",
       "        [ 0.4727, -0.5341,  0.0000,  ...,  3.0000,  0.0000,  0.0000],\n",
       "        ...,\n",
       "        [ 0.3969, -0.0448,  0.0000,  ...,  1.0000,  0.0000,  0.0000],\n",
       "        [ 0.0309, -0.3463,  0.0000,  ...,  3.0000,  1.0000,  1.0000],\n",
       "        [ 0.2874,  0.8796,  0.0000,  ...,  1.0000,  0.0000,  1.0000]])"
      ]
     },
     "execution_count": 11,
     "metadata": {},
     "output_type": "execute_result"
    }
   ],
   "execution_count": 11
  },
  {
   "metadata": {},
   "cell_type": "markdown",
   "source": "# 3. Build Model",
   "id": "7d5eb53cc2312877"
  },
  {
   "metadata": {
    "ExecuteTime": {
     "end_time": "2025-04-23T15:18:06.118359Z",
     "start_time": "2025-04-23T15:18:06.113130Z"
    }
   },
   "cell_type": "code",
   "source": [
    "import torch.nn as nn\n",
    "\n",
    "class MySimplePerceptron(nn.Module):\n",
    "    def __init__(self, X_train):\n",
    "        super().__init__()\n",
    "        \n",
    "        self.network = nn.Sequential(\n",
    "            # Layer-1\n",
    "            nn.Linear(X_train.shape[1], 3),\n",
    "            nn.ReLU(),\n",
    "            \n",
    "            # Layer-2\n",
    "            nn.Linear(3,1),\n",
    "            nn.Sigmoid()\n",
    "        )\n",
    "    \n",
    "    def forward(self, X_train):\n",
    "        out = self.network(X_train)\n",
    "        return out\n"
   ],
   "id": "73300aae5d3f7463",
   "outputs": [],
   "execution_count": 12
  },
  {
   "metadata": {},
   "cell_type": "markdown",
   "source": "# 4. Train Model",
   "id": "810be13c7bd47cd0"
  },
  {
   "metadata": {
    "ExecuteTime": {
     "end_time": "2025-04-23T15:18:06.122499Z",
     "start_time": "2025-04-23T15:18:06.118359Z"
    }
   },
   "cell_type": "code",
   "source": [
    "learning_rate = 0.1\n",
    "epochs = 100"
   ],
   "id": "9eee30b587a544d1",
   "outputs": [],
   "execution_count": 13
  },
  {
   "metadata": {
    "ExecuteTime": {
     "end_time": "2025-04-23T15:18:35.623491Z",
     "start_time": "2025-04-23T15:18:35.607563Z"
    }
   },
   "cell_type": "code",
   "source": [
    "model = MySimplePerceptron(X_train)\n",
    "\n",
    "optimizer = torch.optim.Adam(model.parameters(), lr=learning_rate)\n",
    "\n",
    "loss_function = nn.BCELoss()"
   ],
   "id": "4743f51ce2b36839",
   "outputs": [],
   "execution_count": 20
  },
  {
   "metadata": {
    "ExecuteTime": {
     "end_time": "2025-04-23T15:18:35.822271Z",
     "start_time": "2025-04-23T15:18:35.745946Z"
    }
   },
   "cell_type": "code",
   "source": [
    "\n",
    "for epoch in range(epochs):\n",
    "    #forward propagation\n",
    "    y_pred = model.forward(X_train)\n",
    "    \n",
    "    # loss calculate\n",
    "    loss = loss_function(y_pred, y_train.view(-1,1))\n",
    "    \n",
    "    # reinitialize gradient\n",
    "    optimizer.zero_grad()\n",
    "    \n",
    "    # backpropagation\n",
    "    loss.backward()\n",
    "    \n",
    "    # update weight and bias\n",
    "    optimizer.step()\n",
    "\n",
    "    print(f\"Epoch: {epoch + 1}, Loss: {loss.item()}\")"
   ],
   "id": "bae7b4a0160c668b",
   "outputs": [
    {
     "name": "stdout",
     "output_type": "stream",
     "text": [
      "Epoch: 1, Loss: 0.679659366607666\n",
      "Epoch: 2, Loss: 0.6600223779678345\n",
      "Epoch: 3, Loss: 0.6509689092636108\n",
      "Epoch: 4, Loss: 0.6441134810447693\n",
      "Epoch: 5, Loss: 0.6371999979019165\n",
      "Epoch: 6, Loss: 0.6256030797958374\n",
      "Epoch: 7, Loss: 0.6131553649902344\n",
      "Epoch: 8, Loss: 0.5982067584991455\n",
      "Epoch: 9, Loss: 0.5836182236671448\n",
      "Epoch: 10, Loss: 0.5643213987350464\n",
      "Epoch: 11, Loss: 0.5492995977401733\n",
      "Epoch: 12, Loss: 0.5299984216690063\n",
      "Epoch: 13, Loss: 0.515277624130249\n",
      "Epoch: 14, Loss: 0.5022285580635071\n",
      "Epoch: 15, Loss: 0.492999404668808\n",
      "Epoch: 16, Loss: 0.4833584427833557\n",
      "Epoch: 17, Loss: 0.4741963744163513\n",
      "Epoch: 18, Loss: 0.46515512466430664\n",
      "Epoch: 19, Loss: 0.4576713442802429\n",
      "Epoch: 20, Loss: 0.45197930932044983\n",
      "Epoch: 21, Loss: 0.4490872323513031\n",
      "Epoch: 22, Loss: 0.4451213479042053\n",
      "Epoch: 23, Loss: 0.44204193353652954\n",
      "Epoch: 24, Loss: 0.4414644241333008\n",
      "Epoch: 25, Loss: 0.4386441111564636\n",
      "Epoch: 26, Loss: 0.4361596703529358\n",
      "Epoch: 27, Loss: 0.43605342507362366\n",
      "Epoch: 28, Loss: 0.43486490845680237\n",
      "Epoch: 29, Loss: 0.4342873692512512\n",
      "Epoch: 30, Loss: 0.4331330358982086\n",
      "Epoch: 31, Loss: 0.4312974512577057\n",
      "Epoch: 32, Loss: 0.43148741126060486\n",
      "Epoch: 33, Loss: 0.4312976896762848\n",
      "Epoch: 34, Loss: 0.43182119727134705\n",
      "Epoch: 35, Loss: 0.43065252900123596\n",
      "Epoch: 36, Loss: 0.431549072265625\n",
      "Epoch: 37, Loss: 0.42934370040893555\n",
      "Epoch: 38, Loss: 0.4294208586215973\n",
      "Epoch: 39, Loss: 0.42872339487075806\n",
      "Epoch: 40, Loss: 0.42880964279174805\n",
      "Epoch: 41, Loss: 0.42797932028770447\n",
      "Epoch: 42, Loss: 0.4278331398963928\n",
      "Epoch: 43, Loss: 0.4272693693637848\n",
      "Epoch: 44, Loss: 0.426544725894928\n",
      "Epoch: 45, Loss: 0.4261551797389984\n",
      "Epoch: 46, Loss: 0.42588478326797485\n",
      "Epoch: 47, Loss: 0.42567434906959534\n",
      "Epoch: 48, Loss: 0.42508068680763245\n",
      "Epoch: 49, Loss: 0.42476052045822144\n",
      "Epoch: 50, Loss: 0.42435747385025024\n",
      "Epoch: 51, Loss: 0.42385029792785645\n",
      "Epoch: 52, Loss: 0.4233413636684418\n",
      "Epoch: 53, Loss: 0.4225684702396393\n",
      "Epoch: 54, Loss: 0.4223701059818268\n",
      "Epoch: 55, Loss: 0.4217846393585205\n",
      "Epoch: 56, Loss: 0.4215935170650482\n",
      "Epoch: 57, Loss: 0.42113733291625977\n",
      "Epoch: 58, Loss: 0.420736700296402\n",
      "Epoch: 59, Loss: 0.42048150300979614\n",
      "Epoch: 60, Loss: 0.4202037751674652\n",
      "Epoch: 61, Loss: 0.419750452041626\n",
      "Epoch: 62, Loss: 0.41954582929611206\n",
      "Epoch: 63, Loss: 0.418923556804657\n",
      "Epoch: 64, Loss: 0.41874727606773376\n",
      "Epoch: 65, Loss: 0.4182823598384857\n",
      "Epoch: 66, Loss: 0.4179658889770508\n",
      "Epoch: 67, Loss: 0.4177281856536865\n",
      "Epoch: 68, Loss: 0.41726723313331604\n",
      "Epoch: 69, Loss: 0.41713231801986694\n",
      "Epoch: 70, Loss: 0.4167582392692566\n",
      "Epoch: 71, Loss: 0.4165519177913666\n",
      "Epoch: 72, Loss: 0.4162890315055847\n",
      "Epoch: 73, Loss: 0.41601628065109253\n",
      "Epoch: 74, Loss: 0.4158810079097748\n",
      "Epoch: 75, Loss: 0.4154912829399109\n",
      "Epoch: 76, Loss: 0.4153488278388977\n",
      "Epoch: 77, Loss: 0.41521257162094116\n",
      "Epoch: 78, Loss: 0.4148000180721283\n",
      "Epoch: 79, Loss: 0.4147495627403259\n",
      "Epoch: 80, Loss: 0.41430774331092834\n",
      "Epoch: 81, Loss: 0.4143877625465393\n",
      "Epoch: 82, Loss: 0.41466063261032104\n",
      "Epoch: 83, Loss: 0.413926899433136\n",
      "Epoch: 84, Loss: 0.41370439529418945\n",
      "Epoch: 85, Loss: 0.4137295186519623\n",
      "Epoch: 86, Loss: 0.4131704270839691\n",
      "Epoch: 87, Loss: 0.41294676065444946\n",
      "Epoch: 88, Loss: 0.4125295579433441\n",
      "Epoch: 89, Loss: 0.4126049876213074\n",
      "Epoch: 90, Loss: 0.4122198224067688\n",
      "Epoch: 91, Loss: 0.41221314668655396\n",
      "Epoch: 92, Loss: 0.41299596428871155\n",
      "Epoch: 93, Loss: 0.41180944442749023\n",
      "Epoch: 94, Loss: 0.41354185342788696\n",
      "Epoch: 95, Loss: 0.41348862648010254\n",
      "Epoch: 96, Loss: 0.41220441460609436\n",
      "Epoch: 97, Loss: 0.41241899132728577\n",
      "Epoch: 98, Loss: 0.41303497552871704\n",
      "Epoch: 99, Loss: 0.4114110469818115\n",
      "Epoch: 100, Loss: 0.4125891625881195\n"
     ]
    }
   ],
   "execution_count": 21
  },
  {
   "metadata": {},
   "cell_type": "markdown",
   "source": "# 5. Evaluate Model ",
   "id": "92e5224dcf58dfbc"
  },
  {
   "metadata": {
    "ExecuteTime": {
     "end_time": "2025-04-23T15:18:37.299384Z",
     "start_time": "2025-04-23T15:18:37.291986Z"
    }
   },
   "cell_type": "code",
   "source": [
    "with torch.no_grad():\n",
    "    y_pred = model.forward(X_test)\n",
    "    y_pred = (y_pred > 0.8).float()\n",
    "    accuracy = (y_test == y_pred).float().mean()\n",
    "    print(f\"Accuracy: {accuracy}\")"
   ],
   "id": "b419fc4f81f6b491",
   "outputs": [
    {
     "name": "stdout",
     "output_type": "stream",
     "text": [
      "Accuracy: 0.6259375214576721\n"
     ]
    }
   ],
   "execution_count": 22
  },
  {
   "metadata": {},
   "cell_type": "code",
   "outputs": [],
   "execution_count": null,
   "source": "",
   "id": "8d74b3d817863c97"
  }
 ],
 "metadata": {
  "kernelspec": {
   "display_name": "Python 3",
   "language": "python",
   "name": "python3"
  },
  "language_info": {
   "codemirror_mode": {
    "name": "ipython",
    "version": 2
   },
   "file_extension": ".py",
   "mimetype": "text/x-python",
   "name": "python",
   "nbconvert_exporter": "python",
   "pygments_lexer": "ipython2",
   "version": "2.7.6"
  }
 },
 "nbformat": 4,
 "nbformat_minor": 5
}
