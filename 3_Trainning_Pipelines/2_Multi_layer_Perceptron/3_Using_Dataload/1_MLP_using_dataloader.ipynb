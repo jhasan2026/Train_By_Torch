{
 "cells": [
  {
   "metadata": {
    "ExecuteTime": {
     "end_time": "2025-04-23T16:51:16.472067Z",
     "start_time": "2025-04-23T16:51:15.102736Z"
    }
   },
   "cell_type": "code",
   "source": [
    "import pandas as pd\n",
    "import numpy as np\n",
    "from sklearn.preprocessing import StandardScaler,OrdinalEncoder, OneHotEncoder, OrdinalEncoder, LabelEncoder, MinMaxScaler\n",
    "from sklearn.model_selection import train_test_split\n",
    "from sklearn.impute import SimpleImputer\n",
    "from sklearn.pipeline import Pipeline\n",
    "from sklearn.compose import ColumnTransformer"
   ],
   "id": "5809f4e988c2e6d1",
   "outputs": [],
   "execution_count": 1
  },
  {
   "metadata": {},
   "cell_type": "markdown",
   "source": "# 1. Load Data",
   "id": "444932672ac9c757"
  },
  {
   "metadata": {
    "ExecuteTime": {
     "end_time": "2025-04-23T16:51:16.496967Z",
     "start_time": "2025-04-23T16:51:16.473069Z"
    }
   },
   "cell_type": "code",
   "source": [
    "df = pd.read_csv('../../titanic_Dataset_modi.csv')\n",
    "df.drop(columns=['PassengerId','Name','Ticket','Cabin'], inplace=True)\n",
    "df"
   ],
   "id": "3c0a8fc7d0c51d4",
   "outputs": [
    {
     "data": {
      "text/plain": [
       "     Survived  Pclass     Sex   Age  SibSp  Parch     Fare Embarked education\n",
       "0           0       3    male  22.0      1      0   7.2500        S    School\n",
       "1           1       1  female  38.0      1      0  71.2833        C        UG\n",
       "2           1       3  female  26.0      0      0   7.9250        S        PG\n",
       "3           1       1  female  35.0      1      0  53.1000        S        PG\n",
       "4           0       3    male  35.0      0      0   8.0500        S        UG\n",
       "..        ...     ...     ...   ...    ...    ...      ...      ...       ...\n",
       "395         0       3    male  22.0      0      0   7.7958        S        PG\n",
       "396         0       3  female  31.0      0      0   7.8542        S        PG\n",
       "397         0       2    male  46.0      0      0  26.0000        S        PG\n",
       "398         0       2    male  23.0      0      0  10.5000        S        UG\n",
       "399         1       2  female  28.0      0      0  12.6500        S        UG\n",
       "\n",
       "[400 rows x 9 columns]"
      ],
      "text/html": [
       "<div>\n",
       "<style scoped>\n",
       "    .dataframe tbody tr th:only-of-type {\n",
       "        vertical-align: middle;\n",
       "    }\n",
       "\n",
       "    .dataframe tbody tr th {\n",
       "        vertical-align: top;\n",
       "    }\n",
       "\n",
       "    .dataframe thead th {\n",
       "        text-align: right;\n",
       "    }\n",
       "</style>\n",
       "<table border=\"1\" class=\"dataframe\">\n",
       "  <thead>\n",
       "    <tr style=\"text-align: right;\">\n",
       "      <th></th>\n",
       "      <th>Survived</th>\n",
       "      <th>Pclass</th>\n",
       "      <th>Sex</th>\n",
       "      <th>Age</th>\n",
       "      <th>SibSp</th>\n",
       "      <th>Parch</th>\n",
       "      <th>Fare</th>\n",
       "      <th>Embarked</th>\n",
       "      <th>education</th>\n",
       "    </tr>\n",
       "  </thead>\n",
       "  <tbody>\n",
       "    <tr>\n",
       "      <th>0</th>\n",
       "      <td>0</td>\n",
       "      <td>3</td>\n",
       "      <td>male</td>\n",
       "      <td>22.0</td>\n",
       "      <td>1</td>\n",
       "      <td>0</td>\n",
       "      <td>7.2500</td>\n",
       "      <td>S</td>\n",
       "      <td>School</td>\n",
       "    </tr>\n",
       "    <tr>\n",
       "      <th>1</th>\n",
       "      <td>1</td>\n",
       "      <td>1</td>\n",
       "      <td>female</td>\n",
       "      <td>38.0</td>\n",
       "      <td>1</td>\n",
       "      <td>0</td>\n",
       "      <td>71.2833</td>\n",
       "      <td>C</td>\n",
       "      <td>UG</td>\n",
       "    </tr>\n",
       "    <tr>\n",
       "      <th>2</th>\n",
       "      <td>1</td>\n",
       "      <td>3</td>\n",
       "      <td>female</td>\n",
       "      <td>26.0</td>\n",
       "      <td>0</td>\n",
       "      <td>0</td>\n",
       "      <td>7.9250</td>\n",
       "      <td>S</td>\n",
       "      <td>PG</td>\n",
       "    </tr>\n",
       "    <tr>\n",
       "      <th>3</th>\n",
       "      <td>1</td>\n",
       "      <td>1</td>\n",
       "      <td>female</td>\n",
       "      <td>35.0</td>\n",
       "      <td>1</td>\n",
       "      <td>0</td>\n",
       "      <td>53.1000</td>\n",
       "      <td>S</td>\n",
       "      <td>PG</td>\n",
       "    </tr>\n",
       "    <tr>\n",
       "      <th>4</th>\n",
       "      <td>0</td>\n",
       "      <td>3</td>\n",
       "      <td>male</td>\n",
       "      <td>35.0</td>\n",
       "      <td>0</td>\n",
       "      <td>0</td>\n",
       "      <td>8.0500</td>\n",
       "      <td>S</td>\n",
       "      <td>UG</td>\n",
       "    </tr>\n",
       "    <tr>\n",
       "      <th>...</th>\n",
       "      <td>...</td>\n",
       "      <td>...</td>\n",
       "      <td>...</td>\n",
       "      <td>...</td>\n",
       "      <td>...</td>\n",
       "      <td>...</td>\n",
       "      <td>...</td>\n",
       "      <td>...</td>\n",
       "      <td>...</td>\n",
       "    </tr>\n",
       "    <tr>\n",
       "      <th>395</th>\n",
       "      <td>0</td>\n",
       "      <td>3</td>\n",
       "      <td>male</td>\n",
       "      <td>22.0</td>\n",
       "      <td>0</td>\n",
       "      <td>0</td>\n",
       "      <td>7.7958</td>\n",
       "      <td>S</td>\n",
       "      <td>PG</td>\n",
       "    </tr>\n",
       "    <tr>\n",
       "      <th>396</th>\n",
       "      <td>0</td>\n",
       "      <td>3</td>\n",
       "      <td>female</td>\n",
       "      <td>31.0</td>\n",
       "      <td>0</td>\n",
       "      <td>0</td>\n",
       "      <td>7.8542</td>\n",
       "      <td>S</td>\n",
       "      <td>PG</td>\n",
       "    </tr>\n",
       "    <tr>\n",
       "      <th>397</th>\n",
       "      <td>0</td>\n",
       "      <td>2</td>\n",
       "      <td>male</td>\n",
       "      <td>46.0</td>\n",
       "      <td>0</td>\n",
       "      <td>0</td>\n",
       "      <td>26.0000</td>\n",
       "      <td>S</td>\n",
       "      <td>PG</td>\n",
       "    </tr>\n",
       "    <tr>\n",
       "      <th>398</th>\n",
       "      <td>0</td>\n",
       "      <td>2</td>\n",
       "      <td>male</td>\n",
       "      <td>23.0</td>\n",
       "      <td>0</td>\n",
       "      <td>0</td>\n",
       "      <td>10.5000</td>\n",
       "      <td>S</td>\n",
       "      <td>UG</td>\n",
       "    </tr>\n",
       "    <tr>\n",
       "      <th>399</th>\n",
       "      <td>1</td>\n",
       "      <td>2</td>\n",
       "      <td>female</td>\n",
       "      <td>28.0</td>\n",
       "      <td>0</td>\n",
       "      <td>0</td>\n",
       "      <td>12.6500</td>\n",
       "      <td>S</td>\n",
       "      <td>UG</td>\n",
       "    </tr>\n",
       "  </tbody>\n",
       "</table>\n",
       "<p>400 rows × 9 columns</p>\n",
       "</div>"
      ]
     },
     "execution_count": 2,
     "metadata": {},
     "output_type": "execute_result"
    }
   ],
   "execution_count": 2
  },
  {
   "metadata": {},
   "cell_type": "markdown",
   "source": "# 2. Clean the data",
   "id": "e22f3f67899b5691"
  },
  {
   "metadata": {},
   "cell_type": "markdown",
   "source": [
    "##### 1. Age -> mean impute ; Embarked -> median impute\n",
    "##### 2. Fare -> Standard Scaler ;  Age -> MinMax Scaler\n",
    "##### 3. Sex, Embaked -> OHE\n",
    "##### 4. education -> Ordinal \n",
    "##### 5. Label Encoding\n",
    "##### 5. Feature Selection\n",
    "##### 6. Model train "
   ],
   "id": "4d5dd6a264170bd8"
  },
  {
   "metadata": {
    "ExecuteTime": {
     "end_time": "2025-04-23T16:51:16.502619Z",
     "start_time": "2025-04-23T16:51:16.496967Z"
    }
   },
   "cell_type": "code",
   "source": "df.isnull().mean() * 100",
   "id": "cbf8b60d9e3a1ff1",
   "outputs": [
    {
     "data": {
      "text/plain": [
       "Survived      0.00\n",
       "Pclass        0.00\n",
       "Sex           0.00\n",
       "Age          19.50\n",
       "SibSp         0.00\n",
       "Parch         0.00\n",
       "Fare          0.00\n",
       "Embarked      0.25\n",
       "education     0.00\n",
       "dtype: float64"
      ]
     },
     "execution_count": 3,
     "metadata": {},
     "output_type": "execute_result"
    }
   ],
   "execution_count": 3
  },
  {
   "metadata": {
    "ExecuteTime": {
     "end_time": "2025-04-23T16:51:16.507687Z",
     "start_time": "2025-04-23T16:51:16.502619Z"
    }
   },
   "cell_type": "code",
   "source": [
    "age_pipe = Pipeline([\n",
    "    ('imputer', SimpleImputer()),\n",
    "    ('scaling', MinMaxScaler())\n",
    "])\n",
    "# Fare (scale)\n",
    "fare_pipe = Pipeline([\n",
    "    ('scaling', StandardScaler())\n",
    "])\n",
    "# Embarked (impute,OHE)\n",
    "embk_pipe = Pipeline([\n",
    "    ('impute', SimpleImputer(strategy='most_frequent')),\n",
    "    ('ohe', OneHotEncoder(drop='first', sparse_output=False, dtype=np.int32))\n",
    "])\n",
    "# Sex (OHE)\n",
    "sex_pipe = Pipeline([\n",
    "    ('ohe', OneHotEncoder(drop='first', sparse_output=False, dtype=np.int32))\n",
    "])\n",
    "# Education (ordinal)\n",
    "edu_pipe = Pipeline([\n",
    "    (\"ordinal\", OrdinalEncoder(categories=[['School', 'UG', 'PG']]))\n",
    "])"
   ],
   "id": "39c0f41e999c26c3",
   "outputs": [],
   "execution_count": 4
  },
  {
   "metadata": {
    "ExecuteTime": {
     "end_time": "2025-04-23T16:51:16.512200Z",
     "start_time": "2025-04-23T16:51:16.507687Z"
    }
   },
   "cell_type": "code",
   "source": [
    "# Preprocessor\n",
    "preprocessor = ColumnTransformer(transformers=[\n",
    "    ('age_pipe', age_pipe, ['Age']),\n",
    "    ('fare_pipe', fare_pipe, ['Fare']),\n",
    "    ('embk_pipe', embk_pipe, ['Embarked']),\n",
    "    ('sex_pipe', sex_pipe, ['Sex']),\n",
    "    ('edu_pipe', edu_pipe, ['education']),\n",
    "], remainder='passthrough')\n"
   ],
   "id": "da69e455cf2c42af",
   "outputs": [],
   "execution_count": 5
  },
  {
   "metadata": {
    "ExecuteTime": {
     "end_time": "2025-04-23T16:51:16.530771Z",
     "start_time": "2025-04-23T16:51:16.512200Z"
    }
   },
   "cell_type": "code",
   "source": [
    "X = preprocessor.fit_transform(df.iloc[:,1:])\n",
    "X"
   ],
   "id": "fc9b5dd59507987b",
   "outputs": [
    {
     "data": {
      "text/plain": [
       "array([[ 0.30169588, -0.51903614,  0.        , ...,  3.        ,\n",
       "         1.        ,  0.        ],\n",
       "       [ 0.52971355,  0.75965824,  0.        , ...,  1.        ,\n",
       "         1.        ,  0.        ],\n",
       "       [ 0.3587003 , -0.50555692,  0.        , ...,  3.        ,\n",
       "         0.        ,  0.        ],\n",
       "       ...,\n",
       "       [ 0.64372239, -0.14461346,  0.        , ...,  2.        ,\n",
       "         0.        ,  0.        ],\n",
       "       [ 0.31594699, -0.45413621,  0.        , ...,  2.        ,\n",
       "         0.        ,  0.        ],\n",
       "       [ 0.38720251, -0.41120241,  0.        , ...,  2.        ,\n",
       "         0.        ,  0.        ]], shape=(400, 9))"
      ]
     },
     "execution_count": 6,
     "metadata": {},
     "output_type": "execute_result"
    }
   ],
   "execution_count": 6
  },
  {
   "metadata": {
    "ExecuteTime": {
     "end_time": "2025-04-23T16:51:16.535808Z",
     "start_time": "2025-04-23T16:51:16.530771Z"
    }
   },
   "cell_type": "code",
   "source": [
    "y = df.iloc[:,0]\n",
    "y"
   ],
   "id": "1aaf7ec91b786c7b",
   "outputs": [
    {
     "data": {
      "text/plain": [
       "0      0\n",
       "1      1\n",
       "2      1\n",
       "3      1\n",
       "4      0\n",
       "      ..\n",
       "395    0\n",
       "396    0\n",
       "397    0\n",
       "398    0\n",
       "399    1\n",
       "Name: Survived, Length: 400, dtype: int64"
      ]
     },
     "execution_count": 7,
     "metadata": {},
     "output_type": "execute_result"
    }
   ],
   "execution_count": 7
  },
  {
   "metadata": {
    "ExecuteTime": {
     "end_time": "2025-04-23T16:51:16.540604Z",
     "start_time": "2025-04-23T16:51:16.535808Z"
    }
   },
   "cell_type": "code",
   "source": "X_train, X_test, y_train, y_test = train_test_split(X,y, test_size=0.2,random_state=42)",
   "id": "b2b5bdcc6b9e0204",
   "outputs": [],
   "execution_count": 8
  },
  {
   "metadata": {
    "ExecuteTime": {
     "end_time": "2025-04-23T16:51:16.545747Z",
     "start_time": "2025-04-23T16:51:16.540604Z"
    }
   },
   "cell_type": "code",
   "source": "X_train.shape, X_test.shape, y_train.shape, y_test.shape",
   "id": "24481503350608a",
   "outputs": [
    {
     "data": {
      "text/plain": [
       "((320, 9), (80, 9), (320,), (80,))"
      ]
     },
     "execution_count": 9,
     "metadata": {},
     "output_type": "execute_result"
    }
   ],
   "execution_count": 9
  },
  {
   "metadata": {
    "ExecuteTime": {
     "end_time": "2025-04-23T16:51:18.342348Z",
     "start_time": "2025-04-23T16:51:16.545747Z"
    }
   },
   "cell_type": "code",
   "source": [
    "import torch\n",
    "\n",
    "X_train = torch.from_numpy(np.asarray(X_train).astype(np.float32))\n",
    "X_test = torch.from_numpy(np.asarray(X_test).astype(np.float32))\n",
    "y_train = torch.from_numpy(np.asarray(y_train).astype(np.float32))\n",
    "y_test = torch.from_numpy(np.asarray(y_test).astype(np.float32))"
   ],
   "id": "224de1493426bb55",
   "outputs": [],
   "execution_count": 10
  },
  {
   "metadata": {
    "ExecuteTime": {
     "end_time": "2025-04-23T16:51:18.349427Z",
     "start_time": "2025-04-23T16:51:18.342348Z"
    }
   },
   "cell_type": "code",
   "source": "X_train",
   "id": "8ded43e538efb2ee",
   "outputs": [
    {
     "data": {
      "text/plain": [
       "tensor([[ 0.4870,  0.3966,  0.0000,  ...,  1.0000,  1.0000,  0.0000],\n",
       "        [ 0.4300, -0.3044,  0.0000,  ...,  3.0000,  1.0000,  0.0000],\n",
       "        [ 0.4727, -0.5341,  0.0000,  ...,  3.0000,  0.0000,  0.0000],\n",
       "        ...,\n",
       "        [ 0.3969, -0.0448,  0.0000,  ...,  1.0000,  0.0000,  0.0000],\n",
       "        [ 0.0309, -0.3463,  0.0000,  ...,  3.0000,  1.0000,  1.0000],\n",
       "        [ 0.2874,  0.8796,  0.0000,  ...,  1.0000,  0.0000,  1.0000]])"
      ]
     },
     "execution_count": 11,
     "metadata": {},
     "output_type": "execute_result"
    }
   ],
   "execution_count": 11
  },
  {
   "metadata": {},
   "cell_type": "markdown",
   "source": "# 3. Dataload",
   "id": "40d8afa7a573a02a"
  },
  {
   "metadata": {
    "ExecuteTime": {
     "end_time": "2025-04-23T16:51:18.359703Z",
     "start_time": "2025-04-23T16:51:18.349936Z"
    }
   },
   "cell_type": "code",
   "source": "from torch.utils.data import Dataset, DataLoader",
   "id": "14bcf9194f99e9a3",
   "outputs": [],
   "execution_count": 12
  },
  {
   "metadata": {
    "ExecuteTime": {
     "end_time": "2025-04-23T16:51:18.364904Z",
     "start_time": "2025-04-23T16:51:18.359703Z"
    }
   },
   "cell_type": "code",
   "source": [
    "class CustomDataset(Dataset):\n",
    "    def __init__(self, features, labels):\n",
    "        self.features = features\n",
    "        self.labels = labels\n",
    "    \n",
    "    def __len__(self):\n",
    "        return self.features.shape[0]\n",
    "    \n",
    "    def __getitem__(self, index):\n",
    "        return self.features[index], self.labels[index]"
   ],
   "id": "ad1dfd4270c91bd8",
   "outputs": [],
   "execution_count": 13
  },
  {
   "metadata": {
    "ExecuteTime": {
     "end_time": "2025-04-23T16:51:18.370143Z",
     "start_time": "2025-04-23T16:51:18.366908Z"
    }
   },
   "cell_type": "code",
   "source": [
    "train_dataset = CustomDataset(X_train,y_train)\n",
    "test_dataset = CustomDataset(X_test,y_test)"
   ],
   "id": "56649b77f29c65f8",
   "outputs": [],
   "execution_count": 14
  },
  {
   "metadata": {
    "ExecuteTime": {
     "end_time": "2025-04-23T16:51:18.374166Z",
     "start_time": "2025-04-23T16:51:18.370143Z"
    }
   },
   "cell_type": "code",
   "source": [
    "train_dataloader = DataLoader(train_dataset, batch_size=32, shuffle=True)\n",
    "test_dataloader = DataLoader(test_dataset, batch_size=32, shuffle=True)"
   ],
   "id": "14f84c43e295ece",
   "outputs": [],
   "execution_count": 15
  },
  {
   "metadata": {},
   "cell_type": "markdown",
   "source": "# 3. Build Model",
   "id": "7d5eb53cc2312877"
  },
  {
   "metadata": {
    "ExecuteTime": {
     "end_time": "2025-04-23T16:51:18.379523Z",
     "start_time": "2025-04-23T16:51:18.374166Z"
    }
   },
   "cell_type": "code",
   "source": [
    "import torch.nn as nn\n",
    "\n",
    "class MySimplePerceptron(nn.Module):\n",
    "    def __init__(self, X_train):\n",
    "        super().__init__()\n",
    "        \n",
    "        self.network = nn.Sequential(\n",
    "            # Layer-1\n",
    "            nn.Linear(X_train.shape[1], 3),\n",
    "            nn.ReLU(),\n",
    "            \n",
    "            # Layer-2\n",
    "            nn.Linear(3,1),\n",
    "            nn.Sigmoid()\n",
    "        )\n",
    "    \n",
    "    def forward(self, X_train):\n",
    "        out = self.network(X_train)\n",
    "        return out\n"
   ],
   "id": "73300aae5d3f7463",
   "outputs": [],
   "execution_count": 16
  },
  {
   "metadata": {},
   "cell_type": "markdown",
   "source": "# 4. Train Model",
   "id": "810be13c7bd47cd0"
  },
  {
   "metadata": {
    "ExecuteTime": {
     "end_time": "2025-04-23T16:51:18.383043Z",
     "start_time": "2025-04-23T16:51:18.379523Z"
    }
   },
   "cell_type": "code",
   "source": [
    "learning_rate = 0.1\n",
    "epochs = 100"
   ],
   "id": "9eee30b587a544d1",
   "outputs": [],
   "execution_count": 17
  },
  {
   "metadata": {
    "ExecuteTime": {
     "end_time": "2025-04-23T16:51:19.316448Z",
     "start_time": "2025-04-23T16:51:18.383043Z"
    }
   },
   "cell_type": "code",
   "source": [
    "model = MySimplePerceptron(X_train)\n",
    "\n",
    "optimizer = torch.optim.Adam(model.parameters(), lr=learning_rate)\n",
    "\n",
    "loss_function = nn.BCELoss()"
   ],
   "id": "4743f51ce2b36839",
   "outputs": [],
   "execution_count": 18
  },
  {
   "metadata": {
    "ExecuteTime": {
     "end_time": "2025-04-23T16:51:20.176861Z",
     "start_time": "2025-04-23T16:51:19.316448Z"
    }
   },
   "cell_type": "code",
   "source": [
    "\n",
    "for epoch in range(epochs):\n",
    "    \n",
    "    for batch_features, batch_labels in train_dataloader:\n",
    "    \n",
    "        #forward propagation\n",
    "        y_pred = model.forward(batch_features)\n",
    "        \n",
    "        # loss calculate\n",
    "        loss = loss_function(y_pred, batch_labels.view(-1,1))\n",
    "        \n",
    "        # reinitialize gradient\n",
    "        optimizer.zero_grad()\n",
    "        \n",
    "        # backpropagation\n",
    "        loss.backward()\n",
    "        \n",
    "        # update weight and bias\n",
    "        optimizer.step()\n",
    "\n",
    "    print(f\"Epoch: {epoch + 1}, Loss: {loss.item()}\")"
   ],
   "id": "bae7b4a0160c668b",
   "outputs": [
    {
     "name": "stdout",
     "output_type": "stream",
     "text": [
      "Epoch: 1, Loss: 0.7371950149536133\n",
      "Epoch: 2, Loss: 0.6871441602706909\n",
      "Epoch: 3, Loss: 0.6676521897315979\n",
      "Epoch: 4, Loss: 0.639999508857727\n",
      "Epoch: 5, Loss: 0.6008161306381226\n",
      "Epoch: 6, Loss: 0.6349932551383972\n",
      "Epoch: 7, Loss: 0.6550030708312988\n",
      "Epoch: 8, Loss: 0.5849601030349731\n",
      "Epoch: 9, Loss: 0.678916871547699\n",
      "Epoch: 10, Loss: 0.5187326669692993\n",
      "Epoch: 11, Loss: 0.5572418570518494\n",
      "Epoch: 12, Loss: 0.36330628395080566\n",
      "Epoch: 13, Loss: 0.5379130840301514\n",
      "Epoch: 14, Loss: 0.44811999797821045\n",
      "Epoch: 15, Loss: 0.5411677360534668\n",
      "Epoch: 16, Loss: 0.44266319274902344\n",
      "Epoch: 17, Loss: 0.36884161829948425\n",
      "Epoch: 18, Loss: 0.6695500612258911\n",
      "Epoch: 19, Loss: 0.3509647250175476\n",
      "Epoch: 20, Loss: 0.3777262270450592\n",
      "Epoch: 21, Loss: 0.480254590511322\n",
      "Epoch: 22, Loss: 0.49191078543663025\n",
      "Epoch: 23, Loss: 0.5454958081245422\n",
      "Epoch: 24, Loss: 0.49159595370292664\n",
      "Epoch: 25, Loss: 0.4911718964576721\n",
      "Epoch: 26, Loss: 0.43365371227264404\n",
      "Epoch: 27, Loss: 0.3486095666885376\n",
      "Epoch: 28, Loss: 0.49883314967155457\n",
      "Epoch: 29, Loss: 0.41694504022598267\n",
      "Epoch: 30, Loss: 0.461643785238266\n",
      "Epoch: 31, Loss: 0.5629229545593262\n",
      "Epoch: 32, Loss: 0.4142172038555145\n",
      "Epoch: 33, Loss: 0.40819114446640015\n",
      "Epoch: 34, Loss: 0.6633840799331665\n",
      "Epoch: 35, Loss: 0.3002541661262512\n",
      "Epoch: 36, Loss: 0.5026280879974365\n",
      "Epoch: 37, Loss: 0.5375840067863464\n",
      "Epoch: 38, Loss: 0.4614240527153015\n",
      "Epoch: 39, Loss: 0.36062929034233093\n",
      "Epoch: 40, Loss: 0.31474754214286804\n",
      "Epoch: 41, Loss: 0.3764343857765198\n",
      "Epoch: 42, Loss: 0.30908170342445374\n",
      "Epoch: 43, Loss: 0.5738571286201477\n",
      "Epoch: 44, Loss: 0.49872466921806335\n",
      "Epoch: 45, Loss: 0.3169463276863098\n",
      "Epoch: 46, Loss: 0.3846990168094635\n",
      "Epoch: 47, Loss: 0.427794486284256\n",
      "Epoch: 48, Loss: 0.806901752948761\n",
      "Epoch: 49, Loss: 0.3761502206325531\n",
      "Epoch: 50, Loss: 0.46350565552711487\n",
      "Epoch: 51, Loss: 0.5536498427391052\n",
      "Epoch: 52, Loss: 0.32857686281204224\n",
      "Epoch: 53, Loss: 0.40344056487083435\n",
      "Epoch: 54, Loss: 0.3744845390319824\n",
      "Epoch: 55, Loss: 0.3973281979560852\n",
      "Epoch: 56, Loss: 0.673229455947876\n",
      "Epoch: 57, Loss: 0.502418041229248\n",
      "Epoch: 58, Loss: 0.4854400157928467\n",
      "Epoch: 59, Loss: 0.4804685413837433\n",
      "Epoch: 60, Loss: 0.33942779898643494\n",
      "Epoch: 61, Loss: 0.42065155506134033\n",
      "Epoch: 62, Loss: 0.4638627767562866\n",
      "Epoch: 63, Loss: 0.5745888352394104\n",
      "Epoch: 64, Loss: 0.48786023259162903\n",
      "Epoch: 65, Loss: 0.41268739104270935\n",
      "Epoch: 66, Loss: 0.40852683782577515\n",
      "Epoch: 67, Loss: 0.31113868951797485\n",
      "Epoch: 68, Loss: 0.3972046971321106\n",
      "Epoch: 69, Loss: 0.4026256501674652\n",
      "Epoch: 70, Loss: 0.31366270780563354\n",
      "Epoch: 71, Loss: 0.34545162320137024\n",
      "Epoch: 72, Loss: 0.5489929914474487\n",
      "Epoch: 73, Loss: 0.44933682680130005\n",
      "Epoch: 74, Loss: 0.3918028175830841\n",
      "Epoch: 75, Loss: 0.3655986785888672\n",
      "Epoch: 76, Loss: 0.48441174626350403\n",
      "Epoch: 77, Loss: 0.24969594180583954\n",
      "Epoch: 78, Loss: 0.4592657685279846\n",
      "Epoch: 79, Loss: 0.3794410526752472\n",
      "Epoch: 80, Loss: 0.4901067316532135\n",
      "Epoch: 81, Loss: 0.49794501066207886\n",
      "Epoch: 82, Loss: 0.48667222261428833\n",
      "Epoch: 83, Loss: 0.313859224319458\n",
      "Epoch: 84, Loss: 0.4418560266494751\n",
      "Epoch: 85, Loss: 0.23605786263942719\n",
      "Epoch: 86, Loss: 0.5171001553535461\n",
      "Epoch: 87, Loss: 0.6695752739906311\n",
      "Epoch: 88, Loss: 0.4277194142341614\n",
      "Epoch: 89, Loss: 0.3634774088859558\n",
      "Epoch: 90, Loss: 0.3225100338459015\n",
      "Epoch: 91, Loss: 0.5686216354370117\n",
      "Epoch: 92, Loss: 0.5151236057281494\n",
      "Epoch: 93, Loss: 0.41364389657974243\n",
      "Epoch: 94, Loss: 0.5675248503684998\n",
      "Epoch: 95, Loss: 0.3882959485054016\n",
      "Epoch: 96, Loss: 0.3693864941596985\n",
      "Epoch: 97, Loss: 0.3754015564918518\n",
      "Epoch: 98, Loss: 0.5887852907180786\n",
      "Epoch: 99, Loss: 0.5103419423103333\n",
      "Epoch: 100, Loss: 0.6583690643310547\n"
     ]
    }
   ],
   "execution_count": 19
  },
  {
   "metadata": {},
   "cell_type": "markdown",
   "source": "# 5. Evaluate Model ",
   "id": "92e5224dcf58dfbc"
  },
  {
   "metadata": {
    "ExecuteTime": {
     "end_time": "2025-04-23T16:51:20.181459Z",
     "start_time": "2025-04-23T16:51:20.176861Z"
    }
   },
   "cell_type": "code",
   "source": "model.eval()",
   "id": "17d721a21724c0c0",
   "outputs": [
    {
     "data": {
      "text/plain": [
       "MySimplePerceptron(\n",
       "  (network): Sequential(\n",
       "    (0): Linear(in_features=9, out_features=3, bias=True)\n",
       "    (1): ReLU()\n",
       "    (2): Linear(in_features=3, out_features=1, bias=True)\n",
       "    (3): Sigmoid()\n",
       "  )\n",
       ")"
      ]
     },
     "execution_count": 20,
     "metadata": {},
     "output_type": "execute_result"
    }
   ],
   "execution_count": 20
  },
  {
   "metadata": {
    "ExecuteTime": {
     "end_time": "2025-04-23T16:51:20.196839Z",
     "start_time": "2025-04-23T16:51:20.181971Z"
    }
   },
   "cell_type": "code",
   "source": [
    "accuracy_list = []\n",
    "for batch_features, batch_labels in test_dataloader:\n",
    "    with torch.no_grad():\n",
    "        y_pred = model.forward(batch_features)\n",
    "        y_pred = (y_pred > 0.8).float()\n",
    "        batch_accuracy = (batch_labels == y_pred).float().mean().item()\n",
    "        \n",
    "        accuracy_list.append(batch_accuracy)\n",
    "print(f\"Accuracy: {sum(accuracy_list)/len(accuracy_list)}\")"
   ],
   "id": "b419fc4f81f6b491",
   "outputs": [
    {
     "name": "stdout",
     "output_type": "stream",
     "text": [
      "Accuracy: 0.6354166666666666\n"
     ]
    }
   ],
   "execution_count": 21
  },
  {
   "metadata": {
    "ExecuteTime": {
     "end_time": "2025-04-23T16:51:20.205786Z",
     "start_time": "2025-04-23T16:51:20.196839Z"
    }
   },
   "cell_type": "code",
   "source": [
    "accuracy_list = []\n",
    "for batch_features, batch_labels in train_dataloader:\n",
    "    with torch.no_grad():\n",
    "        y_pred = model.forward(batch_features)\n",
    "        y_pred = (y_pred > 0.8).float()\n",
    "        batch_accuracy = (batch_labels == y_pred).float().mean().item()\n",
    "        \n",
    "        accuracy_list.append(batch_accuracy)\n",
    "print(f\"Accuracy: {sum(accuracy_list)/len(accuracy_list)}\")"
   ],
   "id": "c7f3a84d1b03af46",
   "outputs": [
    {
     "name": "stdout",
     "output_type": "stream",
     "text": [
      "Accuracy: 0.5517578125\n"
     ]
    }
   ],
   "execution_count": 22
  },
  {
   "metadata": {
    "ExecuteTime": {
     "end_time": "2025-04-23T16:51:20.208644Z",
     "start_time": "2025-04-23T16:51:20.205786Z"
    }
   },
   "cell_type": "code",
   "source": "",
   "id": "558deedccf612be4",
   "outputs": [],
   "execution_count": 22
  }
 ],
 "metadata": {
  "kernelspec": {
   "display_name": "Python 3",
   "language": "python",
   "name": "python3"
  },
  "language_info": {
   "codemirror_mode": {
    "name": "ipython",
    "version": 2
   },
   "file_extension": ".py",
   "mimetype": "text/x-python",
   "name": "python",
   "nbconvert_exporter": "python",
   "pygments_lexer": "ipython2",
   "version": "2.7.6"
  }
 },
 "nbformat": 4,
 "nbformat_minor": 5
}
