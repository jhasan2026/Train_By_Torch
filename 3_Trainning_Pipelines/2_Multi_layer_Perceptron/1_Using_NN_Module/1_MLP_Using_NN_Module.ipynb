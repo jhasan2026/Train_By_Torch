{
 "cells": [
  {
   "metadata": {
    "ExecuteTime": {
     "end_time": "2025-04-23T15:01:33.525890Z",
     "start_time": "2025-04-23T15:01:32.497125Z"
    }
   },
   "cell_type": "code",
   "source": [
    "import pandas as pd\n",
    "import numpy as np\n",
    "from sklearn.preprocessing import StandardScaler,OrdinalEncoder, OneHotEncoder, OrdinalEncoder, LabelEncoder, MinMaxScaler\n",
    "from sklearn.model_selection import train_test_split\n",
    "from sklearn.impute import SimpleImputer\n",
    "from sklearn.pipeline import Pipeline\n",
    "from sklearn.compose import ColumnTransformer"
   ],
   "id": "5809f4e988c2e6d1",
   "outputs": [],
   "execution_count": 1
  },
  {
   "metadata": {},
   "cell_type": "markdown",
   "source": "# 1. Load Data",
   "id": "444932672ac9c757"
  },
  {
   "metadata": {
    "ExecuteTime": {
     "end_time": "2025-04-23T15:01:33.544437Z",
     "start_time": "2025-04-23T15:01:33.525890Z"
    }
   },
   "cell_type": "code",
   "source": [
    "df = pd.read_csv('../../titanic_Dataset_modi.csv')\n",
    "df.drop(columns=['PassengerId','Name','Ticket','Cabin'], inplace=True)\n",
    "df"
   ],
   "id": "3c0a8fc7d0c51d4",
   "outputs": [
    {
     "data": {
      "text/plain": [
       "     Survived  Pclass     Sex   Age  SibSp  Parch     Fare Embarked education\n",
       "0           0       3    male  22.0      1      0   7.2500        S    School\n",
       "1           1       1  female  38.0      1      0  71.2833        C        UG\n",
       "2           1       3  female  26.0      0      0   7.9250        S        PG\n",
       "3           1       1  female  35.0      1      0  53.1000        S        PG\n",
       "4           0       3    male  35.0      0      0   8.0500        S        UG\n",
       "..        ...     ...     ...   ...    ...    ...      ...      ...       ...\n",
       "395         0       3    male  22.0      0      0   7.7958        S        PG\n",
       "396         0       3  female  31.0      0      0   7.8542        S        PG\n",
       "397         0       2    male  46.0      0      0  26.0000        S        PG\n",
       "398         0       2    male  23.0      0      0  10.5000        S        UG\n",
       "399         1       2  female  28.0      0      0  12.6500        S        UG\n",
       "\n",
       "[400 rows x 9 columns]"
      ],
      "text/html": [
       "<div>\n",
       "<style scoped>\n",
       "    .dataframe tbody tr th:only-of-type {\n",
       "        vertical-align: middle;\n",
       "    }\n",
       "\n",
       "    .dataframe tbody tr th {\n",
       "        vertical-align: top;\n",
       "    }\n",
       "\n",
       "    .dataframe thead th {\n",
       "        text-align: right;\n",
       "    }\n",
       "</style>\n",
       "<table border=\"1\" class=\"dataframe\">\n",
       "  <thead>\n",
       "    <tr style=\"text-align: right;\">\n",
       "      <th></th>\n",
       "      <th>Survived</th>\n",
       "      <th>Pclass</th>\n",
       "      <th>Sex</th>\n",
       "      <th>Age</th>\n",
       "      <th>SibSp</th>\n",
       "      <th>Parch</th>\n",
       "      <th>Fare</th>\n",
       "      <th>Embarked</th>\n",
       "      <th>education</th>\n",
       "    </tr>\n",
       "  </thead>\n",
       "  <tbody>\n",
       "    <tr>\n",
       "      <th>0</th>\n",
       "      <td>0</td>\n",
       "      <td>3</td>\n",
       "      <td>male</td>\n",
       "      <td>22.0</td>\n",
       "      <td>1</td>\n",
       "      <td>0</td>\n",
       "      <td>7.2500</td>\n",
       "      <td>S</td>\n",
       "      <td>School</td>\n",
       "    </tr>\n",
       "    <tr>\n",
       "      <th>1</th>\n",
       "      <td>1</td>\n",
       "      <td>1</td>\n",
       "      <td>female</td>\n",
       "      <td>38.0</td>\n",
       "      <td>1</td>\n",
       "      <td>0</td>\n",
       "      <td>71.2833</td>\n",
       "      <td>C</td>\n",
       "      <td>UG</td>\n",
       "    </tr>\n",
       "    <tr>\n",
       "      <th>2</th>\n",
       "      <td>1</td>\n",
       "      <td>3</td>\n",
       "      <td>female</td>\n",
       "      <td>26.0</td>\n",
       "      <td>0</td>\n",
       "      <td>0</td>\n",
       "      <td>7.9250</td>\n",
       "      <td>S</td>\n",
       "      <td>PG</td>\n",
       "    </tr>\n",
       "    <tr>\n",
       "      <th>3</th>\n",
       "      <td>1</td>\n",
       "      <td>1</td>\n",
       "      <td>female</td>\n",
       "      <td>35.0</td>\n",
       "      <td>1</td>\n",
       "      <td>0</td>\n",
       "      <td>53.1000</td>\n",
       "      <td>S</td>\n",
       "      <td>PG</td>\n",
       "    </tr>\n",
       "    <tr>\n",
       "      <th>4</th>\n",
       "      <td>0</td>\n",
       "      <td>3</td>\n",
       "      <td>male</td>\n",
       "      <td>35.0</td>\n",
       "      <td>0</td>\n",
       "      <td>0</td>\n",
       "      <td>8.0500</td>\n",
       "      <td>S</td>\n",
       "      <td>UG</td>\n",
       "    </tr>\n",
       "    <tr>\n",
       "      <th>...</th>\n",
       "      <td>...</td>\n",
       "      <td>...</td>\n",
       "      <td>...</td>\n",
       "      <td>...</td>\n",
       "      <td>...</td>\n",
       "      <td>...</td>\n",
       "      <td>...</td>\n",
       "      <td>...</td>\n",
       "      <td>...</td>\n",
       "    </tr>\n",
       "    <tr>\n",
       "      <th>395</th>\n",
       "      <td>0</td>\n",
       "      <td>3</td>\n",
       "      <td>male</td>\n",
       "      <td>22.0</td>\n",
       "      <td>0</td>\n",
       "      <td>0</td>\n",
       "      <td>7.7958</td>\n",
       "      <td>S</td>\n",
       "      <td>PG</td>\n",
       "    </tr>\n",
       "    <tr>\n",
       "      <th>396</th>\n",
       "      <td>0</td>\n",
       "      <td>3</td>\n",
       "      <td>female</td>\n",
       "      <td>31.0</td>\n",
       "      <td>0</td>\n",
       "      <td>0</td>\n",
       "      <td>7.8542</td>\n",
       "      <td>S</td>\n",
       "      <td>PG</td>\n",
       "    </tr>\n",
       "    <tr>\n",
       "      <th>397</th>\n",
       "      <td>0</td>\n",
       "      <td>2</td>\n",
       "      <td>male</td>\n",
       "      <td>46.0</td>\n",
       "      <td>0</td>\n",
       "      <td>0</td>\n",
       "      <td>26.0000</td>\n",
       "      <td>S</td>\n",
       "      <td>PG</td>\n",
       "    </tr>\n",
       "    <tr>\n",
       "      <th>398</th>\n",
       "      <td>0</td>\n",
       "      <td>2</td>\n",
       "      <td>male</td>\n",
       "      <td>23.0</td>\n",
       "      <td>0</td>\n",
       "      <td>0</td>\n",
       "      <td>10.5000</td>\n",
       "      <td>S</td>\n",
       "      <td>UG</td>\n",
       "    </tr>\n",
       "    <tr>\n",
       "      <th>399</th>\n",
       "      <td>1</td>\n",
       "      <td>2</td>\n",
       "      <td>female</td>\n",
       "      <td>28.0</td>\n",
       "      <td>0</td>\n",
       "      <td>0</td>\n",
       "      <td>12.6500</td>\n",
       "      <td>S</td>\n",
       "      <td>UG</td>\n",
       "    </tr>\n",
       "  </tbody>\n",
       "</table>\n",
       "<p>400 rows × 9 columns</p>\n",
       "</div>"
      ]
     },
     "execution_count": 2,
     "metadata": {},
     "output_type": "execute_result"
    }
   ],
   "execution_count": 2
  },
  {
   "metadata": {},
   "cell_type": "markdown",
   "source": "# 2. Clean the data",
   "id": "e22f3f67899b5691"
  },
  {
   "metadata": {},
   "cell_type": "markdown",
   "source": [
    "##### 1. Age -> mean impute ; Embarked -> median impute\n",
    "##### 2. Fare -> Standard Scaler ;  Age -> MinMax Scaler\n",
    "##### 3. Sex, Embaked -> OHE\n",
    "##### 4. education -> Ordinal \n",
    "##### 5. Label Encoding\n",
    "##### 5. Feature Selection\n",
    "##### 6. Model train "
   ],
   "id": "4d5dd6a264170bd8"
  },
  {
   "metadata": {
    "ExecuteTime": {
     "end_time": "2025-04-23T15:01:33.550151Z",
     "start_time": "2025-04-23T15:01:33.544437Z"
    }
   },
   "cell_type": "code",
   "source": "df.isnull().mean() * 100",
   "id": "cbf8b60d9e3a1ff1",
   "outputs": [
    {
     "data": {
      "text/plain": [
       "Survived      0.00\n",
       "Pclass        0.00\n",
       "Sex           0.00\n",
       "Age          19.50\n",
       "SibSp         0.00\n",
       "Parch         0.00\n",
       "Fare          0.00\n",
       "Embarked      0.25\n",
       "education     0.00\n",
       "dtype: float64"
      ]
     },
     "execution_count": 3,
     "metadata": {},
     "output_type": "execute_result"
    }
   ],
   "execution_count": 3
  },
  {
   "metadata": {
    "ExecuteTime": {
     "end_time": "2025-04-23T15:01:33.554873Z",
     "start_time": "2025-04-23T15:01:33.550151Z"
    }
   },
   "cell_type": "code",
   "source": [
    "age_pipe = Pipeline([\n",
    "    ('imputer', SimpleImputer()),\n",
    "    ('scaling', MinMaxScaler())\n",
    "])\n",
    "# Fare (scale)\n",
    "fare_pipe = Pipeline([\n",
    "    ('scaling', StandardScaler())\n",
    "])\n",
    "# Embarked (impute,OHE)\n",
    "embk_pipe = Pipeline([\n",
    "    ('impute', SimpleImputer(strategy='most_frequent')),\n",
    "    ('ohe', OneHotEncoder(drop='first', sparse_output=False, dtype=np.int32))\n",
    "])\n",
    "# Sex (OHE)\n",
    "sex_pipe = Pipeline([\n",
    "    ('ohe', OneHotEncoder(drop='first', sparse_output=False, dtype=np.int32))\n",
    "])\n",
    "# Education (ordinal)\n",
    "edu_pipe = Pipeline([\n",
    "    (\"ordinal\", OrdinalEncoder(categories=[['School', 'UG', 'PG']]))\n",
    "])"
   ],
   "id": "39c0f41e999c26c3",
   "outputs": [],
   "execution_count": 4
  },
  {
   "metadata": {
    "ExecuteTime": {
     "end_time": "2025-04-23T15:01:33.559942Z",
     "start_time": "2025-04-23T15:01:33.556616Z"
    }
   },
   "cell_type": "code",
   "source": [
    "# Preprocessor\n",
    "preprocessor = ColumnTransformer(transformers=[\n",
    "    ('age_pipe', age_pipe, ['Age']),\n",
    "    ('fare_pipe', fare_pipe, ['Fare']),\n",
    "    ('embk_pipe', embk_pipe, ['Embarked']),\n",
    "    ('sex_pipe', sex_pipe, ['Sex']),\n",
    "    ('edu_pipe', edu_pipe, ['education']),\n",
    "], remainder='passthrough')\n"
   ],
   "id": "da69e455cf2c42af",
   "outputs": [],
   "execution_count": 5
  },
  {
   "metadata": {
    "ExecuteTime": {
     "end_time": "2025-04-23T15:01:33.577465Z",
     "start_time": "2025-04-23T15:01:33.559942Z"
    }
   },
   "cell_type": "code",
   "source": [
    "X = preprocessor.fit_transform(df.iloc[:,1:])\n",
    "X"
   ],
   "id": "fc9b5dd59507987b",
   "outputs": [
    {
     "data": {
      "text/plain": [
       "array([[ 0.30169588, -0.51903614,  0.        , ...,  3.        ,\n",
       "         1.        ,  0.        ],\n",
       "       [ 0.52971355,  0.75965824,  0.        , ...,  1.        ,\n",
       "         1.        ,  0.        ],\n",
       "       [ 0.3587003 , -0.50555692,  0.        , ...,  3.        ,\n",
       "         0.        ,  0.        ],\n",
       "       ...,\n",
       "       [ 0.64372239, -0.14461346,  0.        , ...,  2.        ,\n",
       "         0.        ,  0.        ],\n",
       "       [ 0.31594699, -0.45413621,  0.        , ...,  2.        ,\n",
       "         0.        ,  0.        ],\n",
       "       [ 0.38720251, -0.41120241,  0.        , ...,  2.        ,\n",
       "         0.        ,  0.        ]], shape=(400, 9))"
      ]
     },
     "execution_count": 6,
     "metadata": {},
     "output_type": "execute_result"
    }
   ],
   "execution_count": 6
  },
  {
   "metadata": {
    "ExecuteTime": {
     "end_time": "2025-04-23T15:01:33.582433Z",
     "start_time": "2025-04-23T15:01:33.577465Z"
    }
   },
   "cell_type": "code",
   "source": [
    "y = df.iloc[:,0]\n",
    "y"
   ],
   "id": "1aaf7ec91b786c7b",
   "outputs": [
    {
     "data": {
      "text/plain": [
       "0      0\n",
       "1      1\n",
       "2      1\n",
       "3      1\n",
       "4      0\n",
       "      ..\n",
       "395    0\n",
       "396    0\n",
       "397    0\n",
       "398    0\n",
       "399    1\n",
       "Name: Survived, Length: 400, dtype: int64"
      ]
     },
     "execution_count": 7,
     "metadata": {},
     "output_type": "execute_result"
    }
   ],
   "execution_count": 7
  },
  {
   "metadata": {
    "ExecuteTime": {
     "end_time": "2025-04-23T15:01:33.587199Z",
     "start_time": "2025-04-23T15:01:33.582433Z"
    }
   },
   "cell_type": "code",
   "source": "X_train, X_test, y_train, y_test = train_test_split(X,y, test_size=0.2,random_state=42)",
   "id": "b2b5bdcc6b9e0204",
   "outputs": [],
   "execution_count": 8
  },
  {
   "metadata": {
    "ExecuteTime": {
     "end_time": "2025-04-23T15:01:33.591814Z",
     "start_time": "2025-04-23T15:01:33.587199Z"
    }
   },
   "cell_type": "code",
   "source": "X_train.shape, X_test.shape, y_train.shape, y_test.shape",
   "id": "24481503350608a",
   "outputs": [
    {
     "data": {
      "text/plain": [
       "((320, 9), (80, 9), (320,), (80,))"
      ]
     },
     "execution_count": 9,
     "metadata": {},
     "output_type": "execute_result"
    }
   ],
   "execution_count": 9
  },
  {
   "metadata": {
    "ExecuteTime": {
     "end_time": "2025-04-23T15:01:35.331095Z",
     "start_time": "2025-04-23T15:01:33.591814Z"
    }
   },
   "cell_type": "code",
   "source": [
    "import torch\n",
    "\n",
    "X_train = torch.from_numpy(np.asarray(X_train).astype(np.float32))\n",
    "X_test = torch.from_numpy(np.asarray(X_test).astype(np.float32))\n",
    "y_train = torch.from_numpy(np.asarray(y_train).astype(np.float32))\n",
    "y_test = torch.from_numpy(np.asarray(y_test).astype(np.float32))"
   ],
   "id": "224de1493426bb55",
   "outputs": [],
   "execution_count": 10
  },
  {
   "metadata": {
    "ExecuteTime": {
     "end_time": "2025-04-23T15:01:35.338091Z",
     "start_time": "2025-04-23T15:01:35.331095Z"
    }
   },
   "cell_type": "code",
   "source": "X_train",
   "id": "8ded43e538efb2ee",
   "outputs": [
    {
     "data": {
      "text/plain": [
       "tensor([[ 0.4870,  0.3966,  0.0000,  ...,  1.0000,  1.0000,  0.0000],\n",
       "        [ 0.4300, -0.3044,  0.0000,  ...,  3.0000,  1.0000,  0.0000],\n",
       "        [ 0.4727, -0.5341,  0.0000,  ...,  3.0000,  0.0000,  0.0000],\n",
       "        ...,\n",
       "        [ 0.3969, -0.0448,  0.0000,  ...,  1.0000,  0.0000,  0.0000],\n",
       "        [ 0.0309, -0.3463,  0.0000,  ...,  3.0000,  1.0000,  1.0000],\n",
       "        [ 0.2874,  0.8796,  0.0000,  ...,  1.0000,  0.0000,  1.0000]])"
      ]
     },
     "execution_count": 11,
     "metadata": {},
     "output_type": "execute_result"
    }
   ],
   "execution_count": 11
  },
  {
   "metadata": {},
   "cell_type": "markdown",
   "source": "# 3. Build Model",
   "id": "7d5eb53cc2312877"
  },
  {
   "metadata": {
    "ExecuteTime": {
     "end_time": "2025-04-23T15:01:35.349891Z",
     "start_time": "2025-04-23T15:01:35.338091Z"
    }
   },
   "cell_type": "code",
   "source": [
    "import torch.nn as nn\n",
    "\n",
    "class MySimplePerceptron(nn.Module):\n",
    "    def __init__(self, X_train):\n",
    "        super().__init__()\n",
    "        \n",
    "        self.linear1 = nn.Linear(X_train.shape[1], 3)\n",
    "        self.sigmoid1 = nn.ReLU()\n",
    "        \n",
    "        self.linear2 = nn.Linear(3,1)\n",
    "        self.sigmoid2 = nn.Sigmoid()\n",
    "    \n",
    "    def forward(self, X_train):\n",
    "        out = self.linear1(X_train)\n",
    "        out = self.sigmoid1(out)\n",
    "        out = self.linear2(out)\n",
    "        out = self.sigmoid2(out)\n",
    "        return out\n",
    "    \n",
    "    def loss_function(self, y_pred, y_train):\n",
    "        epsilon = 1e-8\n",
    "        y_pred = torch.clamp(y_pred, epsilon, 1-epsilon)\n",
    "        loss = (-(y_train * torch.log(y_pred)) - ((1-y_train)*torch.log(1-y_pred))).mean()\n",
    "        return loss"
   ],
   "id": "73300aae5d3f7463",
   "outputs": [],
   "execution_count": 12
  },
  {
   "metadata": {},
   "cell_type": "markdown",
   "source": "# 4. Train Model",
   "id": "810be13c7bd47cd0"
  },
  {
   "metadata": {
    "ExecuteTime": {
     "end_time": "2025-04-23T15:01:35.353425Z",
     "start_time": "2025-04-23T15:01:35.349891Z"
    }
   },
   "cell_type": "code",
   "source": [
    "learning_rate = 0.1\n",
    "epochs = 100"
   ],
   "id": "9eee30b587a544d1",
   "outputs": [],
   "execution_count": 13
  },
  {
   "metadata": {
    "ExecuteTime": {
     "end_time": "2025-04-23T15:01:35.446363Z",
     "start_time": "2025-04-23T15:01:35.353425Z"
    }
   },
   "cell_type": "code",
   "source": [
    "model = MySimplePerceptron(X_train)\n",
    "\n",
    "for epoch in range(epochs):\n",
    "    #forward propagation\n",
    "    y_pred = model.forward(X_train)\n",
    "    \n",
    "    # loss calculate\n",
    "    loss = model.loss_function(y_pred, y_train)\n",
    "    \n",
    "    # backpropagation\n",
    "    loss.backward()\n",
    "    \n",
    "    # update weight and bias\n",
    "    with torch.no_grad():\n",
    "        model.linear1.weight -= learning_rate * model.linear1.weight.grad\n",
    "        model.linear1.bias -= learning_rate * model.linear1.bias.grad\n",
    "        \n",
    "        model.linear2.weight -= learning_rate * model.linear2.weight.grad\n",
    "        model.linear2.bias -= learning_rate * model.linear2.bias.grad\n",
    "    \n",
    "    # reinitialize gradient\n",
    "    model.linear1.weight.grad.zero_()\n",
    "    model.linear1.bias.grad.zero_()\n",
    "    model.linear2.weight.grad.zero_()\n",
    "    model.linear2.bias.grad.zero_()\n",
    "    \n",
    "    print(f\"Epoch: {epoch + 1}, Loss: {loss.item()}\")"
   ],
   "id": "bae7b4a0160c668b",
   "outputs": [
    {
     "name": "stdout",
     "output_type": "stream",
     "text": [
      "Epoch: 1, Loss: 0.6937582492828369\n",
      "Epoch: 2, Loss: 0.6925132274627686\n",
      "Epoch: 3, Loss: 0.6914269924163818\n",
      "Epoch: 4, Loss: 0.6904790997505188\n",
      "Epoch: 5, Loss: 0.6896508932113647\n",
      "Epoch: 6, Loss: 0.6889340877532959\n",
      "Epoch: 7, Loss: 0.6883057355880737\n",
      "Epoch: 8, Loss: 0.687754213809967\n",
      "Epoch: 9, Loss: 0.687268853187561\n",
      "Epoch: 10, Loss: 0.6868427991867065\n",
      "Epoch: 11, Loss: 0.6864679455757141\n",
      "Epoch: 12, Loss: 0.6861340403556824\n",
      "Epoch: 13, Loss: 0.6858343482017517\n",
      "Epoch: 14, Loss: 0.685565173625946\n",
      "Epoch: 15, Loss: 0.6853209733963013\n",
      "Epoch: 16, Loss: 0.6850970983505249\n",
      "Epoch: 17, Loss: 0.6848912835121155\n",
      "Epoch: 18, Loss: 0.6847004890441895\n",
      "Epoch: 19, Loss: 0.6845223903656006\n",
      "Epoch: 20, Loss: 0.6843551397323608\n",
      "Epoch: 21, Loss: 0.684197187423706\n",
      "Epoch: 22, Loss: 0.6840471625328064\n",
      "Epoch: 23, Loss: 0.6839040517807007\n",
      "Epoch: 24, Loss: 0.6837669610977173\n",
      "Epoch: 25, Loss: 0.6836352348327637\n",
      "Epoch: 26, Loss: 0.6835082769393921\n",
      "Epoch: 27, Loss: 0.6833855509757996\n",
      "Epoch: 28, Loss: 0.6832665205001831\n",
      "Epoch: 29, Loss: 0.6831510663032532\n",
      "Epoch: 30, Loss: 0.6830389499664307\n",
      "Epoch: 31, Loss: 0.6829298138618469\n",
      "Epoch: 32, Loss: 0.6828231811523438\n",
      "Epoch: 33, Loss: 0.6827185153961182\n",
      "Epoch: 34, Loss: 0.682616114616394\n",
      "Epoch: 35, Loss: 0.6825161576271057\n",
      "Epoch: 36, Loss: 0.6824184656143188\n",
      "Epoch: 37, Loss: 0.6823229193687439\n",
      "Epoch: 38, Loss: 0.6822292804718018\n",
      "Epoch: 39, Loss: 0.682136058807373\n",
      "Epoch: 40, Loss: 0.6820449233055115\n",
      "Epoch: 41, Loss: 0.6819555759429932\n",
      "Epoch: 42, Loss: 0.6818680763244629\n",
      "Epoch: 43, Loss: 0.6817823052406311\n",
      "Epoch: 44, Loss: 0.681698203086853\n",
      "Epoch: 45, Loss: 0.6816157698631287\n",
      "Epoch: 46, Loss: 0.681535005569458\n",
      "Epoch: 47, Loss: 0.681455671787262\n",
      "Epoch: 48, Loss: 0.6813779473304749\n",
      "Epoch: 49, Loss: 0.6813016533851624\n",
      "Epoch: 50, Loss: 0.6812267899513245\n",
      "Epoch: 51, Loss: 0.6811533570289612\n",
      "Epoch: 52, Loss: 0.6810811758041382\n",
      "Epoch: 53, Loss: 0.6810103058815002\n",
      "Epoch: 54, Loss: 0.6809406876564026\n",
      "Epoch: 55, Loss: 0.6808723211288452\n",
      "Epoch: 56, Loss: 0.6808052062988281\n",
      "Epoch: 57, Loss: 0.6807389855384827\n",
      "Epoch: 58, Loss: 0.6806735992431641\n",
      "Epoch: 59, Loss: 0.6806094646453857\n",
      "Epoch: 60, Loss: 0.6805463433265686\n",
      "Epoch: 61, Loss: 0.680484414100647\n",
      "Epoch: 62, Loss: 0.6804234981536865\n",
      "Epoch: 63, Loss: 0.6803637742996216\n",
      "Epoch: 64, Loss: 0.680305004119873\n",
      "Epoch: 65, Loss: 0.6802472472190857\n",
      "Epoch: 66, Loss: 0.6801905632019043\n",
      "Epoch: 67, Loss: 0.6801348328590393\n",
      "Epoch: 68, Loss: 0.6800801157951355\n",
      "Epoch: 69, Loss: 0.6800262331962585\n",
      "Epoch: 70, Loss: 0.679973304271698\n",
      "Epoch: 71, Loss: 0.6799212098121643\n",
      "Epoch: 72, Loss: 0.679870069026947\n",
      "Epoch: 73, Loss: 0.6798197031021118\n",
      "Epoch: 74, Loss: 0.6797702312469482\n",
      "Epoch: 75, Loss: 0.6797215342521667\n",
      "Epoch: 76, Loss: 0.6796736121177673\n",
      "Epoch: 77, Loss: 0.6796262264251709\n",
      "Epoch: 78, Loss: 0.6795797944068909\n",
      "Epoch: 79, Loss: 0.6795340180397034\n",
      "Epoch: 80, Loss: 0.6794888973236084\n",
      "Epoch: 81, Loss: 0.6794445514678955\n",
      "Epoch: 82, Loss: 0.6794010400772095\n",
      "Epoch: 83, Loss: 0.6793580651283264\n",
      "Epoch: 84, Loss: 0.6793157458305359\n",
      "Epoch: 85, Loss: 0.6792739033699036\n",
      "Epoch: 86, Loss: 0.6792327165603638\n",
      "Epoch: 87, Loss: 0.6791921854019165\n",
      "Epoch: 88, Loss: 0.679152250289917\n",
      "Epoch: 89, Loss: 0.6791127920150757\n",
      "Epoch: 90, Loss: 0.6790739297866821\n",
      "Epoch: 91, Loss: 0.6790357828140259\n",
      "Epoch: 92, Loss: 0.6789981126785278\n",
      "Epoch: 93, Loss: 0.6789609789848328\n",
      "Epoch: 94, Loss: 0.6789243221282959\n",
      "Epoch: 95, Loss: 0.6788883209228516\n",
      "Epoch: 96, Loss: 0.6788526773452759\n",
      "Epoch: 97, Loss: 0.6788175702095032\n",
      "Epoch: 98, Loss: 0.6787829399108887\n",
      "Epoch: 99, Loss: 0.6787487268447876\n",
      "Epoch: 100, Loss: 0.6787149310112\n"
     ]
    }
   ],
   "execution_count": 14
  },
  {
   "metadata": {},
   "cell_type": "markdown",
   "source": "# 5. Evaluate Model ",
   "id": "92e5224dcf58dfbc"
  },
  {
   "metadata": {
    "ExecuteTime": {
     "end_time": "2025-04-23T15:01:35.451289Z",
     "start_time": "2025-04-23T15:01:35.446363Z"
    }
   },
   "cell_type": "code",
   "source": [
    "with torch.no_grad():\n",
    "    y_pred = model.forward(X_test)\n",
    "    y_pred = (y_pred > 0.5).float()\n",
    "    accuracy = (y_test == y_pred).float().mean()\n",
    "    print(f\"Accuracy: {accuracy}\")"
   ],
   "id": "b419fc4f81f6b491",
   "outputs": [
    {
     "name": "stdout",
     "output_type": "stream",
     "text": [
      "Accuracy: 0.6625000238418579\n"
     ]
    }
   ],
   "execution_count": 15
  },
  {
   "metadata": {
    "ExecuteTime": {
     "end_time": "2025-04-23T15:01:35.454574Z",
     "start_time": "2025-04-23T15:01:35.451289Z"
    }
   },
   "cell_type": "code",
   "source": "",
   "id": "fe2ca00a89bea6e2",
   "outputs": [],
   "execution_count": 15
  }
 ],
 "metadata": {
  "kernelspec": {
   "display_name": "Python 3",
   "language": "python",
   "name": "python3"
  },
  "language_info": {
   "codemirror_mode": {
    "name": "ipython",
    "version": 2
   },
   "file_extension": ".py",
   "mimetype": "text/x-python",
   "name": "python",
   "nbconvert_exporter": "python",
   "pygments_lexer": "ipython2",
   "version": "2.7.6"
  }
 },
 "nbformat": 4,
 "nbformat_minor": 5
}
