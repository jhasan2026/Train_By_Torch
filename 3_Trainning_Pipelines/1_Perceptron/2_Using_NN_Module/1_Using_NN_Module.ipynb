{
 "cells": [
  {
   "metadata": {
    "ExecuteTime": {
     "end_time": "2025-04-23T14:48:16.277433Z",
     "start_time": "2025-04-23T14:48:15.224086Z"
    }
   },
   "cell_type": "code",
   "source": [
    "import pandas as pd\n",
    "import numpy as np\n",
    "from sklearn.preprocessing import StandardScaler,OrdinalEncoder, OneHotEncoder, OrdinalEncoder, LabelEncoder, MinMaxScaler\n",
    "from sklearn.model_selection import train_test_split\n",
    "from sklearn.impute import SimpleImputer\n",
    "from sklearn.pipeline import Pipeline\n",
    "from sklearn.compose import ColumnTransformer"
   ],
   "id": "5809f4e988c2e6d1",
   "outputs": [],
   "execution_count": 1
  },
  {
   "metadata": {},
   "cell_type": "markdown",
   "source": "# 1. Load Data",
   "id": "444932672ac9c757"
  },
  {
   "metadata": {
    "ExecuteTime": {
     "end_time": "2025-04-23T14:48:16.294268Z",
     "start_time": "2025-04-23T14:48:16.277433Z"
    }
   },
   "cell_type": "code",
   "source": [
    "df = pd.read_csv('../../titanic_Dataset_modi.csv')\n",
    "df.drop(columns=['PassengerId','Name','Ticket','Cabin'], inplace=True)\n",
    "df"
   ],
   "id": "3c0a8fc7d0c51d4",
   "outputs": [
    {
     "data": {
      "text/plain": [
       "     Survived  Pclass     Sex   Age  SibSp  Parch     Fare Embarked education\n",
       "0           0       3    male  22.0      1      0   7.2500        S    School\n",
       "1           1       1  female  38.0      1      0  71.2833        C        UG\n",
       "2           1       3  female  26.0      0      0   7.9250        S        PG\n",
       "3           1       1  female  35.0      1      0  53.1000        S        PG\n",
       "4           0       3    male  35.0      0      0   8.0500        S        UG\n",
       "..        ...     ...     ...   ...    ...    ...      ...      ...       ...\n",
       "395         0       3    male  22.0      0      0   7.7958        S        PG\n",
       "396         0       3  female  31.0      0      0   7.8542        S        PG\n",
       "397         0       2    male  46.0      0      0  26.0000        S        PG\n",
       "398         0       2    male  23.0      0      0  10.5000        S        UG\n",
       "399         1       2  female  28.0      0      0  12.6500        S        UG\n",
       "\n",
       "[400 rows x 9 columns]"
      ],
      "text/html": [
       "<div>\n",
       "<style scoped>\n",
       "    .dataframe tbody tr th:only-of-type {\n",
       "        vertical-align: middle;\n",
       "    }\n",
       "\n",
       "    .dataframe tbody tr th {\n",
       "        vertical-align: top;\n",
       "    }\n",
       "\n",
       "    .dataframe thead th {\n",
       "        text-align: right;\n",
       "    }\n",
       "</style>\n",
       "<table border=\"1\" class=\"dataframe\">\n",
       "  <thead>\n",
       "    <tr style=\"text-align: right;\">\n",
       "      <th></th>\n",
       "      <th>Survived</th>\n",
       "      <th>Pclass</th>\n",
       "      <th>Sex</th>\n",
       "      <th>Age</th>\n",
       "      <th>SibSp</th>\n",
       "      <th>Parch</th>\n",
       "      <th>Fare</th>\n",
       "      <th>Embarked</th>\n",
       "      <th>education</th>\n",
       "    </tr>\n",
       "  </thead>\n",
       "  <tbody>\n",
       "    <tr>\n",
       "      <th>0</th>\n",
       "      <td>0</td>\n",
       "      <td>3</td>\n",
       "      <td>male</td>\n",
       "      <td>22.0</td>\n",
       "      <td>1</td>\n",
       "      <td>0</td>\n",
       "      <td>7.2500</td>\n",
       "      <td>S</td>\n",
       "      <td>School</td>\n",
       "    </tr>\n",
       "    <tr>\n",
       "      <th>1</th>\n",
       "      <td>1</td>\n",
       "      <td>1</td>\n",
       "      <td>female</td>\n",
       "      <td>38.0</td>\n",
       "      <td>1</td>\n",
       "      <td>0</td>\n",
       "      <td>71.2833</td>\n",
       "      <td>C</td>\n",
       "      <td>UG</td>\n",
       "    </tr>\n",
       "    <tr>\n",
       "      <th>2</th>\n",
       "      <td>1</td>\n",
       "      <td>3</td>\n",
       "      <td>female</td>\n",
       "      <td>26.0</td>\n",
       "      <td>0</td>\n",
       "      <td>0</td>\n",
       "      <td>7.9250</td>\n",
       "      <td>S</td>\n",
       "      <td>PG</td>\n",
       "    </tr>\n",
       "    <tr>\n",
       "      <th>3</th>\n",
       "      <td>1</td>\n",
       "      <td>1</td>\n",
       "      <td>female</td>\n",
       "      <td>35.0</td>\n",
       "      <td>1</td>\n",
       "      <td>0</td>\n",
       "      <td>53.1000</td>\n",
       "      <td>S</td>\n",
       "      <td>PG</td>\n",
       "    </tr>\n",
       "    <tr>\n",
       "      <th>4</th>\n",
       "      <td>0</td>\n",
       "      <td>3</td>\n",
       "      <td>male</td>\n",
       "      <td>35.0</td>\n",
       "      <td>0</td>\n",
       "      <td>0</td>\n",
       "      <td>8.0500</td>\n",
       "      <td>S</td>\n",
       "      <td>UG</td>\n",
       "    </tr>\n",
       "    <tr>\n",
       "      <th>...</th>\n",
       "      <td>...</td>\n",
       "      <td>...</td>\n",
       "      <td>...</td>\n",
       "      <td>...</td>\n",
       "      <td>...</td>\n",
       "      <td>...</td>\n",
       "      <td>...</td>\n",
       "      <td>...</td>\n",
       "      <td>...</td>\n",
       "    </tr>\n",
       "    <tr>\n",
       "      <th>395</th>\n",
       "      <td>0</td>\n",
       "      <td>3</td>\n",
       "      <td>male</td>\n",
       "      <td>22.0</td>\n",
       "      <td>0</td>\n",
       "      <td>0</td>\n",
       "      <td>7.7958</td>\n",
       "      <td>S</td>\n",
       "      <td>PG</td>\n",
       "    </tr>\n",
       "    <tr>\n",
       "      <th>396</th>\n",
       "      <td>0</td>\n",
       "      <td>3</td>\n",
       "      <td>female</td>\n",
       "      <td>31.0</td>\n",
       "      <td>0</td>\n",
       "      <td>0</td>\n",
       "      <td>7.8542</td>\n",
       "      <td>S</td>\n",
       "      <td>PG</td>\n",
       "    </tr>\n",
       "    <tr>\n",
       "      <th>397</th>\n",
       "      <td>0</td>\n",
       "      <td>2</td>\n",
       "      <td>male</td>\n",
       "      <td>46.0</td>\n",
       "      <td>0</td>\n",
       "      <td>0</td>\n",
       "      <td>26.0000</td>\n",
       "      <td>S</td>\n",
       "      <td>PG</td>\n",
       "    </tr>\n",
       "    <tr>\n",
       "      <th>398</th>\n",
       "      <td>0</td>\n",
       "      <td>2</td>\n",
       "      <td>male</td>\n",
       "      <td>23.0</td>\n",
       "      <td>0</td>\n",
       "      <td>0</td>\n",
       "      <td>10.5000</td>\n",
       "      <td>S</td>\n",
       "      <td>UG</td>\n",
       "    </tr>\n",
       "    <tr>\n",
       "      <th>399</th>\n",
       "      <td>1</td>\n",
       "      <td>2</td>\n",
       "      <td>female</td>\n",
       "      <td>28.0</td>\n",
       "      <td>0</td>\n",
       "      <td>0</td>\n",
       "      <td>12.6500</td>\n",
       "      <td>S</td>\n",
       "      <td>UG</td>\n",
       "    </tr>\n",
       "  </tbody>\n",
       "</table>\n",
       "<p>400 rows × 9 columns</p>\n",
       "</div>"
      ]
     },
     "execution_count": 2,
     "metadata": {},
     "output_type": "execute_result"
    }
   ],
   "execution_count": 2
  },
  {
   "metadata": {},
   "cell_type": "markdown",
   "source": "# 2. Clean the data",
   "id": "e22f3f67899b5691"
  },
  {
   "metadata": {},
   "cell_type": "markdown",
   "source": [
    "##### 1. Age -> mean impute ; Embarked -> median impute\n",
    "##### 2. Fare -> Standard Scaler ;  Age -> MinMax Scaler\n",
    "##### 3. Sex, Embaked -> OHE\n",
    "##### 4. education -> Ordinal \n",
    "##### 5. Label Encoding\n",
    "##### 5. Feature Selection\n",
    "##### 6. Model train "
   ],
   "id": "4d5dd6a264170bd8"
  },
  {
   "metadata": {
    "ExecuteTime": {
     "end_time": "2025-04-23T14:48:16.300376Z",
     "start_time": "2025-04-23T14:48:16.294268Z"
    }
   },
   "cell_type": "code",
   "source": "df.isnull().mean() * 100",
   "id": "cbf8b60d9e3a1ff1",
   "outputs": [
    {
     "data": {
      "text/plain": [
       "Survived      0.00\n",
       "Pclass        0.00\n",
       "Sex           0.00\n",
       "Age          19.50\n",
       "SibSp         0.00\n",
       "Parch         0.00\n",
       "Fare          0.00\n",
       "Embarked      0.25\n",
       "education     0.00\n",
       "dtype: float64"
      ]
     },
     "execution_count": 3,
     "metadata": {},
     "output_type": "execute_result"
    }
   ],
   "execution_count": 3
  },
  {
   "metadata": {
    "ExecuteTime": {
     "end_time": "2025-04-23T14:48:16.305168Z",
     "start_time": "2025-04-23T14:48:16.300376Z"
    }
   },
   "cell_type": "code",
   "source": [
    "age_pipe = Pipeline([\n",
    "    ('imputer', SimpleImputer()),\n",
    "    ('scaling', MinMaxScaler())\n",
    "])\n",
    "# Fare (scale)\n",
    "fare_pipe = Pipeline([\n",
    "    ('scaling', StandardScaler())\n",
    "])\n",
    "# Embarked (impute,OHE)\n",
    "embk_pipe = Pipeline([\n",
    "    ('impute', SimpleImputer(strategy='most_frequent')),\n",
    "    ('ohe', OneHotEncoder(drop='first', sparse_output=False, dtype=np.int32))\n",
    "])\n",
    "# Sex (OHE)\n",
    "sex_pipe = Pipeline([\n",
    "    ('ohe', OneHotEncoder(drop='first', sparse_output=False, dtype=np.int32))\n",
    "])\n",
    "# Education (ordinal)\n",
    "edu_pipe = Pipeline([\n",
    "    (\"ordinal\", OrdinalEncoder(categories=[['School', 'UG', 'PG']]))\n",
    "])"
   ],
   "id": "39c0f41e999c26c3",
   "outputs": [],
   "execution_count": 4
  },
  {
   "metadata": {
    "ExecuteTime": {
     "end_time": "2025-04-23T14:48:16.309744Z",
     "start_time": "2025-04-23T14:48:16.305168Z"
    }
   },
   "cell_type": "code",
   "source": [
    "# Preprocessor\n",
    "preprocessor = ColumnTransformer(transformers=[\n",
    "    ('age_pipe', age_pipe, ['Age']),\n",
    "    ('fare_pipe', fare_pipe, ['Fare']),\n",
    "    ('embk_pipe', embk_pipe, ['Embarked']),\n",
    "    ('sex_pipe', sex_pipe, ['Sex']),\n",
    "    ('edu_pipe', edu_pipe, ['education']),\n",
    "], remainder='passthrough')\n"
   ],
   "id": "da69e455cf2c42af",
   "outputs": [],
   "execution_count": 5
  },
  {
   "metadata": {
    "ExecuteTime": {
     "end_time": "2025-04-23T14:48:16.327864Z",
     "start_time": "2025-04-23T14:48:16.309744Z"
    }
   },
   "cell_type": "code",
   "source": [
    "X = preprocessor.fit_transform(df.iloc[:,1:])\n",
    "X"
   ],
   "id": "fc9b5dd59507987b",
   "outputs": [
    {
     "data": {
      "text/plain": [
       "array([[ 0.30169588, -0.51903614,  0.        , ...,  3.        ,\n",
       "         1.        ,  0.        ],\n",
       "       [ 0.52971355,  0.75965824,  0.        , ...,  1.        ,\n",
       "         1.        ,  0.        ],\n",
       "       [ 0.3587003 , -0.50555692,  0.        , ...,  3.        ,\n",
       "         0.        ,  0.        ],\n",
       "       ...,\n",
       "       [ 0.64372239, -0.14461346,  0.        , ...,  2.        ,\n",
       "         0.        ,  0.        ],\n",
       "       [ 0.31594699, -0.45413621,  0.        , ...,  2.        ,\n",
       "         0.        ,  0.        ],\n",
       "       [ 0.38720251, -0.41120241,  0.        , ...,  2.        ,\n",
       "         0.        ,  0.        ]], shape=(400, 9))"
      ]
     },
     "execution_count": 6,
     "metadata": {},
     "output_type": "execute_result"
    }
   ],
   "execution_count": 6
  },
  {
   "metadata": {
    "ExecuteTime": {
     "end_time": "2025-04-23T14:48:16.333073Z",
     "start_time": "2025-04-23T14:48:16.328208Z"
    }
   },
   "cell_type": "code",
   "source": [
    "y = df.iloc[:,0]\n",
    "y"
   ],
   "id": "1aaf7ec91b786c7b",
   "outputs": [
    {
     "data": {
      "text/plain": [
       "0      0\n",
       "1      1\n",
       "2      1\n",
       "3      1\n",
       "4      0\n",
       "      ..\n",
       "395    0\n",
       "396    0\n",
       "397    0\n",
       "398    0\n",
       "399    1\n",
       "Name: Survived, Length: 400, dtype: int64"
      ]
     },
     "execution_count": 7,
     "metadata": {},
     "output_type": "execute_result"
    }
   ],
   "execution_count": 7
  },
  {
   "metadata": {
    "ExecuteTime": {
     "end_time": "2025-04-23T14:48:16.337743Z",
     "start_time": "2025-04-23T14:48:16.333073Z"
    }
   },
   "cell_type": "code",
   "source": "X_train, X_test, y_train, y_test = train_test_split(X,y, test_size=0.2,random_state=42)",
   "id": "b2b5bdcc6b9e0204",
   "outputs": [],
   "execution_count": 8
  },
  {
   "metadata": {
    "ExecuteTime": {
     "end_time": "2025-04-23T14:48:16.342150Z",
     "start_time": "2025-04-23T14:48:16.337743Z"
    }
   },
   "cell_type": "code",
   "source": "X_train.shape, X_test.shape, y_train.shape, y_test.shape",
   "id": "24481503350608a",
   "outputs": [
    {
     "data": {
      "text/plain": [
       "((320, 9), (80, 9), (320,), (80,))"
      ]
     },
     "execution_count": 9,
     "metadata": {},
     "output_type": "execute_result"
    }
   ],
   "execution_count": 9
  },
  {
   "metadata": {
    "ExecuteTime": {
     "end_time": "2025-04-23T14:48:18.224814Z",
     "start_time": "2025-04-23T14:48:16.342150Z"
    }
   },
   "cell_type": "code",
   "source": [
    "import torch\n",
    "\n",
    "X_train = torch.from_numpy(np.asarray(X_train).astype(np.float32))\n",
    "X_test = torch.from_numpy(np.asarray(X_test).astype(np.float32))\n",
    "y_train = torch.from_numpy(np.asarray(y_train).astype(np.float32))\n",
    "y_test = torch.from_numpy(np.asarray(y_test).astype(np.float32))"
   ],
   "id": "224de1493426bb55",
   "outputs": [],
   "execution_count": 10
  },
  {
   "metadata": {
    "ExecuteTime": {
     "end_time": "2025-04-23T14:48:18.232039Z",
     "start_time": "2025-04-23T14:48:18.224814Z"
    }
   },
   "cell_type": "code",
   "source": "X_train",
   "id": "8ded43e538efb2ee",
   "outputs": [
    {
     "data": {
      "text/plain": [
       "tensor([[ 0.4870,  0.3966,  0.0000,  ...,  1.0000,  1.0000,  0.0000],\n",
       "        [ 0.4300, -0.3044,  0.0000,  ...,  3.0000,  1.0000,  0.0000],\n",
       "        [ 0.4727, -0.5341,  0.0000,  ...,  3.0000,  0.0000,  0.0000],\n",
       "        ...,\n",
       "        [ 0.3969, -0.0448,  0.0000,  ...,  1.0000,  0.0000,  0.0000],\n",
       "        [ 0.0309, -0.3463,  0.0000,  ...,  3.0000,  1.0000,  1.0000],\n",
       "        [ 0.2874,  0.8796,  0.0000,  ...,  1.0000,  0.0000,  1.0000]])"
      ]
     },
     "execution_count": 11,
     "metadata": {},
     "output_type": "execute_result"
    }
   ],
   "execution_count": 11
  },
  {
   "metadata": {},
   "cell_type": "markdown",
   "source": "# 3. Build Model",
   "id": "7d5eb53cc2312877"
  },
  {
   "metadata": {
    "ExecuteTime": {
     "end_time": "2025-04-23T14:48:18.242723Z",
     "start_time": "2025-04-23T14:48:18.232551Z"
    }
   },
   "cell_type": "code",
   "source": [
    "import torch.nn as nn\n",
    "\n",
    "class MySimplePerceptron(nn.Module):\n",
    "    def __init__(self, X_train):\n",
    "        super().__init__()\n",
    "        \n",
    "        self.linear = nn.Linear(X_train.shape[1], 1)\n",
    "        self.sigmoid = nn.Sigmoid()\n",
    "    \n",
    "    def forward(self, X_train):\n",
    "        out = self.linear(X_train)\n",
    "        out = self.sigmoid(out)\n",
    "        return out\n",
    "    \n",
    "    def loss_function(self, y_pred, y_train):\n",
    "        epsilon = 1e-8\n",
    "        y_pred = torch.clamp(y_pred, epsilon, 1-epsilon)\n",
    "        loss = (-(y_train * torch.log(y_pred)) - ((1-y_train)*torch.log(1-y_pred))).mean()\n",
    "        return loss"
   ],
   "id": "73300aae5d3f7463",
   "outputs": [],
   "execution_count": 12
  },
  {
   "metadata": {},
   "cell_type": "markdown",
   "source": "# 4. Train Model",
   "id": "810be13c7bd47cd0"
  },
  {
   "metadata": {
    "ExecuteTime": {
     "end_time": "2025-04-23T14:48:18.247621Z",
     "start_time": "2025-04-23T14:48:18.242723Z"
    }
   },
   "cell_type": "code",
   "source": [
    "learning_rate = 0.1\n",
    "epochs = 100"
   ],
   "id": "9eee30b587a544d1",
   "outputs": [],
   "execution_count": 13
  },
  {
   "metadata": {
    "ExecuteTime": {
     "end_time": "2025-04-23T14:48:18.323001Z",
     "start_time": "2025-04-23T14:48:18.249624Z"
    }
   },
   "cell_type": "code",
   "source": [
    "model = MySimplePerceptron(X_train)\n",
    "\n",
    "for epoch in range(epochs):\n",
    "    #forward propagation\n",
    "    y_pred = model.forward(X_train)\n",
    "    \n",
    "    # loss calculate\n",
    "    loss = model.loss_function(y_pred, y_train)\n",
    "    \n",
    "    # backpropagation\n",
    "    loss.backward()\n",
    "    \n",
    "    # update weight and bias\n",
    "    with torch.no_grad():\n",
    "        model.linear.weight -= learning_rate * model.linear.weight.grad\n",
    "        model.linear.bias -= learning_rate * model.linear.bias.grad\n",
    "    \n",
    "    # reinitialize gradient\n",
    "    model.linear.weight.grad.zero_()\n",
    "    model.linear.bias.grad.zero_()\n",
    "    \n",
    "    print(f\"Epoch: {epoch + 1}, Loss: {loss.item()}\")"
   ],
   "id": "bae7b4a0160c668b",
   "outputs": [
    {
     "name": "stdout",
     "output_type": "stream",
     "text": [
      "Epoch: 1, Loss: 0.6958217024803162\n",
      "Epoch: 2, Loss: 0.6930217742919922\n",
      "Epoch: 3, Loss: 0.6910758018493652\n",
      "Epoch: 4, Loss: 0.6896634697914124\n",
      "Epoch: 5, Loss: 0.6885908246040344\n",
      "Epoch: 6, Loss: 0.6877397298812866\n",
      "Epoch: 7, Loss: 0.6870378255844116\n",
      "Epoch: 8, Loss: 0.6864405274391174\n",
      "Epoch: 9, Loss: 0.6859193444252014\n",
      "Epoch: 10, Loss: 0.6854562163352966\n",
      "Epoch: 11, Loss: 0.6850392818450928\n",
      "Epoch: 12, Loss: 0.6846603155136108\n",
      "Epoch: 13, Loss: 0.6843136548995972\n",
      "Epoch: 14, Loss: 0.6839948892593384\n",
      "Epoch: 15, Loss: 0.6837007999420166\n",
      "Epoch: 16, Loss: 0.6834286451339722\n",
      "Epoch: 17, Loss: 0.6831763982772827\n",
      "Epoch: 18, Loss: 0.6829419136047363\n",
      "Epoch: 19, Loss: 0.6827237606048584\n",
      "Epoch: 20, Loss: 0.6825204491615295\n",
      "Epoch: 21, Loss: 0.6823306083679199\n",
      "Epoch: 22, Loss: 0.6821531653404236\n",
      "Epoch: 23, Loss: 0.6819869875907898\n",
      "Epoch: 24, Loss: 0.6818311810493469\n",
      "Epoch: 25, Loss: 0.6816850304603577\n",
      "Epoch: 26, Loss: 0.6815474033355713\n",
      "Epoch: 27, Loss: 0.6814179420471191\n",
      "Epoch: 28, Loss: 0.6812957525253296\n",
      "Epoch: 29, Loss: 0.6811804175376892\n",
      "Epoch: 30, Loss: 0.6810711622238159\n",
      "Epoch: 31, Loss: 0.6809678077697754\n",
      "Epoch: 32, Loss: 0.6808697581291199\n",
      "Epoch: 33, Loss: 0.6807765364646912\n",
      "Epoch: 34, Loss: 0.6806877851486206\n",
      "Epoch: 35, Loss: 0.6806032657623291\n",
      "Epoch: 36, Loss: 0.680522620677948\n",
      "Epoch: 37, Loss: 0.6804454922676086\n",
      "Epoch: 38, Loss: 0.6803716421127319\n",
      "Epoch: 39, Loss: 0.6803009510040283\n",
      "Epoch: 40, Loss: 0.6802330613136292\n",
      "Epoch: 41, Loss: 0.6801678538322449\n",
      "Epoch: 42, Loss: 0.6801051497459412\n",
      "Epoch: 43, Loss: 0.6800447106361389\n",
      "Epoch: 44, Loss: 0.6799864768981934\n",
      "Epoch: 45, Loss: 0.6799302697181702\n",
      "Epoch: 46, Loss: 0.6798758506774902\n",
      "Epoch: 47, Loss: 0.6798232793807983\n",
      "Epoch: 48, Loss: 0.6797723174095154\n",
      "Epoch: 49, Loss: 0.6797229647636414\n",
      "Epoch: 50, Loss: 0.6796749830245972\n",
      "Epoch: 51, Loss: 0.6796285510063171\n",
      "Epoch: 52, Loss: 0.6795831322669983\n",
      "Epoch: 53, Loss: 0.6795392036437988\n",
      "Epoch: 54, Loss: 0.6794962882995605\n",
      "Epoch: 55, Loss: 0.679454505443573\n",
      "Epoch: 56, Loss: 0.6794137358665466\n",
      "Epoch: 57, Loss: 0.679374098777771\n",
      "Epoch: 58, Loss: 0.6793351769447327\n",
      "Epoch: 59, Loss: 0.6792973279953003\n",
      "Epoch: 60, Loss: 0.6792601943016052\n",
      "Epoch: 61, Loss: 0.6792239546775818\n",
      "Epoch: 62, Loss: 0.6791884899139404\n",
      "Epoch: 63, Loss: 0.6791536808013916\n",
      "Epoch: 64, Loss: 0.6791196465492249\n",
      "Epoch: 65, Loss: 0.6790863275527954\n",
      "Epoch: 66, Loss: 0.6790534853935242\n",
      "Epoch: 67, Loss: 0.6790214776992798\n",
      "Epoch: 68, Loss: 0.6789900064468384\n",
      "Epoch: 69, Loss: 0.6789589524269104\n",
      "Epoch: 70, Loss: 0.6789286136627197\n",
      "Epoch: 71, Loss: 0.6788988709449768\n",
      "Epoch: 72, Loss: 0.6788695454597473\n",
      "Epoch: 73, Loss: 0.678840696811676\n",
      "Epoch: 74, Loss: 0.6788123250007629\n",
      "Epoch: 75, Loss: 0.6787844896316528\n",
      "Epoch: 76, Loss: 0.6787570118904114\n",
      "Epoch: 77, Loss: 0.6787300705909729\n",
      "Epoch: 78, Loss: 0.6787034869194031\n",
      "Epoch: 79, Loss: 0.6786773800849915\n",
      "Epoch: 80, Loss: 0.6786515712738037\n",
      "Epoch: 81, Loss: 0.6786262392997742\n",
      "Epoch: 82, Loss: 0.6786012053489685\n",
      "Epoch: 83, Loss: 0.678576648235321\n",
      "Epoch: 84, Loss: 0.6785523891448975\n",
      "Epoch: 85, Loss: 0.6785284280776978\n",
      "Epoch: 86, Loss: 0.6785048842430115\n",
      "Epoch: 87, Loss: 0.6784815788269043\n",
      "Epoch: 88, Loss: 0.6784586906433105\n",
      "Epoch: 89, Loss: 0.6784361004829407\n",
      "Epoch: 90, Loss: 0.6784138679504395\n",
      "Epoch: 91, Loss: 0.6783918142318726\n",
      "Epoch: 92, Loss: 0.6783700585365295\n",
      "Epoch: 93, Loss: 0.6783486008644104\n",
      "Epoch: 94, Loss: 0.6783275008201599\n",
      "Epoch: 95, Loss: 0.6783065795898438\n",
      "Epoch: 96, Loss: 0.678286075592041\n",
      "Epoch: 97, Loss: 0.6782656908035278\n",
      "Epoch: 98, Loss: 0.6782455444335938\n",
      "Epoch: 99, Loss: 0.6782256960868835\n",
      "Epoch: 100, Loss: 0.6782060265541077\n"
     ]
    }
   ],
   "execution_count": 14
  },
  {
   "metadata": {},
   "cell_type": "markdown",
   "source": "# 5. Evaluate Model ",
   "id": "92e5224dcf58dfbc"
  },
  {
   "metadata": {
    "ExecuteTime": {
     "end_time": "2025-04-23T14:48:18.328006Z",
     "start_time": "2025-04-23T14:48:18.323001Z"
    }
   },
   "cell_type": "code",
   "source": [
    "with torch.no_grad():\n",
    "    y_pred = model.forward(X_test)\n",
    "    y_pred = (y_pred > 0.5).float()\n",
    "    accuracy = (y_test == y_pred).float().mean()\n",
    "    print(f\"Accuracy: {accuracy}\")"
   ],
   "id": "b419fc4f81f6b491",
   "outputs": [
    {
     "name": "stdout",
     "output_type": "stream",
     "text": [
      "Accuracy: 0.6543750166893005\n"
     ]
    }
   ],
   "execution_count": 15
  },
  {
   "metadata": {
    "ExecuteTime": {
     "end_time": "2025-04-23T14:48:18.331144Z",
     "start_time": "2025-04-23T14:48:18.328006Z"
    }
   },
   "cell_type": "code",
   "source": "",
   "id": "fe2ca00a89bea6e2",
   "outputs": [],
   "execution_count": 15
  }
 ],
 "metadata": {
  "kernelspec": {
   "display_name": "Python 3",
   "language": "python",
   "name": "python3"
  },
  "language_info": {
   "codemirror_mode": {
    "name": "ipython",
    "version": 2
   },
   "file_extension": ".py",
   "mimetype": "text/x-python",
   "name": "python",
   "nbconvert_exporter": "python",
   "pygments_lexer": "ipython2",
   "version": "2.7.6"
  }
 },
 "nbformat": 4,
 "nbformat_minor": 5
}
