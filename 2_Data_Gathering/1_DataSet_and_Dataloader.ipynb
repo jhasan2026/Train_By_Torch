{
 "cells": [
  {
   "cell_type": "code",
   "id": "initial_id",
   "metadata": {
    "collapsed": true,
    "ExecuteTime": {
     "end_time": "2025-04-23T12:38:53.162146Z",
     "start_time": "2025-04-23T12:38:43.145081Z"
    }
   },
   "source": [
    "import torch\n",
    "from sklearn.datasets import make_classification"
   ],
   "outputs": [],
   "execution_count": 2
  },
  {
   "metadata": {
    "ExecuteTime": {
     "end_time": "2025-04-23T12:38:53.297778Z",
     "start_time": "2025-04-23T12:38:53.162146Z"
    }
   },
   "cell_type": "code",
   "source": [
    "X, y = make_classification(\n",
    "    n_samples=10,\n",
    "    n_features=2,\n",
    "    n_informative=2,\n",
    "    n_redundant=0,\n",
    "    n_classes=2,\n",
    "    random_state=42\n",
    ")"
   ],
   "id": "9c8a402d97cfa1e1",
   "outputs": [],
   "execution_count": 3
  },
  {
   "metadata": {
    "ExecuteTime": {
     "end_time": "2025-04-23T12:42:26.882529Z",
     "start_time": "2025-04-23T12:42:26.878982Z"
    }
   },
   "cell_type": "code",
   "source": "X",
   "id": "a919f8b7178cc9f2",
   "outputs": [
    {
     "data": {
      "text/plain": [
       "array([[ 1.06833894, -0.97007347],\n",
       "       [-1.14021544, -0.83879234],\n",
       "       [-2.8953973 ,  1.97686236],\n",
       "       [-0.72063436, -0.96059253],\n",
       "       [-1.96287438, -0.99225135],\n",
       "       [-0.9382051 , -0.54304815],\n",
       "       [ 1.72725924, -1.18582677],\n",
       "       [ 1.77736657,  1.51157598],\n",
       "       [ 1.89969252,  0.83444483],\n",
       "       [-0.58723065, -1.97171753]])"
      ]
     },
     "execution_count": 9,
     "metadata": {},
     "output_type": "execute_result"
    }
   ],
   "execution_count": 9
  },
  {
   "metadata": {
    "ExecuteTime": {
     "end_time": "2025-04-23T12:42:32.258356Z",
     "start_time": "2025-04-23T12:42:32.249394Z"
    }
   },
   "cell_type": "code",
   "source": "y",
   "id": "4f8e74756b4fee19",
   "outputs": [
    {
     "data": {
      "text/plain": [
       "array([1, 0, 0, 0, 0, 1, 1, 1, 1, 0])"
      ]
     },
     "execution_count": 10,
     "metadata": {},
     "output_type": "execute_result"
    }
   ],
   "execution_count": 10
  },
  {
   "metadata": {
    "ExecuteTime": {
     "end_time": "2025-04-23T12:39:02.806532Z",
     "start_time": "2025-04-23T12:39:02.795977Z"
    }
   },
   "cell_type": "code",
   "source": "from torch.utils.data import Dataset, DataLoader",
   "id": "4a0abc374d2a7d70",
   "outputs": [],
   "execution_count": 4
  },
  {
   "metadata": {
    "ExecuteTime": {
     "end_time": "2025-04-23T12:41:32.812078Z",
     "start_time": "2025-04-23T12:41:32.806698Z"
    }
   },
   "cell_type": "code",
   "source": [
    "class CustomDataset(Dataset):\n",
    "    def __init__(self, features, labels):\n",
    "        self.features = features\n",
    "        self.labels = labels\n",
    "        \n",
    "    def __len__(self):\n",
    "        return self.features.shape[0]\n",
    "    \n",
    "    def __getitem__(self, index):\n",
    "        return self.features[index], self.labels[index]"
   ],
   "id": "655c5b6a2c7da45e",
   "outputs": [],
   "execution_count": 5
  },
  {
   "metadata": {
    "ExecuteTime": {
     "end_time": "2025-04-23T12:41:49.921869Z",
     "start_time": "2025-04-23T12:41:49.916319Z"
    }
   },
   "cell_type": "code",
   "source": "dataset = CustomDataset(X, y)",
   "id": "ed32601dc5ec4aff",
   "outputs": [],
   "execution_count": 6
  },
  {
   "metadata": {
    "ExecuteTime": {
     "end_time": "2025-04-23T12:42:04.525724Z",
     "start_time": "2025-04-23T12:42:04.520178Z"
    }
   },
   "cell_type": "code",
   "source": "len(dataset)",
   "id": "dcf73358ff33c64d",
   "outputs": [
    {
     "data": {
      "text/plain": [
       "10"
      ]
     },
     "execution_count": 7,
     "metadata": {},
     "output_type": "execute_result"
    }
   ],
   "execution_count": 7
  },
  {
   "metadata": {
    "ExecuteTime": {
     "end_time": "2025-04-23T12:42:18.636893Z",
     "start_time": "2025-04-23T12:42:18.630503Z"
    }
   },
   "cell_type": "code",
   "source": "dataset[1]",
   "id": "2ddba97edaa486d7",
   "outputs": [
    {
     "data": {
      "text/plain": [
       "(array([-1.14021544, -0.83879234]), np.int64(0))"
      ]
     },
     "execution_count": 8,
     "metadata": {},
     "output_type": "execute_result"
    }
   ],
   "execution_count": 8
  },
  {
   "metadata": {
    "ExecuteTime": {
     "end_time": "2025-04-23T12:43:21.819177Z",
     "start_time": "2025-04-23T12:43:21.808005Z"
    }
   },
   "cell_type": "code",
   "source": "dataloader = DataLoader(dataset, batch_size=2, shuffle=True)",
   "id": "c26a5beda2c303bb",
   "outputs": [],
   "execution_count": 11
  },
  {
   "metadata": {
    "ExecuteTime": {
     "end_time": "2025-04-23T12:44:13.373577Z",
     "start_time": "2025-04-23T12:44:12.783358Z"
    }
   },
   "cell_type": "code",
   "source": [
    "for batch_features, batch_lables in dataloader:\n",
    "    print(batch_features)\n",
    "    print(batch_lables)\n",
    "    print(\"---------------------\")"
   ],
   "id": "f69c077922d107f9",
   "outputs": [
    {
     "name": "stdout",
     "output_type": "stream",
     "text": [
      "tensor([[ 1.0683, -0.9701],\n",
      "        [-2.8954,  1.9769]], dtype=torch.float64)\n",
      "tensor([1, 0])\n",
      "---------------------\n",
      "tensor([[ 1.7273, -1.1858],\n",
      "        [ 1.7774,  1.5116]], dtype=torch.float64)\n",
      "tensor([1, 1])\n",
      "---------------------\n",
      "tensor([[ 1.8997,  0.8344],\n",
      "        [-1.9629, -0.9923]], dtype=torch.float64)\n",
      "tensor([1, 0])\n",
      "---------------------\n",
      "tensor([[-1.1402, -0.8388],\n",
      "        [-0.9382, -0.5430]], dtype=torch.float64)\n",
      "tensor([0, 1])\n",
      "---------------------\n",
      "tensor([[-0.5872, -1.9717],\n",
      "        [-0.7206, -0.9606]], dtype=torch.float64)\n",
      "tensor([0, 0])\n",
      "---------------------\n"
     ]
    }
   ],
   "execution_count": 12
  },
  {
   "metadata": {},
   "cell_type": "code",
   "outputs": [],
   "execution_count": null,
   "source": "",
   "id": "2487a7f91600ad91"
  }
 ],
 "metadata": {
  "kernelspec": {
   "display_name": "Python 3",
   "language": "python",
   "name": "python3"
  },
  "language_info": {
   "codemirror_mode": {
    "name": "ipython",
    "version": 2
   },
   "file_extension": ".py",
   "mimetype": "text/x-python",
   "name": "python",
   "nbconvert_exporter": "python",
   "pygments_lexer": "ipython2",
   "version": "2.7.6"
  }
 },
 "nbformat": 4,
 "nbformat_minor": 5
}
