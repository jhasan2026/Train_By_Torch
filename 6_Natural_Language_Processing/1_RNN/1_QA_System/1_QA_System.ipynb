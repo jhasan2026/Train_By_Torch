{
 "cells": [
  {
   "cell_type": "code",
   "id": "initial_id",
   "metadata": {
    "collapsed": true,
    "ExecuteTime": {
     "end_time": "2025-04-25T03:20:32.906216Z",
     "start_time": "2025-04-25T03:20:30.954363Z"
    }
   },
   "source": [
    "import pandas as pd\n",
    "import numpy as np\n",
    "import torch \n",
    "import torch.nn as nn"
   ],
   "outputs": [],
   "execution_count": 1
  },
  {
   "metadata": {
    "ExecuteTime": {
     "end_time": "2025-04-25T03:20:32.921750Z",
     "start_time": "2025-04-25T03:20:32.906216Z"
    }
   },
   "cell_type": "code",
   "source": [
    "df = pd.read_csv(\"../../../Data/100_Unique_QA_Dataset.csv\")\n",
    "df"
   ],
   "id": "c8ce07f83d3be2e0",
   "outputs": [
    {
     "data": {
      "text/plain": [
       "                                             question        answer\n",
       "0                      What is the capital of France?         Paris\n",
       "1                     What is the capital of Germany?        Berlin\n",
       "2                  Who wrote 'To Kill a Mockingbird'?    Harper-Lee\n",
       "3     What is the largest planet in our solar system?       Jupiter\n",
       "4      What is the boiling point of water in Celsius?           100\n",
       "..                                                ...           ...\n",
       "85                  Who directed the movie 'Titanic'?  JamesCameron\n",
       "86  Which superhero is also known as the Dark Knight?        Batman\n",
       "87                     What is the capital of Brazil?      Brasilia\n",
       "88        Which fruit is known as the king of fruits?         Mango\n",
       "89       Which country is known for the Eiffel Tower?        France\n",
       "\n",
       "[90 rows x 2 columns]"
      ],
      "text/html": [
       "<div>\n",
       "<style scoped>\n",
       "    .dataframe tbody tr th:only-of-type {\n",
       "        vertical-align: middle;\n",
       "    }\n",
       "\n",
       "    .dataframe tbody tr th {\n",
       "        vertical-align: top;\n",
       "    }\n",
       "\n",
       "    .dataframe thead th {\n",
       "        text-align: right;\n",
       "    }\n",
       "</style>\n",
       "<table border=\"1\" class=\"dataframe\">\n",
       "  <thead>\n",
       "    <tr style=\"text-align: right;\">\n",
       "      <th></th>\n",
       "      <th>question</th>\n",
       "      <th>answer</th>\n",
       "    </tr>\n",
       "  </thead>\n",
       "  <tbody>\n",
       "    <tr>\n",
       "      <th>0</th>\n",
       "      <td>What is the capital of France?</td>\n",
       "      <td>Paris</td>\n",
       "    </tr>\n",
       "    <tr>\n",
       "      <th>1</th>\n",
       "      <td>What is the capital of Germany?</td>\n",
       "      <td>Berlin</td>\n",
       "    </tr>\n",
       "    <tr>\n",
       "      <th>2</th>\n",
       "      <td>Who wrote 'To Kill a Mockingbird'?</td>\n",
       "      <td>Harper-Lee</td>\n",
       "    </tr>\n",
       "    <tr>\n",
       "      <th>3</th>\n",
       "      <td>What is the largest planet in our solar system?</td>\n",
       "      <td>Jupiter</td>\n",
       "    </tr>\n",
       "    <tr>\n",
       "      <th>4</th>\n",
       "      <td>What is the boiling point of water in Celsius?</td>\n",
       "      <td>100</td>\n",
       "    </tr>\n",
       "    <tr>\n",
       "      <th>...</th>\n",
       "      <td>...</td>\n",
       "      <td>...</td>\n",
       "    </tr>\n",
       "    <tr>\n",
       "      <th>85</th>\n",
       "      <td>Who directed the movie 'Titanic'?</td>\n",
       "      <td>JamesCameron</td>\n",
       "    </tr>\n",
       "    <tr>\n",
       "      <th>86</th>\n",
       "      <td>Which superhero is also known as the Dark Knight?</td>\n",
       "      <td>Batman</td>\n",
       "    </tr>\n",
       "    <tr>\n",
       "      <th>87</th>\n",
       "      <td>What is the capital of Brazil?</td>\n",
       "      <td>Brasilia</td>\n",
       "    </tr>\n",
       "    <tr>\n",
       "      <th>88</th>\n",
       "      <td>Which fruit is known as the king of fruits?</td>\n",
       "      <td>Mango</td>\n",
       "    </tr>\n",
       "    <tr>\n",
       "      <th>89</th>\n",
       "      <td>Which country is known for the Eiffel Tower?</td>\n",
       "      <td>France</td>\n",
       "    </tr>\n",
       "  </tbody>\n",
       "</table>\n",
       "<p>90 rows × 2 columns</p>\n",
       "</div>"
      ]
     },
     "execution_count": 2,
     "metadata": {},
     "output_type": "execute_result"
    }
   ],
   "execution_count": 2
  },
  {
   "metadata": {},
   "cell_type": "markdown",
   "source": "# 1. Tokenization",
   "id": "883e1bd10c9e8202"
  },
  {
   "metadata": {
    "ExecuteTime": {
     "end_time": "2025-04-25T03:20:32.926438Z",
     "start_time": "2025-04-25T03:20:32.921750Z"
    }
   },
   "cell_type": "code",
   "source": [
    "def tokenize(text):\n",
    "    text = text.lower()\n",
    "    text = text.replace(\"?\",\"\")\n",
    "    text = text.replace(\"'\",\"\")\n",
    "    return text.split()"
   ],
   "id": "6621f48024cbf6db",
   "outputs": [],
   "execution_count": 3
  },
  {
   "metadata": {
    "ExecuteTime": {
     "end_time": "2025-04-25T03:20:32.932147Z",
     "start_time": "2025-04-25T03:20:32.926438Z"
    }
   },
   "cell_type": "code",
   "source": "tokenize(\"Who wrote 'To Kill a Mockingbird'?\")",
   "id": "5c826666949921da",
   "outputs": [
    {
     "data": {
      "text/plain": [
       "['who', 'wrote', 'to', 'kill', 'a', 'mockingbird']"
      ]
     },
     "execution_count": 4,
     "metadata": {},
     "output_type": "execute_result"
    }
   ],
   "execution_count": 4
  },
  {
   "metadata": {},
   "cell_type": "markdown",
   "source": "# 2. Build vocab",
   "id": "403b1cce03b8a721"
  },
  {
   "metadata": {
    "ExecuteTime": {
     "end_time": "2025-04-25T03:20:32.936746Z",
     "start_time": "2025-04-25T03:20:32.932147Z"
    }
   },
   "cell_type": "code",
   "source": [
    "vocab = {\n",
    "    \"UNK\":0\n",
    "}"
   ],
   "id": "76293b6bb0512e79",
   "outputs": [],
   "execution_count": 5
  },
  {
   "metadata": {
    "ExecuteTime": {
     "end_time": "2025-04-25T03:20:32.941799Z",
     "start_time": "2025-04-25T03:20:32.936746Z"
    }
   },
   "cell_type": "code",
   "source": [
    "def build_vocab(row):\n",
    "    question_tokens = tokenize(row['question'])\n",
    "    answer_tokens = tokenize(row['answer'])\n",
    "    \n",
    "    merge_tokens = question_tokens + answer_tokens\n",
    "    \n",
    "    for token in merge_tokens:\n",
    "        if token not in vocab:\n",
    "            vocab[token] = len(vocab)"
   ],
   "id": "38f1f2d66037ba52",
   "outputs": [],
   "execution_count": 6
  },
  {
   "metadata": {
    "ExecuteTime": {
     "end_time": "2025-04-25T03:20:32.946328Z",
     "start_time": "2025-04-25T03:20:32.941799Z"
    }
   },
   "cell_type": "code",
   "source": "build_vocab(df.iloc[0,:])",
   "id": "7ffa67f53735dce6",
   "outputs": [],
   "execution_count": 7
  },
  {
   "metadata": {
    "ExecuteTime": {
     "end_time": "2025-04-25T03:20:32.953664Z",
     "start_time": "2025-04-25T03:20:32.946328Z"
    }
   },
   "cell_type": "code",
   "source": "df.apply(build_vocab, axis=1)",
   "id": "397d90e8471b5dda",
   "outputs": [
    {
     "data": {
      "text/plain": [
       "0     None\n",
       "1     None\n",
       "2     None\n",
       "3     None\n",
       "4     None\n",
       "      ... \n",
       "85    None\n",
       "86    None\n",
       "87    None\n",
       "88    None\n",
       "89    None\n",
       "Length: 90, dtype: object"
      ]
     },
     "execution_count": 8,
     "metadata": {},
     "output_type": "execute_result"
    }
   ],
   "execution_count": 8
  },
  {
   "metadata": {
    "ExecuteTime": {
     "end_time": "2025-04-25T03:20:32.965446Z",
     "start_time": "2025-04-25T03:20:32.953664Z"
    }
   },
   "cell_type": "code",
   "source": "vocab",
   "id": "a68fbcdc4dc8cb87",
   "outputs": [
    {
     "data": {
      "text/plain": [
       "{'UNK': 0,\n",
       " 'what': 1,\n",
       " 'is': 2,\n",
       " 'the': 3,\n",
       " 'capital': 4,\n",
       " 'of': 5,\n",
       " 'france': 6,\n",
       " 'paris': 7,\n",
       " 'germany': 8,\n",
       " 'berlin': 9,\n",
       " 'who': 10,\n",
       " 'wrote': 11,\n",
       " 'to': 12,\n",
       " 'kill': 13,\n",
       " 'a': 14,\n",
       " 'mockingbird': 15,\n",
       " 'harper-lee': 16,\n",
       " 'largest': 17,\n",
       " 'planet': 18,\n",
       " 'in': 19,\n",
       " 'our': 20,\n",
       " 'solar': 21,\n",
       " 'system': 22,\n",
       " 'jupiter': 23,\n",
       " 'boiling': 24,\n",
       " 'point': 25,\n",
       " 'water': 26,\n",
       " 'celsius': 27,\n",
       " '100': 28,\n",
       " 'painted': 29,\n",
       " 'mona': 30,\n",
       " 'lisa': 31,\n",
       " 'leonardo-da-vinci': 32,\n",
       " 'square': 33,\n",
       " 'root': 34,\n",
       " '64': 35,\n",
       " '8': 36,\n",
       " 'chemical': 37,\n",
       " 'symbol': 38,\n",
       " 'for': 39,\n",
       " 'gold': 40,\n",
       " 'au': 41,\n",
       " 'which': 42,\n",
       " 'year': 43,\n",
       " 'did': 44,\n",
       " 'world': 45,\n",
       " 'war': 46,\n",
       " 'ii': 47,\n",
       " 'end': 48,\n",
       " '1945': 49,\n",
       " 'longest': 50,\n",
       " 'river': 51,\n",
       " 'nile': 52,\n",
       " 'japan': 53,\n",
       " 'tokyo': 54,\n",
       " 'developed': 55,\n",
       " 'theory': 56,\n",
       " 'relativity': 57,\n",
       " 'albert-einstein': 58,\n",
       " 'freezing': 59,\n",
       " 'fahrenheit': 60,\n",
       " '32': 61,\n",
       " 'known': 62,\n",
       " 'as': 63,\n",
       " 'red': 64,\n",
       " 'mars': 65,\n",
       " 'author': 66,\n",
       " '1984': 67,\n",
       " 'george-orwell': 68,\n",
       " 'currency': 69,\n",
       " 'united': 70,\n",
       " 'kingdom': 71,\n",
       " 'pound': 72,\n",
       " 'india': 73,\n",
       " 'delhi': 74,\n",
       " 'discovered': 75,\n",
       " 'gravity': 76,\n",
       " 'newton': 77,\n",
       " 'how': 78,\n",
       " 'many': 79,\n",
       " 'continents': 80,\n",
       " 'are': 81,\n",
       " 'there': 82,\n",
       " 'on': 83,\n",
       " 'earth': 84,\n",
       " '7': 85,\n",
       " 'gas': 86,\n",
       " 'do': 87,\n",
       " 'plants': 88,\n",
       " 'use': 89,\n",
       " 'photosynthesis': 90,\n",
       " 'co2': 91,\n",
       " 'smallest': 92,\n",
       " 'prime': 93,\n",
       " 'number': 94,\n",
       " '2': 95,\n",
       " 'invented': 96,\n",
       " 'telephone': 97,\n",
       " 'alexander-graham-bell': 98,\n",
       " 'australia': 99,\n",
       " 'canberra': 100,\n",
       " 'ocean': 101,\n",
       " 'pacific-ocean': 102,\n",
       " 'speed': 103,\n",
       " 'light': 104,\n",
       " 'vacuum': 105,\n",
       " '299,792,458m/s': 106,\n",
       " 'language': 107,\n",
       " 'spoken': 108,\n",
       " 'brazil': 109,\n",
       " 'portuguese': 110,\n",
       " 'penicillin': 111,\n",
       " 'alexander-fleming': 112,\n",
       " 'canada': 113,\n",
       " 'ottawa': 114,\n",
       " 'mammal': 115,\n",
       " 'whale': 116,\n",
       " 'element': 117,\n",
       " 'has': 118,\n",
       " 'atomic': 119,\n",
       " '1': 120,\n",
       " 'hydrogen': 121,\n",
       " 'tallest': 122,\n",
       " 'mountain': 123,\n",
       " 'everest': 124,\n",
       " 'city': 125,\n",
       " 'big': 126,\n",
       " 'apple': 127,\n",
       " 'newyork': 128,\n",
       " 'planets': 129,\n",
       " 'starry': 130,\n",
       " 'night': 131,\n",
       " 'vangogh': 132,\n",
       " 'formula': 133,\n",
       " 'h2o': 134,\n",
       " 'italy': 135,\n",
       " 'rome': 136,\n",
       " 'country': 137,\n",
       " 'famous': 138,\n",
       " 'sushi': 139,\n",
       " 'was': 140,\n",
       " 'first': 141,\n",
       " 'person': 142,\n",
       " 'step': 143,\n",
       " 'moon': 144,\n",
       " 'armstrong': 145,\n",
       " 'main': 146,\n",
       " 'ingredient': 147,\n",
       " 'guacamole': 148,\n",
       " 'avocado': 149,\n",
       " 'sides': 150,\n",
       " 'does': 151,\n",
       " 'hexagon': 152,\n",
       " 'have': 153,\n",
       " '6': 154,\n",
       " 'china': 155,\n",
       " 'yuan': 156,\n",
       " 'pride': 157,\n",
       " 'and': 158,\n",
       " 'prejudice': 159,\n",
       " 'jane-austen': 160,\n",
       " 'iron': 161,\n",
       " 'fe': 162,\n",
       " 'hardest': 163,\n",
       " 'natural': 164,\n",
       " 'substance': 165,\n",
       " 'diamond': 166,\n",
       " 'continent': 167,\n",
       " 'by': 168,\n",
       " 'area': 169,\n",
       " 'asia': 170,\n",
       " 'president': 171,\n",
       " 'states': 172,\n",
       " 'george-washington': 173,\n",
       " 'bird': 174,\n",
       " 'its': 175,\n",
       " 'ability': 176,\n",
       " 'mimic': 177,\n",
       " 'sounds': 178,\n",
       " 'parrot': 179,\n",
       " 'longest-running': 180,\n",
       " 'animated': 181,\n",
       " 'tv': 182,\n",
       " 'show': 183,\n",
       " 'simpsons': 184,\n",
       " 'vaticancity': 185,\n",
       " 'most': 186,\n",
       " 'moons': 187,\n",
       " 'saturn': 188,\n",
       " 'romeo': 189,\n",
       " 'juliet': 190,\n",
       " 'shakespeare': 191,\n",
       " 'earths': 192,\n",
       " 'atmosphere': 193,\n",
       " 'nitrogen': 194,\n",
       " 'bones': 195,\n",
       " 'adult': 196,\n",
       " 'human': 197,\n",
       " 'body': 198,\n",
       " '206': 199,\n",
       " 'metal': 200,\n",
       " 'liquid': 201,\n",
       " 'at': 202,\n",
       " 'room': 203,\n",
       " 'temperature': 204,\n",
       " 'mercury': 205,\n",
       " 'russia': 206,\n",
       " 'moscow': 207,\n",
       " 'electricity': 208,\n",
       " 'benjamin-franklin': 209,\n",
       " 'second-largest': 210,\n",
       " 'land': 211,\n",
       " 'color': 212,\n",
       " 'ripe': 213,\n",
       " 'banana': 214,\n",
       " 'yellow': 215,\n",
       " 'month': 216,\n",
       " '28': 217,\n",
       " 'days': 218,\n",
       " 'common': 219,\n",
       " 'february': 220,\n",
       " 'study': 221,\n",
       " 'living': 222,\n",
       " 'organisms': 223,\n",
       " 'called': 224,\n",
       " 'biology': 225,\n",
       " 'home': 226,\n",
       " 'great': 227,\n",
       " 'wall': 228,\n",
       " 'bees': 229,\n",
       " 'collect': 230,\n",
       " 'from': 231,\n",
       " 'flowers': 232,\n",
       " 'nectar': 233,\n",
       " 'opposite': 234,\n",
       " 'day': 235,\n",
       " 'south': 236,\n",
       " 'korea': 237,\n",
       " 'seoul': 238,\n",
       " 'bulb': 239,\n",
       " 'edison': 240,\n",
       " 'humans': 241,\n",
       " 'breathe': 242,\n",
       " 'survival': 243,\n",
       " 'oxygen': 244,\n",
       " '144': 245,\n",
       " '12': 246,\n",
       " 'pyramids': 247,\n",
       " 'giza': 248,\n",
       " 'egypt': 249,\n",
       " 'sea': 250,\n",
       " 'creature': 251,\n",
       " 'eight': 252,\n",
       " 'arms': 253,\n",
       " 'octopus': 254,\n",
       " 'holiday': 255,\n",
       " 'celebrated': 256,\n",
       " 'december': 257,\n",
       " '25': 258,\n",
       " 'christmas': 259,\n",
       " 'yen': 260,\n",
       " 'legs': 261,\n",
       " 'spider': 262,\n",
       " 'sport': 263,\n",
       " 'uses': 264,\n",
       " 'net,': 265,\n",
       " 'ball,': 266,\n",
       " 'hoop': 267,\n",
       " 'basketball': 268,\n",
       " 'kangaroos': 269,\n",
       " 'female': 270,\n",
       " 'minister': 271,\n",
       " 'uk': 272,\n",
       " 'margaretthatcher': 273,\n",
       " 'fastest': 274,\n",
       " 'animal': 275,\n",
       " 'cheetah': 276,\n",
       " 'periodic': 277,\n",
       " 'table': 278,\n",
       " 'spain': 279,\n",
       " 'madrid': 280,\n",
       " 'closest': 281,\n",
       " 'sun': 282,\n",
       " 'father': 283,\n",
       " 'computers': 284,\n",
       " 'charlesbabbage': 285,\n",
       " 'mexico': 286,\n",
       " 'mexicocity': 287,\n",
       " 'colors': 288,\n",
       " 'rainbow': 289,\n",
       " 'musical': 290,\n",
       " 'instrument': 291,\n",
       " 'black': 292,\n",
       " 'white': 293,\n",
       " 'keys': 294,\n",
       " 'piano': 295,\n",
       " 'americas': 296,\n",
       " '1492': 297,\n",
       " 'christophercolumbus': 298,\n",
       " 'disney': 299,\n",
       " 'character': 300,\n",
       " 'long': 301,\n",
       " 'nose': 302,\n",
       " 'grows': 303,\n",
       " 'it': 304,\n",
       " 'when': 305,\n",
       " 'lying': 306,\n",
       " 'pinocchio': 307,\n",
       " 'directed': 308,\n",
       " 'movie': 309,\n",
       " 'titanic': 310,\n",
       " 'jamescameron': 311,\n",
       " 'superhero': 312,\n",
       " 'also': 313,\n",
       " 'dark': 314,\n",
       " 'knight': 315,\n",
       " 'batman': 316,\n",
       " 'brasilia': 317,\n",
       " 'fruit': 318,\n",
       " 'king': 319,\n",
       " 'fruits': 320,\n",
       " 'mango': 321,\n",
       " 'eiffel': 322,\n",
       " 'tower': 323}"
      ]
     },
     "execution_count": 9,
     "metadata": {},
     "output_type": "execute_result"
    }
   ],
   "execution_count": 9
  },
  {
   "metadata": {},
   "cell_type": "markdown",
   "source": "# 3. Text to numeric representation",
   "id": "6e718f9718e1f741"
  },
  {
   "metadata": {
    "ExecuteTime": {
     "end_time": "2025-04-25T03:20:32.969742Z",
     "start_time": "2025-04-25T03:20:32.965446Z"
    }
   },
   "cell_type": "code",
   "source": [
    "def text_to_numeric_rep(text, vocab):\n",
    "    numerical_represent = []\n",
    "    for word in tokenize(text):\n",
    "        if word in vocab:\n",
    "            numerical_represent.append(vocab[word])\n",
    "        else:\n",
    "            numerical_represent.append(0)\n",
    "    return numerical_represent"
   ],
   "id": "1706fd95db4888d7",
   "outputs": [],
   "execution_count": 10
  },
  {
   "metadata": {
    "ExecuteTime": {
     "end_time": "2025-04-25T03:20:32.973959Z",
     "start_time": "2025-04-25T03:20:32.969742Z"
    }
   },
   "cell_type": "code",
   "source": "# print(text_to_numeric_rep(\"What is the capital of Germany?\"))",
   "id": "8ce771e855006f55",
   "outputs": [],
   "execution_count": 11
  },
  {
   "metadata": {},
   "cell_type": "markdown",
   "source": "# 4. Dataloader",
   "id": "d6e8a4512e82314e"
  },
  {
   "metadata": {
    "ExecuteTime": {
     "end_time": "2025-04-25T03:20:32.979886Z",
     "start_time": "2025-04-25T03:20:32.973959Z"
    }
   },
   "cell_type": "code",
   "source": [
    "from torch.utils.data import Dataset, DataLoader\n",
    "\n",
    "class CustomDataset(Dataset):\n",
    "    def __init__(self,df, vocab):\n",
    "        self.df = df\n",
    "        self.vocab = vocab\n",
    "        \n",
    "    def __len__(self):\n",
    "        return self.df.shape[0]\n",
    "    \n",
    "    def __getitem__(self, index):\n",
    "        numerical_question = text_to_numeric_rep(self.df.iloc[index]['question'], self.vocab)\n",
    "        numerical_answer = text_to_numeric_rep(self.df.iloc[index]['answer'], self.vocab)\n",
    "        \n",
    "        return torch.tensor(numerical_question), torch.tensor(numerical_answer)"
   ],
   "id": "28e7c86294efb1c6",
   "outputs": [],
   "execution_count": 12
  },
  {
   "metadata": {
    "ExecuteTime": {
     "end_time": "2025-04-25T03:20:32.984830Z",
     "start_time": "2025-04-25T03:20:32.979886Z"
    }
   },
   "cell_type": "code",
   "source": "dataset = CustomDataset(df,vocab)",
   "id": "5d3694250a5d1a9e",
   "outputs": [],
   "execution_count": 13
  },
  {
   "metadata": {
    "ExecuteTime": {
     "end_time": "2025-04-25T03:20:32.989690Z",
     "start_time": "2025-04-25T03:20:32.986834Z"
    }
   },
   "cell_type": "code",
   "source": "dataloader = DataLoader(dataset, batch_size=1, shuffle=True)",
   "id": "5ff7cb0ec4259875",
   "outputs": [],
   "execution_count": 14
  },
  {
   "metadata": {
    "ExecuteTime": {
     "end_time": "2025-04-25T03:20:33.397742Z",
     "start_time": "2025-04-25T03:20:32.989690Z"
    }
   },
   "cell_type": "code",
   "source": [
    "for ques, ans in dataloader:\n",
    "    print(ques,ans)\n",
    "    break"
   ],
   "id": "ab1cf867d07aaff4",
   "outputs": [
    {
     "name": "stdout",
     "output_type": "stream",
     "text": [
      "tensor([[ 42,  86,  87, 241, 242,  19,  39, 243]]) tensor([[244]])\n"
     ]
    }
   ],
   "execution_count": 15
  },
  {
   "metadata": {},
   "cell_type": "markdown",
   "source": "# 5. Model Build",
   "id": "d6fa88a601d1e6cf"
  },
  {
   "metadata": {
    "ExecuteTime": {
     "end_time": "2025-04-25T03:26:52.641350Z",
     "start_time": "2025-04-25T03:26:52.634576Z"
    }
   },
   "cell_type": "code",
   "source": [
    "class MyRNN(nn.Module):\n",
    "    def __init__(self, vocab_size):\n",
    "        super().__init__()\n",
    "        \n",
    "        self.embedding = nn.Embedding(vocab_size, embedding_dim=50)\n",
    "        self.rnn = nn.RNN(50,64, batch_first=True)\n",
    "        self.fc = nn.Linear(64, vocab_size)\n",
    "        \n",
    "    def forward(self, question):\n",
    "        embedded_ques = self.embedding(question)\n",
    "        hidden_output, final_output  = self.rnn(embedded_ques)\n",
    "        return self.fc(final_output.squeeze(0))"
   ],
   "id": "1937b758c902c392",
   "outputs": [],
   "execution_count": 19
  },
  {
   "metadata": {},
   "cell_type": "markdown",
   "source": "# 6. Train Model",
   "id": "76e4ae6544ba51fa"
  },
  {
   "metadata": {
    "ExecuteTime": {
     "end_time": "2025-04-25T03:26:53.089395Z",
     "start_time": "2025-04-25T03:26:53.080494Z"
    }
   },
   "cell_type": "code",
   "source": [
    "learning_rate = 0.001\n",
    "epochs = 50"
   ],
   "id": "a8753f06b64e3df6",
   "outputs": [],
   "execution_count": 20
  },
  {
   "metadata": {
    "ExecuteTime": {
     "end_time": "2025-04-25T03:26:57.898675Z",
     "start_time": "2025-04-25T03:26:53.610623Z"
    }
   },
   "cell_type": "code",
   "source": [
    "model = MyRNN(len(vocab))\n",
    "\n",
    "criterion = nn.CrossEntropyLoss()\n",
    "\n",
    "optimizer = torch.optim.Adam(model.parameters(), lr=learning_rate)"
   ],
   "id": "1405317030972da2",
   "outputs": [],
   "execution_count": 21
  },
  {
   "metadata": {
    "ExecuteTime": {
     "end_time": "2025-04-25T03:31:23.925026Z",
     "start_time": "2025-04-25T03:31:16.796801Z"
    }
   },
   "cell_type": "code",
   "source": [
    "for epoch in range(epochs):\n",
    "    epochs_loss = 0\n",
    "    for question, answer in dataloader:\n",
    "        optimizer.zero_grad()\n",
    "        \n",
    "        y_pred = model(question)\n",
    "        \n",
    "        loss = criterion(y_pred, answer[0])\n",
    "        \n",
    "        loss.backward()\n",
    "        \n",
    "        optimizer.step()\n",
    "        \n",
    "        epochs_loss += loss.item()\n",
    "    avg_epoch_loss = epochs_loss/len(dataloader)\n",
    "        \n",
    "    print(f\"Epoch {epoch+1}: Loss {avg_epoch_loss}\")"
   ],
   "id": "d84312d50f718ad4",
   "outputs": [
    {
     "name": "stdout",
     "output_type": "stream",
     "text": [
      "Epoch 1: Loss 5.835732126235962\n",
      "Epoch 2: Loss 5.074254258473714\n",
      "Epoch 3: Loss 4.1657337692048815\n",
      "Epoch 4: Loss 3.4849736319647895\n",
      "Epoch 5: Loss 2.9205668873257107\n",
      "Epoch 6: Loss 2.3967658506499396\n",
      "Epoch 7: Loss 1.9206106238894993\n",
      "Epoch 8: Loss 1.5023357066843244\n",
      "Epoch 9: Loss 1.157876263724433\n",
      "Epoch 10: Loss 0.8862549202309714\n",
      "Epoch 11: Loss 0.6799574772516886\n",
      "Epoch 12: Loss 0.5270513297783004\n",
      "Epoch 13: Loss 0.4203493810362286\n",
      "Epoch 14: Loss 0.33833623445696304\n",
      "Epoch 15: Loss 0.27879472788837223\n",
      "Epoch 16: Loss 0.23149375046292942\n",
      "Epoch 17: Loss 0.19881039361159006\n",
      "Epoch 18: Loss 0.17142770571841134\n",
      "Epoch 19: Loss 0.14795433688494894\n",
      "Epoch 20: Loss 0.12859844813744228\n",
      "Epoch 21: Loss 0.11277186013758182\n",
      "Epoch 22: Loss 0.09929669325550397\n",
      "Epoch 23: Loss 0.08816642533573839\n",
      "Epoch 24: Loss 0.07856650207605627\n",
      "Epoch 25: Loss 0.06997940374745262\n",
      "Epoch 26: Loss 0.06305696583456463\n",
      "Epoch 27: Loss 0.05694458790951305\n",
      "Epoch 28: Loss 0.051871440766586195\n",
      "Epoch 29: Loss 0.04721116423606873\n",
      "Epoch 30: Loss 0.04326238445937634\n",
      "Epoch 31: Loss 0.03948584277596739\n",
      "Epoch 32: Loss 0.036415858939290044\n",
      "Epoch 33: Loss 0.03360003257791201\n",
      "Epoch 34: Loss 0.031002872602807152\n",
      "Epoch 35: Loss 0.0287299826534258\n",
      "Epoch 36: Loss 0.026632126420736313\n",
      "Epoch 37: Loss 0.024778781613955896\n",
      "Epoch 38: Loss 0.023038342553708287\n",
      "Epoch 39: Loss 0.021498144066168203\n",
      "Epoch 40: Loss 0.02011034553870559\n",
      "Epoch 41: Loss 0.018798093932370346\n",
      "Epoch 42: Loss 0.017609910522070196\n",
      "Epoch 43: Loss 0.01650837514963415\n",
      "Epoch 44: Loss 0.015489303330994315\n",
      "Epoch 45: Loss 0.0145868096086714\n",
      "Epoch 46: Loss 0.013687377278175619\n",
      "Epoch 47: Loss 0.012896665847963756\n",
      "Epoch 48: Loss 0.012142919935286045\n",
      "Epoch 49: Loss 0.011466198409390118\n",
      "Epoch 50: Loss 0.010813576603929202\n"
     ]
    }
   ],
   "execution_count": 22
  },
  {
   "metadata": {},
   "cell_type": "markdown",
   "source": "# 7. Evaluation",
   "id": "5509e020c94389e5"
  },
  {
   "metadata": {
    "ExecuteTime": {
     "end_time": "2025-04-25T03:44:29.236462Z",
     "start_time": "2025-04-25T03:44:29.231354Z"
    }
   },
   "cell_type": "code",
   "source": [
    "def Predict(model, question, threshold=0.5):\n",
    "    # convert text to number\n",
    "    numerical_ques = text_to_numeric_rep(question, vocab)\n",
    "    \n",
    "    # make it tensor\n",
    "    tensor_ques = torch.tensor(numerical_ques).unsqueeze(0)\n",
    "    \n",
    "    # probabilities\n",
    "    output_probability = model(tensor_ques)\n",
    "    \n",
    "    # use softmax\n",
    "    probs = torch.nn.functional.softmax(output_probability, dim=1)\n",
    "    \n",
    "    max_prob , index = torch.max(probs, dim=1)\n",
    "    \n",
    "    if max_prob > threshold:\n",
    "        print(list(vocab.keys())[index])\n",
    "    else:\n",
    "        print(\"I  dont Know\")"
   ],
   "id": "761f6a06413dbd3e",
   "outputs": [],
   "execution_count": 38
  },
  {
   "metadata": {
    "ExecuteTime": {
     "end_time": "2025-04-25T03:44:29.833266Z",
     "start_time": "2025-04-25T03:44:29.817339Z"
    }
   },
   "cell_type": "code",
   "source": "Predict(model, \"What is the capital of France?\")",
   "id": "6dc252b0eb1bfe0e",
   "outputs": [
    {
     "name": "stdout",
     "output_type": "stream",
     "text": [
      "paris\n"
     ]
    }
   ],
   "execution_count": 39
  },
  {
   "metadata": {
    "ExecuteTime": {
     "end_time": "2025-04-25T03:44:31.344023Z",
     "start_time": "2025-04-25T03:44:31.336732Z"
    }
   },
   "cell_type": "code",
   "source": "list(vocab.keys())[7]",
   "id": "6cf7cb7e434114c7",
   "outputs": [
    {
     "data": {
      "text/plain": [
       "'paris'"
      ]
     },
     "execution_count": 40,
     "metadata": {},
     "output_type": "execute_result"
    }
   ],
   "execution_count": 40
  },
  {
   "metadata": {},
   "cell_type": "code",
   "outputs": [],
   "execution_count": null,
   "source": "",
   "id": "e14cfed31b3ce68"
  }
 ],
 "metadata": {
  "kernelspec": {
   "display_name": "Python 3",
   "language": "python",
   "name": "python3"
  },
  "language_info": {
   "codemirror_mode": {
    "name": "ipython",
    "version": 2
   },
   "file_extension": ".py",
   "mimetype": "text/x-python",
   "name": "python",
   "nbconvert_exporter": "python",
   "pygments_lexer": "ipython2",
   "version": "2.7.6"
  }
 },
 "nbformat": 4,
 "nbformat_minor": 5
}
