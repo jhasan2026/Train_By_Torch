{
 "cells": [
  {
   "cell_type": "code",
   "id": "initial_id",
   "metadata": {
    "collapsed": true,
    "ExecuteTime": {
     "end_time": "2025-05-10T03:41:54.858072Z",
     "start_time": "2025-05-10T03:41:54.853460Z"
    }
   },
   "source": "import torch",
   "outputs": [],
   "execution_count": 13
  },
  {
   "metadata": {
    "ExecuteTime": {
     "end_time": "2025-05-10T03:41:54.887858Z",
     "start_time": "2025-05-10T03:41:54.884909Z"
    }
   },
   "cell_type": "code",
   "source": [
    "inputs = torch.tensor([[0.43, 0.15, 0.89], # Your     (x^1)\n",
    "   [0.55, 0.87, 0.66], # journey  (x^2)\n",
    "   [0.57, 0.85, 0.64], # starts   (x^3)\n",
    "   [0.22, 0.58, 0.33], # with     (x^4)\n",
    "   [0.77, 0.25, 0.10], # one      (x^5)\n",
    "   [0.05, 0.80, 0.55]] # step     (x^6)\n",
    ")"
   ],
   "id": "e9d748c317e082d2",
   "outputs": [],
   "execution_count": 14
  },
  {
   "metadata": {
    "ExecuteTime": {
     "end_time": "2025-05-10T03:41:54.911098Z",
     "start_time": "2025-05-10T03:41:54.905020Z"
    }
   },
   "cell_type": "code",
   "source": "inputs",
   "id": "aa56164bf365cad0",
   "outputs": [
    {
     "data": {
      "text/plain": [
       "tensor([[0.4300, 0.1500, 0.8900],\n",
       "        [0.5500, 0.8700, 0.6600],\n",
       "        [0.5700, 0.8500, 0.6400],\n",
       "        [0.2200, 0.5800, 0.3300],\n",
       "        [0.7700, 0.2500, 0.1000],\n",
       "        [0.0500, 0.8000, 0.5500]])"
      ]
     },
     "execution_count": 15,
     "metadata": {},
     "output_type": "execute_result"
    }
   ],
   "execution_count": 15
  },
  {
   "metadata": {
    "ExecuteTime": {
     "end_time": "2025-05-10T03:41:54.915828Z",
     "start_time": "2025-05-10T03:41:54.911098Z"
    }
   },
   "cell_type": "code",
   "source": [
    "# starts -> query\n",
    "query = inputs[1]\n",
    "query"
   ],
   "id": "2acf53ec4fb9a8e5",
   "outputs": [
    {
     "data": {
      "text/plain": [
       "tensor([0.5500, 0.8700, 0.6600])"
      ]
     },
     "execution_count": 16,
     "metadata": {},
     "output_type": "execute_result"
    }
   ],
   "execution_count": 16
  },
  {
   "metadata": {
    "ExecuteTime": {
     "end_time": "2025-05-10T03:41:54.920666Z",
     "start_time": "2025-05-10T03:41:54.915828Z"
    }
   },
   "cell_type": "code",
   "source": [
    "atten_score_2 = torch.empty(inputs.shape[0])\n",
    "atten_score_2.shape"
   ],
   "id": "62f9c6488e8f2ce6",
   "outputs": [
    {
     "data": {
      "text/plain": [
       "torch.Size([6])"
      ]
     },
     "execution_count": 17,
     "metadata": {},
     "output_type": "execute_result"
    }
   ],
   "execution_count": 17
  },
  {
   "metadata": {
    "ExecuteTime": {
     "end_time": "2025-05-10T03:41:54.926267Z",
     "start_time": "2025-05-10T03:41:54.920666Z"
    }
   },
   "cell_type": "code",
   "source": [
    "for index, row_of_input in enumerate(inputs):\n",
    "   atten_score_2[index] = torch.dot(row_of_input, query)\n",
    "atten_score_2"
   ],
   "id": "bdee84b85d1987f6",
   "outputs": [
    {
     "data": {
      "text/plain": [
       "tensor([0.9544, 1.4950, 1.4754, 0.8434, 0.7070, 1.0865])"
      ]
     },
     "execution_count": 18,
     "metadata": {},
     "output_type": "execute_result"
    }
   ],
   "execution_count": 18
  },
  {
   "metadata": {
    "ExecuteTime": {
     "end_time": "2025-05-10T03:41:54.931569Z",
     "start_time": "2025-05-10T03:41:54.926267Z"
    }
   },
   "cell_type": "code",
   "source": [
    "# normalize\n",
    "atten_score_2 = torch.softmax(atten_score_2, dim=0)\n",
    "atten_score_2"
   ],
   "id": "4cf728c131849729",
   "outputs": [
    {
     "data": {
      "text/plain": [
       "tensor([0.1385, 0.2379, 0.2333, 0.1240, 0.1082, 0.1581])"
      ]
     },
     "execution_count": 19,
     "metadata": {},
     "output_type": "execute_result"
    }
   ],
   "execution_count": 19
  },
  {
   "metadata": {},
   "cell_type": "markdown",
   "source": "# for all possible pair",
   "id": "36bccbea322c077b"
  },
  {
   "metadata": {
    "ExecuteTime": {
     "end_time": "2025-05-10T03:43:18.393364Z",
     "start_time": "2025-05-10T03:43:18.389644Z"
    }
   },
   "cell_type": "code",
   "source": [
    "atten_score_2 = torch.empty(6,6)\n",
    "for  row_index,each_row_as_query in enumerate(inputs):\n",
    "   for index, row_of_input in enumerate(inputs):\n",
    "      atten_score_2[row_index, index] = torch.dot(row_of_input, each_row_as_query)\n"
   ],
   "id": "fb4d38b9db983523",
   "outputs": [],
   "execution_count": 24
  },
  {
   "metadata": {
    "ExecuteTime": {
     "end_time": "2025-05-10T03:43:18.868614Z",
     "start_time": "2025-05-10T03:43:18.852400Z"
    }
   },
   "cell_type": "code",
   "source": "atten_score_2",
   "id": "db01bbf1c3abe0d2",
   "outputs": [
    {
     "data": {
      "text/plain": [
       "tensor([[0.9995, 0.9544, 0.9422, 0.4753, 0.4576, 0.6310],\n",
       "        [0.9544, 1.4950, 1.4754, 0.8434, 0.7070, 1.0865],\n",
       "        [0.9422, 1.4754, 1.4570, 0.8296, 0.7154, 1.0605],\n",
       "        [0.4753, 0.8434, 0.8296, 0.4937, 0.3474, 0.6565],\n",
       "        [0.4576, 0.7070, 0.7154, 0.3474, 0.6654, 0.2935],\n",
       "        [0.6310, 1.0865, 1.0605, 0.6565, 0.2935, 0.9450]])"
      ]
     },
     "execution_count": 25,
     "metadata": {},
     "output_type": "execute_result"
    }
   ],
   "execution_count": 25
  },
  {
   "metadata": {
    "ExecuteTime": {
     "end_time": "2025-05-10T03:43:19.567829Z",
     "start_time": "2025-05-10T03:43:19.561807Z"
    }
   },
   "cell_type": "code",
   "source": "atten_score_2.shape",
   "id": "6e2328d934f2cf7",
   "outputs": [
    {
     "data": {
      "text/plain": [
       "torch.Size([6, 6])"
      ]
     },
     "execution_count": 26,
     "metadata": {},
     "output_type": "execute_result"
    }
   ],
   "execution_count": 26
  },
  {
   "metadata": {
    "ExecuteTime": {
     "end_time": "2025-05-10T03:43:20.106453Z",
     "start_time": "2025-05-10T03:43:20.088293Z"
    }
   },
   "cell_type": "code",
   "source": [
    "# normalize\n",
    "atten_weight_2 = torch.softmax(atten_score_2, dim=-1)\n",
    "atten_weight_2"
   ],
   "id": "3dc3b79c46b3aada",
   "outputs": [
    {
     "data": {
      "text/plain": [
       "tensor([[0.2098, 0.2006, 0.1981, 0.1242, 0.1220, 0.1452],\n",
       "        [0.1385, 0.2379, 0.2333, 0.1240, 0.1082, 0.1581],\n",
       "        [0.1390, 0.2369, 0.2326, 0.1242, 0.1108, 0.1565],\n",
       "        [0.1435, 0.2074, 0.2046, 0.1462, 0.1263, 0.1720],\n",
       "        [0.1526, 0.1958, 0.1975, 0.1367, 0.1879, 0.1295],\n",
       "        [0.1385, 0.2184, 0.2128, 0.1420, 0.0988, 0.1896]])"
      ]
     },
     "execution_count": 27,
     "metadata": {},
     "output_type": "execute_result"
    }
   ],
   "execution_count": 27
  },
  {
   "metadata": {},
   "cell_type": "markdown",
   "source": "# Using Matrix Multiplication",
   "id": "7d200604bd114965"
  },
  {
   "metadata": {
    "ExecuteTime": {
     "end_time": "2025-05-10T03:45:22.448423Z",
     "start_time": "2025-05-10T03:45:22.259572Z"
    }
   },
   "cell_type": "code",
   "source": [
    "atten_score = inputs @ inputs.T\n",
    "atten_score"
   ],
   "id": "95caf9415a8f1c1e",
   "outputs": [
    {
     "data": {
      "text/plain": [
       "tensor([[0.9995, 0.9544, 0.9422, 0.4753, 0.4576, 0.6310],\n",
       "        [0.9544, 1.4950, 1.4754, 0.8434, 0.7070, 1.0865],\n",
       "        [0.9422, 1.4754, 1.4570, 0.8296, 0.7154, 1.0605],\n",
       "        [0.4753, 0.8434, 0.8296, 0.4937, 0.3474, 0.6565],\n",
       "        [0.4576, 0.7070, 0.7154, 0.3474, 0.6654, 0.2935],\n",
       "        [0.6310, 1.0865, 1.0605, 0.6565, 0.2935, 0.9450]])"
      ]
     },
     "execution_count": 28,
     "metadata": {},
     "output_type": "execute_result"
    }
   ],
   "execution_count": 28
  },
  {
   "metadata": {
    "ExecuteTime": {
     "end_time": "2025-05-10T03:46:55.314079Z",
     "start_time": "2025-05-10T03:46:55.303664Z"
    }
   },
   "cell_type": "code",
   "source": [
    "# normalize\n",
    "atten_weight = torch.softmax(atten_score, dim=-1)\n",
    "atten_weight"
   ],
   "id": "84653f3305dc9635",
   "outputs": [
    {
     "data": {
      "text/plain": [
       "tensor([[0.2098, 0.2006, 0.1981, 0.1242, 0.1220, 0.1452],\n",
       "        [0.1385, 0.2379, 0.2333, 0.1240, 0.1082, 0.1581],\n",
       "        [0.1390, 0.2369, 0.2326, 0.1242, 0.1108, 0.1565],\n",
       "        [0.1435, 0.2074, 0.2046, 0.1462, 0.1263, 0.1720],\n",
       "        [0.1526, 0.1958, 0.1975, 0.1367, 0.1879, 0.1295],\n",
       "        [0.1385, 0.2184, 0.2128, 0.1420, 0.0988, 0.1896]])"
      ]
     },
     "execution_count": 30,
     "metadata": {},
     "output_type": "execute_result"
    }
   ],
   "execution_count": 30
  },
  {
   "metadata": {},
   "cell_type": "code",
   "outputs": [],
   "execution_count": null,
   "source": "",
   "id": "3d88b0cd4760afab"
  }
 ],
 "metadata": {
  "kernelspec": {
   "display_name": "Python 3",
   "language": "python",
   "name": "python3"
  },
  "language_info": {
   "codemirror_mode": {
    "name": "ipython",
    "version": 2
   },
   "file_extension": ".py",
   "mimetype": "text/x-python",
   "name": "python",
   "nbconvert_exporter": "python",
   "pygments_lexer": "ipython2",
   "version": "2.7.6"
  }
 },
 "nbformat": 4,
 "nbformat_minor": 5
}
