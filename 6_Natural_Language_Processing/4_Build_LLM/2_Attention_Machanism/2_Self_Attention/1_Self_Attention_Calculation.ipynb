{
 "cells": [
  {
   "cell_type": "code",
   "id": "initial_id",
   "metadata": {
    "collapsed": true,
    "ExecuteTime": {
     "end_time": "2025-05-10T05:55:34.977094Z",
     "start_time": "2025-05-10T05:55:33.302769Z"
    }
   },
   "source": [
    "import torch\n",
    "inputs = torch.tensor([\n",
    "   [0.43, 0.15, 0.89], # Your     (x^1)\n",
    "   [0.55, 0.87, 0.66], # journey  (x^2)\n",
    "   [0.57, 0.85, 0.64], # starts   (x^3)\n",
    "   [0.22, 0.58, 0.33], # with     (x^4)\n",
    "   [0.77, 0.25, 0.10], # one      (x^5)\n",
    "   [0.05, 0.80, 0.55]] # step     (x^6)\n",
    ")"
   ],
   "outputs": [],
   "execution_count": 1
  },
  {
   "metadata": {},
   "cell_type": "markdown",
   "source": "# For 'Journey'",
   "id": "9dd03959c0e0c4c"
  },
  {
   "metadata": {
    "ExecuteTime": {
     "end_time": "2025-05-10T05:55:34.986206Z",
     "start_time": "2025-05-10T05:55:34.977094Z"
    }
   },
   "cell_type": "code",
   "source": [
    "input_2 = inputs[1]\n",
    "input_2"
   ],
   "id": "f9e9b8d47f61686e",
   "outputs": [
    {
     "data": {
      "text/plain": [
       "tensor([0.5500, 0.8700, 0.6600])"
      ]
     },
     "execution_count": 2,
     "metadata": {},
     "output_type": "execute_result"
    }
   ],
   "execution_count": 2
  },
  {
   "metadata": {
    "ExecuteTime": {
     "end_time": "2025-05-10T05:55:34.995090Z",
     "start_time": "2025-05-10T05:55:34.986206Z"
    }
   },
   "cell_type": "code",
   "source": [
    "d_in = inputs.shape[1]  # embedding size (3)\n",
    "d_out = 2"
   ],
   "id": "ea0c8fbcc5dc0741",
   "outputs": [],
   "execution_count": 3
  },
  {
   "metadata": {
    "ExecuteTime": {
     "end_time": "2025-05-10T05:55:35.001050Z",
     "start_time": "2025-05-10T05:55:34.995090Z"
    }
   },
   "cell_type": "code",
   "source": [
    "# generate (3*2) size matrix for query, key, value\n",
    "\n",
    "torch.manual_seed(123)\n",
    "W_query = torch.nn.Parameter(torch.rand(d_in,d_out), requires_grad=False)\n",
    "W_key = torch.nn.Parameter(torch.rand(d_in,d_out), requires_grad=False)\n",
    "W_value = torch.nn.Parameter(torch.rand(d_in,d_out), requires_grad=False)"
   ],
   "id": "3509ed3937ccc429",
   "outputs": [],
   "execution_count": 4
  },
  {
   "metadata": {
    "ExecuteTime": {
     "end_time": "2025-05-10T05:55:35.006421Z",
     "start_time": "2025-05-10T05:55:35.001050Z"
    }
   },
   "cell_type": "code",
   "source": "W_query",
   "id": "23cfe50635db4a2",
   "outputs": [
    {
     "data": {
      "text/plain": [
       "Parameter containing:\n",
       "tensor([[0.2961, 0.5166],\n",
       "        [0.2517, 0.6886],\n",
       "        [0.0740, 0.8665]])"
      ]
     },
     "execution_count": 5,
     "metadata": {},
     "output_type": "execute_result"
    }
   ],
   "execution_count": 5
  },
  {
   "metadata": {
    "ExecuteTime": {
     "end_time": "2025-05-10T05:55:35.010396Z",
     "start_time": "2025-05-10T05:55:35.006421Z"
    }
   },
   "cell_type": "code",
   "source": [
    "# single input (row 2) -> transform\n",
    "query_2 = input_2 @ W_query\n",
    "key_2 = input_2 @ W_key\n",
    "value_2 = input_2 @ W_value"
   ],
   "id": "b22a730203820c2e",
   "outputs": [],
   "execution_count": 6
  },
  {
   "metadata": {
    "ExecuteTime": {
     "end_time": "2025-05-10T05:55:35.017542Z",
     "start_time": "2025-05-10T05:55:35.010396Z"
    }
   },
   "cell_type": "code",
   "source": "query_2",
   "id": "5cfc8a94d80c324f",
   "outputs": [
    {
     "data": {
      "text/plain": [
       "tensor([0.4306, 1.4551])"
      ]
     },
     "execution_count": 7,
     "metadata": {},
     "output_type": "execute_result"
    }
   ],
   "execution_count": 7
  },
  {
   "metadata": {
    "ExecuteTime": {
     "end_time": "2025-05-10T05:55:35.022923Z",
     "start_time": "2025-05-10T05:55:35.017542Z"
    }
   },
   "cell_type": "code",
   "source": "value_2",
   "id": "98c7a83de3f1d099",
   "outputs": [
    {
     "data": {
      "text/plain": [
       "tensor([0.3951, 1.0037])"
      ]
     },
     "execution_count": 8,
     "metadata": {},
     "output_type": "execute_result"
    }
   ],
   "execution_count": 8
  },
  {
   "metadata": {
    "ExecuteTime": {
     "end_time": "2025-05-10T05:55:35.027478Z",
     "start_time": "2025-05-10T05:55:35.022923Z"
    }
   },
   "cell_type": "code",
   "source": "key_2",
   "id": "c0a2e6b7c44c87e5",
   "outputs": [
    {
     "data": {
      "text/plain": [
       "tensor([0.4433, 1.1419])"
      ]
     },
     "execution_count": 9,
     "metadata": {},
     "output_type": "execute_result"
    }
   ],
   "execution_count": 9
  },
  {
   "metadata": {},
   "cell_type": "markdown",
   "source": "### (w22) =  For 'Journey' --> key_2  ",
   "id": "60285fc3b89edef2"
  },
  {
   "metadata": {
    "ExecuteTime": {
     "end_time": "2025-05-10T05:55:35.032320Z",
     "start_time": "2025-05-10T05:55:35.027478Z"
    }
   },
   "cell_type": "code",
   "source": [
    "attention_score_22 = query_2.dot(key_2)\n",
    "attention_score_22"
   ],
   "id": "f427e47997548a49",
   "outputs": [
    {
     "data": {
      "text/plain": [
       "tensor(1.8524)"
      ]
     },
     "execution_count": 10,
     "metadata": {},
     "output_type": "execute_result"
    }
   ],
   "execution_count": 10
  },
  {
   "metadata": {},
   "cell_type": "markdown",
   "source": "### (w21, w22, w23, ..., w2T) =  For 'Journey' --> keys ",
   "id": "3e9d7ed8d64da62b"
  },
  {
   "metadata": {
    "ExecuteTime": {
     "end_time": "2025-05-10T05:55:35.037265Z",
     "start_time": "2025-05-10T05:55:35.032320Z"
    }
   },
   "cell_type": "code",
   "source": [
    "keys = inputs @ W_key\n",
    "keys"
   ],
   "id": "6ee3c5a1fdac5c64",
   "outputs": [
    {
     "data": {
      "text/plain": [
       "tensor([[0.3669, 0.7646],\n",
       "        [0.4433, 1.1419],\n",
       "        [0.4361, 1.1156],\n",
       "        [0.2408, 0.6706],\n",
       "        [0.1827, 0.3292],\n",
       "        [0.3275, 0.9642]])"
      ]
     },
     "execution_count": 11,
     "metadata": {},
     "output_type": "execute_result"
    }
   ],
   "execution_count": 11
  },
  {
   "metadata": {
    "ExecuteTime": {
     "end_time": "2025-05-10T05:55:35.042037Z",
     "start_time": "2025-05-10T05:55:35.037265Z"
    }
   },
   "cell_type": "code",
   "source": [
    "attention_score_2 = query_2 @ keys.T\n",
    "attention_score_2"
   ],
   "id": "2e92c75274833ecc",
   "outputs": [
    {
     "data": {
      "text/plain": [
       "tensor([1.2705, 1.8524, 1.8111, 1.0795, 0.5577, 1.5440])"
      ]
     },
     "execution_count": 12,
     "metadata": {},
     "output_type": "execute_result"
    }
   ],
   "execution_count": 12
  },
  {
   "metadata": {
    "ExecuteTime": {
     "end_time": "2025-05-10T05:55:35.047025Z",
     "start_time": "2025-05-10T05:55:35.042037Z"
    }
   },
   "cell_type": "code",
   "source": [
    "# normalize\n",
    "d_k = keys.shape[-1]\n",
    "attention_weights_2 = torch.softmax(attention_score_2 / d_k**0.5, dim=-1)\n",
    "attention_weights_2"
   ],
   "id": "e6252d4bfbb1b564",
   "outputs": [
    {
     "data": {
      "text/plain": [
       "tensor([0.1500, 0.2264, 0.2199, 0.1311, 0.0906, 0.1820])"
      ]
     },
     "execution_count": 13,
     "metadata": {},
     "output_type": "execute_result"
    }
   ],
   "execution_count": 13
  },
  {
   "metadata": {
    "ExecuteTime": {
     "end_time": "2025-05-10T05:55:35.053311Z",
     "start_time": "2025-05-10T05:55:35.047025Z"
    }
   },
   "cell_type": "code",
   "source": [
    "## context vector weighted sum of attention_wight and values\n",
    "\n",
    "values = inputs @ W_value\n",
    "values"
   ],
   "id": "6c6c4474f1527d69",
   "outputs": [
    {
     "data": {
      "text/plain": [
       "tensor([[0.1855, 0.8812],\n",
       "        [0.3951, 1.0037],\n",
       "        [0.3879, 0.9831],\n",
       "        [0.2393, 0.5493],\n",
       "        [0.1492, 0.3346],\n",
       "        [0.3221, 0.7863]])"
      ]
     },
     "execution_count": 14,
     "metadata": {},
     "output_type": "execute_result"
    }
   ],
   "execution_count": 14
  },
  {
   "metadata": {
    "ExecuteTime": {
     "end_time": "2025-05-10T05:55:35.058005Z",
     "start_time": "2025-05-10T05:55:35.053311Z"
    }
   },
   "cell_type": "code",
   "source": [
    "context_vector = attention_weights_2 @ values\n",
    "context_vector"
   ],
   "id": "287727fd3f5efc4d",
   "outputs": [
    {
     "data": {
      "text/plain": [
       "tensor([0.3061, 0.8210])"
      ]
     },
     "execution_count": 15,
     "metadata": {},
     "output_type": "execute_result"
    }
   ],
   "execution_count": 15
  },
  {
   "metadata": {},
   "cell_type": "markdown",
   "source": "# For all query",
   "id": "7bd836b80b71a9ba"
  },
  {
   "metadata": {
    "ExecuteTime": {
     "end_time": "2025-05-10T05:55:35.062677Z",
     "start_time": "2025-05-10T05:55:35.058005Z"
    }
   },
   "cell_type": "code",
   "source": "inputs",
   "id": "92b6ff222046396c",
   "outputs": [
    {
     "data": {
      "text/plain": [
       "tensor([[0.4300, 0.1500, 0.8900],\n",
       "        [0.5500, 0.8700, 0.6600],\n",
       "        [0.5700, 0.8500, 0.6400],\n",
       "        [0.2200, 0.5800, 0.3300],\n",
       "        [0.7700, 0.2500, 0.1000],\n",
       "        [0.0500, 0.8000, 0.5500]])"
      ]
     },
     "execution_count": 16,
     "metadata": {},
     "output_type": "execute_result"
    }
   ],
   "execution_count": 16
  },
  {
   "metadata": {
    "ExecuteTime": {
     "end_time": "2025-05-10T05:55:35.066325Z",
     "start_time": "2025-05-10T05:55:35.062677Z"
    }
   },
   "cell_type": "code",
   "source": [
    "queries = inputs @ W_query\n",
    "keys = inputs @ W_key\n",
    "values = inputs @ W_value"
   ],
   "id": "771cd3db5711be64",
   "outputs": [],
   "execution_count": 17
  },
  {
   "metadata": {
    "ExecuteTime": {
     "end_time": "2025-05-10T05:55:35.075584Z",
     "start_time": "2025-05-10T05:55:35.066325Z"
    }
   },
   "cell_type": "code",
   "source": "queries",
   "id": "4d2c2e2196abb8bc",
   "outputs": [
    {
     "data": {
      "text/plain": [
       "tensor([[0.2309, 1.0966],\n",
       "        [0.4306, 1.4551],\n",
       "        [0.4300, 1.4343],\n",
       "        [0.2355, 0.7990],\n",
       "        [0.2983, 0.6565],\n",
       "        [0.2568, 1.0533]])"
      ]
     },
     "execution_count": 18,
     "metadata": {},
     "output_type": "execute_result"
    }
   ],
   "execution_count": 18
  },
  {
   "metadata": {
    "ExecuteTime": {
     "end_time": "2025-05-10T05:55:35.080586Z",
     "start_time": "2025-05-10T05:55:35.075584Z"
    }
   },
   "cell_type": "code",
   "source": [
    "attention_scores = queries @ keys.T\n",
    "attention_scores"
   ],
   "id": "6c94eaf04d7d82db",
   "outputs": [
    {
     "data": {
      "text/plain": [
       "tensor([[0.9231, 1.3545, 1.3241, 0.7910, 0.4032, 1.1330],\n",
       "        [1.2705, 1.8524, 1.8111, 1.0795, 0.5577, 1.5440],\n",
       "        [1.2544, 1.8284, 1.7877, 1.0654, 0.5508, 1.5238],\n",
       "        [0.6973, 1.0167, 0.9941, 0.5925, 0.3061, 0.8475],\n",
       "        [0.6114, 0.8819, 0.8626, 0.5121, 0.2707, 0.7307],\n",
       "        [0.8995, 1.3165, 1.2871, 0.7682, 0.3937, 1.0996]])"
      ]
     },
     "execution_count": 19,
     "metadata": {},
     "output_type": "execute_result"
    }
   ],
   "execution_count": 19
  },
  {
   "metadata": {
    "ExecuteTime": {
     "end_time": "2025-05-10T05:55:35.088596Z",
     "start_time": "2025-05-10T05:55:35.081589Z"
    }
   },
   "cell_type": "code",
   "source": [
    "d_k = keys.shape[-1]\n",
    "print(d_k)\n",
    "\n",
    "attention_weights = torch.softmax(attention_scores / d_k**0.5, dim=-1)\n",
    "attention_weights"
   ],
   "id": "c5757c42e2618a43",
   "outputs": [
    {
     "name": "stdout",
     "output_type": "stream",
     "text": [
      "2\n"
     ]
    },
    {
     "data": {
      "text/plain": [
       "tensor([[0.1551, 0.2104, 0.2059, 0.1413, 0.1074, 0.1799],\n",
       "        [0.1500, 0.2264, 0.2199, 0.1311, 0.0906, 0.1820],\n",
       "        [0.1503, 0.2256, 0.2192, 0.1315, 0.0914, 0.1819],\n",
       "        [0.1591, 0.1994, 0.1962, 0.1477, 0.1206, 0.1769],\n",
       "        [0.1610, 0.1949, 0.1923, 0.1501, 0.1265, 0.1752],\n",
       "        [0.1557, 0.2092, 0.2048, 0.1419, 0.1089, 0.1794]])"
      ]
     },
     "execution_count": 20,
     "metadata": {},
     "output_type": "execute_result"
    }
   ],
   "execution_count": 20
  },
  {
   "metadata": {
    "ExecuteTime": {
     "end_time": "2025-05-10T05:55:35.093766Z",
     "start_time": "2025-05-10T05:55:35.088596Z"
    }
   },
   "cell_type": "code",
   "source": [
    "context_vectors = attention_weights @ values\n",
    "context_vectors"
   ],
   "id": "1838ca972fcfd529",
   "outputs": [
    {
     "data": {
      "text/plain": [
       "tensor([[0.2996, 0.8053],\n",
       "        [0.3061, 0.8210],\n",
       "        [0.3058, 0.8203],\n",
       "        [0.2948, 0.7939],\n",
       "        [0.2927, 0.7891],\n",
       "        [0.2990, 0.8040]])"
      ]
     },
     "execution_count": 21,
     "metadata": {},
     "output_type": "execute_result"
    }
   ],
   "execution_count": 21
  },
  {
   "metadata": {},
   "cell_type": "markdown",
   "source": "# Implement Class",
   "id": "e2cda8a83d13e95d"
  },
  {
   "metadata": {
    "ExecuteTime": {
     "end_time": "2025-05-10T05:57:20.498261Z",
     "start_time": "2025-05-10T05:57:20.490067Z"
    }
   },
   "cell_type": "code",
   "source": [
    "import torch.nn as nn\n",
    "\n",
    "class SelfAttentionOwnClass(nn.Module):\n",
    "   def __init__(self, d_in, d_out):\n",
    "      super().__init__()\n",
    "      self.W_query = nn.Parameter(torch.rand(d_in,d_out))\n",
    "      self.W_key = nn.Parameter(torch.rand(d_in,d_out))\n",
    "      self.W_value = nn.Parameter(torch.rand(d_in,d_out))\n",
    "      \n",
    "   def forward(self,x):\n",
    "      queries = x @ self.W_query\n",
    "      keys = x @ self.W_key\n",
    "      values = x @ self.W_value\n",
    "      \n",
    "      attention_scores = queries @ keys.T\n",
    "      d_k = keys.shape[-1]\n",
    "      attention_weights = torch.softmax(attention_scores/ d_k**0.5, dim=-1)\n",
    "      context_vector = attention_weights @ values\n",
    "      return context_vector"
   ],
   "id": "7079bbeaac50e86a",
   "outputs": [],
   "execution_count": 25
  },
  {
   "metadata": {
    "ExecuteTime": {
     "end_time": "2025-05-10T05:57:20.826405Z",
     "start_time": "2025-05-10T05:57:20.820449Z"
    }
   },
   "cell_type": "code",
   "source": [
    "torch.manual_seed(123)\n",
    "sA = SelfAttentionOwnClass(d_in, d_out)"
   ],
   "id": "67a812601b2b5dd3",
   "outputs": [],
   "execution_count": 26
  },
  {
   "metadata": {
    "ExecuteTime": {
     "end_time": "2025-05-10T05:57:21.451105Z",
     "start_time": "2025-05-10T05:57:21.441800Z"
    }
   },
   "cell_type": "code",
   "source": "sA(inputs)",
   "id": "68bba1e9143c3f61",
   "outputs": [
    {
     "data": {
      "text/plain": [
       "tensor([[0.2996, 0.8053],\n",
       "        [0.3061, 0.8210],\n",
       "        [0.3058, 0.8203],\n",
       "        [0.2948, 0.7939],\n",
       "        [0.2927, 0.7891],\n",
       "        [0.2990, 0.8040]], grad_fn=<MmBackward0>)"
      ]
     },
     "execution_count": 27,
     "metadata": {},
     "output_type": "execute_result"
    }
   ],
   "execution_count": 27
  },
  {
   "metadata": {
    "ExecuteTime": {
     "end_time": "2025-05-10T05:55:35.113262Z",
     "start_time": "2025-05-10T05:55:35.110073Z"
    }
   },
   "cell_type": "code",
   "source": "",
   "id": "fbf5cb73573bc662",
   "outputs": [],
   "execution_count": 24
  }
 ],
 "metadata": {
  "kernelspec": {
   "display_name": "Python 3",
   "language": "python",
   "name": "python3"
  },
  "language_info": {
   "codemirror_mode": {
    "name": "ipython",
    "version": 2
   },
   "file_extension": ".py",
   "mimetype": "text/x-python",
   "name": "python",
   "nbconvert_exporter": "python",
   "pygments_lexer": "ipython2",
   "version": "2.7.6"
  }
 },
 "nbformat": 4,
 "nbformat_minor": 5
}
