{
 "cells": [
  {
   "cell_type": "code",
   "id": "initial_id",
   "metadata": {
    "collapsed": true,
    "ExecuteTime": {
     "end_time": "2025-05-10T10:40:11.345293Z",
     "start_time": "2025-05-10T10:40:07.493232Z"
    }
   },
   "source": [
    "import torch\n",
    "inputs = torch.tensor([\n",
    "   [0.43, 0.15, 0.89], # Your     \n",
    "   [0.55, 0.87, 0.66], # journey  \n",
    "   [0.57, 0.85, 0.64], # starts   \n",
    "   [0.22, 0.58, 0.33], # with     \n",
    "   [0.77, 0.25, 0.10], # one      \n",
    "   [0.05, 0.80, 0.55]] # step     \n",
    ")"
   ],
   "outputs": [],
   "execution_count": 1
  },
  {
   "metadata": {
    "ExecuteTime": {
     "end_time": "2025-05-10T10:40:11.350908Z",
     "start_time": "2025-05-10T10:40:11.345293Z"
    }
   },
   "cell_type": "code",
   "source": [
    "import torch.nn as nn\n",
    "class SelfAttentionOwnClass:\n",
    "    def __init__(self,d_in, d_out, qkv_bias=False):\n",
    "        super().__init__()\n",
    "        self.W_query = nn.Linear(d_in, d_out, bias=qkv_bias)\n",
    "        self.W_key = nn.Linear(d_in, d_out, bias=qkv_bias)\n",
    "        self.W_value = nn.Linear(d_in, d_out, bias=qkv_bias)\n",
    "        \n",
    "    def forward(self,x):\n",
    "        queries = self.W_query(x)\n",
    "        keys = self.W_key(x)\n",
    "        values = self.W_value(x)\n",
    "        \n",
    "        attention_scores = queries @ keys.T\n",
    "        \n",
    "        d_k = keys.shape[-1]\n",
    "        attention_weights = torch.softmax(\n",
    "            attention_scores / d_k**0.5, dim=-1\n",
    "        )\n",
    "        context_vector = attention_weights @ values\n",
    "        return context_vector"
   ],
   "id": "aa9ce9ae84e8a75",
   "outputs": [],
   "execution_count": 2
  },
  {
   "metadata": {
    "ExecuteTime": {
     "end_time": "2025-05-10T10:40:11.367272Z",
     "start_time": "2025-05-10T10:40:11.351927Z"
    }
   },
   "cell_type": "code",
   "source": [
    "d_in = inputs.shape[1]\n",
    "d_out = 2\n",
    "d_in"
   ],
   "id": "3d4d93175a207deb",
   "outputs": [
    {
     "data": {
      "text/plain": [
       "3"
      ]
     },
     "execution_count": 3,
     "metadata": {},
     "output_type": "execute_result"
    }
   ],
   "execution_count": 3
  },
  {
   "metadata": {
    "ExecuteTime": {
     "end_time": "2025-05-10T10:40:11.371776Z",
     "start_time": "2025-05-10T10:40:11.367272Z"
    }
   },
   "cell_type": "code",
   "source": "sA = SelfAttentionOwnClass(d_in,d_out)",
   "id": "20a0d7a68410d35c",
   "outputs": [],
   "execution_count": 4
  },
  {
   "metadata": {
    "ExecuteTime": {
     "end_time": "2025-05-10T10:40:11.383545Z",
     "start_time": "2025-05-10T10:40:11.371776Z"
    }
   },
   "cell_type": "code",
   "source": [
    "torch.manual_seed(789)\n",
    "sA.forward(inputs)"
   ],
   "id": "325f3656efba7bd0",
   "outputs": [
    {
     "data": {
      "text/plain": [
       "tensor([[-0.1270,  0.1867],\n",
       "        [-0.1263,  0.1849],\n",
       "        [-0.1264,  0.1849],\n",
       "        [-0.1266,  0.1858],\n",
       "        [-0.1295,  0.1863],\n",
       "        [-0.1251,  0.1854]], grad_fn=<MmBackward0>)"
      ]
     },
     "execution_count": 5,
     "metadata": {},
     "output_type": "execute_result"
    }
   ],
   "execution_count": 5
  },
  {
   "metadata": {
    "ExecuteTime": {
     "end_time": "2025-05-10T10:40:11.386960Z",
     "start_time": "2025-05-10T10:40:11.383545Z"
    }
   },
   "cell_type": "code",
   "source": "",
   "id": "6796376e0600dfc9",
   "outputs": [],
   "execution_count": 5
  }
 ],
 "metadata": {
  "kernelspec": {
   "display_name": "Python 3",
   "language": "python",
   "name": "python3"
  },
  "language_info": {
   "codemirror_mode": {
    "name": "ipython",
    "version": 2
   },
   "file_extension": ".py",
   "mimetype": "text/x-python",
   "name": "python",
   "nbconvert_exporter": "python",
   "pygments_lexer": "ipython2",
   "version": "2.7.6"
  }
 },
 "nbformat": 4,
 "nbformat_minor": 5
}
