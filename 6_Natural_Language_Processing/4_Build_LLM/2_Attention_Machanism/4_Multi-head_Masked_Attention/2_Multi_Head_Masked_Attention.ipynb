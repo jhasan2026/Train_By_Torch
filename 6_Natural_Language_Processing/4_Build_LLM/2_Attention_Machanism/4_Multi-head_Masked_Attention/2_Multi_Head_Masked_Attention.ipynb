{
 "cells": [
  {
   "metadata": {
    "ExecuteTime": {
     "end_time": "2025-05-11T05:05:24.203750Z",
     "start_time": "2025-05-11T05:05:22.131053Z"
    }
   },
   "cell_type": "code",
   "source": [
    "import torch\n",
    "inputs = torch.tensor(\n",
    "    [[\n",
    "       [0.43, 0.15, 0.89], # Your     \n",
    "       [0.55, 0.87, 0.66], # journey  \n",
    "       [0.57, 0.85, 0.64], # starts   \n",
    "       [0.22, 0.58, 0.33], # with     \n",
    "       [0.77, 0.25, 0.10], # one      \n",
    "       [0.05, 0.80, 0.55]  # step     \n",
    "    ],\n",
    "    [\n",
    "       [0.43, 0.15, 0.89], # His     \n",
    "       [0.55, 0.87, 0.66], # journey  \n",
    "       [0.57, 0.85, 0.64], # end   \n",
    "       [0.22, 0.58, 0.33], # at     \n",
    "       [0.77, 0.25, 0.10], # last      \n",
    "       [0.05, 0.80, 0.55]  # way     \n",
    "    ]\n",
    "])"
   ],
   "id": "c5c7cbf99861e6ff",
   "outputs": [],
   "execution_count": 1
  },
  {
   "metadata": {
    "ExecuteTime": {
     "end_time": "2025-05-11T05:05:24.210932Z",
     "start_time": "2025-05-11T05:05:24.203750Z"
    }
   },
   "cell_type": "code",
   "source": "inputs.shape",
   "id": "fb557f5a2713be59",
   "outputs": [
    {
     "data": {
      "text/plain": [
       "torch.Size([2, 6, 3])"
      ]
     },
     "execution_count": 2,
     "metadata": {},
     "output_type": "execute_result"
    }
   ],
   "execution_count": 2
  },
  {
   "metadata": {
    "ExecuteTime": {
     "end_time": "2025-05-11T05:05:24.223243Z",
     "start_time": "2025-05-11T05:05:24.211442Z"
    }
   },
   "cell_type": "code",
   "source": "inputs.dim()",
   "id": "41493c87e53295af",
   "outputs": [
    {
     "data": {
      "text/plain": [
       "3"
      ]
     },
     "execution_count": 3,
     "metadata": {},
     "output_type": "execute_result"
    }
   ],
   "execution_count": 3
  },
  {
   "metadata": {
    "ExecuteTime": {
     "end_time": "2025-05-11T05:12:58.467813Z",
     "start_time": "2025-05-11T05:12:58.452155Z"
    }
   },
   "cell_type": "code",
   "source": [
    "import torch.nn as nn\n",
    "\n",
    "class MultiHeadAttention(nn.Module):\n",
    "    def __init__(self,d_in,d_out,context_length,dropout,num_of_head,qkv_bias=False):\n",
    "        super().__init__()\n",
    "        \n",
    "        assert (d_out % num_of_head == 0), \"d_out must be divisible by num_of_head\"\n",
    "        \n",
    "        self.d_out = d_out                                    # 2\n",
    "        self.dropout = nn.Dropout(dropout)\n",
    "        self.num_of_head = num_of_head                         # 2\n",
    "        \n",
    "        self.head_dim = d_out // num_of_head                # 2//2 = 1\n",
    "        self.out_proj = nn.Linear(d_out, d_out)             \n",
    "        \n",
    "        self.W_query = nn.Linear(d_in, d_out, bias=qkv_bias)\n",
    "        self.W_key = nn.Linear(d_in, d_out, bias=qkv_bias)\n",
    "        self.W_value = nn.Linear(d_in, d_out, bias=qkv_bias)\n",
    "        \n",
    "        self.register_buffer(\n",
    "            \"mask\",\n",
    "            torch.triu(torch.ones(context_length,context_length), diagonal=1)\n",
    "        )\n",
    "        \n",
    "    def forward(self, x):\n",
    "        num_of_inputs, num_of_tokens, embedding_dim = x.shape           # 2, 6, 3\n",
    "        \n",
    "        queries = self.W_query(x)                            \n",
    "        keys = self.W_key(x)\n",
    "        values = self.W_value(x)\n",
    "        \n",
    "        queries = queries.view(num_of_inputs, num_of_tokens, self.num_of_head, self.head_dim)       # 2, 6, 2, 1 \n",
    "        keys = keys.view(num_of_inputs, num_of_tokens, self.num_of_head, self.head_dim)       # 2, 6, 2, 1 \n",
    "        values = values.view(num_of_inputs, num_of_tokens, self.num_of_head, self.head_dim)       # 2, 6, 2, 1 \n",
    "        \n",
    "        \n",
    "        queries = queries.transpose(1,2)\n",
    "        keys = keys.transpose(1,2)\n",
    "        values = values.transpose(1,2)\n",
    "        \n",
    "        attention_score = queries @ keys.transpose(2,3)\n",
    "        mask_bool = self.mask.bool() [:num_of_tokens, :num_of_tokens]\n",
    "        \n",
    "        attention_score.masked_fill_(mask_bool, -torch.inf)\n",
    "        \n",
    "        k_d = keys.shape[-1]\n",
    "        attention_weight = torch.softmax(attention_score / k_d**0.5, dim=-1)\n",
    "        attention_weight = self.dropout(attention_weight)\n",
    "        \n",
    "        context_vector = (attention_weight @ values).transpose(1,2)\n",
    "        \n",
    "        context_vector = context_vector.contiguous().view(\n",
    "            num_of_inputs, num_of_tokens, self.d_out\n",
    "        )\n",
    "        context_vector = self.out_proj(context_vector)\n",
    "        return context_vector"
   ],
   "id": "130bc0ced4fd820b",
   "outputs": [],
   "execution_count": 8
  },
  {
   "metadata": {
    "ExecuteTime": {
     "end_time": "2025-05-11T05:12:58.785425Z",
     "start_time": "2025-05-11T05:12:58.782095Z"
    }
   },
   "cell_type": "code",
   "source": [
    "batch_size, context_length, d_in  = inputs.shape\n",
    "d_out = 2"
   ],
   "id": "5a4e367840ab98e5",
   "outputs": [],
   "execution_count": 9
  },
  {
   "metadata": {
    "ExecuteTime": {
     "end_time": "2025-05-11T05:12:59.185451Z",
     "start_time": "2025-05-11T05:12:59.179652Z"
    }
   },
   "cell_type": "code",
   "source": "mha = MultiHeadAttention(d_in,d_out,context_length,0.0,num_of_head=2)",
   "id": "1194ad3374ac4fe8",
   "outputs": [],
   "execution_count": 10
  },
  {
   "metadata": {
    "ExecuteTime": {
     "end_time": "2025-05-11T05:12:59.564082Z",
     "start_time": "2025-05-11T05:12:59.471746Z"
    }
   },
   "cell_type": "code",
   "source": "print(mha(inputs))",
   "id": "1a134120685f2371",
   "outputs": [
    {
     "name": "stdout",
     "output_type": "stream",
     "text": [
      "tensor([[[-0.3972,  0.1032],\n",
      "         [-0.4516,  0.2240],\n",
      "         [-0.4705,  0.2608],\n",
      "         [-0.4918,  0.2259],\n",
      "         [-0.4923,  0.1718],\n",
      "         [-0.5047,  0.1928]],\n",
      "\n",
      "        [[-0.3972,  0.1032],\n",
      "         [-0.4516,  0.2240],\n",
      "         [-0.4705,  0.2608],\n",
      "         [-0.4918,  0.2259],\n",
      "         [-0.4923,  0.1718],\n",
      "         [-0.5047,  0.1928]]], grad_fn=<ViewBackward0>)\n"
     ]
    }
   ],
   "execution_count": 11
  },
  {
   "metadata": {},
   "cell_type": "code",
   "source": "inputs.shape",
   "id": "5ea652c8c5413ee2",
   "outputs": [],
   "execution_count": null
  },
  {
   "metadata": {},
   "cell_type": "code",
   "source": "mha.head_dimention",
   "id": "fc31ddd645168252",
   "outputs": [],
   "execution_count": null
  },
  {
   "metadata": {},
   "cell_type": "code",
   "source": "",
   "id": "7460ebf221b29cb1",
   "outputs": [],
   "execution_count": null
  }
 ],
 "metadata": {
  "kernelspec": {
   "display_name": "Python 3",
   "language": "python",
   "name": "python3"
  },
  "language_info": {
   "codemirror_mode": {
    "name": "ipython",
    "version": 2
   },
   "file_extension": ".py",
   "mimetype": "text/x-python",
   "name": "python",
   "nbconvert_exporter": "python",
   "pygments_lexer": "ipython2",
   "version": "2.7.6"
  }
 },
 "nbformat": 4,
 "nbformat_minor": 5
}
