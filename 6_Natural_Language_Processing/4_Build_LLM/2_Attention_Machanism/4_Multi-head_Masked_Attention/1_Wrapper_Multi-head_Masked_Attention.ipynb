{
 "cells": [
  {
   "cell_type": "code",
   "id": "initial_id",
   "metadata": {
    "collapsed": true,
    "ExecuteTime": {
     "end_time": "2025-05-11T03:23:53.041266Z",
     "start_time": "2025-05-11T03:23:37.572171Z"
    }
   },
   "source": [
    "import torch\n",
    "inputs = torch.tensor(\n",
    "    [[\n",
    "       [0.43, 0.15, 0.89], # Your     \n",
    "       [0.55, 0.87, 0.66], # journey  \n",
    "       [0.57, 0.85, 0.64], # starts   \n",
    "       [0.22, 0.58, 0.33], # with     \n",
    "       [0.77, 0.25, 0.10], # one      \n",
    "       [0.05, 0.80, 0.55]  # step     \n",
    "    ],\n",
    "    [\n",
    "       [0.43, 0.15, 0.89], # His     \n",
    "       [0.55, 0.87, 0.66], # journey  \n",
    "       [0.57, 0.85, 0.64], # end   \n",
    "       [0.22, 0.58, 0.33], # at     \n",
    "       [0.77, 0.25, 0.10], # last      \n",
    "       [0.05, 0.80, 0.55]  # way     \n",
    "    ]\n",
    "])"
   ],
   "outputs": [],
   "execution_count": 1
  },
  {
   "metadata": {
    "ExecuteTime": {
     "end_time": "2025-05-11T03:23:53.048789Z",
     "start_time": "2025-05-11T03:23:53.041266Z"
    }
   },
   "cell_type": "code",
   "source": "inputs.shape",
   "id": "afaf93c62d59af5d",
   "outputs": [
    {
     "data": {
      "text/plain": [
       "torch.Size([2, 6, 3])"
      ]
     },
     "execution_count": 2,
     "metadata": {},
     "output_type": "execute_result"
    }
   ],
   "execution_count": 2
  },
  {
   "metadata": {
    "ExecuteTime": {
     "end_time": "2025-05-11T03:23:53.063244Z",
     "start_time": "2025-05-11T03:23:53.049306Z"
    }
   },
   "cell_type": "code",
   "source": [
    "import torch.nn as nn\n",
    "class MaskedSelfAttention(nn.Module):\n",
    "    def __init__(self,d_in,d_out, context_length, dropout, qkv_bias=False):\n",
    "        super().__init__()\n",
    "        self.d_out = d_out\n",
    "        self.W_query = nn.Linear(d_in,d_out, bias=qkv_bias)\n",
    "        self.W_key = nn.Linear(d_in,d_out, bias=qkv_bias)\n",
    "        self.W_value = nn.Linear(d_in,d_out, bias=qkv_bias)\n",
    "        self.dropout = nn.Dropout(dropout)\n",
    "        self.register_buffer(\n",
    "            \"mask\",\n",
    "            torch.triu(torch.ones(context_length, context_length), diagonal=1)\n",
    "        )\n",
    "        \n",
    "    def forward(self,x):\n",
    "        no_of_input, no_of_token, embedding_dim = x.shape\n",
    "        queries = self.W_query(x)\n",
    "        keys = self.W_key(x)\n",
    "        values = self.W_value(x)\n",
    "        \n",
    "        attention_scores = queries @ keys.transpose(1, 2)\n",
    "        attention_scores = attention_scores.masked_fill(\n",
    "            self.mask.bool()[:no_of_token , :no_of_token], -torch.inf\n",
    "        )\n",
    "        \n",
    "        d_k = keys.shape[-1]\n",
    "        attention_weights = torch.softmax(\n",
    "            attention_scores / d_k**0.5 , dim=-1\n",
    "        )\n",
    "        attention_weights = self.dropout(attention_weights)\n",
    "        \n",
    "        context_vector = attention_weights @ values\n",
    "        return context_vector\n",
    "        "
   ],
   "id": "40212b7be3b96810",
   "outputs": [],
   "execution_count": 3
  },
  {
   "metadata": {
    "ExecuteTime": {
     "end_time": "2025-05-11T03:28:55.696762Z",
     "start_time": "2025-05-11T03:28:55.691826Z"
    }
   },
   "cell_type": "code",
   "source": [
    "class MultiHeadAttentionWrapper(nn.Module):\n",
    "    def __init__(self,d_in, d_out, context_length, dropout, num_heads, qkv_bias=False):\n",
    "        super().__init__()\n",
    "        self.heads = nn.ModuleList(\n",
    "            [MaskedSelfAttention(d_in,d_out,context_length,dropout,qkv_bias) for _ in range(num_heads)]\n",
    "        )\n",
    "        \n",
    "    def forward(self,x):\n",
    "        return torch.concat([head(x) for head in self.heads], dim=-1)"
   ],
   "id": "568119f276cc128b",
   "outputs": [],
   "execution_count": 4
  },
  {
   "metadata": {
    "ExecuteTime": {
     "end_time": "2025-05-11T03:32:11.619147Z",
     "start_time": "2025-05-11T03:32:11.600671Z"
    }
   },
   "cell_type": "code",
   "source": [
    "d_in, d_out = 3,2\n",
    "context_length = inputs.shape[1]    # no_of_token"
   ],
   "id": "590c5bdc0e7a8f56",
   "outputs": [],
   "execution_count": 5
  },
  {
   "metadata": {
    "ExecuteTime": {
     "end_time": "2025-05-11T03:32:45.109845Z",
     "start_time": "2025-05-11T03:32:44.901515Z"
    }
   },
   "cell_type": "code",
   "source": "mha = MultiHeadAttentionWrapper(d_in,d_out,context_length,0.0,num_heads=2)",
   "id": "c51bad79256a71",
   "outputs": [],
   "execution_count": 6
  },
  {
   "metadata": {
    "ExecuteTime": {
     "end_time": "2025-05-11T03:33:00.620994Z",
     "start_time": "2025-05-11T03:33:00.306582Z"
    }
   },
   "cell_type": "code",
   "source": "context_vector = mha(inputs)",
   "id": "5957cba19264a3f1",
   "outputs": [],
   "execution_count": 7
  },
  {
   "metadata": {
    "ExecuteTime": {
     "end_time": "2025-05-11T03:33:03.586983Z",
     "start_time": "2025-05-11T03:33:03.574799Z"
    }
   },
   "cell_type": "code",
   "source": "context_vector",
   "id": "5962ae0be1e83117",
   "outputs": [
    {
     "data": {
      "text/plain": [
       "tensor([[[-0.2649,  0.5191,  0.0477,  0.2037],\n",
       "         [-0.2144,  0.6240,  0.0334, -0.0273],\n",
       "         [-0.1958,  0.6542,  0.0272, -0.0901],\n",
       "         [-0.1696,  0.5858,  0.0262, -0.1163],\n",
       "         [-0.1271,  0.5440,  0.0030, -0.0717],\n",
       "         [-0.1365,  0.5346,  0.0144, -0.1197]],\n",
       "\n",
       "        [[-0.2649,  0.5191,  0.0477,  0.2037],\n",
       "         [-0.2144,  0.6240,  0.0334, -0.0273],\n",
       "         [-0.1958,  0.6542,  0.0272, -0.0901],\n",
       "         [-0.1696,  0.5858,  0.0262, -0.1163],\n",
       "         [-0.1271,  0.5440,  0.0030, -0.0717],\n",
       "         [-0.1365,  0.5346,  0.0144, -0.1197]]], grad_fn=<CatBackward0>)"
      ]
     },
     "execution_count": 8,
     "metadata": {},
     "output_type": "execute_result"
    }
   ],
   "execution_count": 8
  },
  {
   "metadata": {},
   "cell_type": "code",
   "outputs": [],
   "execution_count": null,
   "source": "",
   "id": "4e6a66bac45b874"
  }
 ],
 "metadata": {
  "kernelspec": {
   "display_name": "Python 3",
   "language": "python",
   "name": "python3"
  },
  "language_info": {
   "codemirror_mode": {
    "name": "ipython",
    "version": 2
   },
   "file_extension": ".py",
   "mimetype": "text/x-python",
   "name": "python",
   "nbconvert_exporter": "python",
   "pygments_lexer": "ipython2",
   "version": "2.7.6"
  }
 },
 "nbformat": 4,
 "nbformat_minor": 5
}
