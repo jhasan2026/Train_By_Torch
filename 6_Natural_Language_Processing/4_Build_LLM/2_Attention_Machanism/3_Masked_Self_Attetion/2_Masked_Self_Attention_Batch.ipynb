{
 "cells": [
  {
   "cell_type": "code",
   "id": "initial_id",
   "metadata": {
    "collapsed": true,
    "ExecuteTime": {
     "end_time": "2025-05-10T15:24:04.724756Z",
     "start_time": "2025-05-10T15:24:02.884005Z"
    }
   },
   "source": [
    "import torch\n",
    "inputs = torch.tensor(\n",
    "    [[\n",
    "       [0.43, 0.15, 0.89], # Your     \n",
    "       [0.55, 0.87, 0.66], # journey  \n",
    "       [0.57, 0.85, 0.64], # starts   \n",
    "       [0.22, 0.58, 0.33], # with     \n",
    "       [0.77, 0.25, 0.10], # one      \n",
    "       [0.05, 0.80, 0.55]  # step     \n",
    "    ],\n",
    "    [\n",
    "       [0.43, 0.15, 0.89], # His     \n",
    "       [0.55, 0.87, 0.66], # journey  \n",
    "       [0.57, 0.85, 0.64], # end   \n",
    "       [0.22, 0.58, 0.33], # at     \n",
    "       [0.77, 0.25, 0.10], # last      \n",
    "       [0.05, 0.80, 0.55]  # way     \n",
    "    ]\n",
    "])"
   ],
   "outputs": [],
   "execution_count": 1
  },
  {
   "metadata": {
    "ExecuteTime": {
     "end_time": "2025-05-10T15:24:04.731425Z",
     "start_time": "2025-05-10T15:24:04.724756Z"
    }
   },
   "cell_type": "code",
   "source": "inputs.shape",
   "id": "b82ddc341043530f",
   "outputs": [
    {
     "data": {
      "text/plain": [
       "torch.Size([2, 6, 3])"
      ]
     },
     "execution_count": 2,
     "metadata": {},
     "output_type": "execute_result"
    }
   ],
   "execution_count": 2
  },
  {
   "metadata": {
    "ExecuteTime": {
     "end_time": "2025-05-10T15:24:04.737996Z",
     "start_time": "2025-05-10T15:24:04.731425Z"
    }
   },
   "cell_type": "code",
   "source": [
    "import torch.nn as nn\n",
    "class MaskedSelfAttention(nn.Module):\n",
    "    def __init__(self,d_in,d_out, context_length, dropout, qkv_bias=False):\n",
    "        super().__init__()\n",
    "        self.d_out = d_out\n",
    "        self.W_query = nn.Linear(d_in,d_out, bias=qkv_bias)\n",
    "        self.W_key = nn.Linear(d_in,d_out, bias=qkv_bias)\n",
    "        self.W_value = nn.Linear(d_in,d_out, bias=qkv_bias)\n",
    "        self.dropout = nn.Dropout(dropout)\n",
    "        self.register_buffer(\n",
    "            \"mask\",\n",
    "            torch.triu(torch.ones(context_length, context_length), diagonal=1)\n",
    "        )\n",
    "        \n",
    "    def forward(self,x):\n",
    "        no_of_input, no_of_token, embedding_dim = x.shape\n",
    "        queries = self.W_query(x)\n",
    "        keys = self.W_key(x)\n",
    "        values = self.W_value(x)\n",
    "        \n",
    "        attention_scores = queries @ keys.transpose(1, 2)\n",
    "        attention_scores = attention_scores.masked_fill(\n",
    "            self.mask.bool()[:no_of_token , :no_of_token], -torch.inf\n",
    "        )\n",
    "        \n",
    "        d_k = keys.shape[-1]\n",
    "        attention_weights = torch.softmax(\n",
    "            attention_scores / d_k**0.5 , dim=-1\n",
    "        )\n",
    "        attention_weights = self.dropout(attention_weights)\n",
    "        \n",
    "        context_vector = attention_weights @ values\n",
    "        return context_vector\n",
    "        "
   ],
   "id": "88bce3701a3ce656",
   "outputs": [],
   "execution_count": 3
  },
  {
   "metadata": {
    "ExecuteTime": {
     "end_time": "2025-05-10T15:24:45.465189Z",
     "start_time": "2025-05-10T15:24:45.461553Z"
    }
   },
   "cell_type": "code",
   "source": [
    "d_in = 3\n",
    "d_out = 2\n",
    "context_legth = inputs.shape[1]\n",
    "print(d_in, d_out, context_legth)"
   ],
   "id": "1cd56f21d0aa1c15",
   "outputs": [
    {
     "name": "stdout",
     "output_type": "stream",
     "text": [
      "3 2 6\n"
     ]
    }
   ],
   "execution_count": 7
  },
  {
   "metadata": {
    "ExecuteTime": {
     "end_time": "2025-05-10T15:24:45.881866Z",
     "start_time": "2025-05-10T15:24:45.874771Z"
    }
   },
   "cell_type": "code",
   "source": "maskedSA = MaskedSelfAttention(d_in,d_out,context_legth,0.5)",
   "id": "a13452f495fccfb8",
   "outputs": [],
   "execution_count": 8
  },
  {
   "metadata": {
    "ExecuteTime": {
     "end_time": "2025-05-10T15:24:46.797932Z",
     "start_time": "2025-05-10T15:24:46.370239Z"
    }
   },
   "cell_type": "code",
   "source": "context_vector = maskedSA(inputs)",
   "id": "26b1309f26559a3d",
   "outputs": [],
   "execution_count": 9
  },
  {
   "metadata": {
    "ExecuteTime": {
     "end_time": "2025-05-10T15:24:58.434242Z",
     "start_time": "2025-05-10T15:24:58.423182Z"
    }
   },
   "cell_type": "code",
   "source": "context_vector",
   "id": "192e8db909d2b830",
   "outputs": [
    {
     "data": {
      "text/plain": [
       "tensor([[[ 0.0000,  0.0000],\n",
       "         [-1.1032,  0.5015],\n",
       "         [-0.4701,  0.2781],\n",
       "         [-0.6667,  0.3971],\n",
       "         [-0.4625,  0.2461],\n",
       "         [-0.3613,  0.1834]],\n",
       "\n",
       "        [[ 0.0000,  0.0000],\n",
       "         [-0.7407,  0.4381],\n",
       "         [-0.2316,  0.0405],\n",
       "         [-0.3279,  0.1967],\n",
       "         [-0.3195,  0.1279],\n",
       "         [-0.4966,  0.2680]]], grad_fn=<UnsafeViewBackward0>)"
      ]
     },
     "execution_count": 11,
     "metadata": {},
     "output_type": "execute_result"
    }
   ],
   "execution_count": 11
  },
  {
   "metadata": {
    "ExecuteTime": {
     "end_time": "2025-05-10T15:25:14.030962Z",
     "start_time": "2025-05-10T15:25:14.019197Z"
    }
   },
   "cell_type": "code",
   "source": "context_vector.shape",
   "id": "5935319c6e70c6ff",
   "outputs": [
    {
     "data": {
      "text/plain": [
       "torch.Size([2, 6, 2])"
      ]
     },
     "execution_count": 12,
     "metadata": {},
     "output_type": "execute_result"
    }
   ],
   "execution_count": 12
  },
  {
   "metadata": {},
   "cell_type": "code",
   "outputs": [],
   "execution_count": null,
   "source": "",
   "id": "17a774003aa62783"
  }
 ],
 "metadata": {
  "kernelspec": {
   "display_name": "Python 3",
   "language": "python",
   "name": "python3"
  },
  "language_info": {
   "codemirror_mode": {
    "name": "ipython",
    "version": 2
   },
   "file_extension": ".py",
   "mimetype": "text/x-python",
   "name": "python",
   "nbconvert_exporter": "python",
   "pygments_lexer": "ipython2",
   "version": "2.7.6"
  }
 },
 "nbformat": 4,
 "nbformat_minor": 5
}
