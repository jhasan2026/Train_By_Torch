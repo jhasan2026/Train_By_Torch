{
 "cells": [
  {
   "cell_type": "code",
   "id": "initial_id",
   "metadata": {
    "collapsed": true,
    "ExecuteTime": {
     "end_time": "2025-05-10T14:16:53.466692Z",
     "start_time": "2025-05-10T14:16:49.839460Z"
    }
   },
   "source": [
    "import torch\n",
    "inputs = torch.tensor([\n",
    "   [0.43, 0.15, 0.89], # Your     \n",
    "   [0.55, 0.87, 0.66], # journey  \n",
    "   [0.57, 0.85, 0.64], # starts   \n",
    "   [0.22, 0.58, 0.33], # with     \n",
    "   [0.77, 0.25, 0.10], # one      \n",
    "   [0.05, 0.80, 0.55]] # step     \n",
    ")"
   ],
   "outputs": [],
   "execution_count": 1
  },
  {
   "metadata": {
    "ExecuteTime": {
     "end_time": "2025-05-10T14:16:53.472042Z",
     "start_time": "2025-05-10T14:16:53.466692Z"
    }
   },
   "cell_type": "code",
   "source": [
    "import torch.nn as nn\n",
    "class SelfAttentionOwnClass:\n",
    "    def __init__(self,d_in, d_out, qkv_bias=False):\n",
    "        super().__init__()\n",
    "        self.W_query = nn.Linear(d_in, d_out, bias=qkv_bias)\n",
    "        self.W_key = nn.Linear(d_in, d_out, bias=qkv_bias)\n",
    "        self.W_value = nn.Linear(d_in, d_out, bias=qkv_bias)\n",
    "        \n",
    "    def forward(self,x):\n",
    "        queries = self.W_query(x)\n",
    "        keys = self.W_key(x)\n",
    "        values = self.W_value(x)\n",
    "        \n",
    "        attention_scores = queries @ keys.T\n",
    "        \n",
    "        d_k = keys.shape[-1]\n",
    "        attention_weights = torch.softmax(\n",
    "            attention_scores / d_k**0.5, dim=-1\n",
    "        )\n",
    "        context_vector = attention_weights @ values\n",
    "        return context_vector"
   ],
   "id": "2cfaddd33eea365c",
   "outputs": [],
   "execution_count": 2
  },
  {
   "metadata": {
    "ExecuteTime": {
     "end_time": "2025-05-10T14:16:53.493183Z",
     "start_time": "2025-05-10T14:16:53.472557Z"
    }
   },
   "cell_type": "code",
   "source": [
    "d_in = inputs.shape[1]\n",
    "d_out = 2\n",
    "d_in"
   ],
   "id": "dd6c7aa6a4b71c25",
   "outputs": [
    {
     "data": {
      "text/plain": [
       "3"
      ]
     },
     "execution_count": 3,
     "metadata": {},
     "output_type": "execute_result"
    }
   ],
   "execution_count": 3
  },
  {
   "metadata": {
    "ExecuteTime": {
     "end_time": "2025-05-10T14:16:53.497388Z",
     "start_time": "2025-05-10T14:16:53.493183Z"
    }
   },
   "cell_type": "code",
   "source": "sA = SelfAttentionOwnClass(d_in, d_out)",
   "id": "8202684bc3df0b4c",
   "outputs": [],
   "execution_count": 4
  },
  {
   "metadata": {
    "ExecuteTime": {
     "end_time": "2025-05-10T14:16:53.506793Z",
     "start_time": "2025-05-10T14:16:53.497388Z"
    }
   },
   "cell_type": "code",
   "source": [
    "queries = sA.W_query(inputs)\n",
    "keys =sA.W_key(inputs)\n",
    "\n",
    "attention_score = queries @ keys.T\n",
    "attention_score"
   ],
   "id": "6c7e3ef55e6b6c1a",
   "outputs": [
    {
     "data": {
      "text/plain": [
       "tensor([[-0.0497,  0.1499,  0.1520,  0.0963,  0.1459,  0.0811],\n",
       "        [-0.1100,  0.2040,  0.2082,  0.1338,  0.2247,  0.0993],\n",
       "        [-0.1077,  0.2007,  0.2048,  0.1316,  0.2207,  0.0978],\n",
       "        [-0.0676,  0.1138,  0.1164,  0.0751,  0.1293,  0.0538],\n",
       "        [-0.0366,  0.0842,  0.0856,  0.0547,  0.0873,  0.0433],\n",
       "        [-0.0932,  0.1535,  0.1570,  0.1014,  0.1755,  0.0720]],\n",
       "       grad_fn=<MmBackward0>)"
      ]
     },
     "execution_count": 5,
     "metadata": {},
     "output_type": "execute_result"
    }
   ],
   "execution_count": 5
  },
  {
   "metadata": {
    "ExecuteTime": {
     "end_time": "2025-05-10T14:16:53.513998Z",
     "start_time": "2025-05-10T14:16:53.506793Z"
    }
   },
   "cell_type": "code",
   "source": [
    "# without masked \n",
    "d_k = keys.shape[-1]\n",
    "attention_weight = torch.softmax(attention_score / d_k**0.5, dim=-1)\n",
    "attention_weight"
   ],
   "id": "27e2b4833075cff4",
   "outputs": [
    {
     "data": {
      "text/plain": [
       "tensor([[0.1502, 0.1729, 0.1732, 0.1665, 0.1724, 0.1647],\n",
       "        [0.1405, 0.1755, 0.1760, 0.1670, 0.1781, 0.1630],\n",
       "        [0.1410, 0.1753, 0.1758, 0.1670, 0.1778, 0.1630],\n",
       "        [0.1510, 0.1717, 0.1720, 0.1671, 0.1736, 0.1646],\n",
       "        [0.1564, 0.1703, 0.1705, 0.1668, 0.1707, 0.1654],\n",
       "        [0.1457, 0.1734, 0.1739, 0.1672, 0.1762, 0.1637]],\n",
       "       grad_fn=<SoftmaxBackward0>)"
      ]
     },
     "execution_count": 6,
     "metadata": {},
     "output_type": "execute_result"
    }
   ],
   "execution_count": 6
  },
  {
   "metadata": {
    "ExecuteTime": {
     "end_time": "2025-05-10T14:16:53.520660Z",
     "start_time": "2025-05-10T14:16:53.513998Z"
    }
   },
   "cell_type": "code",
   "source": [
    "# Using mask\n",
    "context_length = attention_score.shape[0]\n",
    "mask = torch.triu(torch.ones(context_length,context_length), diagonal=1)\n",
    "mask"
   ],
   "id": "9f492e3419117938",
   "outputs": [
    {
     "data": {
      "text/plain": [
       "tensor([[0., 1., 1., 1., 1., 1.],\n",
       "        [0., 0., 1., 1., 1., 1.],\n",
       "        [0., 0., 0., 1., 1., 1.],\n",
       "        [0., 0., 0., 0., 1., 1.],\n",
       "        [0., 0., 0., 0., 0., 1.],\n",
       "        [0., 0., 0., 0., 0., 0.]])"
      ]
     },
     "execution_count": 7,
     "metadata": {},
     "output_type": "execute_result"
    }
   ],
   "execution_count": 7
  },
  {
   "metadata": {
    "ExecuteTime": {
     "end_time": "2025-05-10T14:16:53.526436Z",
     "start_time": "2025-05-10T14:16:53.520660Z"
    }
   },
   "cell_type": "code",
   "source": [
    "masked_attention_score =  attention_score.masked_fill(mask.bool(), -torch.inf)\n",
    "masked_attention_score"
   ],
   "id": "e46607808402ad25",
   "outputs": [
    {
     "data": {
      "text/plain": [
       "tensor([[-0.0497,    -inf,    -inf,    -inf,    -inf,    -inf],\n",
       "        [-0.1100,  0.2040,    -inf,    -inf,    -inf,    -inf],\n",
       "        [-0.1077,  0.2007,  0.2048,    -inf,    -inf,    -inf],\n",
       "        [-0.0676,  0.1138,  0.1164,  0.0751,    -inf,    -inf],\n",
       "        [-0.0366,  0.0842,  0.0856,  0.0547,  0.0873,    -inf],\n",
       "        [-0.0932,  0.1535,  0.1570,  0.1014,  0.1755,  0.0720]],\n",
       "       grad_fn=<MaskedFillBackward0>)"
      ]
     },
     "execution_count": 8,
     "metadata": {},
     "output_type": "execute_result"
    }
   ],
   "execution_count": 8
  },
  {
   "metadata": {
    "ExecuteTime": {
     "end_time": "2025-05-10T14:16:53.532496Z",
     "start_time": "2025-05-10T14:16:53.526436Z"
    }
   },
   "cell_type": "code",
   "source": [
    "d_k = keys.shape[-1]\n",
    "masked_attention_weight = torch.softmax(masked_attention_score / d_k**0.5, dim=-1)\n",
    "masked_attention_weight"
   ],
   "id": "c511753d51b38978",
   "outputs": [
    {
     "data": {
      "text/plain": [
       "tensor([[1.0000, 0.0000, 0.0000, 0.0000, 0.0000, 0.0000],\n",
       "        [0.4447, 0.5553, 0.0000, 0.0000, 0.0000, 0.0000],\n",
       "        [0.2865, 0.3563, 0.3573, 0.0000, 0.0000, 0.0000],\n",
       "        [0.2282, 0.2594, 0.2599, 0.2524, 0.0000, 0.0000],\n",
       "        [0.1873, 0.2041, 0.2043, 0.1998, 0.2045, 0.0000],\n",
       "        [0.1457, 0.1734, 0.1739, 0.1672, 0.1762, 0.1637]],\n",
       "       grad_fn=<SoftmaxBackward0>)"
      ]
     },
     "execution_count": 9,
     "metadata": {},
     "output_type": "execute_result"
    }
   ],
   "execution_count": 9
  },
  {
   "metadata": {},
   "cell_type": "markdown",
   "source": "# Using Dropout",
   "id": "a7bd99cfe4fbc7f5"
  },
  {
   "metadata": {
    "ExecuteTime": {
     "end_time": "2025-05-10T14:16:53.539307Z",
     "start_time": "2025-05-10T14:16:53.532496Z"
    }
   },
   "cell_type": "code",
   "source": [
    "torch.manual_seed(123)\n",
    "dropout = nn.Dropout(0.5)\n",
    "example = torch.ones(6,6)"
   ],
   "id": "642af1b7b2013157",
   "outputs": [],
   "execution_count": 10
  },
  {
   "metadata": {
    "ExecuteTime": {
     "end_time": "2025-05-10T14:16:53.545027Z",
     "start_time": "2025-05-10T14:16:53.539307Z"
    }
   },
   "cell_type": "code",
   "source": "dropout(example)",
   "id": "3522ed04e54175cc",
   "outputs": [
    {
     "data": {
      "text/plain": [
       "tensor([[2., 2., 2., 2., 2., 2.],\n",
       "        [0., 2., 0., 0., 0., 0.],\n",
       "        [0., 0., 2., 0., 2., 0.],\n",
       "        [2., 2., 0., 0., 0., 2.],\n",
       "        [2., 0., 0., 0., 0., 2.],\n",
       "        [0., 2., 0., 0., 0., 0.]])"
      ]
     },
     "execution_count": 11,
     "metadata": {},
     "output_type": "execute_result"
    }
   ],
   "execution_count": 11
  },
  {
   "metadata": {
    "ExecuteTime": {
     "end_time": "2025-05-10T14:16:53.551123Z",
     "start_time": "2025-05-10T14:16:53.545027Z"
    }
   },
   "cell_type": "code",
   "source": "dropout(masked_attention_weight)",
   "id": "5faa81d0ba5d8705",
   "outputs": [
    {
     "data": {
      "text/plain": [
       "tensor([[2.0000, 0.0000, 0.0000, 0.0000, 0.0000, 0.0000],\n",
       "        [0.0000, 0.0000, 0.0000, 0.0000, 0.0000, 0.0000],\n",
       "        [0.0000, 0.0000, 0.7146, 0.0000, 0.0000, 0.0000],\n",
       "        [0.0000, 0.5189, 0.0000, 0.5049, 0.0000, 0.0000],\n",
       "        [0.0000, 0.4081, 0.4085, 0.3997, 0.4090, 0.0000],\n",
       "        [0.2913, 0.3469, 0.0000, 0.0000, 0.3523, 0.3274]],\n",
       "       grad_fn=<MulBackward0>)"
      ]
     },
     "execution_count": 12,
     "metadata": {},
     "output_type": "execute_result"
    }
   ],
   "execution_count": 12
  },
  {
   "metadata": {
    "ExecuteTime": {
     "end_time": "2025-05-10T14:16:53.554990Z",
     "start_time": "2025-05-10T14:16:53.551123Z"
    }
   },
   "cell_type": "code",
   "source": "",
   "id": "2777e0273dc7f5d0",
   "outputs": [],
   "execution_count": 12
  }
 ],
 "metadata": {
  "kernelspec": {
   "display_name": "Python 3",
   "language": "python",
   "name": "python3"
  },
  "language_info": {
   "codemirror_mode": {
    "name": "ipython",
    "version": 2
   },
   "file_extension": ".py",
   "mimetype": "text/x-python",
   "name": "python",
   "nbconvert_exporter": "python",
   "pygments_lexer": "ipython2",
   "version": "2.7.6"
  }
 },
 "nbformat": 4,
 "nbformat_minor": 5
}
