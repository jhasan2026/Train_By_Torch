{
 "cells": [
  {
   "cell_type": "code",
   "id": "initial_id",
   "metadata": {
    "collapsed": true,
    "ExecuteTime": {
     "end_time": "2025-05-12T15:07:21.075728Z",
     "start_time": "2025-05-12T15:07:19.374900Z"
    }
   },
   "source": [
    "import torch \n",
    "import torch.nn as nn"
   ],
   "outputs": [],
   "execution_count": 1
  },
  {
   "metadata": {
    "ExecuteTime": {
     "end_time": "2025-05-12T15:07:21.079865Z",
     "start_time": "2025-05-12T15:07:21.075728Z"
    }
   },
   "cell_type": "code",
   "source": [
    "GPT_CONFIG_124M = {\n",
    "    \"vocab_size\":50257,\n",
    "    \"context_length\":1024,\n",
    "    \"embedding_dim\":768,\n",
    "    \"num_of_heads\":12,\n",
    "    \"num_of_layers\":12,\n",
    "    \"drop_rate\":0.1,\n",
    "    \"qkv_bias\":False\n",
    "}"
   ],
   "id": "13f0e50df68c9c28",
   "outputs": [],
   "execution_count": 2
  },
  {
   "metadata": {
    "ExecuteTime": {
     "end_time": "2025-05-12T15:07:21.087149Z",
     "start_time": "2025-05-12T15:07:21.079865Z"
    }
   },
   "cell_type": "code",
   "source": [
    "\n",
    "class MultiHeadAttention(nn.Module):\n",
    "    def __init__(self,d_in,d_out,context_length,dropout,num_of_head,qkv_bias=False):\n",
    "        super().__init__()\n",
    "        \n",
    "        assert (d_out % num_of_head == 0), \"d_out must be divisible by num_of_head\"\n",
    "        \n",
    "        self.d_out = d_out                                   \n",
    "        self.dropout = nn.Dropout(dropout)\n",
    "        self.num_of_head = num_of_head                         \n",
    "        \n",
    "        self.head_dim = d_out // num_of_head                \n",
    "        self.out_proj = nn.Linear(d_out, d_out)             \n",
    "        \n",
    "        self.W_query = nn.Linear(d_in, d_out, bias=qkv_bias)\n",
    "        self.W_key = nn.Linear(d_in, d_out, bias=qkv_bias)\n",
    "        self.W_value = nn.Linear(d_in, d_out, bias=qkv_bias)\n",
    "        \n",
    "        self.register_buffer(\n",
    "            \"mask\",\n",
    "            torch.triu(torch.ones(context_length,context_length), diagonal=1)\n",
    "        )\n",
    "        \n",
    "    def forward(self, x):\n",
    "        num_of_inputs, num_of_tokens, embedding_dim = x.shape           \n",
    "        \n",
    "        queries = self.W_query(x)                            \n",
    "        keys = self.W_key(x)\n",
    "        values = self.W_value(x)\n",
    "        \n",
    "        queries = queries.view(num_of_inputs, num_of_tokens, self.num_of_head, self.head_dim)      \n",
    "        keys = keys.view(num_of_inputs, num_of_tokens, self.num_of_head, self.head_dim)       \n",
    "        values = values.view(num_of_inputs, num_of_tokens, self.num_of_head, self.head_dim)       \n",
    "        \n",
    "        \n",
    "        queries = queries.transpose(1,2)\n",
    "        keys = keys.transpose(1,2)\n",
    "        values = values.transpose(1,2)\n",
    "        \n",
    "        attention_score = queries @ keys.transpose(2,3)\n",
    "        mask_bool = self.mask.bool() [:num_of_tokens, :num_of_tokens]\n",
    "        \n",
    "        attention_score.masked_fill_(mask_bool, -torch.inf)\n",
    "        \n",
    "        k_d = keys.shape[-1]\n",
    "        attention_weight = torch.softmax(attention_score / k_d**0.5, dim=-1)\n",
    "        attention_weight = self.dropout(attention_weight)\n",
    "        \n",
    "        context_vector = (attention_weight @ values).transpose(1,2)\n",
    "        \n",
    "        context_vector = context_vector.contiguous().view(\n",
    "            num_of_inputs, num_of_tokens, self.d_out\n",
    "        )\n",
    "        context_vector = self.out_proj(context_vector)\n",
    "        return context_vector"
   ],
   "id": "ec3cec7e4f484109",
   "outputs": [],
   "execution_count": 3
  },
  {
   "metadata": {
    "ExecuteTime": {
     "end_time": "2025-05-12T15:07:21.093786Z",
     "start_time": "2025-05-12T15:07:21.087149Z"
    }
   },
   "cell_type": "code",
   "source": [
    "class LayerNormalization(nn.Module):\n",
    "    def __init__(self, embedding_dim):\n",
    "        super().__init__()\n",
    "        self.eps = 1e-5\n",
    "        self.scale = nn.Parameter(torch.ones(embedding_dim))\n",
    "        self.shift = nn.Parameter(torch.zeros(embedding_dim))\n",
    "        \n",
    "    def forward(self, x):\n",
    "        mean = x.mean(dim=-1, keepdim=True)\n",
    "        variance = x.var(dim=-1, keepdim=True)\n",
    "        \n",
    "        x_normalized = (x - mean)/ torch.sqrt(variance + self.eps)\n",
    "        return self.scale * x_normalized + self.shift"
   ],
   "id": "f5654ae854963557",
   "outputs": [],
   "execution_count": 4
  },
  {
   "metadata": {
    "ExecuteTime": {
     "end_time": "2025-05-12T15:07:21.100617Z",
     "start_time": "2025-05-12T15:07:21.093786Z"
    }
   },
   "cell_type": "code",
   "source": [
    "class GELU(nn.Module):\n",
    "    def __init__(self):\n",
    "        super().__init__()\n",
    "        \n",
    "    def forward(self,x):\n",
    "        return 0.5 * x * (\n",
    "            1 + torch.tanh(torch.sqrt(torch.tensor(2.0/torch.pi)) * (x + 0.44715 * torch.pow(x,3)))\n",
    "        )"
   ],
   "id": "7a79211e799a9075",
   "outputs": [],
   "execution_count": 5
  },
  {
   "metadata": {
    "ExecuteTime": {
     "end_time": "2025-05-12T15:07:21.106070Z",
     "start_time": "2025-05-12T15:07:21.100617Z"
    }
   },
   "cell_type": "code",
   "source": [
    "class FeedForward(nn.Module):\n",
    "    def __init__(self, config):\n",
    "        super().__init__()\n",
    "        self.layers = nn.Sequential(\n",
    "            nn.Linear(config['embedding_dim'], 4* config['embedding_dim']),\n",
    "            GELU(),\n",
    "            nn.Linear(4*config['embedding_dim'],config['embedding_dim'])\n",
    "        )\n",
    "        \n",
    "    def forward(self, x):\n",
    "        return self.layers(x)"
   ],
   "id": "c98a2533af98e48f",
   "outputs": [],
   "execution_count": 6
  },
  {
   "metadata": {
    "ExecuteTime": {
     "end_time": "2025-05-12T15:07:21.110589Z",
     "start_time": "2025-05-12T15:07:21.106070Z"
    }
   },
   "cell_type": "code",
   "source": "inputs = torch.rand(2,4,768)",
   "id": "dc3df82f8db1c493",
   "outputs": [],
   "execution_count": 7
  },
  {
   "metadata": {
    "ExecuteTime": {
     "end_time": "2025-05-12T15:08:44.098764Z",
     "start_time": "2025-05-12T15:08:44.094198Z"
    }
   },
   "cell_type": "code",
   "source": [
    "class TransformerBlock(nn.Module):\n",
    "    def __init__(self, config):\n",
    "        super().__init__()\n",
    "        self.layer_norm1 = LayerNormalization(config['embedding_dim'])\n",
    "        self.attention = MultiHeadAttention(\n",
    "            d_in=config['embedding_dim'],\n",
    "            d_out=config['embedding_dim'],\n",
    "            context_length=config['context_length'],\n",
    "            dropout=config['drop_rate'],\n",
    "            num_of_head=config['num_of_heads'],\n",
    "            qkv_bias=config['qkv_bias']\n",
    "        )\n",
    "        self.dropout = nn.Dropout(config['drop_rate'])\n",
    "        self.layer_norm2 = LayerNormalization(config['embedding_dim'])     \n",
    "        self.ff = FeedForward(config)\n",
    "        \n",
    "    def forward(self,x):\n",
    "        shortcut = x\n",
    "        \n",
    "        x = self.layer_norm1(x)\n",
    "        x = self.attention(x)\n",
    "        x = self.dropout(x)\n",
    "        \n",
    "        x = x + shortcut\n",
    "        \n",
    "        shortcut = x \n",
    "        x = self.layer_norm2(x)\n",
    "        x = self.ff(x)\n",
    "        x = self.dropout(x)\n",
    "        \n",
    "        x = x + shortcut\n",
    "        return x"
   ],
   "id": "3f4de9c951e20ee9",
   "outputs": [],
   "execution_count": 10
  },
  {
   "metadata": {
    "ExecuteTime": {
     "end_time": "2025-05-12T15:08:44.659675Z",
     "start_time": "2025-05-12T15:08:44.606763Z"
    }
   },
   "cell_type": "code",
   "source": "transformerBlock = TransformerBlock(GPT_CONFIG_124M) ",
   "id": "7d93f10390185cae",
   "outputs": [],
   "execution_count": 11
  },
  {
   "metadata": {
    "ExecuteTime": {
     "end_time": "2025-05-12T15:08:48.018689Z",
     "start_time": "2025-05-12T15:08:48.008708Z"
    }
   },
   "cell_type": "code",
   "source": "transformerBlock",
   "id": "e7b5cc086fdc62d3",
   "outputs": [
    {
     "data": {
      "text/plain": [
       "TransformerBlock(\n",
       "  (layer_norm1): LayerNormalization()\n",
       "  (attention): MultiHeadAttention(\n",
       "    (dropout): Dropout(p=0.1, inplace=False)\n",
       "    (out_proj): Linear(in_features=768, out_features=768, bias=True)\n",
       "    (W_query): Linear(in_features=768, out_features=768, bias=False)\n",
       "    (W_key): Linear(in_features=768, out_features=768, bias=False)\n",
       "    (W_value): Linear(in_features=768, out_features=768, bias=False)\n",
       "  )\n",
       "  (dropout): Dropout(p=0.1, inplace=False)\n",
       "  (layer_norm2): LayerNormalization()\n",
       "  (ff): FeedForward(\n",
       "    (layers): Sequential(\n",
       "      (0): Linear(in_features=768, out_features=3072, bias=True)\n",
       "      (1): GELU()\n",
       "      (2): Linear(in_features=3072, out_features=768, bias=True)\n",
       "    )\n",
       "  )\n",
       ")"
      ]
     },
     "execution_count": 12,
     "metadata": {},
     "output_type": "execute_result"
    }
   ],
   "execution_count": 12
  },
  {
   "metadata": {
    "ExecuteTime": {
     "end_time": "2025-05-12T15:09:16.520361Z",
     "start_time": "2025-05-12T15:09:16.468362Z"
    }
   },
   "cell_type": "code",
   "source": [
    "output = transformerBlock(inputs)\n",
    "output"
   ],
   "id": "391a34055982843a",
   "outputs": [
    {
     "data": {
      "text/plain": [
       "tensor([[[ 0.3793,  0.7838,  0.0962,  ...,  0.4302, -0.0274,  0.3041],\n",
       "         [ 0.3256,  0.9050,  1.2575,  ...,  0.2170,  0.5528, -0.1441],\n",
       "         [ 0.8646,  0.0507,  0.4706,  ...,  0.1126,  0.7288, -0.0499],\n",
       "         [ 0.4700, -0.0883,  0.6794,  ..., -0.4320,  0.5718,  0.5416]],\n",
       "\n",
       "        [[ 0.1838, -0.2686,  0.3959,  ...,  1.0510,  0.2919,  0.1440],\n",
       "         [ 0.7008,  0.3540,  0.5134,  ...,  0.8444,  1.1692,  0.6838],\n",
       "         [ 0.7357,  0.3395,  0.2273,  ...,  1.6239,  0.7187,  0.7488],\n",
       "         [ 0.5821,  0.5261,  0.3100,  ...,  1.5258,  0.2266,  0.4489]]],\n",
       "       grad_fn=<AddBackward0>)"
      ]
     },
     "execution_count": 14,
     "metadata": {},
     "output_type": "execute_result"
    }
   ],
   "execution_count": 14
  },
  {
   "metadata": {
    "ExecuteTime": {
     "end_time": "2025-05-12T15:09:32.838677Z",
     "start_time": "2025-05-12T15:09:32.828842Z"
    }
   },
   "cell_type": "code",
   "source": "print(inputs.shape, output.shape)",
   "id": "d7201c0e7b7e28a7",
   "outputs": [
    {
     "name": "stdout",
     "output_type": "stream",
     "text": [
      "torch.Size([2, 4, 768]) torch.Size([2, 4, 768])\n"
     ]
    }
   ],
   "execution_count": 16
  },
  {
   "metadata": {},
   "cell_type": "code",
   "outputs": [],
   "execution_count": null,
   "source": "",
   "id": "8d2642e89e273bdb"
  }
 ],
 "metadata": {
  "kernelspec": {
   "display_name": "Python 3",
   "language": "python",
   "name": "python3"
  },
  "language_info": {
   "codemirror_mode": {
    "name": "ipython",
    "version": 2
   },
   "file_extension": ".py",
   "mimetype": "text/x-python",
   "name": "python",
   "nbconvert_exporter": "python",
   "pygments_lexer": "ipython2",
   "version": "2.7.6"
  }
 },
 "nbformat": 4,
 "nbformat_minor": 5
}
