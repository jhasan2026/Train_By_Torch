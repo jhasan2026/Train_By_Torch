{
 "cells": [
  {
   "cell_type": "code",
   "id": "initial_id",
   "metadata": {
    "collapsed": true,
    "ExecuteTime": {
     "end_time": "2025-05-12T07:13:36.030123Z",
     "start_time": "2025-05-12T07:13:34.375249Z"
    }
   },
   "source": [
    "import torch\n",
    "import torch.nn as nn"
   ],
   "outputs": [],
   "execution_count": 1
  },
  {
   "metadata": {
    "ExecuteTime": {
     "end_time": "2025-05-12T07:13:36.034884Z",
     "start_time": "2025-05-12T07:13:36.030123Z"
    }
   },
   "cell_type": "code",
   "source": [
    "GPT_CONFIG_124M = {\n",
    "    \"vocab_size\":50257,\n",
    "    \"context_length\":1024,\n",
    "    \"embedding_dim\":768,\n",
    "    \"num_of_heads\":12,\n",
    "    \"num_of_layers\":12,\n",
    "    \"drop_rate\":0.1,\n",
    "    \"qkv_bias\":False\n",
    "}"
   ],
   "id": "7ab2183cd39f1f04",
   "outputs": [],
   "execution_count": 2
  },
  {
   "metadata": {
    "ExecuteTime": {
     "end_time": "2025-05-12T07:13:36.055270Z",
     "start_time": "2025-05-12T07:13:36.035903Z"
    }
   },
   "cell_type": "code",
   "source": [
    "torch.manual_seed(123)\n",
    "batch_example = torch.randn(2,5)\n",
    "batch_example"
   ],
   "id": "26fddae618540dcb",
   "outputs": [
    {
     "data": {
      "text/plain": [
       "tensor([[-0.1115,  0.1204, -0.3696, -0.2404, -1.1969],\n",
       "        [ 0.2093, -0.9724, -0.7550,  0.3239, -0.1085]])"
      ]
     },
     "execution_count": 3,
     "metadata": {},
     "output_type": "execute_result"
    }
   ],
   "execution_count": 3
  },
  {
   "metadata": {},
   "cell_type": "markdown",
   "source": "### Without Normalization",
   "id": "12775af8a61a8a1a"
  },
  {
   "metadata": {
    "ExecuteTime": {
     "end_time": "2025-05-12T07:13:36.060347Z",
     "start_time": "2025-05-12T07:13:36.055270Z"
    }
   },
   "cell_type": "code",
   "source": [
    "layer = nn.Sequential(nn.Linear(5,6), nn.ReLU())\n",
    "layer"
   ],
   "id": "ee2f437db79f7bf0",
   "outputs": [
    {
     "data": {
      "text/plain": [
       "Sequential(\n",
       "  (0): Linear(in_features=5, out_features=6, bias=True)\n",
       "  (1): ReLU()\n",
       ")"
      ]
     },
     "execution_count": 4,
     "metadata": {},
     "output_type": "execute_result"
    }
   ],
   "execution_count": 4
  },
  {
   "metadata": {
    "ExecuteTime": {
     "end_time": "2025-05-12T07:13:36.066367Z",
     "start_time": "2025-05-12T07:13:36.060347Z"
    }
   },
   "cell_type": "code",
   "source": [
    "output = layer(batch_example)\n",
    "output"
   ],
   "id": "9bb76bfc027c18ab",
   "outputs": [
    {
     "data": {
      "text/plain": [
       "tensor([[0.2260, 0.3470, 0.0000, 0.2216, 0.0000, 0.0000],\n",
       "        [0.2133, 0.2394, 0.0000, 0.5198, 0.3297, 0.0000]],\n",
       "       grad_fn=<ReluBackward0>)"
      ]
     },
     "execution_count": 5,
     "metadata": {},
     "output_type": "execute_result"
    }
   ],
   "execution_count": 5
  },
  {
   "metadata": {
    "ExecuteTime": {
     "end_time": "2025-05-12T07:13:36.073321Z",
     "start_time": "2025-05-12T07:13:36.066367Z"
    }
   },
   "cell_type": "code",
   "source": [
    "mean = output.mean(dim=-1, keepdim=True)\n",
    "variance = output.var(dim=-1, keepdim=True)\n",
    "print(mean)\n",
    "print(\"----------------\")\n",
    "print(variance)"
   ],
   "id": "efbe939ec26604d7",
   "outputs": [
    {
     "name": "stdout",
     "output_type": "stream",
     "text": [
      "tensor([[0.1324],\n",
      "        [0.2170]], grad_fn=<MeanBackward1>)\n",
      "----------------\n",
      "tensor([[0.0231],\n",
      "        [0.0398]], grad_fn=<VarBackward0>)\n"
     ]
    }
   ],
   "execution_count": 6
  },
  {
   "metadata": {},
   "cell_type": "markdown",
   "source": "### Using Layer Normalization",
   "id": "2aa190a5469ba44c"
  },
  {
   "metadata": {
    "ExecuteTime": {
     "end_time": "2025-05-12T07:13:36.078703Z",
     "start_time": "2025-05-12T07:13:36.073321Z"
    }
   },
   "cell_type": "code",
   "source": [
    "mean = output.mean(dim=-1, keepdim=True)\n",
    "variance = output.var(dim=-1, keepdim=True)\n",
    "\n",
    "output_normalized =( output - mean) / torch.sqrt(variance)\n",
    "output_normalized"
   ],
   "id": "f3cfcbefe1f50614",
   "outputs": [
    {
     "data": {
      "text/plain": [
       "tensor([[ 0.6159,  1.4126, -0.8719,  0.5872, -0.8719, -0.8719],\n",
       "        [-0.0189,  0.1121, -1.0876,  1.5173,  0.5647, -1.0876]],\n",
       "       grad_fn=<DivBackward0>)"
      ]
     },
     "execution_count": 7,
     "metadata": {},
     "output_type": "execute_result"
    }
   ],
   "execution_count": 7
  },
  {
   "metadata": {
    "ExecuteTime": {
     "end_time": "2025-05-12T07:13:36.084060Z",
     "start_time": "2025-05-12T07:13:36.078703Z"
    }
   },
   "cell_type": "code",
   "source": [
    "mean = output_normalized.mean(dim=-1, keepdim=True)\n",
    "variance = output_normalized.var(dim=-1, keepdim=True)\n",
    "\n",
    "torch.set_printoptions(sci_mode=False)\n",
    "print(mean)\n",
    "print(\"----------------\")\n",
    "print(variance)"
   ],
   "id": "5df304465d873e15",
   "outputs": [
    {
     "name": "stdout",
     "output_type": "stream",
     "text": [
      "tensor([[    0.0000],\n",
      "        [    0.0000]], grad_fn=<MeanBackward1>)\n",
      "----------------\n",
      "tensor([[1.0000],\n",
      "        [1.0000]], grad_fn=<VarBackward0>)\n"
     ]
    }
   ],
   "execution_count": 8
  },
  {
   "metadata": {},
   "cell_type": "markdown",
   "source": "# Build Class",
   "id": "19d3194a466c1c53"
  },
  {
   "metadata": {
    "ExecuteTime": {
     "end_time": "2025-05-12T07:13:36.088918Z",
     "start_time": "2025-05-12T07:13:36.084060Z"
    }
   },
   "cell_type": "code",
   "source": [
    "class LayerNormalization(nn.Module):\n",
    "    def __init__(self, embedding_dim):\n",
    "        super().__init__()\n",
    "        self.eps = 1e-5\n",
    "        self.scale = nn.Parameter(torch.ones(embedding_dim))\n",
    "        self.shift = nn.Parameter(torch.zeros(embedding_dim))\n",
    "        \n",
    "    def forward(self, x):\n",
    "        mean = x.mean(dim=-1, keepdim=True)\n",
    "        variance = x.var(dim=-1, keepdim=True)\n",
    "        \n",
    "        x_normalized = (x - mean)/ torch.sqrt(variance + self.eps)\n",
    "        return self.scale * x_normalized + self.shift"
   ],
   "id": "fa277883e014d03",
   "outputs": [],
   "execution_count": 9
  },
  {
   "metadata": {
    "ExecuteTime": {
     "end_time": "2025-05-12T07:15:01.245511Z",
     "start_time": "2025-05-12T07:15:01.227756Z"
    }
   },
   "cell_type": "code",
   "source": [
    "batch_size, embedding_size = output.shape\n",
    "embedding_size"
   ],
   "id": "c8dd6211a65eb2c3",
   "outputs": [
    {
     "data": {
      "text/plain": [
       "6"
      ]
     },
     "execution_count": 12,
     "metadata": {},
     "output_type": "execute_result"
    }
   ],
   "execution_count": 12
  },
  {
   "metadata": {
    "ExecuteTime": {
     "end_time": "2025-05-12T07:15:20.768530Z",
     "start_time": "2025-05-12T07:15:20.764409Z"
    }
   },
   "cell_type": "code",
   "source": "lm = LayerNormalization(embedding_size)",
   "id": "1ed9e830cf02982c",
   "outputs": [],
   "execution_count": 14
  },
  {
   "metadata": {
    "ExecuteTime": {
     "end_time": "2025-05-12T07:16:08.147470Z",
     "start_time": "2025-05-12T07:16:08.141680Z"
    }
   },
   "cell_type": "code",
   "source": "normalized_from_class =  lm(output)",
   "id": "aa83f9713a7657cc",
   "outputs": [],
   "execution_count": 16
  },
  {
   "metadata": {
    "ExecuteTime": {
     "end_time": "2025-05-12T07:16:13.783783Z",
     "start_time": "2025-05-12T07:16:13.775193Z"
    }
   },
   "cell_type": "code",
   "source": [
    "mean = normalized_from_class.mean(dim=-1, keepdim=True)\n",
    "variance = normalized_from_class.var(dim=-1, keepdim=True)\n",
    "\n",
    "torch.set_printoptions(sci_mode=False)\n",
    "print(mean)\n",
    "print(\"----------------\")\n",
    "print(variance)"
   ],
   "id": "fffc4d06bda0bc2",
   "outputs": [
    {
     "name": "stdout",
     "output_type": "stream",
     "text": [
      "tensor([[    -0.0000],\n",
      "        [     0.0000]], grad_fn=<MeanBackward1>)\n",
      "----------------\n",
      "tensor([[0.9996],\n",
      "        [0.9997]], grad_fn=<VarBackward0>)\n"
     ]
    }
   ],
   "execution_count": 17
  },
  {
   "metadata": {},
   "cell_type": "code",
   "outputs": [],
   "execution_count": null,
   "source": "",
   "id": "fd59491555bba42d"
  }
 ],
 "metadata": {
  "kernelspec": {
   "display_name": "Python 3",
   "language": "python",
   "name": "python3"
  },
  "language_info": {
   "codemirror_mode": {
    "name": "ipython",
    "version": 2
   },
   "file_extension": ".py",
   "mimetype": "text/x-python",
   "name": "python",
   "nbconvert_exporter": "python",
   "pygments_lexer": "ipython2",
   "version": "2.7.6"
  }
 },
 "nbformat": 4,
 "nbformat_minor": 5
}
