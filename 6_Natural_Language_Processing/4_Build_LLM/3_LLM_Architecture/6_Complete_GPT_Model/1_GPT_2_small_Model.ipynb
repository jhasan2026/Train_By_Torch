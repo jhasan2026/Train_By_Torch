{
 "cells": [
  {
   "cell_type": "code",
   "id": "initial_id",
   "metadata": {
    "collapsed": true,
    "ExecuteTime": {
     "end_time": "2025-05-14T06:11:31.075856Z",
     "start_time": "2025-05-14T06:11:29.256887Z"
    }
   },
   "source": [
    "import torch \n",
    "import torch.nn as nn"
   ],
   "outputs": [],
   "execution_count": 1
  },
  {
   "metadata": {
    "ExecuteTime": {
     "end_time": "2025-05-14T06:11:31.080064Z",
     "start_time": "2025-05-14T06:11:31.076859Z"
    }
   },
   "cell_type": "code",
   "source": [
    "GPT_CONFIG_124M = {\n",
    "    \"vocab_size\":50257,\n",
    "    \"context_length\":1024,\n",
    "    \"embedding_dim\":768,\n",
    "    \"num_of_heads\":12,\n",
    "    \"num_of_layers\":12,\n",
    "    \"drop_rate_attention\":0.1,\n",
    "    \"drop_rate_embedding\":0.1,\n",
    "    \"drop_rate_shortcut\":0.1,\n",
    "    \"qkv_bias\":False\n",
    "}"
   ],
   "id": "13f0e50df68c9c28",
   "outputs": [],
   "execution_count": 2
  },
  {
   "metadata": {
    "ExecuteTime": {
     "end_time": "2025-05-14T06:11:31.095445Z",
     "start_time": "2025-05-14T06:11:31.081078Z"
    }
   },
   "cell_type": "code",
   "source": [
    "\n",
    "class MultiHeadAttention(nn.Module):\n",
    "    def __init__(self,d_in,d_out,context_length,dropout,num_of_head,qkv_bias=False):\n",
    "        super().__init__()\n",
    "        \n",
    "        assert (d_out % num_of_head == 0), \"d_out must be divisible by num_of_head\"\n",
    "        \n",
    "        self.d_out = d_out                                   \n",
    "        self.dropout = nn.Dropout(dropout)\n",
    "        self.num_of_head = num_of_head                         \n",
    "        \n",
    "        self.head_dim = d_out // num_of_head                \n",
    "        self.out_proj = nn.Linear(d_out, d_out)             \n",
    "        \n",
    "        self.W_query = nn.Linear(d_in, d_out, bias=qkv_bias)\n",
    "        self.W_key = nn.Linear(d_in, d_out, bias=qkv_bias)\n",
    "        self.W_value = nn.Linear(d_in, d_out, bias=qkv_bias)\n",
    "        \n",
    "        self.register_buffer(\n",
    "            \"mask\",\n",
    "            torch.triu(torch.ones(context_length,context_length), diagonal=1)\n",
    "        )\n",
    "        \n",
    "    def forward(self, x):\n",
    "        num_of_inputs, num_of_tokens, embedding_dim = x.shape           \n",
    "        \n",
    "        queries = self.W_query(x)                            \n",
    "        keys = self.W_key(x)\n",
    "        values = self.W_value(x)\n",
    "        \n",
    "        queries = queries.view(num_of_inputs, num_of_tokens, self.num_of_head, self.head_dim)      \n",
    "        keys = keys.view(num_of_inputs, num_of_tokens, self.num_of_head, self.head_dim)       \n",
    "        values = values.view(num_of_inputs, num_of_tokens, self.num_of_head, self.head_dim)       \n",
    "        \n",
    "        \n",
    "        queries = queries.transpose(1,2)\n",
    "        keys = keys.transpose(1,2)\n",
    "        values = values.transpose(1,2)\n",
    "        \n",
    "        attention_score = queries @ keys.transpose(2,3)\n",
    "        mask_bool = self.mask.bool() [:num_of_tokens, :num_of_tokens]\n",
    "        \n",
    "        attention_score.masked_fill_(mask_bool, -torch.inf)\n",
    "        \n",
    "        k_d = keys.shape[-1]\n",
    "        attention_weight = torch.softmax(attention_score / k_d**0.5, dim=-1)\n",
    "        attention_weight = self.dropout(attention_weight)\n",
    "        \n",
    "        context_vector = (attention_weight @ values).transpose(1,2)\n",
    "        \n",
    "        context_vector = context_vector.contiguous().view(\n",
    "            num_of_inputs, num_of_tokens, self.d_out\n",
    "        )\n",
    "        context_vector = self.out_proj(context_vector)\n",
    "        return context_vector"
   ],
   "id": "ec3cec7e4f484109",
   "outputs": [],
   "execution_count": 3
  },
  {
   "metadata": {
    "ExecuteTime": {
     "end_time": "2025-05-14T06:11:31.100754Z",
     "start_time": "2025-05-14T06:11:31.095445Z"
    }
   },
   "cell_type": "code",
   "source": [
    "class LayerNormalization(nn.Module):\n",
    "    def __init__(self, embedding_dim):\n",
    "        super().__init__()\n",
    "        self.eps = 1e-5\n",
    "        self.scale = nn.Parameter(torch.ones(embedding_dim))\n",
    "        self.shift = nn.Parameter(torch.zeros(embedding_dim))\n",
    "        \n",
    "    def forward(self, x):\n",
    "        mean = x.mean(dim=-1, keepdim=True)\n",
    "        variance = x.var(dim=-1, keepdim=True)\n",
    "        \n",
    "        x_normalized = (x - mean)/ torch.sqrt(variance + self.eps)\n",
    "        return self.scale * x_normalized + self.shift"
   ],
   "id": "f5654ae854963557",
   "outputs": [],
   "execution_count": 4
  },
  {
   "metadata": {
    "ExecuteTime": {
     "end_time": "2025-05-14T06:11:31.105609Z",
     "start_time": "2025-05-14T06:11:31.100754Z"
    }
   },
   "cell_type": "code",
   "source": [
    "class GELU(nn.Module):\n",
    "    def __init__(self):\n",
    "        super().__init__()\n",
    "        \n",
    "    def forward(self,x):\n",
    "        return 0.5 * x * (\n",
    "            1 + torch.tanh(torch.sqrt(torch.tensor(2.0/torch.pi)) * (x + 0.44715 * torch.pow(x,3)))\n",
    "        )"
   ],
   "id": "7a79211e799a9075",
   "outputs": [],
   "execution_count": 5
  },
  {
   "metadata": {
    "ExecuteTime": {
     "end_time": "2025-05-14T06:11:31.110331Z",
     "start_time": "2025-05-14T06:11:31.105609Z"
    }
   },
   "cell_type": "code",
   "source": [
    "class FeedForward(nn.Module):\n",
    "    def __init__(self, config):\n",
    "        super().__init__()\n",
    "        self.layers = nn.Sequential(\n",
    "            nn.Linear(config['embedding_dim'], 4* config['embedding_dim']),\n",
    "            GELU(),\n",
    "            nn.Linear(4*config['embedding_dim'],config['embedding_dim'])\n",
    "        )\n",
    "        \n",
    "    def forward(self, x):\n",
    "        return self.layers(x)"
   ],
   "id": "c98a2533af98e48f",
   "outputs": [],
   "execution_count": 6
  },
  {
   "metadata": {
    "ExecuteTime": {
     "end_time": "2025-05-14T06:11:31.114893Z",
     "start_time": "2025-05-14T06:11:31.110331Z"
    }
   },
   "cell_type": "code",
   "source": "inputs = torch.rand(2,4,768)",
   "id": "dc3df82f8db1c493",
   "outputs": [],
   "execution_count": 7
  },
  {
   "metadata": {
    "ExecuteTime": {
     "end_time": "2025-05-14T06:11:31.120572Z",
     "start_time": "2025-05-14T06:11:31.114893Z"
    }
   },
   "cell_type": "code",
   "source": [
    "class TransformerBlock(nn.Module):\n",
    "    def __init__(self, config):\n",
    "        super().__init__()\n",
    "        self.layer_norm1 = LayerNormalization(config['embedding_dim'])\n",
    "        self.attention = MultiHeadAttention(\n",
    "            d_in=config['embedding_dim'],\n",
    "            d_out=config['embedding_dim'],\n",
    "            context_length=config['context_length'],\n",
    "            dropout=config['drop_rate_attention'],\n",
    "            num_of_head=config['num_of_heads'],\n",
    "            qkv_bias=config['qkv_bias']\n",
    "        )\n",
    "        self.dropout_shortcut = nn.Dropout(config['drop_rate_shortcut'])\n",
    "        self.layer_norm2 = LayerNormalization(config['embedding_dim'])     \n",
    "        self.ff = FeedForward(config)\n",
    "        \n",
    "    def forward(self,x):\n",
    "        shortcut = x\n",
    "        \n",
    "        x = self.layer_norm1(x)\n",
    "        x = self.attention(x)\n",
    "        x = self.dropout_shortcut(x)\n",
    "        \n",
    "        x = x + shortcut\n",
    "        \n",
    "        shortcut = x \n",
    "        x = self.layer_norm2(x)\n",
    "        x = self.ff(x)\n",
    "        x = self.dropout_shortcut(x)\n",
    "        \n",
    "        x = x + shortcut\n",
    "        return x"
   ],
   "id": "3f4de9c951e20ee9",
   "outputs": [],
   "execution_count": 8
  },
  {
   "metadata": {
    "ExecuteTime": {
     "end_time": "2025-05-14T06:11:31.161587Z",
     "start_time": "2025-05-14T06:11:31.120572Z"
    }
   },
   "cell_type": "code",
   "source": "transformerBlock = TransformerBlock(GPT_CONFIG_124M) ",
   "id": "7d93f10390185cae",
   "outputs": [],
   "execution_count": 9
  },
  {
   "metadata": {
    "ExecuteTime": {
     "end_time": "2025-05-14T06:11:31.170890Z",
     "start_time": "2025-05-14T06:11:31.161587Z"
    }
   },
   "cell_type": "code",
   "source": "transformerBlock",
   "id": "e7b5cc086fdc62d3",
   "outputs": [
    {
     "data": {
      "text/plain": [
       "TransformerBlock(\n",
       "  (layer_norm1): LayerNormalization()\n",
       "  (attention): MultiHeadAttention(\n",
       "    (dropout): Dropout(p=0.1, inplace=False)\n",
       "    (out_proj): Linear(in_features=768, out_features=768, bias=True)\n",
       "    (W_query): Linear(in_features=768, out_features=768, bias=False)\n",
       "    (W_key): Linear(in_features=768, out_features=768, bias=False)\n",
       "    (W_value): Linear(in_features=768, out_features=768, bias=False)\n",
       "  )\n",
       "  (dropout_shortcut): Dropout(p=0.1, inplace=False)\n",
       "  (layer_norm2): LayerNormalization()\n",
       "  (ff): FeedForward(\n",
       "    (layers): Sequential(\n",
       "      (0): Linear(in_features=768, out_features=3072, bias=True)\n",
       "      (1): GELU()\n",
       "      (2): Linear(in_features=3072, out_features=768, bias=True)\n",
       "    )\n",
       "  )\n",
       ")"
      ]
     },
     "execution_count": 10,
     "metadata": {},
     "output_type": "execute_result"
    }
   ],
   "execution_count": 10
  },
  {
   "metadata": {
    "ExecuteTime": {
     "end_time": "2025-05-14T06:11:31.190127Z",
     "start_time": "2025-05-14T06:11:31.170890Z"
    }
   },
   "cell_type": "code",
   "source": [
    "output = transformerBlock(inputs)\n",
    "output"
   ],
   "id": "391a34055982843a",
   "outputs": [
    {
     "data": {
      "text/plain": [
       "tensor([[[ 7.6583e-01, -5.6543e-01,  1.1176e-01,  ...,  6.2051e-01,\n",
       "           8.4087e-01, -5.0407e-01],\n",
       "         [ 4.2186e-01,  3.0178e-02, -1.3766e-01,  ...,  1.0595e+00,\n",
       "          -1.9451e-01, -7.9429e-02],\n",
       "         [ 3.4338e-01, -1.5067e-01,  1.7121e-01,  ...,  2.1207e-01,\n",
       "           5.4339e-01,  4.7946e-01],\n",
       "         [ 8.1102e-01,  1.8683e-01,  1.6864e-01,  ...,  5.5555e-01,\n",
       "           2.6048e-01,  1.4430e-01]],\n",
       "\n",
       "        [[-8.4855e-02,  1.0628e+00,  6.9442e-01,  ...,  1.1393e+00,\n",
       "           1.1212e+00,  1.6567e+00],\n",
       "         [-2.5907e-02,  8.0964e-01,  7.8358e-01,  ...,  1.0527e+00,\n",
       "           4.2865e-01,  5.0622e-01],\n",
       "         [ 8.3885e-01, -1.4489e-03,  1.2695e+00,  ...,  4.9450e-01,\n",
       "           7.9143e-01,  2.2807e-01],\n",
       "         [ 6.7424e-01,  7.7560e-01,  5.1858e-01,  ...,  1.2085e-01,\n",
       "           5.1988e-01,  6.3220e-01]]], grad_fn=<AddBackward0>)"
      ]
     },
     "execution_count": 11,
     "metadata": {},
     "output_type": "execute_result"
    }
   ],
   "execution_count": 11
  },
  {
   "metadata": {
    "ExecuteTime": {
     "end_time": "2025-05-14T06:11:31.195659Z",
     "start_time": "2025-05-14T06:11:31.190127Z"
    }
   },
   "cell_type": "code",
   "source": "print(inputs.shape, output.shape)",
   "id": "d7201c0e7b7e28a7",
   "outputs": [
    {
     "name": "stdout",
     "output_type": "stream",
     "text": [
      "torch.Size([2, 4, 768]) torch.Size([2, 4, 768])\n"
     ]
    }
   ],
   "execution_count": 12
  },
  {
   "metadata": {
    "ExecuteTime": {
     "end_time": "2025-05-14T06:11:31.203644Z",
     "start_time": "2025-05-14T06:11:31.195659Z"
    }
   },
   "cell_type": "code",
   "source": [
    "class GPTModel(nn.Module):\n",
    "    def __init__(self, config):\n",
    "        super().__init__()\n",
    "        \n",
    "        self.token_embedding = nn.Embedding(config['vocab_size'], config['embedding_dim'])\n",
    "        self.positional_embedding = nn.Embedding(config['context_length'], config['embedding_dim'])\n",
    "        self.dropout_embedding = nn.Dropout(config['drop_rate_embedding'])\n",
    "        \n",
    "        self.transformer_blocks = nn.Sequential(\n",
    "            *[TransformerBlock(config) for _ in range(config['num_of_layers'])]\n",
    "        )\n",
    "        \n",
    "        self.final_normalization = LayerNormalization(config['embedding_dim'])\n",
    "        \n",
    "        self.output_head = nn.Linear(config['embedding_dim'], config['vocab_size'], bias=False)\n",
    "        \n",
    "        \n",
    "    def forward(self,inputs):\n",
    "        batch_size, no_of_token = inputs.shape\n",
    "        token_embedding = self.token_embedding(inputs)\n",
    "        positional_embedding = self.positional_embedding(\n",
    "            torch.arange(no_of_token, device=inputs.device)\n",
    "        )\n",
    "        \n",
    "        x = token_embedding + positional_embedding\n",
    "        x = self.dropout_embedding(x)\n",
    "        x = self.transformer_blocks(x)\n",
    "        x = self.final_normalization(x)\n",
    "        logits = self.output_head(x)\n",
    "        return logits\n",
    "    \n",
    "        "
   ],
   "id": "8d2642e89e273bdb",
   "outputs": [],
   "execution_count": 13
  },
  {
   "metadata": {
    "ExecuteTime": {
     "end_time": "2025-05-14T06:11:31.445081Z",
     "start_time": "2025-05-14T06:11:31.203644Z"
    }
   },
   "cell_type": "code",
   "source": [
    "import tiktoken\n",
    "\n",
    "tokenizer = tiktoken.get_encoding('gpt2')\n",
    "\n",
    "batch = []\n",
    "\n",
    "tx1 = \"Every efforts moves you\"\n",
    "tx2 = \"Everyday hold a\"\n",
    "\n",
    "batch.append(torch.tensor(tokenizer.encode(tx1)))\n",
    "batch.append(torch.tensor(tokenizer.encode(tx2)))\n",
    "batch = torch.stack(batch, dim=0)\n",
    "batch"
   ],
   "id": "43d5a9c624ec00be",
   "outputs": [
    {
     "data": {
      "text/plain": [
       "tensor([[6109, 4040, 6100,  345],\n",
       "        [6109,  820, 1745,  257]])"
      ]
     },
     "execution_count": 14,
     "metadata": {},
     "output_type": "execute_result"
    }
   ],
   "execution_count": 14
  },
  {
   "metadata": {
    "ExecuteTime": {
     "end_time": "2025-05-14T06:11:31.449846Z",
     "start_time": "2025-05-14T06:11:31.445081Z"
    }
   },
   "cell_type": "code",
   "source": "batch.shape",
   "id": "43fbdab3ff55804f",
   "outputs": [
    {
     "data": {
      "text/plain": [
       "torch.Size([2, 4])"
      ]
     },
     "execution_count": 15,
     "metadata": {},
     "output_type": "execute_result"
    }
   ],
   "execution_count": 15
  },
  {
   "metadata": {
    "ExecuteTime": {
     "end_time": "2025-05-14T06:11:32.386859Z",
     "start_time": "2025-05-14T06:11:31.449846Z"
    }
   },
   "cell_type": "code",
   "source": [
    "torch.manual_seed(123)\n",
    "model = GPTModel(GPT_CONFIG_124M)\n",
    "logits = model(batch)\n",
    "logits"
   ],
   "id": "6ff26d62fb289bf9",
   "outputs": [
    {
     "data": {
      "text/plain": [
       "tensor([[[ 0.0354, -0.4721, -0.4587,  ..., -0.2188, -0.7655, -0.5078],\n",
       "         [ 1.2091, -0.7111, -0.3461,  ..., -0.4756,  0.1423,  0.4917],\n",
       "         [ 1.1188, -0.1816, -0.4621,  ...,  0.1599, -0.6646,  0.0516],\n",
       "         [-0.4757,  0.1577, -0.7076,  ...,  0.9585,  0.4032, -0.4800]],\n",
       "\n",
       "        [[-0.3335, -0.5786, -0.7396,  ..., -0.3007, -0.6175, -0.5974],\n",
       "         [ 0.6615, -0.0245,  0.3522,  ..., -0.0117, -0.3577,  0.2663],\n",
       "         [ 1.4650, -0.7124, -1.0607,  ...,  0.0926, -0.4379,  0.1451],\n",
       "         [-0.0892, -0.3618,  0.2950,  ...,  1.1519, -0.6237,  0.1250]]],\n",
       "       grad_fn=<UnsafeViewBackward0>)"
      ]
     },
     "execution_count": 16,
     "metadata": {},
     "output_type": "execute_result"
    }
   ],
   "execution_count": 16
  },
  {
   "metadata": {
    "ExecuteTime": {
     "end_time": "2025-05-14T06:11:32.391713Z",
     "start_time": "2025-05-14T06:11:32.386859Z"
    }
   },
   "cell_type": "code",
   "source": "logits.shape",
   "id": "ca1eecaf09801e28",
   "outputs": [
    {
     "data": {
      "text/plain": [
       "torch.Size([2, 4, 50257])"
      ]
     },
     "execution_count": 17,
     "metadata": {},
     "output_type": "execute_result"
    }
   ],
   "execution_count": 17
  },
  {
   "metadata": {},
   "cell_type": "code",
   "outputs": [],
   "execution_count": null,
   "source": "",
   "id": "2058372aee5f4c3f"
  }
 ],
 "metadata": {
  "kernelspec": {
   "display_name": "Python 3",
   "language": "python",
   "name": "python3"
  },
  "language_info": {
   "codemirror_mode": {
    "name": "ipython",
    "version": 2
   },
   "file_extension": ".py",
   "mimetype": "text/x-python",
   "name": "python",
   "nbconvert_exporter": "python",
   "pygments_lexer": "ipython2",
   "version": "2.7.6"
  }
 },
 "nbformat": 4,
 "nbformat_minor": 5
}
