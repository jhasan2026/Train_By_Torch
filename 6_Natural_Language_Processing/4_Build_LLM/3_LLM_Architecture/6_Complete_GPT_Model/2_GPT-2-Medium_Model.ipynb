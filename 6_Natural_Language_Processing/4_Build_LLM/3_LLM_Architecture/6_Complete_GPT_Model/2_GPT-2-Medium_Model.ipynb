{
 "cells": [
  {
   "cell_type": "code",
   "id": "initial_id",
   "metadata": {
    "collapsed": true,
    "ExecuteTime": {
     "end_time": "2025-05-12T15:37:21.902780Z",
     "start_time": "2025-05-12T15:37:20.141838Z"
    }
   },
   "source": [
    "import torch \n",
    "import torch.nn as nn"
   ],
   "outputs": [],
   "execution_count": 1
  },
  {
   "metadata": {
    "ExecuteTime": {
     "end_time": "2025-05-12T15:37:21.907209Z",
     "start_time": "2025-05-12T15:37:21.902780Z"
    }
   },
   "cell_type": "code",
   "source": [
    "GPT_CONFIG_350M = {\n",
    "    \"vocab_size\":50257,\n",
    "    \"context_length\":1024,\n",
    "    \"embedding_dim\":1600,\n",
    "    \"num_of_heads\":16,\n",
    "    \"num_of_layers\":24,\n",
    "    \"drop_rate\":0.1,\n",
    "    \"qkv_bias\":False\n",
    "}"
   ],
   "id": "13f0e50df68c9c28",
   "outputs": [],
   "execution_count": 2
  },
  {
   "metadata": {
    "ExecuteTime": {
     "end_time": "2025-05-12T15:37:21.916825Z",
     "start_time": "2025-05-12T15:37:21.907209Z"
    }
   },
   "cell_type": "code",
   "source": [
    "\n",
    "class MultiHeadAttention(nn.Module):\n",
    "    def __init__(self,d_in,d_out,context_length,dropout,num_of_head,qkv_bias=False):\n",
    "        super().__init__()\n",
    "        \n",
    "        assert (d_out % num_of_head == 0), \"d_out must be divisible by num_of_head\"\n",
    "        \n",
    "        self.d_out = d_out                                   \n",
    "        self.dropout = nn.Dropout(dropout)\n",
    "        self.num_of_head = num_of_head                         \n",
    "        \n",
    "        self.head_dim = d_out // num_of_head                \n",
    "        self.out_proj = nn.Linear(d_out, d_out)             \n",
    "        \n",
    "        self.W_query = nn.Linear(d_in, d_out, bias=qkv_bias)\n",
    "        self.W_key = nn.Linear(d_in, d_out, bias=qkv_bias)\n",
    "        self.W_value = nn.Linear(d_in, d_out, bias=qkv_bias)\n",
    "        \n",
    "        self.register_buffer(\n",
    "            \"mask\",\n",
    "            torch.triu(torch.ones(context_length,context_length), diagonal=1)\n",
    "        )\n",
    "        \n",
    "    def forward(self, x):\n",
    "        num_of_inputs, num_of_tokens, embedding_dim = x.shape           \n",
    "        \n",
    "        queries = self.W_query(x)                            \n",
    "        keys = self.W_key(x)\n",
    "        values = self.W_value(x)\n",
    "        \n",
    "        queries = queries.view(num_of_inputs, num_of_tokens, self.num_of_head, self.head_dim)      \n",
    "        keys = keys.view(num_of_inputs, num_of_tokens, self.num_of_head, self.head_dim)       \n",
    "        values = values.view(num_of_inputs, num_of_tokens, self.num_of_head, self.head_dim)       \n",
    "        \n",
    "        \n",
    "        queries = queries.transpose(1,2)\n",
    "        keys = keys.transpose(1,2)\n",
    "        values = values.transpose(1,2)\n",
    "        \n",
    "        attention_score = queries @ keys.transpose(2,3)\n",
    "        mask_bool = self.mask.bool() [:num_of_tokens, :num_of_tokens]\n",
    "        \n",
    "        attention_score.masked_fill_(mask_bool, -torch.inf)\n",
    "        \n",
    "        k_d = keys.shape[-1]\n",
    "        attention_weight = torch.softmax(attention_score / k_d**0.5, dim=-1)\n",
    "        attention_weight = self.dropout(attention_weight)\n",
    "        \n",
    "        context_vector = (attention_weight @ values).transpose(1,2)\n",
    "        \n",
    "        context_vector = context_vector.contiguous().view(\n",
    "            num_of_inputs, num_of_tokens, self.d_out\n",
    "        )\n",
    "        context_vector = self.out_proj(context_vector)\n",
    "        return context_vector"
   ],
   "id": "ec3cec7e4f484109",
   "outputs": [],
   "execution_count": 3
  },
  {
   "metadata": {
    "ExecuteTime": {
     "end_time": "2025-05-12T15:37:21.921995Z",
     "start_time": "2025-05-12T15:37:21.916825Z"
    }
   },
   "cell_type": "code",
   "source": [
    "class LayerNormalization(nn.Module):\n",
    "    def __init__(self, embedding_dim):\n",
    "        super().__init__()\n",
    "        self.eps = 1e-5\n",
    "        self.scale = nn.Parameter(torch.ones(embedding_dim))\n",
    "        self.shift = nn.Parameter(torch.zeros(embedding_dim))\n",
    "        \n",
    "    def forward(self, x):\n",
    "        mean = x.mean(dim=-1, keepdim=True)\n",
    "        variance = x.var(dim=-1, keepdim=True)\n",
    "        \n",
    "        x_normalized = (x - mean)/ torch.sqrt(variance + self.eps)\n",
    "        return self.scale * x_normalized + self.shift"
   ],
   "id": "f5654ae854963557",
   "outputs": [],
   "execution_count": 4
  },
  {
   "metadata": {
    "ExecuteTime": {
     "end_time": "2025-05-12T15:37:21.927263Z",
     "start_time": "2025-05-12T15:37:21.921995Z"
    }
   },
   "cell_type": "code",
   "source": [
    "class GELU(nn.Module):\n",
    "    def __init__(self):\n",
    "        super().__init__()\n",
    "        \n",
    "    def forward(self,x):\n",
    "        return 0.5 * x * (\n",
    "            1 + torch.tanh(torch.sqrt(torch.tensor(2.0/torch.pi)) * (x + 0.44715 * torch.pow(x,3)))\n",
    "        )"
   ],
   "id": "7a79211e799a9075",
   "outputs": [],
   "execution_count": 5
  },
  {
   "metadata": {
    "ExecuteTime": {
     "end_time": "2025-05-12T15:37:21.932782Z",
     "start_time": "2025-05-12T15:37:21.927263Z"
    }
   },
   "cell_type": "code",
   "source": [
    "class FeedForward(nn.Module):\n",
    "    def __init__(self, config):\n",
    "        super().__init__()\n",
    "        self.layers = nn.Sequential(\n",
    "            nn.Linear(config['embedding_dim'], 4* config['embedding_dim']),\n",
    "            GELU(),\n",
    "            nn.Linear(4*config['embedding_dim'],config['embedding_dim'])\n",
    "        )\n",
    "        \n",
    "    def forward(self, x):\n",
    "        return self.layers(x)"
   ],
   "id": "c98a2533af98e48f",
   "outputs": [],
   "execution_count": 6
  },
  {
   "metadata": {
    "ExecuteTime": {
     "end_time": "2025-05-12T15:37:21.938206Z",
     "start_time": "2025-05-12T15:37:21.932782Z"
    }
   },
   "cell_type": "code",
   "source": [
    "class TransformerBlock(nn.Module):\n",
    "    def __init__(self, config):\n",
    "        super().__init__()\n",
    "        self.layer_norm1 = LayerNormalization(config['embedding_dim'])\n",
    "        self.attention = MultiHeadAttention(\n",
    "            d_in=config['embedding_dim'],\n",
    "            d_out=config['embedding_dim'],\n",
    "            context_length=config['context_length'],\n",
    "            dropout=config['drop_rate'],\n",
    "            num_of_head=config['num_of_heads'],\n",
    "            qkv_bias=config['qkv_bias']\n",
    "        )\n",
    "        self.dropout = nn.Dropout(config['drop_rate'])\n",
    "        self.layer_norm2 = LayerNormalization(config['embedding_dim'])     \n",
    "        self.ff = FeedForward(config)\n",
    "        \n",
    "    def forward(self,x):\n",
    "        shortcut = x\n",
    "        \n",
    "        x = self.layer_norm1(x)\n",
    "        x = self.attention(x)\n",
    "        x = self.dropout(x)\n",
    "        \n",
    "        x = x + shortcut\n",
    "        \n",
    "        shortcut = x \n",
    "        x = self.layer_norm2(x)\n",
    "        x = self.ff(x)\n",
    "        x = self.dropout(x)\n",
    "        \n",
    "        x = x + shortcut\n",
    "        return x"
   ],
   "id": "3f4de9c951e20ee9",
   "outputs": [],
   "execution_count": 7
  },
  {
   "metadata": {
    "ExecuteTime": {
     "end_time": "2025-05-12T15:37:22.088806Z",
     "start_time": "2025-05-12T15:37:21.938206Z"
    }
   },
   "cell_type": "code",
   "source": "transformerBlock = TransformerBlock(GPT_CONFIG_350M) ",
   "id": "7d93f10390185cae",
   "outputs": [],
   "execution_count": 8
  },
  {
   "metadata": {
    "ExecuteTime": {
     "end_time": "2025-05-12T15:37:22.095951Z",
     "start_time": "2025-05-12T15:37:22.088806Z"
    }
   },
   "cell_type": "code",
   "source": "transformerBlock",
   "id": "e7b5cc086fdc62d3",
   "outputs": [
    {
     "data": {
      "text/plain": [
       "TransformerBlock(\n",
       "  (layer_norm1): LayerNormalization()\n",
       "  (attention): MultiHeadAttention(\n",
       "    (dropout): Dropout(p=0.1, inplace=False)\n",
       "    (out_proj): Linear(in_features=1600, out_features=1600, bias=True)\n",
       "    (W_query): Linear(in_features=1600, out_features=1600, bias=False)\n",
       "    (W_key): Linear(in_features=1600, out_features=1600, bias=False)\n",
       "    (W_value): Linear(in_features=1600, out_features=1600, bias=False)\n",
       "  )\n",
       "  (dropout): Dropout(p=0.1, inplace=False)\n",
       "  (layer_norm2): LayerNormalization()\n",
       "  (ff): FeedForward(\n",
       "    (layers): Sequential(\n",
       "      (0): Linear(in_features=1600, out_features=6400, bias=True)\n",
       "      (1): GELU()\n",
       "      (2): Linear(in_features=6400, out_features=1600, bias=True)\n",
       "    )\n",
       "  )\n",
       ")"
      ]
     },
     "execution_count": 9,
     "metadata": {},
     "output_type": "execute_result"
    }
   ],
   "execution_count": 9
  },
  {
   "metadata": {
    "ExecuteTime": {
     "end_time": "2025-05-12T15:37:22.102221Z",
     "start_time": "2025-05-12T15:37:22.095951Z"
    }
   },
   "cell_type": "code",
   "source": [
    "class GPTModel(nn.Module):\n",
    "    def __init__(self, config):\n",
    "        super().__init__()\n",
    "        \n",
    "        self.token_embedding = nn.Embedding(config['vocab_size'], config['embedding_dim'])\n",
    "        self.positional_embedding = nn.Embedding(config['context_length'], config['embedding_dim'])\n",
    "        self.dropout_embedding = nn.Dropout(config['drop_rate'])\n",
    "        \n",
    "        self.transformer_blocks = nn.Sequential(\n",
    "            *[TransformerBlock(config) for _ in range(config['num_of_layers'])]\n",
    "        )\n",
    "        \n",
    "        self.final_normalization = LayerNormalization(config['embedding_dim'])\n",
    "        \n",
    "        self.output_head = nn.Linear(config['embedding_dim'], config['vocab_size'], bias=False)\n",
    "        \n",
    "        \n",
    "    def forward(self,inputs):\n",
    "        batch_size, no_of_token = inputs.shape\n",
    "        token_embedding = self.token_embedding(inputs)\n",
    "        positional_embedding = self.positional_embedding(\n",
    "            torch.arange(no_of_token, device=inputs.device)\n",
    "        )\n",
    "        \n",
    "        x = token_embedding + positional_embedding\n",
    "        x = self.dropout_embedding(x)\n",
    "        x = self.transformer_blocks(x)\n",
    "        x = self.final_normalization(x)\n",
    "        logits = self.output_head(x)\n",
    "        return logits\n",
    "    \n",
    "        "
   ],
   "id": "8d2642e89e273bdb",
   "outputs": [],
   "execution_count": 10
  },
  {
   "metadata": {
    "ExecuteTime": {
     "end_time": "2025-05-12T15:37:22.360224Z",
     "start_time": "2025-05-12T15:37:22.102221Z"
    }
   },
   "cell_type": "code",
   "source": [
    "import tiktoken\n",
    "\n",
    "tokenizer = tiktoken.get_encoding('gpt2')\n",
    "\n",
    "batch = []\n",
    "\n",
    "tx1 = \"Every efforts moves you\"\n",
    "tx2 = \"Everyday hold a\"\n",
    "\n",
    "batch.append(torch.tensor(tokenizer.encode(tx1)))\n",
    "batch.append(torch.tensor(tokenizer.encode(tx2)))\n",
    "batch = torch.stack(batch, dim=0)\n",
    "batch"
   ],
   "id": "43d5a9c624ec00be",
   "outputs": [
    {
     "data": {
      "text/plain": [
       "tensor([[6109, 4040, 6100,  345],\n",
       "        [6109,  820, 1745,  257]])"
      ]
     },
     "execution_count": 11,
     "metadata": {},
     "output_type": "execute_result"
    }
   ],
   "execution_count": 11
  },
  {
   "metadata": {
    "ExecuteTime": {
     "end_time": "2025-05-12T15:37:22.364665Z",
     "start_time": "2025-05-12T15:37:22.360224Z"
    }
   },
   "cell_type": "code",
   "source": "batch.shape",
   "id": "43fbdab3ff55804f",
   "outputs": [
    {
     "data": {
      "text/plain": [
       "torch.Size([2, 4])"
      ]
     },
     "execution_count": 12,
     "metadata": {},
     "output_type": "execute_result"
    }
   ],
   "execution_count": 12
  },
  {
   "metadata": {
    "ExecuteTime": {
     "end_time": "2025-05-12T15:37:27.107466Z",
     "start_time": "2025-05-12T15:37:22.364665Z"
    }
   },
   "cell_type": "code",
   "source": [
    "torch.manual_seed(123)\n",
    "model = GPTModel(GPT_CONFIG_350M)\n",
    "logits = model(batch)\n",
    "logits"
   ],
   "id": "6ff26d62fb289bf9",
   "outputs": [
    {
     "data": {
      "text/plain": [
       "tensor([[[-0.6579,  0.8784,  0.8806,  ...,  0.9194,  0.1150, -0.0935],\n",
       "         [ 0.8075, -1.2021, -0.8325,  ..., -0.5717,  0.1536,  0.1127],\n",
       "         [-0.1149, -0.7090, -0.3095,  ...,  0.0235,  0.1909, -0.9879],\n",
       "         [-0.1309,  0.1216, -0.5488,  ...,  1.1006,  0.2202,  0.1228]],\n",
       "\n",
       "        [[ 0.3100,  0.2314,  0.1667,  ...,  0.9612,  0.6297,  0.1075],\n",
       "         [-0.8291, -0.6832, -0.7368,  ...,  0.4337,  0.6186, -0.3144],\n",
       "         [ 0.0688,  0.0266, -0.6549,  ...,  0.7712, -0.5188,  0.3529],\n",
       "         [-0.5701, -0.1891, -0.7100,  ...,  0.7228, -0.6595,  0.3389]]],\n",
       "       grad_fn=<UnsafeViewBackward0>)"
      ]
     },
     "execution_count": 13,
     "metadata": {},
     "output_type": "execute_result"
    }
   ],
   "execution_count": 13
  },
  {
   "metadata": {
    "ExecuteTime": {
     "end_time": "2025-05-12T15:37:27.114538Z",
     "start_time": "2025-05-12T15:37:27.109296Z"
    }
   },
   "cell_type": "code",
   "source": "logits.shape",
   "id": "ca1eecaf09801e28",
   "outputs": [
    {
     "data": {
      "text/plain": [
       "torch.Size([2, 4, 50257])"
      ]
     },
     "execution_count": 14,
     "metadata": {},
     "output_type": "execute_result"
    }
   ],
   "execution_count": 14
  },
  {
   "metadata": {
    "ExecuteTime": {
     "end_time": "2025-05-12T15:37:27.118107Z",
     "start_time": "2025-05-12T15:37:27.115555Z"
    }
   },
   "cell_type": "code",
   "source": "",
   "id": "d955e11712b9b9ab",
   "outputs": [],
   "execution_count": 14
  }
 ],
 "metadata": {
  "kernelspec": {
   "display_name": "Python 3",
   "language": "python",
   "name": "python3"
  },
  "language_info": {
   "codemirror_mode": {
    "name": "ipython",
    "version": 2
   },
   "file_extension": ".py",
   "mimetype": "text/x-python",
   "name": "python",
   "nbconvert_exporter": "python",
   "pygments_lexer": "ipython2",
   "version": "2.7.6"
  }
 },
 "nbformat": 4,
 "nbformat_minor": 5
}
