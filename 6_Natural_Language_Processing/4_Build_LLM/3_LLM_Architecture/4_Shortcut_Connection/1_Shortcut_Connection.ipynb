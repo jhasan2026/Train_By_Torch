{
 "cells": [
  {
   "cell_type": "code",
   "id": "initial_id",
   "metadata": {
    "collapsed": true,
    "ExecuteTime": {
     "end_time": "2025-05-12T14:45:41.167064Z",
     "start_time": "2025-05-12T14:45:39.297958Z"
    }
   },
   "source": [
    "import torch\n",
    "import torch.nn as nn"
   ],
   "outputs": [],
   "execution_count": 1
  },
  {
   "metadata": {
    "ExecuteTime": {
     "end_time": "2025-05-12T14:45:41.171988Z",
     "start_time": "2025-05-12T14:45:41.167064Z"
    }
   },
   "cell_type": "code",
   "source": [
    "class GELU(nn.Module):\n",
    "    def __init__(self):\n",
    "        super().__init__()\n",
    "        \n",
    "    def forward(self,x):\n",
    "        return 0.5 * x * (\n",
    "            1 + torch.tanh(torch.sqrt(torch.tensor(2.0/torch.pi)) * (x + 0.44715 * torch.pow(x,3)))\n",
    "        )"
   ],
   "id": "e9e71bf71859ed49",
   "outputs": [],
   "execution_count": 2
  },
  {
   "metadata": {
    "ExecuteTime": {
     "end_time": "2025-05-12T14:45:41.186670Z",
     "start_time": "2025-05-12T14:45:41.173021Z"
    }
   },
   "cell_type": "code",
   "source": [
    "class DeepNeuralNetwork(nn.Module):\n",
    "    def __init__(self, layer_sizes, use_shortcut):\n",
    "        super().__init__()\n",
    "        self.use_shortcut = use_shortcut\n",
    "        self.layers = nn.ModuleList([\n",
    "            nn.Sequential(nn.Linear(layer_sizes[0], layer_sizes[1]), GELU()),\n",
    "            \n",
    "            nn.Sequential(nn.Linear(layer_sizes[1], layer_sizes[2]), GELU()),\n",
    "            \n",
    "            nn.Sequential(nn.Linear(layer_sizes[2], layer_sizes[3]), GELU()),\n",
    "            \n",
    "            nn.Sequential(nn.Linear(layer_sizes[3], layer_sizes[4]), GELU()),\n",
    "            \n",
    "            nn.Sequential(nn.Linear(layer_sizes[4], layer_sizes[5]), GELU())\n",
    "        ])\n",
    "        \n",
    "    def forward(self, x):\n",
    "        for layer in self.layers:\n",
    "            layer_output = layer(x)\n",
    "            if self.use_shortcut and x.shape == layer_output.shape:\n",
    "                x = x + layer_output\n",
    "            else:\n",
    "                x = layer_output\n",
    "        return x           \n"
   ],
   "id": "61894428f18dd9a9",
   "outputs": [],
   "execution_count": 3
  },
  {
   "metadata": {
    "ExecuteTime": {
     "end_time": "2025-05-12T14:45:41.190835Z",
     "start_time": "2025-05-12T14:45:41.187673Z"
    }
   },
   "cell_type": "code",
   "source": "layer_sizes = [3,3,3,3,3,1]",
   "id": "88640246a75a96c7",
   "outputs": [],
   "execution_count": 4
  },
  {
   "metadata": {
    "ExecuteTime": {
     "end_time": "2025-05-12T14:45:41.195456Z",
     "start_time": "2025-05-12T14:45:41.190835Z"
    }
   },
   "cell_type": "code",
   "source": "inputs = torch.tensor([[1.0, 0.0, 1.0]])",
   "id": "aba088c13fea98a9",
   "outputs": [],
   "execution_count": 5
  },
  {
   "metadata": {
    "ExecuteTime": {
     "end_time": "2025-05-12T14:45:41.203919Z",
     "start_time": "2025-05-12T14:45:41.195456Z"
    }
   },
   "cell_type": "code",
   "source": [
    "def print_gradient(model, x):\n",
    "    output = model(x)\n",
    "    target = torch.tensor([[0.]])\n",
    "    \n",
    "    loss = nn.MSELoss()\n",
    "    loss = loss(output, target)\n",
    "    \n",
    "    loss.backward()\n",
    "    \n",
    "    for name, param in model_without_shortcut.named_parameters():\n",
    "        if 'weight' in name:\n",
    "            print(name, param.grad.abs().mean().item())\n",
    "        "
   ],
   "id": "bde1a57ccbbdb2f3",
   "outputs": [],
   "execution_count": 6
  },
  {
   "metadata": {
    "ExecuteTime": {
     "end_time": "2025-05-12T14:45:41.286280Z",
     "start_time": "2025-05-12T14:45:41.203919Z"
    }
   },
   "cell_type": "code",
   "source": [
    "torch.manual_seed(123)\n",
    "model_without_shortcut = DeepNeuralNetwork(layer_sizes, use_shortcut=False)\n",
    "model_without_shortcut"
   ],
   "id": "d71bdbebe1629179",
   "outputs": [
    {
     "data": {
      "text/plain": [
       "DeepNeuralNetwork(\n",
       "  (layers): ModuleList(\n",
       "    (0-3): 4 x Sequential(\n",
       "      (0): Linear(in_features=3, out_features=3, bias=True)\n",
       "      (1): GELU()\n",
       "    )\n",
       "    (4): Sequential(\n",
       "      (0): Linear(in_features=3, out_features=1, bias=True)\n",
       "      (1): GELU()\n",
       "    )\n",
       "  )\n",
       ")"
      ]
     },
     "execution_count": 7,
     "metadata": {},
     "output_type": "execute_result"
    }
   ],
   "execution_count": 7
  },
  {
   "metadata": {
    "ExecuteTime": {
     "end_time": "2025-05-12T14:45:41.313423Z",
     "start_time": "2025-05-12T14:45:41.286280Z"
    }
   },
   "cell_type": "code",
   "source": "print_gradient(model_without_shortcut,inputs)",
   "id": "6967aa6fab49475a",
   "outputs": [
    {
     "name": "stdout",
     "output_type": "stream",
     "text": [
      "layers.0.0.weight 0.00014525471488013864\n",
      "layers.1.0.weight 0.00014241492317523807\n",
      "layers.2.0.weight 0.0006289510056376457\n",
      "layers.3.0.weight 0.0010982871754094958\n",
      "layers.4.0.weight 0.004437715280801058\n"
     ]
    }
   ],
   "execution_count": 8
  },
  {
   "metadata": {
    "ExecuteTime": {
     "end_time": "2025-05-12T14:46:12.093210Z",
     "start_time": "2025-05-12T14:46:12.087788Z"
    }
   },
   "cell_type": "code",
   "source": [
    "model_using_shortcut = DeepNeuralNetwork(layer_sizes, use_shortcut=True)\n",
    "model_using_shortcut"
   ],
   "id": "f91d37fa8dec84e5",
   "outputs": [
    {
     "data": {
      "text/plain": [
       "DeepNeuralNetwork(\n",
       "  (layers): ModuleList(\n",
       "    (0-3): 4 x Sequential(\n",
       "      (0): Linear(in_features=3, out_features=3, bias=True)\n",
       "      (1): GELU()\n",
       "    )\n",
       "    (4): Sequential(\n",
       "      (0): Linear(in_features=3, out_features=1, bias=True)\n",
       "      (1): GELU()\n",
       "    )\n",
       "  )\n",
       ")"
      ]
     },
     "execution_count": 9,
     "metadata": {},
     "output_type": "execute_result"
    }
   ],
   "execution_count": 9
  },
  {
   "metadata": {
    "ExecuteTime": {
     "end_time": "2025-05-12T14:46:27.623614Z",
     "start_time": "2025-05-12T14:46:27.610701Z"
    }
   },
   "cell_type": "code",
   "source": "print_gradient(model_using_shortcut, inputs)",
   "id": "a70a28b161cf192f",
   "outputs": [
    {
     "name": "stdout",
     "output_type": "stream",
     "text": [
      "layers.0.0.weight 0.00014525471488013864\n",
      "layers.1.0.weight 0.00014241492317523807\n",
      "layers.2.0.weight 0.0006289510056376457\n",
      "layers.3.0.weight 0.0010982871754094958\n",
      "layers.4.0.weight 0.004437715280801058\n"
     ]
    }
   ],
   "execution_count": 10
  },
  {
   "metadata": {},
   "cell_type": "code",
   "outputs": [],
   "execution_count": null,
   "source": "",
   "id": "92a16ddb896dfc13"
  }
 ],
 "metadata": {
  "kernelspec": {
   "display_name": "Python 3",
   "language": "python",
   "name": "python3"
  },
  "language_info": {
   "codemirror_mode": {
    "name": "ipython",
    "version": 2
   },
   "file_extension": ".py",
   "mimetype": "text/x-python",
   "name": "python",
   "nbconvert_exporter": "python",
   "pygments_lexer": "ipython2",
   "version": "2.7.6"
  }
 },
 "nbformat": 4,
 "nbformat_minor": 5
}
