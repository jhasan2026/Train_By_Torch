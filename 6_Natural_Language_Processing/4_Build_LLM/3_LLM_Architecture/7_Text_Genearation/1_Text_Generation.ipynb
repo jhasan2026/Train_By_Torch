{
 "cells": [
  {
   "cell_type": "code",
   "id": "initial_id",
   "metadata": {
    "collapsed": true,
    "ExecuteTime": {
     "end_time": "2025-05-14T06:46:06.548376Z",
     "start_time": "2025-05-14T06:46:06.540683Z"
    }
   },
   "source": [
    "import torch\n",
    "import torch.nn as nn\n",
    "\n",
    "from LLM_Build.GPT2_small import tokenizer,GPT_CONFIG_124M,GPTModel "
   ],
   "outputs": [],
   "execution_count": 9
  },
  {
   "metadata": {
    "ExecuteTime": {
     "end_time": "2025-05-14T06:46:07.948521Z",
     "start_time": "2025-05-14T06:46:07.073006Z"
    }
   },
   "cell_type": "code",
   "source": "model = GPTModel(GPT_CONFIG_124M)",
   "id": "25c5499b7780303a",
   "outputs": [],
   "execution_count": 10
  },
  {
   "metadata": {
    "ExecuteTime": {
     "end_time": "2025-05-14T06:45:08.792885Z",
     "start_time": "2025-05-14T06:45:08.779102Z"
    }
   },
   "cell_type": "code",
   "source": [
    "def generate_text(model, inputs, max_new_tokens, context_size):\n",
    "    for _ in range(max_new_tokens):\n",
    "        inputs_conditional = inputs[:, -context_size:]\n",
    "        with torch.no_grad():\n",
    "            logits = model(inputs_conditional)\n",
    "\n",
    "        logits = logits[:, -1, :]\n",
    "        probabilities = torch.softmax(logits, dim=-1)\n",
    "        next_word_index = torch.argmax(probabilities, dim=-1, keepdim=True)\n",
    "        inputs = torch.concat((inputs, next_word_index), dim=1)\n",
    "    return inputs"
   ],
   "id": "e1f0d490756c3ff9",
   "outputs": [],
   "execution_count": 3
  },
  {
   "metadata": {
    "ExecuteTime": {
     "end_time": "2025-05-14T06:45:08.800176Z",
     "start_time": "2025-05-14T06:45:08.792885Z"
    }
   },
   "cell_type": "code",
   "source": [
    "start_context = \"Hello, I am\"\n",
    "encoded = tokenizer.encode(start_context)\n",
    "encoded"
   ],
   "id": "91c2244214e1c709",
   "outputs": [
    {
     "data": {
      "text/plain": [
       "[15496, 11, 314, 716]"
      ]
     },
     "execution_count": 4,
     "metadata": {},
     "output_type": "execute_result"
    }
   ],
   "execution_count": 4
  },
  {
   "metadata": {
    "ExecuteTime": {
     "end_time": "2025-05-14T06:45:08.805161Z",
     "start_time": "2025-05-14T06:45:08.801180Z"
    }
   },
   "cell_type": "code",
   "source": [
    "encoded_tensor = torch.tensor(encoded).unsqueeze(0)\n",
    "encoded_tensor.shape"
   ],
   "id": "f1657c80c4798474",
   "outputs": [
    {
     "data": {
      "text/plain": [
       "torch.Size([1, 4])"
      ]
     },
     "execution_count": 5,
     "metadata": {},
     "output_type": "execute_result"
    }
   ],
   "execution_count": 5
  },
  {
   "metadata": {
    "ExecuteTime": {
     "end_time": "2025-05-14T06:45:09.486927Z",
     "start_time": "2025-05-14T06:45:08.805161Z"
    }
   },
   "cell_type": "code",
   "source": [
    "# Evaluation\n",
    "model.eval()\n",
    "\n",
    "out = generate_text(\n",
    "    model=model,\n",
    "    inputs=encoded_tensor,\n",
    "    max_new_tokens=6,\n",
    "    context_size=GPT_CONFIG_124M['context_length']\n",
    "\n",
    ")\n",
    "out"
   ],
   "id": "16ba732ded8d4d33",
   "outputs": [
    {
     "data": {
      "text/plain": [
       "tensor([[15496,    11,   314,   716,  5466, 43474, 13684, 27372, 47978, 15752]])"
      ]
     },
     "execution_count": 6,
     "metadata": {},
     "output_type": "execute_result"
    }
   ],
   "execution_count": 6
  },
  {
   "metadata": {
    "ExecuteTime": {
     "end_time": "2025-05-14T06:45:09.493750Z",
     "start_time": "2025-05-14T06:45:09.486927Z"
    }
   },
   "cell_type": "code",
   "source": [
    "decoded_text = tokenizer.decode(out.squeeze(0).tolist())\n",
    "decoded_text"
   ],
   "id": "265cad8014217945",
   "outputs": [
    {
     "data": {
      "text/plain": [
       "'Hello, I am sale Discount editorialblocks tumble Theatre'"
      ]
     },
     "execution_count": 7,
     "metadata": {},
     "output_type": "execute_result"
    }
   ],
   "execution_count": 7
  }
 ],
 "metadata": {
  "kernelspec": {
   "display_name": "Python 3",
   "language": "python",
   "name": "python3"
  },
  "language_info": {
   "codemirror_mode": {
    "name": "ipython",
    "version": 2
   },
   "file_extension": ".py",
   "mimetype": "text/x-python",
   "name": "python",
   "nbconvert_exporter": "python",
   "pygments_lexer": "ipython2",
   "version": "2.7.6"
  }
 },
 "nbformat": 4,
 "nbformat_minor": 5
}
