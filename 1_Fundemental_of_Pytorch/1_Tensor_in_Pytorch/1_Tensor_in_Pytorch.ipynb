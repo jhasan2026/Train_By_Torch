{
 "cells": [
  {
   "cell_type": "code",
   "id": "initial_id",
   "metadata": {
    "collapsed": true,
    "ExecuteTime": {
     "end_time": "2025-05-14T14:44:39.123599Z",
     "start_time": "2025-05-14T14:44:30.025932Z"
    }
   },
   "source": [
    "import torch\n",
    "print(torch.__version__)"
   ],
   "outputs": [
    {
     "name": "stdout",
     "output_type": "stream",
     "text": [
      "2.7.0+cpu\n"
     ]
    }
   ],
   "execution_count": 2
  },
  {
   "metadata": {},
   "cell_type": "markdown",
   "source": "# 1. Creating Tensor",
   "id": "4ac3f7c597875807"
  },
  {
   "metadata": {
    "ExecuteTime": {
     "end_time": "2025-04-22T15:41:18.067822Z",
     "start_time": "2025-04-22T15:41:18.053203Z"
    }
   },
   "cell_type": "code",
   "source": "torch.empty(2,3)",
   "id": "33e37320d1769173",
   "outputs": [
    {
     "data": {
      "text/plain": [
       "tensor([[0., 0., 0.],\n",
       "        [0., 0., 0.]])"
      ]
     },
     "execution_count": 2,
     "metadata": {},
     "output_type": "execute_result"
    }
   ],
   "execution_count": 2
  },
  {
   "metadata": {
    "ExecuteTime": {
     "end_time": "2025-04-22T15:41:44.618812Z",
     "start_time": "2025-04-22T15:41:44.598752Z"
    }
   },
   "cell_type": "code",
   "source": "torch.zeros(2,3)",
   "id": "e3b6e3323db0787d",
   "outputs": [
    {
     "data": {
      "text/plain": [
       "tensor([[0., 0., 0.],\n",
       "        [0., 0., 0.]])"
      ]
     },
     "execution_count": 4,
     "metadata": {},
     "output_type": "execute_result"
    }
   ],
   "execution_count": 4
  },
  {
   "metadata": {
    "ExecuteTime": {
     "end_time": "2025-04-22T15:41:51.915107Z",
     "start_time": "2025-04-22T15:41:51.904860Z"
    }
   },
   "cell_type": "code",
   "source": "torch.ones(2,3)",
   "id": "bca55a8a0afe39df",
   "outputs": [
    {
     "data": {
      "text/plain": [
       "tensor([[1., 1., 1.],\n",
       "        [1., 1., 1.]])"
      ]
     },
     "execution_count": 5,
     "metadata": {},
     "output_type": "execute_result"
    }
   ],
   "execution_count": 5
  },
  {
   "metadata": {
    "ExecuteTime": {
     "end_time": "2025-04-22T15:43:17.930347Z",
     "start_time": "2025-04-22T15:43:17.919602Z"
    }
   },
   "cell_type": "code",
   "source": "torch.rand(2,3)",
   "id": "c25bb470b3499d81",
   "outputs": [
    {
     "data": {
      "text/plain": [
       "tensor([[0.9740, 0.8420, 0.9388],\n",
       "        [0.3289, 0.6088, 0.3277]])"
      ]
     },
     "execution_count": 6,
     "metadata": {},
     "output_type": "execute_result"
    }
   ],
   "execution_count": 6
  },
  {
   "metadata": {
    "ExecuteTime": {
     "end_time": "2025-04-22T15:43:39.871795Z",
     "start_time": "2025-04-22T15:43:39.854416Z"
    }
   },
   "cell_type": "code",
   "source": "torch.tensor([[1,2],[3,4]])",
   "id": "e52f9400fa70065a",
   "outputs": [
    {
     "data": {
      "text/plain": [
       "tensor([[1, 2],\n",
       "        [3, 4]])"
      ]
     },
     "execution_count": 7,
     "metadata": {},
     "output_type": "execute_result"
    }
   ],
   "execution_count": 7
  },
  {
   "metadata": {
    "ExecuteTime": {
     "end_time": "2025-04-22T15:43:57.680485Z",
     "start_time": "2025-04-22T15:43:57.675541Z"
    }
   },
   "cell_type": "code",
   "source": "torch.arange(0, 10, 2)",
   "id": "682947711079f29b",
   "outputs": [
    {
     "data": {
      "text/plain": [
       "tensor([0, 2, 4, 6, 8])"
      ]
     },
     "execution_count": 8,
     "metadata": {},
     "output_type": "execute_result"
    }
   ],
   "execution_count": 8
  },
  {
   "metadata": {
    "ExecuteTime": {
     "end_time": "2025-04-22T15:45:17.143809Z",
     "start_time": "2025-04-22T15:45:17.136066Z"
    }
   },
   "cell_type": "code",
   "source": "torch.linspace(0,10 , 5)",
   "id": "3e4cf0d988ba181a",
   "outputs": [
    {
     "data": {
      "text/plain": [
       "tensor([ 0.0000,  2.5000,  5.0000,  7.5000, 10.0000])"
      ]
     },
     "execution_count": 10,
     "metadata": {},
     "output_type": "execute_result"
    }
   ],
   "execution_count": 10
  },
  {
   "metadata": {
    "ExecuteTime": {
     "end_time": "2025-04-22T15:45:26.199041Z",
     "start_time": "2025-04-22T15:45:26.188099Z"
    }
   },
   "cell_type": "code",
   "source": "torch.eye(3)",
   "id": "741c26df344bd055",
   "outputs": [
    {
     "data": {
      "text/plain": [
       "tensor([[1., 0., 0.],\n",
       "        [0., 1., 0.],\n",
       "        [0., 0., 1.]])"
      ]
     },
     "execution_count": 11,
     "metadata": {},
     "output_type": "execute_result"
    }
   ],
   "execution_count": 11
  },
  {
   "metadata": {
    "ExecuteTime": {
     "end_time": "2025-04-22T15:45:42.903103Z",
     "start_time": "2025-04-22T15:45:42.884039Z"
    }
   },
   "cell_type": "code",
   "source": "torch.full((3,2), 5)",
   "id": "763a0dbffb7f43ce",
   "outputs": [
    {
     "data": {
      "text/plain": [
       "tensor([[5, 5],\n",
       "        [5, 5],\n",
       "        [5, 5]])"
      ]
     },
     "execution_count": 12,
     "metadata": {},
     "output_type": "execute_result"
    }
   ],
   "execution_count": 12
  },
  {
   "metadata": {
    "ExecuteTime": {
     "end_time": "2025-04-22T15:46:06.246662Z",
     "start_time": "2025-04-22T15:46:06.233680Z"
    }
   },
   "cell_type": "code",
   "source": "torch.randint(size=(2,3), low=0, high=10)",
   "id": "a75a13fac2f5e550",
   "outputs": [
    {
     "data": {
      "text/plain": [
       "tensor([[6, 7, 0],\n",
       "        [4, 1, 4]])"
      ]
     },
     "execution_count": 13,
     "metadata": {},
     "output_type": "execute_result"
    }
   ],
   "execution_count": 13
  },
  {
   "metadata": {},
   "cell_type": "markdown",
   "source": "# 2. Tensor Shape",
   "id": "5efed7f5bd5380e5"
  },
  {
   "metadata": {
    "ExecuteTime": {
     "end_time": "2025-04-22T15:47:46.560851Z",
     "start_time": "2025-04-22T15:47:46.541887Z"
    }
   },
   "cell_type": "code",
   "source": [
    "x = torch.tensor([[1,2,3],[4,5,6]])\n",
    "x.shape"
   ],
   "id": "7a80aed27a50d289",
   "outputs": [
    {
     "data": {
      "text/plain": [
       "torch.Size([2, 3])"
      ]
     },
     "execution_count": 15,
     "metadata": {},
     "output_type": "execute_result"
    }
   ],
   "execution_count": 15
  },
  {
   "metadata": {
    "ExecuteTime": {
     "end_time": "2025-04-22T15:48:02.376573Z",
     "start_time": "2025-04-22T15:48:02.357427Z"
    }
   },
   "cell_type": "code",
   "source": "torch.empty_like(x)",
   "id": "9a9896c98a3f0a92",
   "outputs": [
    {
     "data": {
      "text/plain": [
       "tensor([[0, 0, 0],\n",
       "        [0, 0, 0]])"
      ]
     },
     "execution_count": 16,
     "metadata": {},
     "output_type": "execute_result"
    }
   ],
   "execution_count": 16
  },
  {
   "metadata": {
    "ExecuteTime": {
     "end_time": "2025-04-22T15:48:15.548471Z",
     "start_time": "2025-04-22T15:48:15.541005Z"
    }
   },
   "cell_type": "code",
   "source": "torch.zeros_like(x)",
   "id": "f1b01420eb6ad775",
   "outputs": [
    {
     "data": {
      "text/plain": [
       "tensor([[0, 0, 0],\n",
       "        [0, 0, 0]])"
      ]
     },
     "execution_count": 17,
     "metadata": {},
     "output_type": "execute_result"
    }
   ],
   "execution_count": 17
  },
  {
   "metadata": {
    "ExecuteTime": {
     "end_time": "2025-04-22T15:48:24.211187Z",
     "start_time": "2025-04-22T15:48:24.201403Z"
    }
   },
   "cell_type": "code",
   "source": "torch.ones_like(x)",
   "id": "1cd3e0621a58375f",
   "outputs": [
    {
     "data": {
      "text/plain": [
       "tensor([[1, 1, 1],\n",
       "        [1, 1, 1]])"
      ]
     },
     "execution_count": 18,
     "metadata": {},
     "output_type": "execute_result"
    }
   ],
   "execution_count": 18
  },
  {
   "metadata": {
    "ExecuteTime": {
     "end_time": "2025-04-22T15:49:08.275852Z",
     "start_time": "2025-04-22T15:49:08.271510Z"
    }
   },
   "cell_type": "code",
   "source": "torch.rand_like(x, dtype=torch.float32)",
   "id": "ed9cdeeb88f6e4ab",
   "outputs": [
    {
     "data": {
      "text/plain": [
       "tensor([[0.5558, 0.2389, 0.3788],\n",
       "        [0.4478, 0.2219, 0.9618]])"
      ]
     },
     "execution_count": 21,
     "metadata": {},
     "output_type": "execute_result"
    }
   ],
   "execution_count": 21
  },
  {
   "metadata": {},
   "cell_type": "markdown",
   "source": "# 3. Tensor Datatype",
   "id": "907ac03aae832b25"
  },
  {
   "metadata": {},
   "cell_type": "markdown",
   "source": [
    "| **Data Type**             | **Dtype**         | **Description**                                                                                                                                                                |\n",
    "|---------------------------|-------------------|--------------------------------------------------------------------------------------------------------------------------------------------------------------------------------|\n",
    "| **32-bit Floating Point** | `torch.float32`   | Standard floating-point type used for most deep learning tasks. Provides a balance between precision and memory usage.                                                         |\n",
    "| **64-bit Floating Point** | `torch.float64`   | Double-precision floating point. Useful for high-precision numerical tasks but uses more memory.                                                                               |\n",
    "| **16-bit Floating Point** | `torch.float16`   | Half-precision floating point. Commonly used in mixed-precision training to reduce memory and computational overhead on modern GPUs.                                            |\n",
    "| **BFloat16**              | `torch.bfloat16`  | Brain floating-point format with reduced precision compared to `float16`. Used in mixed-precision training, especially on TPUs.                                                |\n",
    "| **8-bit Floating Point**  | `torch.float8`    | Ultra-low-precision floating point. Used for experimental applications and extreme memory-constrained environments (less common).                                               |\n",
    "| **8-bit Integer**         | `torch.int8`      | 8-bit signed integer. Used for quantized models to save memory and computation in inference.                                                                                   |\n",
    "| **16-bit Integer**        | `torch.int16`     | 16-bit signed integer. Useful for special numerical tasks requiring intermediate precision.                                                                                    |\n",
    "| **32-bit Integer**        | `torch.int32`     | Standard signed integer type. Commonly used for indexing and general-purpose numerical tasks.                                                                                  |\n",
    "| **64-bit Integer**        | `torch.int64`     | Long integer type. Often used for large indexing arrays or for tasks involving large numbers.                                                                                  |\n",
    "| **8-bit Unsigned Integer**| `torch.uint8`     | 8-bit unsigned integer. Commonly used for image data (e.g., pixel values between 0 and 255).                                                                                    |\n",
    "| **Boolean**               | `torch.bool`      | Boolean type, stores `True` or `False` values. Often used for masks in logical operations.                                                                                      |\n",
    "| **Complex 64**            | `torch.complex64` | Complex number type with 32-bit real and 32-bit imaginary parts. Used for scientific and signal processing tasks.                                                               |\n",
    "| **Complex 128**           | `torch.complex128`| Complex number type with 64-bit real and 64-bit imaginary parts. Offers higher precision but uses more memory.                                                                 |\n",
    "| **Quantized Integer**     | `torch.qint8`     | Quantized signed 8-bit integer. Used in quantized models for efficient inference.                                                                                              |\n",
    "| **Quantized Unsigned Integer** | `torch.quint8` | Quantized unsigned 8-bit integer. Often used for quantized tensors in image-related tasks.                                                                                     |\n"
   ],
   "id": "4f7a36a3773f4872"
  },
  {
   "metadata": {
    "ExecuteTime": {
     "end_time": "2025-04-22T15:50:38.075693Z",
     "start_time": "2025-04-22T15:50:38.068883Z"
    }
   },
   "cell_type": "code",
   "source": "x",
   "id": "bb6450f133cfb69d",
   "outputs": [
    {
     "data": {
      "text/plain": [
       "tensor([[1, 2, 3],\n",
       "        [4, 5, 6]])"
      ]
     },
     "execution_count": 23,
     "metadata": {},
     "output_type": "execute_result"
    }
   ],
   "execution_count": 23
  },
  {
   "metadata": {
    "ExecuteTime": {
     "end_time": "2025-04-22T15:50:39.731998Z",
     "start_time": "2025-04-22T15:50:39.717176Z"
    }
   },
   "cell_type": "code",
   "source": "x.dtype",
   "id": "e738e3fb462011b0",
   "outputs": [
    {
     "data": {
      "text/plain": [
       "torch.int64"
      ]
     },
     "execution_count": 24,
     "metadata": {},
     "output_type": "execute_result"
    }
   ],
   "execution_count": 24
  },
  {
   "metadata": {
    "ExecuteTime": {
     "end_time": "2025-04-22T15:51:22.953520Z",
     "start_time": "2025-04-22T15:51:22.940226Z"
    }
   },
   "cell_type": "code",
   "source": [
    "# using dtype\n",
    "torch.tensor(x, dtype=torch.float32)"
   ],
   "id": "3cf63b234cf56724",
   "outputs": [
    {
     "name": "stderr",
     "output_type": "stream",
     "text": [
      "C:\\Users\\Jehan\\AppData\\Local\\Temp\\ipykernel_15020\\3199838035.py:1: UserWarning: To copy construct from a tensor, it is recommended to use sourceTensor.clone().detach() or sourceTensor.clone().detach().requires_grad_(True), rather than torch.tensor(sourceTensor).\n",
      "  torch.tensor(x, dtype=torch.float32)\n"
     ]
    },
    {
     "data": {
      "text/plain": [
       "tensor([[1., 2., 3.],\n",
       "        [4., 5., 6.]])"
      ]
     },
     "execution_count": 25,
     "metadata": {},
     "output_type": "execute_result"
    }
   ],
   "execution_count": 25
  },
  {
   "metadata": {
    "ExecuteTime": {
     "end_time": "2025-04-22T15:52:20.455948Z",
     "start_time": "2025-04-22T15:52:20.448602Z"
    }
   },
   "cell_type": "code",
   "source": [
    "# (same)\n",
    "torch.tensor([[1, 2, 3],[4, 5, 6]], dtype=torch.float32)"
   ],
   "id": "6dc03a01506b52e",
   "outputs": [
    {
     "data": {
      "text/plain": [
       "tensor([[1., 2., 3.],\n",
       "        [4., 5., 6.]])"
      ]
     },
     "execution_count": 26,
     "metadata": {},
     "output_type": "execute_result"
    }
   ],
   "execution_count": 26
  },
  {
   "metadata": {
    "ExecuteTime": {
     "end_time": "2025-04-22T15:56:12.396325Z",
     "start_time": "2025-04-22T15:56:12.382292Z"
    }
   },
   "cell_type": "code",
   "source": [
    "# to\n",
    "x.to(torch.float32)"
   ],
   "id": "478a8e1b1f3c0256",
   "outputs": [
    {
     "data": {
      "text/plain": [
       "tensor([[1., 2., 3.],\n",
       "        [4., 5., 6.]])"
      ]
     },
     "execution_count": 27,
     "metadata": {},
     "output_type": "execute_result"
    }
   ],
   "execution_count": 27
  },
  {
   "metadata": {},
   "cell_type": "markdown",
   "source": [
    "# 4. Mathematical Operation\n",
    "## i) Scaler "
   ],
   "id": "8869efe6a8e3802c"
  },
  {
   "metadata": {
    "ExecuteTime": {
     "end_time": "2025-04-22T15:58:18.887323Z",
     "start_time": "2025-04-22T15:58:18.879779Z"
    }
   },
   "cell_type": "code",
   "source": "x = torch.tensor([[.1,.2,.3],[.4,.5,.6]])",
   "id": "914fc500d314e3a2",
   "outputs": [],
   "execution_count": 30
  },
  {
   "metadata": {
    "ExecuteTime": {
     "end_time": "2025-04-22T15:58:19.268259Z",
     "start_time": "2025-04-22T15:58:19.251778Z"
    }
   },
   "cell_type": "code",
   "source": "x + 2",
   "id": "313e644dbd5fdea4",
   "outputs": [
    {
     "data": {
      "text/plain": [
       "tensor([[2.1000, 2.2000, 2.3000],\n",
       "        [2.4000, 2.5000, 2.6000]])"
      ]
     },
     "execution_count": 31,
     "metadata": {},
     "output_type": "execute_result"
    }
   ],
   "execution_count": 31
  },
  {
   "metadata": {
    "ExecuteTime": {
     "end_time": "2025-04-22T15:58:27.156723Z",
     "start_time": "2025-04-22T15:58:27.151632Z"
    }
   },
   "cell_type": "code",
   "source": "x - 2",
   "id": "354a17791fd1d818",
   "outputs": [
    {
     "data": {
      "text/plain": [
       "tensor([[-1.9000, -1.8000, -1.7000],\n",
       "        [-1.6000, -1.5000, -1.4000]])"
      ]
     },
     "execution_count": 33,
     "metadata": {},
     "output_type": "execute_result"
    }
   ],
   "execution_count": 33
  },
  {
   "metadata": {
    "ExecuteTime": {
     "end_time": "2025-04-22T15:58:41.577540Z",
     "start_time": "2025-04-22T15:58:41.569315Z"
    }
   },
   "cell_type": "code",
   "source": "x * 3",
   "id": "7afd7db4acf1b24b",
   "outputs": [
    {
     "data": {
      "text/plain": [
       "tensor([[0.3000, 0.6000, 0.9000],\n",
       "        [1.2000, 1.5000, 1.8000]])"
      ]
     },
     "execution_count": 34,
     "metadata": {},
     "output_type": "execute_result"
    }
   ],
   "execution_count": 34
  },
  {
   "metadata": {
    "ExecuteTime": {
     "end_time": "2025-04-22T15:58:48.329474Z",
     "start_time": "2025-04-22T15:58:48.311933Z"
    }
   },
   "cell_type": "code",
   "source": "x / 3",
   "id": "c40edf4e82778aea",
   "outputs": [
    {
     "data": {
      "text/plain": [
       "tensor([[0.0333, 0.0667, 0.1000],\n",
       "        [0.1333, 0.1667, 0.2000]])"
      ]
     },
     "execution_count": 35,
     "metadata": {},
     "output_type": "execute_result"
    }
   ],
   "execution_count": 35
  },
  {
   "metadata": {
    "ExecuteTime": {
     "end_time": "2025-04-22T15:58:52.121495Z",
     "start_time": "2025-04-22T15:58:52.106948Z"
    }
   },
   "cell_type": "code",
   "source": "x // 3",
   "id": "727eb61116d3154b",
   "outputs": [
    {
     "data": {
      "text/plain": [
       "tensor([[0., 0., 0.],\n",
       "        [0., 0., 0.]])"
      ]
     },
     "execution_count": 36,
     "metadata": {},
     "output_type": "execute_result"
    }
   ],
   "execution_count": 36
  },
  {
   "metadata": {
    "ExecuteTime": {
     "end_time": "2025-04-22T15:58:57.592099Z",
     "start_time": "2025-04-22T15:58:57.572999Z"
    }
   },
   "cell_type": "code",
   "source": "x ** 2",
   "id": "35fa2a5ea7082c6",
   "outputs": [
    {
     "data": {
      "text/plain": [
       "tensor([[0.0100, 0.0400, 0.0900],\n",
       "        [0.1600, 0.2500, 0.3600]])"
      ]
     },
     "execution_count": 37,
     "metadata": {},
     "output_type": "execute_result"
    }
   ],
   "execution_count": 37
  },
  {
   "metadata": {
    "ExecuteTime": {
     "end_time": "2025-04-22T15:59:03.186122Z",
     "start_time": "2025-04-22T15:59:03.180518Z"
    }
   },
   "cell_type": "code",
   "source": "x % 2",
   "id": "518d37bb8bfe890b",
   "outputs": [
    {
     "data": {
      "text/plain": [
       "tensor([[0.1000, 0.2000, 0.3000],\n",
       "        [0.4000, 0.5000, 0.6000]])"
      ]
     },
     "execution_count": 38,
     "metadata": {},
     "output_type": "execute_result"
    }
   ],
   "execution_count": 38
  },
  {
   "metadata": {},
   "cell_type": "markdown",
   "source": "## ii) Element wise",
   "id": "ab1300d8e7d826d4"
  },
  {
   "metadata": {
    "ExecuteTime": {
     "end_time": "2025-04-22T16:00:53.367737Z",
     "start_time": "2025-04-22T16:00:53.358354Z"
    }
   },
   "cell_type": "code",
   "source": [
    "x = torch.randint(size=(2,3), low=1, high=10)\n",
    "y = torch.randint(size=(2,3), low=1, high=10)\n",
    "x"
   ],
   "id": "6f5baaff43bc2c62",
   "outputs": [
    {
     "data": {
      "text/plain": [
       "tensor([[6, 5, 4],\n",
       "        [2, 9, 7]])"
      ]
     },
     "execution_count": 46,
     "metadata": {},
     "output_type": "execute_result"
    }
   ],
   "execution_count": 46
  },
  {
   "metadata": {
    "ExecuteTime": {
     "end_time": "2025-04-22T16:00:53.592679Z",
     "start_time": "2025-04-22T16:00:53.584547Z"
    }
   },
   "cell_type": "code",
   "source": "y",
   "id": "caa19f31eac161a0",
   "outputs": [
    {
     "data": {
      "text/plain": [
       "tensor([[6, 6, 7],\n",
       "        [1, 5, 2]])"
      ]
     },
     "execution_count": 47,
     "metadata": {},
     "output_type": "execute_result"
    }
   ],
   "execution_count": 47
  },
  {
   "metadata": {
    "ExecuteTime": {
     "end_time": "2025-04-22T16:00:53.857543Z",
     "start_time": "2025-04-22T16:00:53.848874Z"
    }
   },
   "cell_type": "code",
   "source": "x + y",
   "id": "81c994c5d96419d3",
   "outputs": [
    {
     "data": {
      "text/plain": [
       "tensor([[12, 11, 11],\n",
       "        [ 3, 14,  9]])"
      ]
     },
     "execution_count": 48,
     "metadata": {},
     "output_type": "execute_result"
    }
   ],
   "execution_count": 48
  },
  {
   "metadata": {
    "ExecuteTime": {
     "end_time": "2025-04-22T16:00:54.121075Z",
     "start_time": "2025-04-22T16:00:54.106811Z"
    }
   },
   "cell_type": "code",
   "source": "x - y",
   "id": "1ae8fcac34e95738",
   "outputs": [
    {
     "data": {
      "text/plain": [
       "tensor([[ 0, -1, -3],\n",
       "        [ 1,  4,  5]])"
      ]
     },
     "execution_count": 49,
     "metadata": {},
     "output_type": "execute_result"
    }
   ],
   "execution_count": 49
  },
  {
   "metadata": {
    "ExecuteTime": {
     "end_time": "2025-04-22T16:00:54.616142Z",
     "start_time": "2025-04-22T16:00:54.604710Z"
    }
   },
   "cell_type": "code",
   "source": "x * y",
   "id": "dec04bb192e262ad",
   "outputs": [
    {
     "data": {
      "text/plain": [
       "tensor([[36, 30, 28],\n",
       "        [ 2, 45, 14]])"
      ]
     },
     "execution_count": 50,
     "metadata": {},
     "output_type": "execute_result"
    }
   ],
   "execution_count": 50
  },
  {
   "metadata": {
    "ExecuteTime": {
     "end_time": "2025-04-22T16:00:55.984329Z",
     "start_time": "2025-04-22T16:00:55.977596Z"
    }
   },
   "cell_type": "code",
   "source": "x / y",
   "id": "64d16c1330786c76",
   "outputs": [
    {
     "data": {
      "text/plain": [
       "tensor([[1.0000, 0.8333, 0.5714],\n",
       "        [2.0000, 1.8000, 3.5000]])"
      ]
     },
     "execution_count": 51,
     "metadata": {},
     "output_type": "execute_result"
    }
   ],
   "execution_count": 51
  },
  {
   "metadata": {
    "ExecuteTime": {
     "end_time": "2025-04-22T16:00:58.769177Z",
     "start_time": "2025-04-22T16:00:58.762544Z"
    }
   },
   "cell_type": "code",
   "source": "x // y",
   "id": "2cbd2e5aec4a7c95",
   "outputs": [
    {
     "data": {
      "text/plain": [
       "tensor([[1, 0, 0],\n",
       "        [2, 1, 3]])"
      ]
     },
     "execution_count": 52,
     "metadata": {},
     "output_type": "execute_result"
    }
   ],
   "execution_count": 52
  },
  {
   "metadata": {
    "ExecuteTime": {
     "end_time": "2025-04-22T16:01:05.053333Z",
     "start_time": "2025-04-22T16:01:05.025524Z"
    }
   },
   "cell_type": "code",
   "source": "x % y",
   "id": "c92cd66c46855eb9",
   "outputs": [
    {
     "data": {
      "text/plain": [
       "tensor([[0, 5, 4],\n",
       "        [0, 4, 1]])"
      ]
     },
     "execution_count": 53,
     "metadata": {},
     "output_type": "execute_result"
    }
   ],
   "execution_count": 53
  },
  {
   "metadata": {
    "ExecuteTime": {
     "end_time": "2025-04-22T16:01:15.164866Z",
     "start_time": "2025-04-22T16:01:15.127803Z"
    }
   },
   "cell_type": "code",
   "source": "x ** y",
   "id": "af08d7aa7c1cf3e",
   "outputs": [
    {
     "data": {
      "text/plain": [
       "tensor([[46656, 15625, 16384],\n",
       "        [    2, 59049,    49]])"
      ]
     },
     "execution_count": 54,
     "metadata": {},
     "output_type": "execute_result"
    }
   ],
   "execution_count": 54
  },
  {
   "metadata": {},
   "cell_type": "markdown",
   "source": "## iii) Function",
   "id": "61a1fc0cddc15a5b"
  },
  {
   "metadata": {
    "ExecuteTime": {
     "end_time": "2025-04-22T16:04:52.363162Z",
     "start_time": "2025-04-22T16:04:52.357660Z"
    }
   },
   "cell_type": "code",
   "source": [
    "x = torch.linspace(-1,1, 5) * 10\n",
    "x"
   ],
   "id": "513e05ec71d85089",
   "outputs": [
    {
     "data": {
      "text/plain": [
       "tensor([-10.,  -5.,   0.,   5.,  10.])"
      ]
     },
     "execution_count": 60,
     "metadata": {},
     "output_type": "execute_result"
    }
   ],
   "execution_count": 60
  },
  {
   "metadata": {
    "ExecuteTime": {
     "end_time": "2025-04-22T16:05:44.271967Z",
     "start_time": "2025-04-22T16:05:44.266326Z"
    }
   },
   "cell_type": "code",
   "source": "torch.abs(x)",
   "id": "2a2dd73fd07532d3",
   "outputs": [
    {
     "data": {
      "text/plain": [
       "tensor([10.,  5.,  0.,  5., 10.])"
      ]
     },
     "execution_count": 61,
     "metadata": {},
     "output_type": "execute_result"
    }
   ],
   "execution_count": 61
  },
  {
   "metadata": {
    "ExecuteTime": {
     "end_time": "2025-04-22T16:05:56.012595Z",
     "start_time": "2025-04-22T16:05:56.000060Z"
    }
   },
   "cell_type": "code",
   "source": "torch.neg(x)",
   "id": "d58f8422a92ea73f",
   "outputs": [
    {
     "data": {
      "text/plain": [
       "tensor([ 10.,   5.,  -0.,  -5., -10.])"
      ]
     },
     "execution_count": 62,
     "metadata": {},
     "output_type": "execute_result"
    }
   ],
   "execution_count": 62
  },
  {
   "metadata": {
    "ExecuteTime": {
     "end_time": "2025-04-22T16:06:23.630147Z",
     "start_time": "2025-04-22T16:06:23.625931Z"
    }
   },
   "cell_type": "code",
   "source": [
    "x = torch.rand((2,3)) * 10\n",
    "x"
   ],
   "id": "86e923d8dba2fce2",
   "outputs": [
    {
     "data": {
      "text/plain": [
       "tensor([[9.7170, 5.4984, 0.8922],\n",
       "        [7.1664, 2.5607, 7.8758]])"
      ]
     },
     "execution_count": 64,
     "metadata": {},
     "output_type": "execute_result"
    }
   ],
   "execution_count": 64
  },
  {
   "metadata": {
    "ExecuteTime": {
     "end_time": "2025-04-22T16:06:36.898510Z",
     "start_time": "2025-04-22T16:06:36.893707Z"
    }
   },
   "cell_type": "code",
   "source": "torch.round(x)",
   "id": "9233691e7d1abd0c",
   "outputs": [
    {
     "data": {
      "text/plain": [
       "tensor([[10.,  5.,  1.],\n",
       "        [ 7.,  3.,  8.]])"
      ]
     },
     "execution_count": 65,
     "metadata": {},
     "output_type": "execute_result"
    }
   ],
   "execution_count": 65
  },
  {
   "metadata": {
    "ExecuteTime": {
     "end_time": "2025-04-22T16:06:42.491917Z",
     "start_time": "2025-04-22T16:06:42.473385Z"
    }
   },
   "cell_type": "code",
   "source": "torch.ceil(x)",
   "id": "662f1e9ae2c17b1d",
   "outputs": [
    {
     "data": {
      "text/plain": [
       "tensor([[10.,  6.,  1.],\n",
       "        [ 8.,  3.,  8.]])"
      ]
     },
     "execution_count": 66,
     "metadata": {},
     "output_type": "execute_result"
    }
   ],
   "execution_count": 66
  },
  {
   "metadata": {
    "ExecuteTime": {
     "end_time": "2025-04-22T16:06:50.532071Z",
     "start_time": "2025-04-22T16:06:50.517153Z"
    }
   },
   "cell_type": "code",
   "source": "torch.floor(x)",
   "id": "3d73b18ea2be42b",
   "outputs": [
    {
     "data": {
      "text/plain": [
       "tensor([[9., 5., 0.],\n",
       "        [7., 2., 7.]])"
      ]
     },
     "execution_count": 67,
     "metadata": {},
     "output_type": "execute_result"
    }
   ],
   "execution_count": 67
  },
  {
   "metadata": {
    "ExecuteTime": {
     "end_time": "2025-04-22T16:07:24.163126Z",
     "start_time": "2025-04-22T16:07:24.144015Z"
    }
   },
   "cell_type": "code",
   "source": "torch.clamp(x, min=2,max=6)",
   "id": "b1dca1629d5e5830",
   "outputs": [
    {
     "data": {
      "text/plain": [
       "tensor([[6.0000, 5.4984, 2.0000],\n",
       "        [6.0000, 2.5607, 6.0000]])"
      ]
     },
     "execution_count": 68,
     "metadata": {},
     "output_type": "execute_result"
    }
   ],
   "execution_count": 68
  },
  {
   "metadata": {},
   "cell_type": "markdown",
   "source": "## iv) Statistical Operation ",
   "id": "eb4da456a594b3fb"
  },
  {
   "metadata": {
    "ExecuteTime": {
     "end_time": "2025-04-22T16:08:51.527301Z",
     "start_time": "2025-04-22T16:08:51.513878Z"
    }
   },
   "cell_type": "code",
   "source": "x",
   "id": "e4530f7eec2d50ae",
   "outputs": [
    {
     "data": {
      "text/plain": [
       "tensor([[9.7170, 5.4984, 0.8922],\n",
       "        [7.1664, 2.5607, 7.8758]])"
      ]
     },
     "execution_count": 69,
     "metadata": {},
     "output_type": "execute_result"
    }
   ],
   "execution_count": 69
  },
  {
   "metadata": {
    "ExecuteTime": {
     "end_time": "2025-04-22T16:09:08.611667Z",
     "start_time": "2025-04-22T16:09:08.598754Z"
    }
   },
   "cell_type": "code",
   "source": [
    "# sum\n",
    "torch.sum(x)"
   ],
   "id": "cc2b884fffb629c",
   "outputs": [
    {
     "data": {
      "text/plain": [
       "tensor(33.7106)"
      ]
     },
     "execution_count": 70,
     "metadata": {},
     "output_type": "execute_result"
    }
   ],
   "execution_count": 70
  },
  {
   "metadata": {
    "ExecuteTime": {
     "end_time": "2025-04-22T16:10:15.179551Z",
     "start_time": "2025-04-22T16:10:15.171719Z"
    }
   },
   "cell_type": "code",
   "source": "torch.sum(x, dim=1)  # row wise",
   "id": "c8c8cb85524006f6",
   "outputs": [
    {
     "data": {
      "text/plain": [
       "tensor([16.1076, 17.6030])"
      ]
     },
     "execution_count": 73,
     "metadata": {},
     "output_type": "execute_result"
    }
   ],
   "execution_count": 73
  },
  {
   "metadata": {
    "ExecuteTime": {
     "end_time": "2025-04-22T16:10:15.608690Z",
     "start_time": "2025-04-22T16:10:15.588865Z"
    }
   },
   "cell_type": "code",
   "source": "torch.sum(x, dim=0)  # col wise",
   "id": "f03785a1b3940cc5",
   "outputs": [
    {
     "data": {
      "text/plain": [
       "tensor([16.8835,  8.0591,  8.7680])"
      ]
     },
     "execution_count": 74,
     "metadata": {},
     "output_type": "execute_result"
    }
   ],
   "execution_count": 74
  },
  {
   "metadata": {
    "ExecuteTime": {
     "end_time": "2025-04-22T16:10:31.025181Z",
     "start_time": "2025-04-22T16:10:31.014334Z"
    }
   },
   "cell_type": "code",
   "source": [
    "# mean\n",
    "torch.mean(x)"
   ],
   "id": "abb132d94cfbb0a5",
   "outputs": [
    {
     "data": {
      "text/plain": [
       "tensor(5.6184)"
      ]
     },
     "execution_count": 75,
     "metadata": {},
     "output_type": "execute_result"
    }
   ],
   "execution_count": 75
  },
  {
   "metadata": {
    "ExecuteTime": {
     "end_time": "2025-04-22T16:10:43.576635Z",
     "start_time": "2025-04-22T16:10:43.558110Z"
    }
   },
   "cell_type": "code",
   "source": "torch.mean(x)",
   "id": "f0a3223b1326e7a5",
   "outputs": [
    {
     "data": {
      "text/plain": [
       "tensor(5.6184)"
      ]
     },
     "execution_count": 76,
     "metadata": {},
     "output_type": "execute_result"
    }
   ],
   "execution_count": 76
  },
  {
   "metadata": {
    "ExecuteTime": {
     "end_time": "2025-04-22T16:10:53.688868Z",
     "start_time": "2025-04-22T16:10:53.674799Z"
    }
   },
   "cell_type": "code",
   "source": "torch.max(x)",
   "id": "23b0f57c4130f916",
   "outputs": [
    {
     "data": {
      "text/plain": [
       "tensor(9.7170)"
      ]
     },
     "execution_count": 77,
     "metadata": {},
     "output_type": "execute_result"
    }
   ],
   "execution_count": 77
  },
  {
   "metadata": {
    "ExecuteTime": {
     "end_time": "2025-04-22T16:11:00.745929Z",
     "start_time": "2025-04-22T16:11:00.736647Z"
    }
   },
   "cell_type": "code",
   "source": "torch.min(x)",
   "id": "bb7f04e6edb8fdba",
   "outputs": [
    {
     "data": {
      "text/plain": [
       "tensor(0.8922)"
      ]
     },
     "execution_count": 78,
     "metadata": {},
     "output_type": "execute_result"
    }
   ],
   "execution_count": 78
  },
  {
   "metadata": {
    "ExecuteTime": {
     "end_time": "2025-04-22T16:11:10.320474Z",
     "start_time": "2025-04-22T16:11:10.310189Z"
    }
   },
   "cell_type": "code",
   "source": "torch.prod(x)",
   "id": "e07212d76c3e872a",
   "outputs": [
    {
     "data": {
      "text/plain": [
       "tensor(6889.5625)"
      ]
     },
     "execution_count": 79,
     "metadata": {},
     "output_type": "execute_result"
    }
   ],
   "execution_count": 79
  },
  {
   "metadata": {
    "ExecuteTime": {
     "end_time": "2025-04-22T16:11:18.877146Z",
     "start_time": "2025-04-22T16:11:18.871412Z"
    }
   },
   "cell_type": "code",
   "source": "torch.std(x)",
   "id": "8b33dd30662d417e",
   "outputs": [
    {
     "data": {
      "text/plain": [
       "tensor(3.3464)"
      ]
     },
     "execution_count": 80,
     "metadata": {},
     "output_type": "execute_result"
    }
   ],
   "execution_count": 80
  },
  {
   "metadata": {
    "ExecuteTime": {
     "end_time": "2025-04-22T16:11:24.934854Z",
     "start_time": "2025-04-22T16:11:24.928507Z"
    }
   },
   "cell_type": "code",
   "source": "torch.var(x)",
   "id": "8ad3549d1182ca4e",
   "outputs": [
    {
     "data": {
      "text/plain": [
       "tensor(11.1984)"
      ]
     },
     "execution_count": 81,
     "metadata": {},
     "output_type": "execute_result"
    }
   ],
   "execution_count": 81
  },
  {
   "metadata": {
    "ExecuteTime": {
     "end_time": "2025-04-22T16:11:35.856581Z",
     "start_time": "2025-04-22T16:11:35.843020Z"
    }
   },
   "cell_type": "code",
   "source": "torch.argmax(x)",
   "id": "d589540b6d7a725",
   "outputs": [
    {
     "data": {
      "text/plain": [
       "tensor(0)"
      ]
     },
     "execution_count": 82,
     "metadata": {},
     "output_type": "execute_result"
    }
   ],
   "execution_count": 82
  },
  {
   "metadata": {
    "ExecuteTime": {
     "end_time": "2025-04-22T16:11:45.544106Z",
     "start_time": "2025-04-22T16:11:45.539084Z"
    }
   },
   "cell_type": "code",
   "source": "torch.argmin(x)",
   "id": "ab53800f1335a21c",
   "outputs": [
    {
     "data": {
      "text/plain": [
       "tensor(2)"
      ]
     },
     "execution_count": 83,
     "metadata": {},
     "output_type": "execute_result"
    }
   ],
   "execution_count": 83
  },
  {
   "metadata": {},
   "cell_type": "markdown",
   "source": "# 5. Matrix Operation",
   "id": "4d6c1ad52c6ec8a2"
  },
  {
   "metadata": {
    "ExecuteTime": {
     "end_time": "2025-04-22T16:19:00.670432Z",
     "start_time": "2025-04-22T16:19:00.651852Z"
    }
   },
   "cell_type": "code",
   "source": [
    "x = torch.rand(2,3)\n",
    "y = torch.rand(3,4)\n",
    "x"
   ],
   "id": "a3b9a7aa395cbdb",
   "outputs": [
    {
     "data": {
      "text/plain": [
       "tensor([[0.5052, 0.8010, 0.5158],\n",
       "        [0.0089, 0.6844, 0.6587]])"
      ]
     },
     "execution_count": 96,
     "metadata": {},
     "output_type": "execute_result"
    }
   ],
   "execution_count": 96
  },
  {
   "metadata": {
    "ExecuteTime": {
     "end_time": "2025-04-22T16:18:50.821288Z",
     "start_time": "2025-04-22T16:18:50.801833Z"
    }
   },
   "cell_type": "code",
   "source": "torch.matmul(x,y)",
   "id": "cbad90ada1d1619b",
   "outputs": [
    {
     "data": {
      "text/plain": [
       "tensor([[0.8560, 1.0552, 1.1855, 1.5297],\n",
       "        [0.9939, 1.0987, 1.2657, 1.6877]])"
      ]
     },
     "execution_count": 93,
     "metadata": {},
     "output_type": "execute_result"
    }
   ],
   "execution_count": 93
  },
  {
   "metadata": {
    "ExecuteTime": {
     "end_time": "2025-04-22T16:18:51.251383Z",
     "start_time": "2025-04-22T16:18:51.238699Z"
    }
   },
   "cell_type": "code",
   "source": [
    "a = torch.rand(3)\n",
    "b = torch.rand(3)\n",
    "b"
   ],
   "id": "a9d187f83105d417",
   "outputs": [
    {
     "data": {
      "text/plain": [
       "tensor([0.6511, 0.4083, 0.3217])"
      ]
     },
     "execution_count": 94,
     "metadata": {},
     "output_type": "execute_result"
    }
   ],
   "execution_count": 94
  },
  {
   "metadata": {
    "ExecuteTime": {
     "end_time": "2025-04-22T16:18:51.844233Z",
     "start_time": "2025-04-22T16:18:51.830107Z"
    }
   },
   "cell_type": "code",
   "source": "torch.dot(a,b)",
   "id": "76f0c6c5827f493",
   "outputs": [
    {
     "data": {
      "text/plain": [
       "tensor(0.5553)"
      ]
     },
     "execution_count": 95,
     "metadata": {},
     "output_type": "execute_result"
    }
   ],
   "execution_count": 95
  },
  {
   "metadata": {
    "ExecuteTime": {
     "end_time": "2025-04-22T16:19:51.554199Z",
     "start_time": "2025-04-22T16:19:51.548370Z"
    }
   },
   "cell_type": "code",
   "source": "torch.transpose(x, 0,1)",
   "id": "5581bc0813587a9e",
   "outputs": [
    {
     "data": {
      "text/plain": [
       "tensor([[0.5052, 0.0089],\n",
       "        [0.8010, 0.6844],\n",
       "        [0.5158, 0.6587]])"
      ]
     },
     "execution_count": 98,
     "metadata": {},
     "output_type": "execute_result"
    }
   ],
   "execution_count": 98
  },
  {
   "metadata": {
    "ExecuteTime": {
     "end_time": "2025-04-22T16:20:54.132857Z",
     "start_time": "2025-04-22T16:20:54.126107Z"
    }
   },
   "cell_type": "code",
   "source": [
    "z = torch.rand(3,3)\n",
    "torch.det(z)"
   ],
   "id": "1ad5c4e655259753",
   "outputs": [
    {
     "data": {
      "text/plain": [
       "tensor(0.0356)"
      ]
     },
     "execution_count": 101,
     "metadata": {},
     "output_type": "execute_result"
    }
   ],
   "execution_count": 101
  },
  {
   "metadata": {
    "ExecuteTime": {
     "end_time": "2025-04-22T16:21:14.960359Z",
     "start_time": "2025-04-22T16:21:14.954170Z"
    }
   },
   "cell_type": "code",
   "source": "torch.inverse(z)",
   "id": "190d48109bf2c917",
   "outputs": [
    {
     "data": {
      "text/plain": [
       "tensor([[-15.6554,   2.3303,  15.6954],\n",
       "        [ 17.1080,  -2.5842, -15.5177],\n",
       "        [  9.1947,  -0.2680,  -9.2894]])"
      ]
     },
     "execution_count": 103,
     "metadata": {},
     "output_type": "execute_result"
    }
   ],
   "execution_count": 103
  },
  {
   "metadata": {},
   "cell_type": "markdown",
   "source": "# 6. Boolean Operation",
   "id": "655f688b5938db40"
  },
  {
   "metadata": {
    "ExecuteTime": {
     "end_time": "2025-04-22T16:23:51.559482Z",
     "start_time": "2025-04-22T16:23:51.541609Z"
    }
   },
   "cell_type": "code",
   "source": [
    "x = torch.randint(size=(2,3), low=0, high=10)\n",
    "y = torch.randint(size=(2,3), low=0, high=10)\n",
    "x"
   ],
   "id": "71d51c6c34fd032a",
   "outputs": [
    {
     "data": {
      "text/plain": [
       "tensor([[6, 4, 5],\n",
       "        [5, 6, 7]])"
      ]
     },
     "execution_count": 106,
     "metadata": {},
     "output_type": "execute_result"
    }
   ],
   "execution_count": 106
  },
  {
   "metadata": {
    "ExecuteTime": {
     "end_time": "2025-04-22T16:23:51.884909Z",
     "start_time": "2025-04-22T16:23:51.880606Z"
    }
   },
   "cell_type": "code",
   "source": "y",
   "id": "f179aa5beb3dba70",
   "outputs": [
    {
     "data": {
      "text/plain": [
       "tensor([[9, 9, 9],\n",
       "        [6, 4, 6]])"
      ]
     },
     "execution_count": 107,
     "metadata": {},
     "output_type": "execute_result"
    }
   ],
   "execution_count": 107
  },
  {
   "metadata": {
    "ExecuteTime": {
     "end_time": "2025-04-22T16:23:57.302974Z",
     "start_time": "2025-04-22T16:23:57.298252Z"
    }
   },
   "cell_type": "code",
   "source": "x > y",
   "id": "7862e3f779d752a5",
   "outputs": [
    {
     "data": {
      "text/plain": [
       "tensor([[False, False, False],\n",
       "        [False,  True,  True]])"
      ]
     },
     "execution_count": 108,
     "metadata": {},
     "output_type": "execute_result"
    }
   ],
   "execution_count": 108
  },
  {
   "metadata": {
    "ExecuteTime": {
     "end_time": "2025-04-22T16:24:01.198014Z",
     "start_time": "2025-04-22T16:24:01.163619Z"
    }
   },
   "cell_type": "code",
   "source": "x >= y",
   "id": "bfd7cd4e01ace0d1",
   "outputs": [
    {
     "data": {
      "text/plain": [
       "tensor([[False, False, False],\n",
       "        [False,  True,  True]])"
      ]
     },
     "execution_count": 109,
     "metadata": {},
     "output_type": "execute_result"
    }
   ],
   "execution_count": 109
  },
  {
   "metadata": {
    "ExecuteTime": {
     "end_time": "2025-04-22T16:24:05.503122Z",
     "start_time": "2025-04-22T16:24:05.498679Z"
    }
   },
   "cell_type": "code",
   "source": "x < y",
   "id": "e95ac62097fbd7c7",
   "outputs": [
    {
     "data": {
      "text/plain": [
       "tensor([[ True,  True,  True],\n",
       "        [ True, False, False]])"
      ]
     },
     "execution_count": 110,
     "metadata": {},
     "output_type": "execute_result"
    }
   ],
   "execution_count": 110
  },
  {
   "metadata": {
    "ExecuteTime": {
     "end_time": "2025-04-22T16:24:08.988868Z",
     "start_time": "2025-04-22T16:24:08.964039Z"
    }
   },
   "cell_type": "code",
   "source": "x <= y",
   "id": "12d33a6a54422754",
   "outputs": [
    {
     "data": {
      "text/plain": [
       "tensor([[ True,  True,  True],\n",
       "        [ True, False, False]])"
      ]
     },
     "execution_count": 111,
     "metadata": {},
     "output_type": "execute_result"
    }
   ],
   "execution_count": 111
  },
  {
   "metadata": {
    "ExecuteTime": {
     "end_time": "2025-04-22T16:24:12.626033Z",
     "start_time": "2025-04-22T16:24:12.608831Z"
    }
   },
   "cell_type": "code",
   "source": "x == y",
   "id": "49ecaece9f4c67c9",
   "outputs": [
    {
     "data": {
      "text/plain": [
       "tensor([[False, False, False],\n",
       "        [False, False, False]])"
      ]
     },
     "execution_count": 112,
     "metadata": {},
     "output_type": "execute_result"
    }
   ],
   "execution_count": 112
  },
  {
   "metadata": {
    "ExecuteTime": {
     "end_time": "2025-04-22T16:24:17.433174Z",
     "start_time": "2025-04-22T16:24:17.413972Z"
    }
   },
   "cell_type": "code",
   "source": "x != y",
   "id": "aa10c1fc087d9c70",
   "outputs": [
    {
     "data": {
      "text/plain": [
       "tensor([[True, True, True],\n",
       "        [True, True, True]])"
      ]
     },
     "execution_count": 113,
     "metadata": {},
     "output_type": "execute_result"
    }
   ],
   "execution_count": 113
  },
  {
   "metadata": {},
   "cell_type": "markdown",
   "source": "# 7. Speacial Function",
   "id": "e25faf92604d9ac6"
  },
  {
   "metadata": {
    "ExecuteTime": {
     "end_time": "2025-04-22T16:25:08.010914Z",
     "start_time": "2025-04-22T16:25:08.006323Z"
    }
   },
   "cell_type": "code",
   "source": [
    "x = torch.rand(2,3)\n",
    "x"
   ],
   "id": "86fd677ac2d3b082",
   "outputs": [
    {
     "data": {
      "text/plain": [
       "tensor([[0.4852, 0.4592, 0.6640],\n",
       "        [0.4279, 0.4506, 0.0947]])"
      ]
     },
     "execution_count": 116,
     "metadata": {},
     "output_type": "execute_result"
    }
   ],
   "execution_count": 116
  },
  {
   "metadata": {
    "ExecuteTime": {
     "end_time": "2025-04-22T16:25:16.453119Z",
     "start_time": "2025-04-22T16:25:16.449489Z"
    }
   },
   "cell_type": "code",
   "source": "torch.log(x)",
   "id": "cdff78c9c901f150",
   "outputs": [
    {
     "data": {
      "text/plain": [
       "tensor([[-0.7233, -0.7783, -0.4094],\n",
       "        [-0.8488, -0.7971, -2.3566]])"
      ]
     },
     "execution_count": 117,
     "metadata": {},
     "output_type": "execute_result"
    }
   ],
   "execution_count": 117
  },
  {
   "metadata": {
    "ExecuteTime": {
     "end_time": "2025-04-22T16:25:23.977425Z",
     "start_time": "2025-04-22T16:25:23.972895Z"
    }
   },
   "cell_type": "code",
   "source": "torch.exp(x)",
   "id": "175f63f2d9adbaaa",
   "outputs": [
    {
     "data": {
      "text/plain": [
       "tensor([[1.6244, 1.5828, 1.9426],\n",
       "        [1.5341, 1.5693, 1.0994]])"
      ]
     },
     "execution_count": 118,
     "metadata": {},
     "output_type": "execute_result"
    }
   ],
   "execution_count": 118
  },
  {
   "metadata": {
    "ExecuteTime": {
     "end_time": "2025-04-22T16:25:30.782033Z",
     "start_time": "2025-04-22T16:25:30.777503Z"
    }
   },
   "cell_type": "code",
   "source": "torch.sigmoid(x)",
   "id": "8005a03e1f593cd1",
   "outputs": [
    {
     "data": {
      "text/plain": [
       "tensor([[0.6190, 0.6128, 0.6602],\n",
       "        [0.6054, 0.6108, 0.5237]])"
      ]
     },
     "execution_count": 119,
     "metadata": {},
     "output_type": "execute_result"
    }
   ],
   "execution_count": 119
  },
  {
   "metadata": {
    "ExecuteTime": {
     "end_time": "2025-04-22T16:25:55.864376Z",
     "start_time": "2025-04-22T16:25:55.857246Z"
    }
   },
   "cell_type": "code",
   "source": "torch.softmax(x ,dim=0)",
   "id": "a968f27218281335",
   "outputs": [
    {
     "data": {
      "text/plain": [
       "tensor([[0.5143, 0.5021, 0.6386],\n",
       "        [0.4857, 0.4979, 0.3614]])"
      ]
     },
     "execution_count": 121,
     "metadata": {},
     "output_type": "execute_result"
    }
   ],
   "execution_count": 121
  },
  {
   "metadata": {
    "ExecuteTime": {
     "end_time": "2025-04-22T16:26:02.002757Z",
     "start_time": "2025-04-22T16:26:01.931422Z"
    }
   },
   "cell_type": "code",
   "source": "torch.softmax(x ,dim=1)",
   "id": "c0b35c190dde7986",
   "outputs": [
    {
     "data": {
      "text/plain": [
       "tensor([[0.3154, 0.3074, 0.3772],\n",
       "        [0.3650, 0.3734, 0.2616]])"
      ]
     },
     "execution_count": 122,
     "metadata": {},
     "output_type": "execute_result"
    }
   ],
   "execution_count": 122
  },
  {
   "metadata": {
    "ExecuteTime": {
     "end_time": "2025-04-22T16:26:11.917103Z",
     "start_time": "2025-04-22T16:26:11.912040Z"
    }
   },
   "cell_type": "code",
   "source": "torch.relu(x)",
   "id": "20b7cfa7e080a2cb",
   "outputs": [
    {
     "data": {
      "text/plain": [
       "tensor([[0.4852, 0.4592, 0.6640],\n",
       "        [0.4279, 0.4506, 0.0947]])"
      ]
     },
     "execution_count": 123,
     "metadata": {},
     "output_type": "execute_result"
    }
   ],
   "execution_count": 123
  },
  {
   "metadata": {},
   "cell_type": "markdown",
   "source": "# 8. Inplace Operation",
   "id": "966025393c9223f5"
  },
  {
   "metadata": {
    "ExecuteTime": {
     "end_time": "2025-04-22T16:27:47.189759Z",
     "start_time": "2025-04-22T16:27:47.175946Z"
    }
   },
   "cell_type": "code",
   "source": "x",
   "id": "a5974ee5142c3c99",
   "outputs": [
    {
     "data": {
      "text/plain": [
       "tensor([[9.4852, 9.4592, 9.6640],\n",
       "        [6.4279, 4.4506, 6.0947]])"
      ]
     },
     "execution_count": 126,
     "metadata": {},
     "output_type": "execute_result"
    }
   ],
   "execution_count": 126
  },
  {
   "metadata": {
    "ExecuteTime": {
     "end_time": "2025-04-22T16:27:52.982075Z",
     "start_time": "2025-04-22T16:27:52.969331Z"
    }
   },
   "cell_type": "code",
   "source": "y",
   "id": "ee45035e6f10aacb",
   "outputs": [
    {
     "data": {
      "text/plain": [
       "tensor([[9, 9, 9],\n",
       "        [6, 4, 6]])"
      ]
     },
     "execution_count": 127,
     "metadata": {},
     "output_type": "execute_result"
    }
   ],
   "execution_count": 127
  },
  {
   "metadata": {
    "ExecuteTime": {
     "end_time": "2025-04-22T16:27:39.814085Z",
     "start_time": "2025-04-22T16:27:39.805268Z"
    }
   },
   "cell_type": "code",
   "source": [
    "x.add_(y)\n",
    "x"
   ],
   "id": "d123d6003b5ad8ca",
   "outputs": [
    {
     "data": {
      "text/plain": [
       "tensor([[9.4852, 9.4592, 9.6640],\n",
       "        [6.4279, 4.4506, 6.0947]])"
      ]
     },
     "execution_count": 125,
     "metadata": {},
     "output_type": "execute_result"
    }
   ],
   "execution_count": 125
  },
  {
   "metadata": {
    "ExecuteTime": {
     "end_time": "2025-04-22T16:28:32.875590Z",
     "start_time": "2025-04-22T16:28:32.866938Z"
    }
   },
   "cell_type": "code",
   "source": "x.relu_()",
   "id": "c6bf677c4f30ce6b",
   "outputs": [
    {
     "data": {
      "text/plain": [
       "tensor([[0.9999, 0.9999, 0.9999],\n",
       "        [0.9984, 0.9885, 0.9978]])"
      ]
     },
     "execution_count": 130,
     "metadata": {},
     "output_type": "execute_result"
    }
   ],
   "execution_count": 130
  },
  {
   "metadata": {},
   "cell_type": "markdown",
   "source": "# 9. Copying a tensor",
   "id": "70adec7703c4b8fe"
  },
  {
   "metadata": {
    "ExecuteTime": {
     "end_time": "2025-04-22T16:28:50.746359Z",
     "start_time": "2025-04-22T16:28:50.740525Z"
    }
   },
   "cell_type": "code",
   "source": "x",
   "id": "382764b961a31a0b",
   "outputs": [
    {
     "data": {
      "text/plain": [
       "tensor([[0.9999, 0.9999, 0.9999],\n",
       "        [0.9984, 0.9885, 0.9978]])"
      ]
     },
     "execution_count": 131,
     "metadata": {},
     "output_type": "execute_result"
    }
   ],
   "execution_count": 131
  },
  {
   "metadata": {
    "ExecuteTime": {
     "end_time": "2025-04-22T16:29:02.211847Z",
     "start_time": "2025-04-22T16:29:02.202526Z"
    }
   },
   "cell_type": "code",
   "source": [
    "c = x.clone()\n",
    "c"
   ],
   "id": "3aa6710229bcfca6",
   "outputs": [
    {
     "data": {
      "text/plain": [
       "tensor([[0.9999, 0.9999, 0.9999],\n",
       "        [0.9984, 0.9885, 0.9978]])"
      ]
     },
     "execution_count": 133,
     "metadata": {},
     "output_type": "execute_result"
    }
   ],
   "execution_count": 133
  },
  {
   "metadata": {},
   "cell_type": "markdown",
   "source": "# 10. Operation on GPU",
   "id": "aa53417388785b3e"
  },
  {
   "metadata": {
    "ExecuteTime": {
     "end_time": "2025-04-22T16:29:28.662368Z",
     "start_time": "2025-04-22T16:29:28.629268Z"
    }
   },
   "cell_type": "code",
   "source": "torch.cuda.is_available()",
   "id": "bf4ec718dccdb5f",
   "outputs": [
    {
     "data": {
      "text/plain": [
       "True"
      ]
     },
     "execution_count": 134,
     "metadata": {},
     "output_type": "execute_result"
    }
   ],
   "execution_count": 134
  },
  {
   "metadata": {
    "ExecuteTime": {
     "end_time": "2025-04-22T16:29:42.307370Z",
     "start_time": "2025-04-22T16:29:42.292998Z"
    }
   },
   "cell_type": "code",
   "source": [
    "device = torch.device('cuda')\n",
    "device"
   ],
   "id": "a1a3b7608189566e",
   "outputs": [
    {
     "data": {
      "text/plain": [
       "device(type='cuda')"
      ]
     },
     "execution_count": 135,
     "metadata": {},
     "output_type": "execute_result"
    }
   ],
   "execution_count": 135
  },
  {
   "metadata": {
    "ExecuteTime": {
     "end_time": "2025-04-22T16:30:14.330633Z",
     "start_time": "2025-04-22T16:30:14.192919Z"
    }
   },
   "cell_type": "code",
   "source": "torch.rand((2,3), device=device)",
   "id": "de56e47fe4ffcbb6",
   "outputs": [
    {
     "data": {
      "text/plain": [
       "tensor([[0.3582, 0.6844, 0.6778],\n",
       "        [0.6709, 0.2105, 0.8195]], device='cuda:0')"
      ]
     },
     "execution_count": 136,
     "metadata": {},
     "output_type": "execute_result"
    }
   ],
   "execution_count": 136
  },
  {
   "metadata": {
    "ExecuteTime": {
     "end_time": "2025-04-22T16:30:22.924280Z",
     "start_time": "2025-04-22T16:30:22.911693Z"
    }
   },
   "cell_type": "code",
   "source": "x",
   "id": "1f3f3c9e0ff3474b",
   "outputs": [
    {
     "data": {
      "text/plain": [
       "tensor([[0.9999, 0.9999, 0.9999],\n",
       "        [0.9984, 0.9885, 0.9978]])"
      ]
     },
     "execution_count": 137,
     "metadata": {},
     "output_type": "execute_result"
    }
   ],
   "execution_count": 137
  },
  {
   "metadata": {
    "ExecuteTime": {
     "end_time": "2025-04-22T16:30:39.113631Z",
     "start_time": "2025-04-22T16:30:39.106858Z"
    }
   },
   "cell_type": "code",
   "source": [
    "y = x.to(device)\n",
    "y"
   ],
   "id": "797aa3a48c05c5c9",
   "outputs": [
    {
     "data": {
      "text/plain": [
       "tensor([[0.9999, 0.9999, 0.9999],\n",
       "        [0.9984, 0.9885, 0.9978]], device='cuda:0')"
      ]
     },
     "execution_count": 139,
     "metadata": {},
     "output_type": "execute_result"
    }
   ],
   "execution_count": 139
  },
  {
   "metadata": {},
   "cell_type": "markdown",
   "source": "# 11. Numpy and Pytorch",
   "id": "49be3d4c963a2cd7"
  },
  {
   "metadata": {
    "ExecuteTime": {
     "end_time": "2025-04-22T16:34:26.845071Z",
     "start_time": "2025-04-22T16:34:26.830475Z"
    }
   },
   "cell_type": "code",
   "source": [
    "torch_arr = torch.rand(2,3)\n",
    "torch_arr"
   ],
   "id": "5443dc24265738b1",
   "outputs": [
    {
     "data": {
      "text/plain": [
       "tensor([[0.8894, 0.3071, 0.3521],\n",
       "        [0.3467, 0.5416, 0.6123]])"
      ]
     },
     "execution_count": 144,
     "metadata": {},
     "output_type": "execute_result"
    }
   ],
   "execution_count": 144
  },
  {
   "metadata": {
    "ExecuteTime": {
     "end_time": "2025-04-22T16:34:22.815764Z",
     "start_time": "2025-04-22T16:34:22.810539Z"
    }
   },
   "cell_type": "code",
   "source": [
    "import numpy as np\n",
    "np_arr = np.random.rand(2,3)\n",
    "np_arr"
   ],
   "id": "2aa7f990c0364ed5",
   "outputs": [
    {
     "data": {
      "text/plain": [
       "array([[0.52699269, 0.76062048, 0.51995173],\n",
       "       [0.62477241, 0.55349575, 0.13484781]])"
      ]
     },
     "execution_count": 143,
     "metadata": {},
     "output_type": "execute_result"
    }
   ],
   "execution_count": 143
  },
  {
   "metadata": {
    "ExecuteTime": {
     "end_time": "2025-04-22T16:34:45.756403Z",
     "start_time": "2025-04-22T16:34:45.738482Z"
    }
   },
   "cell_type": "code",
   "source": [
    "# torch -> numpy\n",
    "torch_arr.numpy()"
   ],
   "id": "2803d4f3d3aca889",
   "outputs": [
    {
     "data": {
      "text/plain": [
       "array([[0.8894295 , 0.3071428 , 0.35214978],\n",
       "       [0.34665245, 0.5415726 , 0.6122645 ]], dtype=float32)"
      ]
     },
     "execution_count": 145,
     "metadata": {},
     "output_type": "execute_result"
    }
   ],
   "execution_count": 145
  },
  {
   "metadata": {
    "ExecuteTime": {
     "end_time": "2025-04-22T16:35:06.795832Z",
     "start_time": "2025-04-22T16:35:06.790208Z"
    }
   },
   "cell_type": "code",
   "source": [
    "# numpy -> torch\n",
    "torch.from_numpy(np_arr)"
   ],
   "id": "3a01f87c25a6b788",
   "outputs": [
    {
     "data": {
      "text/plain": [
       "tensor([[0.5270, 0.7606, 0.5200],\n",
       "        [0.6248, 0.5535, 0.1348]], dtype=torch.float64)"
      ]
     },
     "execution_count": 146,
     "metadata": {},
     "output_type": "execute_result"
    }
   ],
   "execution_count": 146
  },
  {
   "metadata": {},
   "cell_type": "markdown",
   "source": "# 12. Reshape",
   "id": "6502d49f4d860343"
  },
  {
   "metadata": {
    "ExecuteTime": {
     "end_time": "2025-04-22T16:36:03.659508Z",
     "start_time": "2025-04-22T16:36:03.643129Z"
    }
   },
   "cell_type": "code",
   "source": [
    "x = torch.rand(4,4)\n",
    "x"
   ],
   "id": "838452760a5b4478",
   "outputs": [
    {
     "data": {
      "text/plain": [
       "tensor([[0.8046, 0.3128, 0.0243, 0.1403],\n",
       "        [0.3457, 0.4350, 0.9523, 0.1271],\n",
       "        [0.9917, 0.6108, 0.2251, 0.2008],\n",
       "        [0.6877, 0.8703, 0.1432, 0.2072]])"
      ]
     },
     "execution_count": 147,
     "metadata": {},
     "output_type": "execute_result"
    }
   ],
   "execution_count": 147
  },
  {
   "metadata": {
    "ExecuteTime": {
     "end_time": "2025-04-22T16:36:13.200573Z",
     "start_time": "2025-04-22T16:36:13.181401Z"
    }
   },
   "cell_type": "code",
   "source": "x.reshape(2,2,2,2)",
   "id": "46ae02bec5224af0",
   "outputs": [
    {
     "data": {
      "text/plain": [
       "tensor([[[[0.8046, 0.3128],\n",
       "          [0.0243, 0.1403]],\n",
       "\n",
       "         [[0.3457, 0.4350],\n",
       "          [0.9523, 0.1271]]],\n",
       "\n",
       "\n",
       "        [[[0.9917, 0.6108],\n",
       "          [0.2251, 0.2008]],\n",
       "\n",
       "         [[0.6877, 0.8703],\n",
       "          [0.1432, 0.2072]]]])"
      ]
     },
     "execution_count": 148,
     "metadata": {},
     "output_type": "execute_result"
    }
   ],
   "execution_count": 148
  },
  {
   "metadata": {
    "ExecuteTime": {
     "end_time": "2025-04-22T16:36:21.455345Z",
     "start_time": "2025-04-22T16:36:21.439539Z"
    }
   },
   "cell_type": "code",
   "source": "x.flatten()",
   "id": "64cf4856056a31aa",
   "outputs": [
    {
     "data": {
      "text/plain": [
       "tensor([0.8046, 0.3128, 0.0243, 0.1403, 0.3457, 0.4350, 0.9523, 0.1271, 0.9917,\n",
       "        0.6108, 0.2251, 0.2008, 0.6877, 0.8703, 0.1432, 0.2072])"
      ]
     },
     "execution_count": 149,
     "metadata": {},
     "output_type": "execute_result"
    }
   ],
   "execution_count": 149
  },
  {
   "metadata": {
    "ExecuteTime": {
     "end_time": "2025-04-22T16:36:56.616476Z",
     "start_time": "2025-04-22T16:36:56.611194Z"
    }
   },
   "cell_type": "code",
   "source": [
    "x = torch.rand(1,2,4)\n",
    "x.squeeze(0).shape"
   ],
   "id": "77a0df6271a0f10f",
   "outputs": [
    {
     "data": {
      "text/plain": [
       "torch.Size([2, 4])"
      ]
     },
     "execution_count": 150,
     "metadata": {},
     "output_type": "execute_result"
    }
   ],
   "execution_count": 150
  },
  {
   "metadata": {
    "ExecuteTime": {
     "end_time": "2025-04-22T16:37:24.010903Z",
     "start_time": "2025-04-22T16:37:24.003977Z"
    }
   },
   "cell_type": "code",
   "source": [
    "x = torch.rand(3,5)\n",
    "x.unsqueeze(0).shape"
   ],
   "id": "c51743c91488942c",
   "outputs": [
    {
     "data": {
      "text/plain": [
       "torch.Size([1, 3, 5])"
      ]
     },
     "execution_count": 151,
     "metadata": {},
     "output_type": "execute_result"
    }
   ],
   "execution_count": 151
  },
  {
   "metadata": {},
   "cell_type": "code",
   "outputs": [],
   "execution_count": null,
   "source": "",
   "id": "bd7dde771bd08742"
  }
 ],
 "metadata": {
  "kernelspec": {
   "display_name": "Python 3",
   "language": "python",
   "name": "python3"
  },
  "language_info": {
   "codemirror_mode": {
    "name": "ipython",
    "version": 2
   },
   "file_extension": ".py",
   "mimetype": "text/x-python",
   "name": "python",
   "nbconvert_exporter": "python",
   "pygments_lexer": "ipython2",
   "version": "2.7.6"
  }
 },
 "nbformat": 4,
 "nbformat_minor": 5
}
